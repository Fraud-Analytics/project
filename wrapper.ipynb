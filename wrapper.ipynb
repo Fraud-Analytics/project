{
 "cells": [
  {
   "cell_type": "code",
   "execution_count": 1,
   "metadata": {},
   "outputs": [],
   "source": [
    "import numpy as np\n",
    "import pandas as pd\n",
    "from sklearn.linear_model import LogisticRegression\n",
    "from sklearn.preprocessing import StandardScaler\n",
    "from sklearn.feature_selection import RFECV\n",
    "import matplotlib.pyplot as plt\n",
    "\n",
    "from util import fdr"
   ]
  },
  {
   "cell_type": "code",
   "execution_count": 2,
   "metadata": {},
   "outputs": [],
   "source": [
    "def load_data(file, num_features=80):\n",
    "    df = pd.read_csv(file)\n",
    "    std_scale = StandardScaler().fit(df)\n",
    "    df_std = pd.DataFrame(std_scale.transform(df), columns=df.columns)\n",
    "\n",
    "    with open('filter_rank.csv', 'r') as f:\n",
    "        rank = f.read().split('\\n')\n",
    "\n",
    "    y = df['fraud_label'].to_numpy()\n",
    "    df_std.drop(columns=['record', 'fraud_label'], inplace=True)\n",
    "\n",
    "    ks_col = rank[:num_features]\n",
    "    filter_df = df_std.filter(items=ks_col)\n",
    "    return filter_df, y"
   ]
  },
  {
   "cell_type": "code",
   "execution_count": 3,
   "metadata": {
    "pycharm": {
     "name": "#%%\n"
    }
   },
   "outputs": [],
   "source": [
    "df, y = load_data('vars_308.csv')"
   ]
  },
  {
   "cell_type": "code",
   "execution_count": null,
   "metadata": {
    "pycharm": {
     "name": "#%%\n"
    },
    "scrolled": true
   },
   "outputs": [
    {
     "name": "stdout",
     "output_type": "stream",
     "text": [
      "Fitting estimator with 79 features.\n"
     ]
    },
    {
     "name": "stderr",
     "output_type": "stream",
     "text": [
      "/usr/local/lib64/python3.6/site-packages/sklearn/linear_model/_logistic.py:940: ConvergenceWarning: lbfgs failed to converge (status=1):\n",
      "STOP: TOTAL NO. of ITERATIONS REACHED LIMIT.\n",
      "\n",
      "Increase the number of iterations (max_iter) or scale the data as shown in:\n",
      "    https://scikit-learn.org/stable/modules/preprocessing.html\n",
      "Please also refer to the documentation for alternative solver options:\n",
      "    https://scikit-learn.org/stable/modules/linear_model.html#logistic-regression\n",
      "  extra_warning_msg=_LOGISTIC_SOLVER_CONVERGENCE_MSG)\n"
     ]
    },
    {
     "name": "stdout",
     "output_type": "stream",
     "text": [
      "Fitting estimator with 78 features.\n"
     ]
    },
    {
     "name": "stderr",
     "output_type": "stream",
     "text": [
      "/usr/local/lib64/python3.6/site-packages/sklearn/linear_model/_logistic.py:940: ConvergenceWarning: lbfgs failed to converge (status=1):\n",
      "STOP: TOTAL NO. of ITERATIONS REACHED LIMIT.\n",
      "\n",
      "Increase the number of iterations (max_iter) or scale the data as shown in:\n",
      "    https://scikit-learn.org/stable/modules/preprocessing.html\n",
      "Please also refer to the documentation for alternative solver options:\n",
      "    https://scikit-learn.org/stable/modules/linear_model.html#logistic-regression\n",
      "  extra_warning_msg=_LOGISTIC_SOLVER_CONVERGENCE_MSG)\n"
     ]
    },
    {
     "name": "stdout",
     "output_type": "stream",
     "text": [
      "Fitting estimator with 77 features.\n"
     ]
    },
    {
     "name": "stderr",
     "output_type": "stream",
     "text": [
      "/usr/local/lib64/python3.6/site-packages/sklearn/linear_model/_logistic.py:940: ConvergenceWarning: lbfgs failed to converge (status=1):\n",
      "STOP: TOTAL NO. of ITERATIONS REACHED LIMIT.\n",
      "\n",
      "Increase the number of iterations (max_iter) or scale the data as shown in:\n",
      "    https://scikit-learn.org/stable/modules/preprocessing.html\n",
      "Please also refer to the documentation for alternative solver options:\n",
      "    https://scikit-learn.org/stable/modules/linear_model.html#logistic-regression\n",
      "  extra_warning_msg=_LOGISTIC_SOLVER_CONVERGENCE_MSG)\n"
     ]
    },
    {
     "name": "stdout",
     "output_type": "stream",
     "text": [
      "Fitting estimator with 76 features.\n"
     ]
    },
    {
     "name": "stderr",
     "output_type": "stream",
     "text": [
      "/usr/local/lib64/python3.6/site-packages/sklearn/linear_model/_logistic.py:940: ConvergenceWarning: lbfgs failed to converge (status=1):\n",
      "STOP: TOTAL NO. of ITERATIONS REACHED LIMIT.\n",
      "\n",
      "Increase the number of iterations (max_iter) or scale the data as shown in:\n",
      "    https://scikit-learn.org/stable/modules/preprocessing.html\n",
      "Please also refer to the documentation for alternative solver options:\n",
      "    https://scikit-learn.org/stable/modules/linear_model.html#logistic-regression\n",
      "  extra_warning_msg=_LOGISTIC_SOLVER_CONVERGENCE_MSG)\n"
     ]
    },
    {
     "name": "stdout",
     "output_type": "stream",
     "text": [
      "Fitting estimator with 75 features.\n"
     ]
    },
    {
     "name": "stderr",
     "output_type": "stream",
     "text": [
      "/usr/local/lib64/python3.6/site-packages/sklearn/linear_model/_logistic.py:940: ConvergenceWarning: lbfgs failed to converge (status=1):\n",
      "STOP: TOTAL NO. of ITERATIONS REACHED LIMIT.\n",
      "\n",
      "Increase the number of iterations (max_iter) or scale the data as shown in:\n",
      "    https://scikit-learn.org/stable/modules/preprocessing.html\n",
      "Please also refer to the documentation for alternative solver options:\n",
      "    https://scikit-learn.org/stable/modules/linear_model.html#logistic-regression\n",
      "  extra_warning_msg=_LOGISTIC_SOLVER_CONVERGENCE_MSG)\n"
     ]
    },
    {
     "name": "stdout",
     "output_type": "stream",
     "text": [
      "Fitting estimator with 74 features.\n"
     ]
    },
    {
     "name": "stderr",
     "output_type": "stream",
     "text": [
      "/usr/local/lib64/python3.6/site-packages/sklearn/linear_model/_logistic.py:940: ConvergenceWarning: lbfgs failed to converge (status=1):\n",
      "STOP: TOTAL NO. of ITERATIONS REACHED LIMIT.\n",
      "\n",
      "Increase the number of iterations (max_iter) or scale the data as shown in:\n",
      "    https://scikit-learn.org/stable/modules/preprocessing.html\n",
      "Please also refer to the documentation for alternative solver options:\n",
      "    https://scikit-learn.org/stable/modules/linear_model.html#logistic-regression\n",
      "  extra_warning_msg=_LOGISTIC_SOLVER_CONVERGENCE_MSG)\n"
     ]
    },
    {
     "name": "stdout",
     "output_type": "stream",
     "text": [
      "Fitting estimator with 73 features.\n"
     ]
    },
    {
     "name": "stderr",
     "output_type": "stream",
     "text": [
      "/usr/local/lib64/python3.6/site-packages/sklearn/linear_model/_logistic.py:940: ConvergenceWarning: lbfgs failed to converge (status=1):\n",
      "STOP: TOTAL NO. of ITERATIONS REACHED LIMIT.\n",
      "\n",
      "Increase the number of iterations (max_iter) or scale the data as shown in:\n",
      "    https://scikit-learn.org/stable/modules/preprocessing.html\n",
      "Please also refer to the documentation for alternative solver options:\n",
      "    https://scikit-learn.org/stable/modules/linear_model.html#logistic-regression\n",
      "  extra_warning_msg=_LOGISTIC_SOLVER_CONVERGENCE_MSG)\n"
     ]
    },
    {
     "name": "stdout",
     "output_type": "stream",
     "text": [
      "Fitting estimator with 72 features.\n"
     ]
    },
    {
     "name": "stderr",
     "output_type": "stream",
     "text": [
      "/usr/local/lib64/python3.6/site-packages/sklearn/linear_model/_logistic.py:940: ConvergenceWarning: lbfgs failed to converge (status=1):\n",
      "STOP: TOTAL NO. of ITERATIONS REACHED LIMIT.\n",
      "\n",
      "Increase the number of iterations (max_iter) or scale the data as shown in:\n",
      "    https://scikit-learn.org/stable/modules/preprocessing.html\n",
      "Please also refer to the documentation for alternative solver options:\n",
      "    https://scikit-learn.org/stable/modules/linear_model.html#logistic-regression\n",
      "  extra_warning_msg=_LOGISTIC_SOLVER_CONVERGENCE_MSG)\n"
     ]
    },
    {
     "name": "stdout",
     "output_type": "stream",
     "text": [
      "Fitting estimator with 71 features.\n"
     ]
    },
    {
     "name": "stderr",
     "output_type": "stream",
     "text": [
      "/usr/local/lib64/python3.6/site-packages/sklearn/linear_model/_logistic.py:940: ConvergenceWarning: lbfgs failed to converge (status=1):\n",
      "STOP: TOTAL NO. of ITERATIONS REACHED LIMIT.\n",
      "\n",
      "Increase the number of iterations (max_iter) or scale the data as shown in:\n",
      "    https://scikit-learn.org/stable/modules/preprocessing.html\n",
      "Please also refer to the documentation for alternative solver options:\n",
      "    https://scikit-learn.org/stable/modules/linear_model.html#logistic-regression\n",
      "  extra_warning_msg=_LOGISTIC_SOLVER_CONVERGENCE_MSG)\n"
     ]
    },
    {
     "name": "stdout",
     "output_type": "stream",
     "text": [
      "Fitting estimator with 70 features.\n"
     ]
    },
    {
     "name": "stderr",
     "output_type": "stream",
     "text": [
      "/usr/local/lib64/python3.6/site-packages/sklearn/linear_model/_logistic.py:940: ConvergenceWarning: lbfgs failed to converge (status=1):\n",
      "STOP: TOTAL NO. of ITERATIONS REACHED LIMIT.\n",
      "\n",
      "Increase the number of iterations (max_iter) or scale the data as shown in:\n",
      "    https://scikit-learn.org/stable/modules/preprocessing.html\n",
      "Please also refer to the documentation for alternative solver options:\n",
      "    https://scikit-learn.org/stable/modules/linear_model.html#logistic-regression\n",
      "  extra_warning_msg=_LOGISTIC_SOLVER_CONVERGENCE_MSG)\n"
     ]
    },
    {
     "name": "stdout",
     "output_type": "stream",
     "text": [
      "Fitting estimator with 69 features.\n"
     ]
    },
    {
     "name": "stderr",
     "output_type": "stream",
     "text": [
      "/usr/local/lib64/python3.6/site-packages/sklearn/linear_model/_logistic.py:940: ConvergenceWarning: lbfgs failed to converge (status=1):\n",
      "STOP: TOTAL NO. of ITERATIONS REACHED LIMIT.\n",
      "\n",
      "Increase the number of iterations (max_iter) or scale the data as shown in:\n",
      "    https://scikit-learn.org/stable/modules/preprocessing.html\n",
      "Please also refer to the documentation for alternative solver options:\n",
      "    https://scikit-learn.org/stable/modules/linear_model.html#logistic-regression\n",
      "  extra_warning_msg=_LOGISTIC_SOLVER_CONVERGENCE_MSG)\n"
     ]
    },
    {
     "name": "stdout",
     "output_type": "stream",
     "text": [
      "Fitting estimator with 68 features.\n",
      "Fitting estimator with 67 features.\n",
      "Fitting estimator with 66 features.\n"
     ]
    },
    {
     "name": "stderr",
     "output_type": "stream",
     "text": [
      "/usr/local/lib64/python3.6/site-packages/sklearn/linear_model/_logistic.py:940: ConvergenceWarning: lbfgs failed to converge (status=1):\n",
      "STOP: TOTAL NO. of ITERATIONS REACHED LIMIT.\n",
      "\n",
      "Increase the number of iterations (max_iter) or scale the data as shown in:\n",
      "    https://scikit-learn.org/stable/modules/preprocessing.html\n",
      "Please also refer to the documentation for alternative solver options:\n",
      "    https://scikit-learn.org/stable/modules/linear_model.html#logistic-regression\n",
      "  extra_warning_msg=_LOGISTIC_SOLVER_CONVERGENCE_MSG)\n"
     ]
    },
    {
     "name": "stdout",
     "output_type": "stream",
     "text": [
      "Fitting estimator with 65 features.\n",
      "Fitting estimator with 64 features.\n",
      "Fitting estimator with 63 features.\n"
     ]
    },
    {
     "name": "stderr",
     "output_type": "stream",
     "text": [
      "/usr/local/lib64/python3.6/site-packages/sklearn/linear_model/_logistic.py:940: ConvergenceWarning: lbfgs failed to converge (status=1):\n",
      "STOP: TOTAL NO. of ITERATIONS REACHED LIMIT.\n",
      "\n",
      "Increase the number of iterations (max_iter) or scale the data as shown in:\n",
      "    https://scikit-learn.org/stable/modules/preprocessing.html\n",
      "Please also refer to the documentation for alternative solver options:\n",
      "    https://scikit-learn.org/stable/modules/linear_model.html#logistic-regression\n",
      "  extra_warning_msg=_LOGISTIC_SOLVER_CONVERGENCE_MSG)\n"
     ]
    },
    {
     "name": "stdout",
     "output_type": "stream",
     "text": [
      "Fitting estimator with 62 features.\n",
      "Fitting estimator with 61 features.\n",
      "Fitting estimator with 60 features.\n"
     ]
    },
    {
     "name": "stderr",
     "output_type": "stream",
     "text": [
      "/usr/local/lib64/python3.6/site-packages/sklearn/linear_model/_logistic.py:940: ConvergenceWarning: lbfgs failed to converge (status=1):\n",
      "STOP: TOTAL NO. of ITERATIONS REACHED LIMIT.\n",
      "\n",
      "Increase the number of iterations (max_iter) or scale the data as shown in:\n",
      "    https://scikit-learn.org/stable/modules/preprocessing.html\n",
      "Please also refer to the documentation for alternative solver options:\n",
      "    https://scikit-learn.org/stable/modules/linear_model.html#logistic-regression\n",
      "  extra_warning_msg=_LOGISTIC_SOLVER_CONVERGENCE_MSG)\n"
     ]
    },
    {
     "name": "stdout",
     "output_type": "stream",
     "text": [
      "Fitting estimator with 59 features.\n",
      "Fitting estimator with 58 features.\n",
      "Fitting estimator with 57 features.\n",
      "Fitting estimator with 56 features.\n",
      "Fitting estimator with 55 features.\n",
      "Fitting estimator with 54 features.\n",
      "Fitting estimator with 53 features.\n",
      "Fitting estimator with 52 features.\n",
      "Fitting estimator with 51 features.\n",
      "Fitting estimator with 50 features.\n",
      "Fitting estimator with 49 features.\n",
      "Fitting estimator with 48 features.\n",
      "Fitting estimator with 47 features.\n",
      "Fitting estimator with 46 features.\n"
     ]
    }
   ],
   "source": [
    "logit_select = RFECV(LogisticRegression(penalty='l2',\n",
    "                                        C=0.1,\n",
    "                                        class_weight='balanced',\n",
    "                                        max_iter=500),\n",
    "                     step=1, cv=2, scoring=fdr, verbose=1, n_jobs=2)\n",
    "logit_select = logit_select.fit(df, y)"
   ]
  },
  {
   "cell_type": "code",
   "execution_count": 8,
   "metadata": {
    "pycharm": {
     "name": "#%%\n"
    }
   },
   "outputs": [
    {
     "data": {
      "text/plain": [
       "array([0.22045195, 0.14437886, 0.42415865, 0.48773559, 0.50211856,\n",
       "       0.49301755, 0.50732907, 0.50739854, 0.51552693, 0.51573538,\n",
       "       0.51816735, 0.51781992, 0.51552732, 0.51545785, 0.52365677,\n",
       "       0.52518543, 0.52518541, 0.5256718 , 0.52560233, 0.52525492,\n",
       "       0.5283812 , 0.52858966, 0.5285202 , 0.52852019, 0.52747808,\n",
       "       0.53977488, 0.5396359 , 0.55040586, 0.54957218, 0.54950271,\n",
       "       0.54887746, 0.54880797, 0.55269848, 0.55297638, 0.55304585,\n",
       "       0.55304585, 0.55262899, 0.55269846, 0.55269846, 0.55165634,\n",
       "       0.55158687, 0.5517953 , 0.55172583, 0.55200372, 0.55200372,\n",
       "       0.55200372, 0.5520732 , 0.5520732 , 0.55165636, 0.55033637,\n",
       "       0.55033637, 0.55068374, 0.55082269, 0.55096163, 0.5510311 ,\n",
       "       0.55089214, 0.55089214, 0.55158697, 0.55165645, 0.55151749,\n",
       "       0.55172592, 0.5515175 , 0.55144802, 0.5515175 , 0.55075329,\n",
       "       0.55068381, 0.5515175 , 0.5515175 , 0.55144803, 0.55151751,\n",
       "       0.55151751, 0.55130909, 0.55130909, 0.55144805, 0.5513091 ,\n",
       "       0.55151752, 0.55144805, 0.55151752, 0.55123963])"
      ]
     },
     "execution_count": 8,
     "metadata": {},
     "output_type": "execute_result"
    }
   ],
   "source": [
    "logit_select.grid_scores_"
   ]
  },
  {
   "cell_type": "code",
   "execution_count": 9,
   "metadata": {
    "pycharm": {
     "name": "#%%\n"
    }
   },
   "outputs": [],
   "source": [
    "logit_scores = [[col, s] for col, s in zip(df.columns, logit_select.grid_scores_)]\n",
    "logit_scores.sort(key=lambda x: x[1], reverse=True)\n",
    "logit_scores = np.asarray(logit_scores)"
   ]
  },
  {
   "cell_type": "code",
   "execution_count": 10,
   "metadata": {
    "pycharm": {
     "name": "#%%\n"
    }
   },
   "outputs": [
    {
     "data": {
      "image/png": "[encoded data removed]",
      "text/plain": [
       "<Figure size 432x288 with 1 Axes>"
      ]
     },
     "metadata": {
      "needs_background": "light"
     },
     "output_type": "display_data"
    }
   ],
   "source": [
    "plt.figure()\n",
    "scores = logit_select.grid_scores_\n",
    "plt.plot(range(len(scores)), sorted(scores, reverse=True), 'r')\n",
    "plt.show()"
   ]
  },
  {
   "cell_type": "code",
   "execution_count": 11,
   "metadata": {},
   "outputs": [],
   "source": [
    "with open(\"wrapper_1.csv\", 'w') as f:\n",
    "    f.write('\\n'.join([f'{col},{s}' for col, s in logit_scores]))"
   ]
  },
  {
   "cell_type": "code",
   "execution_count": 12,
   "metadata": {},
   "outputs": [],
   "source": [
    "w1_df = df.filter(items=logit_scores[:25, :1].reshape(-1))\n",
    "w1_df['fraud_label'] = y\n",
    "w1_df.to_csv('var_w1.csv', index=False)"
   ]
  },
  {
   "cell_type": "markdown",
   "metadata": {},
   "source": [
    "### Run wrapper again with top 40 features\n",
    "**Currently not used !**"
   ]
  },
  {
   "cell_type": "code",
   "execution_count": 13,
   "metadata": {
    "pycharm": {
     "name": "#%%\n"
    }
   },
   "outputs": [],
   "source": [
    "wrap_1 = logit_scores[:40, :1].reshape(-1)\n",
    "wrap_df = df.filter(items=wrap_1)"
   ]
  },
  {
   "cell_type": "code",
   "execution_count": 15,
   "metadata": {},
   "outputs": [
    {
     "data": {
      "text/html": [
       "<div>\n",
       "<style scoped>\n",
       "    .dataframe tbody tr th:only-of-type {\n",
       "        vertical-align: middle;\n",
       "    }\n",
       "\n",
       "    .dataframe tbody tr th {\n",
       "        vertical-align: top;\n",
       "    }\n",
       "\n",
       "    .dataframe thead th {\n",
       "        text-align: right;\n",
       "    }\n",
       "</style>\n",
       "<table border=\"1\" class=\"dataframe\">\n",
       "  <thead>\n",
       "    <tr style=\"text-align: right;\">\n",
       "      <th></th>\n",
       "      <th>ssn_name_count_14</th>\n",
       "      <th>ssn_name_dob_count_14</th>\n",
       "      <th>ssn_lastname_count_14</th>\n",
       "      <th>ssn_firstname_count_14</th>\n",
       "      <th>ssn_dob_count_0_by_30</th>\n",
       "      <th>name_dob_count_0_by_30</th>\n",
       "      <th>fulladdress_homephone_count_14</th>\n",
       "      <th>fulladdress_count_1_by_14</th>\n",
       "      <th>fulladdress_homephone_day_since</th>\n",
       "      <th>ssn_dob_day_since</th>\n",
       "      <th>...</th>\n",
       "      <th>address_count_0</th>\n",
       "      <th>name_count_7</th>\n",
       "      <th>ssn_count_0_by_14</th>\n",
       "      <th>fulladdress_count_1_by_7</th>\n",
       "      <th>homephone_count_7</th>\n",
       "      <th>homephone_count_3</th>\n",
       "      <th>ssn_count_3</th>\n",
       "      <th>ssn_lastname_day_since</th>\n",
       "      <th>ssn_count_7</th>\n",
       "      <th>ssn_firstname_count_7</th>\n",
       "    </tr>\n",
       "  </thead>\n",
       "  <tbody>\n",
       "    <tr>\n",
       "      <th>0</th>\n",
       "      <td>-0.070962</td>\n",
       "      <td>-0.068281</td>\n",
       "      <td>-0.071051</td>\n",
       "      <td>-0.071088</td>\n",
       "      <td>0.162987</td>\n",
       "      <td>0.163303</td>\n",
       "      <td>-0.070089</td>\n",
       "      <td>0.123861</td>\n",
       "      <td>-1.566892</td>\n",
       "      <td>-1.573035</td>\n",
       "      <td>...</td>\n",
       "      <td>-0.042158</td>\n",
       "      <td>-0.115648</td>\n",
       "      <td>0.124781</td>\n",
       "      <td>0.09144</td>\n",
       "      <td>-0.769214</td>\n",
       "      <td>-0.521454</td>\n",
       "      <td>-0.047591</td>\n",
       "      <td>-1.558716</td>\n",
       "      <td>-0.058092</td>\n",
       "      <td>-0.057185</td>\n",
       "    </tr>\n",
       "    <tr>\n",
       "      <th>1</th>\n",
       "      <td>-0.070962</td>\n",
       "      <td>-0.068281</td>\n",
       "      <td>-0.071051</td>\n",
       "      <td>-0.071088</td>\n",
       "      <td>0.162987</td>\n",
       "      <td>0.163303</td>\n",
       "      <td>-0.070089</td>\n",
       "      <td>0.123861</td>\n",
       "      <td>-1.566892</td>\n",
       "      <td>-1.573035</td>\n",
       "      <td>...</td>\n",
       "      <td>-0.042158</td>\n",
       "      <td>-0.115648</td>\n",
       "      <td>0.124781</td>\n",
       "      <td>0.09144</td>\n",
       "      <td>-0.769214</td>\n",
       "      <td>-0.521454</td>\n",
       "      <td>-0.047591</td>\n",
       "      <td>-1.558716</td>\n",
       "      <td>-0.058092</td>\n",
       "      <td>-0.057185</td>\n",
       "    </tr>\n",
       "    <tr>\n",
       "      <th>2</th>\n",
       "      <td>-0.070962</td>\n",
       "      <td>-0.068281</td>\n",
       "      <td>-0.071051</td>\n",
       "      <td>-0.071088</td>\n",
       "      <td>0.162987</td>\n",
       "      <td>0.163303</td>\n",
       "      <td>-0.070089</td>\n",
       "      <td>0.123861</td>\n",
       "      <td>-1.566892</td>\n",
       "      <td>-1.573035</td>\n",
       "      <td>...</td>\n",
       "      <td>-0.042158</td>\n",
       "      <td>-0.115648</td>\n",
       "      <td>0.124781</td>\n",
       "      <td>0.09144</td>\n",
       "      <td>-0.769214</td>\n",
       "      <td>-0.521454</td>\n",
       "      <td>-0.047591</td>\n",
       "      <td>-1.558716</td>\n",
       "      <td>-0.058092</td>\n",
       "      <td>-0.057185</td>\n",
       "    </tr>\n",
       "    <tr>\n",
       "      <th>3</th>\n",
       "      <td>-0.070962</td>\n",
       "      <td>-0.068281</td>\n",
       "      <td>-0.071051</td>\n",
       "      <td>-0.071088</td>\n",
       "      <td>0.162987</td>\n",
       "      <td>0.163303</td>\n",
       "      <td>-0.070089</td>\n",
       "      <td>0.123861</td>\n",
       "      <td>-1.566892</td>\n",
       "      <td>-1.573035</td>\n",
       "      <td>...</td>\n",
       "      <td>-0.042158</td>\n",
       "      <td>-0.115648</td>\n",
       "      <td>0.124781</td>\n",
       "      <td>0.09144</td>\n",
       "      <td>-0.769214</td>\n",
       "      <td>-0.521454</td>\n",
       "      <td>-0.047591</td>\n",
       "      <td>-1.558716</td>\n",
       "      <td>-0.058092</td>\n",
       "      <td>-0.057185</td>\n",
       "    </tr>\n",
       "    <tr>\n",
       "      <th>4</th>\n",
       "      <td>-0.070962</td>\n",
       "      <td>-0.068281</td>\n",
       "      <td>-0.071051</td>\n",
       "      <td>-0.071088</td>\n",
       "      <td>0.162987</td>\n",
       "      <td>0.163303</td>\n",
       "      <td>-0.070089</td>\n",
       "      <td>0.123861</td>\n",
       "      <td>-1.566892</td>\n",
       "      <td>-1.573035</td>\n",
       "      <td>...</td>\n",
       "      <td>-0.042158</td>\n",
       "      <td>-0.115648</td>\n",
       "      <td>0.124781</td>\n",
       "      <td>0.09144</td>\n",
       "      <td>-0.769214</td>\n",
       "      <td>-0.521454</td>\n",
       "      <td>-0.047591</td>\n",
       "      <td>-1.558716</td>\n",
       "      <td>-0.058092</td>\n",
       "      <td>-0.057185</td>\n",
       "    </tr>\n",
       "    <tr>\n",
       "      <th>...</th>\n",
       "      <td>...</td>\n",
       "      <td>...</td>\n",
       "      <td>...</td>\n",
       "      <td>...</td>\n",
       "      <td>...</td>\n",
       "      <td>...</td>\n",
       "      <td>...</td>\n",
       "      <td>...</td>\n",
       "      <td>...</td>\n",
       "      <td>...</td>\n",
       "      <td>...</td>\n",
       "      <td>...</td>\n",
       "      <td>...</td>\n",
       "      <td>...</td>\n",
       "      <td>...</td>\n",
       "      <td>...</td>\n",
       "      <td>...</td>\n",
       "      <td>...</td>\n",
       "      <td>...</td>\n",
       "      <td>...</td>\n",
       "      <td>...</td>\n",
       "    </tr>\n",
       "    <tr>\n",
       "      <th>999995</th>\n",
       "      <td>-0.070962</td>\n",
       "      <td>-0.068281</td>\n",
       "      <td>-0.071051</td>\n",
       "      <td>-0.071088</td>\n",
       "      <td>0.162987</td>\n",
       "      <td>0.163303</td>\n",
       "      <td>-0.070089</td>\n",
       "      <td>0.123861</td>\n",
       "      <td>1.898270</td>\n",
       "      <td>1.889972</td>\n",
       "      <td>...</td>\n",
       "      <td>-0.042158</td>\n",
       "      <td>-0.115648</td>\n",
       "      <td>0.124781</td>\n",
       "      <td>0.09144</td>\n",
       "      <td>-0.769214</td>\n",
       "      <td>-0.521454</td>\n",
       "      <td>-0.047591</td>\n",
       "      <td>1.912165</td>\n",
       "      <td>-0.058092</td>\n",
       "      <td>-0.057185</td>\n",
       "    </tr>\n",
       "    <tr>\n",
       "      <th>999996</th>\n",
       "      <td>-0.070962</td>\n",
       "      <td>-0.068281</td>\n",
       "      <td>-0.071051</td>\n",
       "      <td>-0.071088</td>\n",
       "      <td>0.162987</td>\n",
       "      <td>0.163303</td>\n",
       "      <td>-0.070089</td>\n",
       "      <td>0.123861</td>\n",
       "      <td>1.898270</td>\n",
       "      <td>1.889972</td>\n",
       "      <td>...</td>\n",
       "      <td>-0.042158</td>\n",
       "      <td>-0.115648</td>\n",
       "      <td>0.124781</td>\n",
       "      <td>0.09144</td>\n",
       "      <td>0.055132</td>\n",
       "      <td>0.639149</td>\n",
       "      <td>-0.047591</td>\n",
       "      <td>1.912165</td>\n",
       "      <td>-0.058092</td>\n",
       "      <td>-0.057185</td>\n",
       "    </tr>\n",
       "    <tr>\n",
       "      <th>999997</th>\n",
       "      <td>-0.070962</td>\n",
       "      <td>-0.068281</td>\n",
       "      <td>-0.071051</td>\n",
       "      <td>-0.071088</td>\n",
       "      <td>0.162987</td>\n",
       "      <td>0.163303</td>\n",
       "      <td>-0.070089</td>\n",
       "      <td>0.123861</td>\n",
       "      <td>1.898270</td>\n",
       "      <td>1.889972</td>\n",
       "      <td>...</td>\n",
       "      <td>-0.042158</td>\n",
       "      <td>-0.115648</td>\n",
       "      <td>0.124781</td>\n",
       "      <td>0.09144</td>\n",
       "      <td>0.055132</td>\n",
       "      <td>0.639149</td>\n",
       "      <td>-0.047591</td>\n",
       "      <td>1.912165</td>\n",
       "      <td>-0.058092</td>\n",
       "      <td>-0.057185</td>\n",
       "    </tr>\n",
       "    <tr>\n",
       "      <th>999998</th>\n",
       "      <td>-0.070962</td>\n",
       "      <td>-0.068281</td>\n",
       "      <td>-0.071051</td>\n",
       "      <td>-0.071088</td>\n",
       "      <td>0.162987</td>\n",
       "      <td>0.163303</td>\n",
       "      <td>-0.070089</td>\n",
       "      <td>0.123861</td>\n",
       "      <td>1.898270</td>\n",
       "      <td>1.889972</td>\n",
       "      <td>...</td>\n",
       "      <td>-0.042158</td>\n",
       "      <td>-0.115648</td>\n",
       "      <td>0.124781</td>\n",
       "      <td>0.09144</td>\n",
       "      <td>1.703825</td>\n",
       "      <td>0.639149</td>\n",
       "      <td>-0.047591</td>\n",
       "      <td>1.912165</td>\n",
       "      <td>-0.058092</td>\n",
       "      <td>-0.057185</td>\n",
       "    </tr>\n",
       "    <tr>\n",
       "      <th>999999</th>\n",
       "      <td>-0.070962</td>\n",
       "      <td>-0.068281</td>\n",
       "      <td>-0.071051</td>\n",
       "      <td>-0.071088</td>\n",
       "      <td>0.162987</td>\n",
       "      <td>0.163303</td>\n",
       "      <td>-0.070089</td>\n",
       "      <td>0.123861</td>\n",
       "      <td>-1.120693</td>\n",
       "      <td>-1.127113</td>\n",
       "      <td>...</td>\n",
       "      <td>-0.042158</td>\n",
       "      <td>-0.115648</td>\n",
       "      <td>0.124781</td>\n",
       "      <td>0.09144</td>\n",
       "      <td>0.055132</td>\n",
       "      <td>-0.521454</td>\n",
       "      <td>-0.047591</td>\n",
       "      <td>-1.111781</td>\n",
       "      <td>-0.058092</td>\n",
       "      <td>-0.057185</td>\n",
       "    </tr>\n",
       "  </tbody>\n",
       "</table>\n",
       "<p>1000000 rows × 40 columns</p>\n",
       "</div>"
      ],
      "text/plain": [
       "        ssn_name_count_14  ssn_name_dob_count_14  ssn_lastname_count_14  \\\n",
       "0               -0.070962              -0.068281              -0.071051   \n",
       "1               -0.070962              -0.068281              -0.071051   \n",
       "2               -0.070962              -0.068281              -0.071051   \n",
       "3               -0.070962              -0.068281              -0.071051   \n",
       "4               -0.070962              -0.068281              -0.071051   \n",
       "...                   ...                    ...                    ...   \n",
       "999995          -0.070962              -0.068281              -0.071051   \n",
       "999996          -0.070962              -0.068281              -0.071051   \n",
       "999997          -0.070962              -0.068281              -0.071051   \n",
       "999998          -0.070962              -0.068281              -0.071051   \n",
       "999999          -0.070962              -0.068281              -0.071051   \n",
       "\n",
       "        ssn_firstname_count_14  ssn_dob_count_0_by_30  name_dob_count_0_by_30  \\\n",
       "0                    -0.071088               0.162987                0.163303   \n",
       "1                    -0.071088               0.162987                0.163303   \n",
       "2                    -0.071088               0.162987                0.163303   \n",
       "3                    -0.071088               0.162987                0.163303   \n",
       "4                    -0.071088               0.162987                0.163303   \n",
       "...                        ...                    ...                     ...   \n",
       "999995               -0.071088               0.162987                0.163303   \n",
       "999996               -0.071088               0.162987                0.163303   \n",
       "999997               -0.071088               0.162987                0.163303   \n",
       "999998               -0.071088               0.162987                0.163303   \n",
       "999999               -0.071088               0.162987                0.163303   \n",
       "\n",
       "        fulladdress_homephone_count_14  fulladdress_count_1_by_14  \\\n",
       "0                            -0.070089                   0.123861   \n",
       "1                            -0.070089                   0.123861   \n",
       "2                            -0.070089                   0.123861   \n",
       "3                            -0.070089                   0.123861   \n",
       "4                            -0.070089                   0.123861   \n",
       "...                                ...                        ...   \n",
       "999995                       -0.070089                   0.123861   \n",
       "999996                       -0.070089                   0.123861   \n",
       "999997                       -0.070089                   0.123861   \n",
       "999998                       -0.070089                   0.123861   \n",
       "999999                       -0.070089                   0.123861   \n",
       "\n",
       "        fulladdress_homephone_day_since  ssn_dob_day_since  ...  \\\n",
       "0                             -1.566892          -1.573035  ...   \n",
       "1                             -1.566892          -1.573035  ...   \n",
       "2                             -1.566892          -1.573035  ...   \n",
       "3                             -1.566892          -1.573035  ...   \n",
       "4                             -1.566892          -1.573035  ...   \n",
       "...                                 ...                ...  ...   \n",
       "999995                         1.898270           1.889972  ...   \n",
       "999996                         1.898270           1.889972  ...   \n",
       "999997                         1.898270           1.889972  ...   \n",
       "999998                         1.898270           1.889972  ...   \n",
       "999999                        -1.120693          -1.127113  ...   \n",
       "\n",
       "        address_count_0  name_count_7  ssn_count_0_by_14  \\\n",
       "0             -0.042158     -0.115648           0.124781   \n",
       "1             -0.042158     -0.115648           0.124781   \n",
       "2             -0.042158     -0.115648           0.124781   \n",
       "3             -0.042158     -0.115648           0.124781   \n",
       "4             -0.042158     -0.115648           0.124781   \n",
       "...                 ...           ...                ...   \n",
       "999995        -0.042158     -0.115648           0.124781   \n",
       "999996        -0.042158     -0.115648           0.124781   \n",
       "999997        -0.042158     -0.115648           0.124781   \n",
       "999998        -0.042158     -0.115648           0.124781   \n",
       "999999        -0.042158     -0.115648           0.124781   \n",
       "\n",
       "        fulladdress_count_1_by_7  homephone_count_7  homephone_count_3  \\\n",
       "0                        0.09144          -0.769214          -0.521454   \n",
       "1                        0.09144          -0.769214          -0.521454   \n",
       "2                        0.09144          -0.769214          -0.521454   \n",
       "3                        0.09144          -0.769214          -0.521454   \n",
       "4                        0.09144          -0.769214          -0.521454   \n",
       "...                          ...                ...                ...   \n",
       "999995                   0.09144          -0.769214          -0.521454   \n",
       "999996                   0.09144           0.055132           0.639149   \n",
       "999997                   0.09144           0.055132           0.639149   \n",
       "999998                   0.09144           1.703825           0.639149   \n",
       "999999                   0.09144           0.055132          -0.521454   \n",
       "\n",
       "        ssn_count_3  ssn_lastname_day_since  ssn_count_7  \\\n",
       "0         -0.047591               -1.558716    -0.058092   \n",
       "1         -0.047591               -1.558716    -0.058092   \n",
       "2         -0.047591               -1.558716    -0.058092   \n",
       "3         -0.047591               -1.558716    -0.058092   \n",
       "4         -0.047591               -1.558716    -0.058092   \n",
       "...             ...                     ...          ...   \n",
       "999995    -0.047591                1.912165    -0.058092   \n",
       "999996    -0.047591                1.912165    -0.058092   \n",
       "999997    -0.047591                1.912165    -0.058092   \n",
       "999998    -0.047591                1.912165    -0.058092   \n",
       "999999    -0.047591               -1.111781    -0.058092   \n",
       "\n",
       "        ssn_firstname_count_7  \n",
       "0                   -0.057185  \n",
       "1                   -0.057185  \n",
       "2                   -0.057185  \n",
       "3                   -0.057185  \n",
       "4                   -0.057185  \n",
       "...                       ...  \n",
       "999995              -0.057185  \n",
       "999996              -0.057185  \n",
       "999997              -0.057185  \n",
       "999998              -0.057185  \n",
       "999999              -0.057185  \n",
       "\n",
       "[1000000 rows x 40 columns]"
      ]
     },
     "execution_count": 15,
     "metadata": {},
     "output_type": "execute_result"
    }
   ],
   "source": [
    "wrap_df"
   ]
  },
  {
   "cell_type": "code",
   "execution_count": 16,
   "metadata": {
    "pycharm": {
     "name": "#%%\n"
    },
    "scrolled": true
   },
   "outputs": [
    {
     "name": "stdout",
     "output_type": "stream",
     "text": [
      "Fitting estimator with 40 features.\n",
      "Fitting estimator with 39 features.\n",
      "Fitting estimator with 38 features.\n",
      "Fitting estimator with 37 features.\n",
      "Fitting estimator with 36 features.\n",
      "Fitting estimator with 35 features.\n",
      "Fitting estimator with 34 features.\n",
      "Fitting estimator with 33 features.\n",
      "Fitting estimator with 32 features.\n",
      "Fitting estimator with 31 features.\n",
      "Fitting estimator with 30 features.\n",
      "Fitting estimator with 29 features.\n",
      "Fitting estimator with 28 features.\n",
      "Fitting estimator with 27 features.\n",
      "Fitting estimator with 26 features.\n",
      "Fitting estimator with 25 features.\n",
      "Fitting estimator with 16 features.\n",
      "Fitting estimator with 15 features.\n",
      "Fitting estimator with 14 features.\n",
      "Fitting estimator with 13 features.\n",
      "Fitting estimator with 12 features.\n",
      "Fitting estimator with 11 features.\n",
      "Fitting estimator with 10 features.\n",
      "Fitting estimator with 9 features.\n",
      "Fitting estimator with 8 features.\n",
      "Fitting estimator with 7 features.\n",
      "Fitting estimator with 6 features.\n",
      "Fitting estimator with 5 features.\n",
      "Fitting estimator with 4 features.\n",
      "Fitting estimator with 3 features.\n",
      "Fitting estimator with 2 features.\n",
      "Fitting estimator with 40 features.\n",
      "Fitting estimator with 39 features.\n",
      "Fitting estimator with 38 features.\n",
      "Fitting estimator with 37 features.\n",
      "Fitting estimator with 36 features.\n",
      "Fitting estimator with 35 features.\n",
      "Fitting estimator with 34 features.\n",
      "Fitting estimator with 33 features.\n",
      "Fitting estimator with 32 features.\n",
      "Fitting estimator with 31 features.\n",
      "Fitting estimator with 30 features.\n",
      "Fitting estimator with 29 features.\n",
      "Fitting estimator with 28 features.\n",
      "Fitting estimator with 27 features.\n",
      "Fitting estimator with 26 features.\n",
      "Fitting estimator with 25 features.\n",
      "Fitting estimator with 24 features.\n",
      "Fitting estimator with 23 features.\n",
      "Fitting estimator with 22 features.\n",
      "Fitting estimator with 21 features.\n",
      "Fitting estimator with 20 features.\n",
      "Fitting estimator with 19 features.\n",
      "Fitting estimator with 18 features.\n",
      "Fitting estimator with 17 features.\n",
      "Fitting estimator with 16 features.\n",
      "Fitting estimator with 15 features.\n",
      "Fitting estimator with 14 features.\n",
      "Fitting estimator with 13 features.\n",
      "Fitting estimator with 12 features.\n",
      "Fitting estimator with 11 features.\n",
      "Fitting estimator with 10 features.\n",
      "Fitting estimator with 9 features.\n",
      "Fitting estimator with 8 features.\n",
      "Fitting estimator with 7 features.\n",
      "Fitting estimator with 6 features.\n",
      "Fitting estimator with 5 features.\n",
      "Fitting estimator with 4 features.\n",
      "Fitting estimator with 3 features.\n",
      "Fitting estimator with 2 features.\n",
      "Fitting estimator with 40 features.\n",
      "Fitting estimator with 39 features.\n",
      "Fitting estimator with 38 features.\n",
      "Fitting estimator with 37 features.\n",
      "Fitting estimator with 36 features.\n",
      "Fitting estimator with 35 features.\n",
      "Fitting estimator with 34 features.\n",
      "Fitting estimator with 33 features.\n",
      "Fitting estimator with 32 features.\n",
      "Fitting estimator with 31 features.\n",
      "Fitting estimator with 30 features.\n",
      "Fitting estimator with 29 features.\n",
      "Fitting estimator with 28 features.\n",
      "Fitting estimator with 27 features.\n",
      "Fitting estimator with 26 features.\n",
      "Fitting estimator with 25 features.\n",
      "Fitting estimator with 24 features.\n",
      "Fitting estimator with 23 features.\n",
      "Fitting estimator with 22 features.\n",
      "Fitting estimator with 21 features.\n",
      "Fitting estimator with 20 features.\n",
      "Fitting estimator with 19 features.\n",
      "Fitting estimator with 18 features.\n",
      "Fitting estimator with 17 features.\n",
      "Fitting estimator with 16 features.\n",
      "Fitting estimator with 15 features.\n",
      "Fitting estimator with 14 features.\n",
      "Fitting estimator with 13 features.\n",
      "Fitting estimator with 12 features.\n",
      "Fitting estimator with 11 features.\n",
      "Fitting estimator with 10 features.\n",
      "Fitting estimator with 9 features.\n",
      "Fitting estimator with 8 features.\n",
      "Fitting estimator with 7 features.\n",
      "Fitting estimator with 6 features.\n",
      "Fitting estimator with 5 features.\n",
      "Fitting estimator with 4 features.\n",
      "Fitting estimator with 3 features.\n",
      "Fitting estimator with 2 features.\n",
      "Fitting estimator with 40 features.\n",
      "Fitting estimator with 39 features.\n",
      "Fitting estimator with 38 features.\n",
      "Fitting estimator with 37 features.\n",
      "Fitting estimator with 36 features.\n",
      "Fitting estimator with 35 features.\n",
      "Fitting estimator with 34 features.\n",
      "Fitting estimator with 33 features.\n",
      "Fitting estimator with 32 features.\n",
      "Fitting estimator with 31 features.\n",
      "Fitting estimator with 30 features.\n",
      "Fitting estimator with 29 features.\n",
      "Fitting estimator with 28 features.\n",
      "Fitting estimator with 27 features.\n",
      "Fitting estimator with 26 features.\n",
      "Fitting estimator with 25 features.\n",
      "Fitting estimator with 24 features.\n",
      "Fitting estimator with 23 features.\n",
      "Fitting estimator with 22 features.\n",
      "Fitting estimator with 21 features.\n",
      "Fitting estimator with 20 features.\n",
      "Fitting estimator with 19 features.\n",
      "Fitting estimator with 18 features.\n",
      "Fitting estimator with 17 features.\n",
      "Fitting estimator with 16 features.\n",
      "Fitting estimator with 15 features.\n",
      "Fitting estimator with 14 features.\n",
      "Fitting estimator with 13 features.\n",
      "Fitting estimator with 12 features.\n",
      "Fitting estimator with 11 features.\n",
      "Fitting estimator with 10 features.\n",
      "Fitting estimator with 9 features.\n",
      "Fitting estimator with 8 features.\n",
      "Fitting estimator with 7 features.\n",
      "Fitting estimator with 6 features.\n",
      "Fitting estimator with 5 features.\n",
      "Fitting estimator with 4 features.\n",
      "Fitting estimator with 3 features.\n",
      "Fitting estimator with 2 features.\n",
      "Fitting estimator with 40 features.\n",
      "Fitting estimator with 39 features.\n",
      "Fitting estimator with 38 features.\n",
      "Fitting estimator with 37 features.\n",
      "Fitting estimator with 36 features.\n",
      "Fitting estimator with 35 features.\n",
      "Fitting estimator with 34 features.\n",
      "Fitting estimator with 33 features.\n",
      "Fitting estimator with 32 features.\n",
      "Fitting estimator with 31 features.\n",
      "Fitting estimator with 30 features.\n",
      "Fitting estimator with 29 features.\n",
      "Fitting estimator with 28 features.\n",
      "Fitting estimator with 27 features.\n",
      "Fitting estimator with 26 features.\n",
      "Fitting estimator with 25 features.\n",
      "Fitting estimator with 24 features.\n",
      "Fitting estimator with 23 features.\n",
      "Fitting estimator with 22 features.\n",
      "Fitting estimator with 21 features.\n",
      "Fitting estimator with 20 features.\n",
      "Fitting estimator with 19 features.\n",
      "Fitting estimator with 18 features.\n",
      "Fitting estimator with 17 features.\n",
      "Fitting estimator with 16 features.\n",
      "Fitting estimator with 15 features.\n",
      "Fitting estimator with 14 features.\n",
      "Fitting estimator with 13 features.\n",
      "Fitting estimator with 12 features.\n",
      "Fitting estimator with 11 features.\n",
      "Fitting estimator with 10 features.\n",
      "Fitting estimator with 9 features.\n",
      "Fitting estimator with 8 features.\n",
      "Fitting estimator with 7 features.\n",
      "Fitting estimator with 6 features.\n",
      "Fitting estimator with 5 features.\n",
      "Fitting estimator with 4 features.\n",
      "Fitting estimator with 3 features.\n",
      "Fitting estimator with 2 features.\n",
      "Fitting estimator with 40 features.\n",
      "Fitting estimator with 39 features.\n",
      "Fitting estimator with 38 features.\n",
      "Fitting estimator with 37 features.\n",
      "Fitting estimator with 36 features.\n",
      "Fitting estimator with 35 features.\n",
      "Fitting estimator with 34 features.\n",
      "Fitting estimator with 33 features.\n",
      "Fitting estimator with 32 features.\n",
      "Fitting estimator with 31 features.\n",
      "Fitting estimator with 30 features.\n",
      "Fitting estimator with 29 features.\n",
      "Fitting estimator with 28 features.\n",
      "Fitting estimator with 27 features.\n",
      "Fitting estimator with 26 features.\n",
      "Fitting estimator with 25 features.\n",
      "Fitting estimator with 24 features.\n",
      "Fitting estimator with 23 features.\n",
      "Fitting estimator with 22 features.\n",
      "Fitting estimator with 21 features.\n",
      "Fitting estimator with 20 features.\n",
      "Fitting estimator with 19 features.\n",
      "Fitting estimator with 18 features.\n",
      "Fitting estimator with 17 features.\n",
      "Fitting estimator with 16 features.\n",
      "Fitting estimator with 15 features.\n",
      "Fitting estimator with 14 features.\n"
     ]
    }
   ],
   "source": [
    "logit_select_2 = RFECV(LogisticRegression(penalty='l2',\n",
    "                                          C=0.1,\n",
    "                                          class_weight='balanced',\n",
    "                                          max_iter=1000),\n",
    "                       step=1, cv=5, scoring=fdr, verbose=1)\n",
    "logit_select_2 = logit_select_2.fit(wrap_df, y)"
   ]
  },
  {
   "cell_type": "code",
   "execution_count": 17,
   "metadata": {
    "pycharm": {
     "name": "#%%\n"
    }
   },
   "outputs": [],
   "source": [
    "logit_scores_2 = [[col, s] for col, s in zip(wrap_df.columns, logit_select_2.grid_scores_)]\n",
    "logit_scores_2.sort(key=lambda x: x[1], reverse=True)\n",
    "logit_scores_2 = np.asarray(logit_scores_2)"
   ]
  },
  {
   "cell_type": "code",
   "execution_count": 18,
   "metadata": {
    "pycharm": {
     "name": "#%%\n"
    }
   },
   "outputs": [
    {
     "data": {
      "image/png": "[encoded data removed]",
      "text/plain": [
       "<Figure size 432x288 with 1 Axes>"
      ]
     },
     "metadata": {
      "needs_background": "light"
     },
     "output_type": "display_data"
    }
   ],
   "source": [
    "plt.figure()\n",
    "scores = logit_select_2.grid_scores_\n",
    "plt.plot(range(len(scores)), sorted(scores, reverse=True), 'r')\n",
    "plt.show()"
   ]
  },
  {
   "cell_type": "code",
   "execution_count": 19,
   "metadata": {
    "pycharm": {
     "name": "#%%\n"
    }
   },
   "outputs": [
    {
     "data": {
      "text/plain": [
       "{'fulladdress_count_1_by_14',\n",
       " 'fulladdress_count_1_by_30',\n",
       " 'fulladdress_homephone_count_14',\n",
       " 'fulladdress_homephone_day_since',\n",
       " 'name_dob_count_0_by_30',\n",
       " 'ssn_count_0_by_30',\n",
       " 'ssn_dob_count_0_by_30',\n",
       " 'ssn_dob_day_since',\n",
       " 'ssn_firstname_count_0_by_30',\n",
       " 'ssn_firstname_count_14',\n",
       " 'ssn_lastname_count_0_by_30',\n",
       " 'ssn_lastname_count_14',\n",
       " 'ssn_lastname_count_7',\n",
       " 'ssn_name_count_14',\n",
       " 'ssn_name_dob_count_14'}"
      ]
     },
     "execution_count": 19,
     "metadata": {},
     "output_type": "execute_result"
    }
   ],
   "source": [
    "set(logit_scores[:25, :1].flat) - set(logit_scores_2[:25, :1].flat)"
   ]
  },
  {
   "cell_type": "code",
   "execution_count": 20,
   "metadata": {
    "pycharm": {
     "name": "#%%\n"
    }
   },
   "outputs": [
    {
     "data": {
      "text/plain": [
       "{'address_count_0',\n",
       " 'address_count_1_by_7',\n",
       " 'fulladdress_count_1_by_7',\n",
       " 'homephone_count_3',\n",
       " 'homephone_count_7',\n",
       " 'name_count_7',\n",
       " 'ssn_count_0_by_14',\n",
       " 'ssn_count_3',\n",
       " 'ssn_count_7',\n",
       " 'ssn_dob_count_0_by_14',\n",
       " 'ssn_firstname_count_0_by_14',\n",
       " 'ssn_firstname_count_7',\n",
       " 'ssn_lastname_count_0_by_14',\n",
       " 'ssn_lastname_day_since',\n",
       " 'ssn_name_day_since'}"
      ]
     },
     "execution_count": 20,
     "metadata": {},
     "output_type": "execute_result"
    }
   ],
   "source": [
    "set(logit_scores_2[:25, :1].flat) - set(logit_scores[:25, :1].flat)"
   ]
  },
  {
   "cell_type": "code",
   "execution_count": 21,
   "metadata": {
    "pycharm": {
     "name": "#%%\n"
    }
   },
   "outputs": [],
   "source": [
    "with open(\"wrapper_2.csv\", 'w') as f:\n",
    "    f.write('\\n'.join([f'{col},{s}' for col, s in logit_scores_2]))"
   ]
  },
  {
   "cell_type": "code",
   "execution_count": 22,
   "metadata": {
    "pycharm": {
     "name": "#%%\n"
    }
   },
   "outputs": [],
   "source": [
    "w2_df = df.filter(items=logit_scores_2[:25, :1].reshape(-1))\n",
    "w2_df['fraud_label'] = y\n",
    "w2_df.to_csv('var_w2.csv', index=False)"
   ]
  },
  {
   "cell_type": "code",
   "execution_count": null,
   "metadata": {},
   "outputs": [],
   "source": []
  }
 ],
 "metadata": {
  "kernelspec": {
   "display_name": "Python 3",
   "language": "python",
   "name": "python3"
  },
  "language_info": {
   "codemirror_mode": {
    "name": "ipython",
    "version": 3
   },
   "file_extension": ".py",
   "mimetype": "text/x-python",
   "name": "python",
   "nbconvert_exporter": "python",
   "pygments_lexer": "ipython3",
   "version": "3.6.8"
  }
 },
 "nbformat": 4,
 "nbformat_minor": 1
}
