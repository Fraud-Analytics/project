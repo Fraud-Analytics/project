{
 "cells": [
  {
   "cell_type": "code",
   "execution_count": 3,
   "metadata": {},
   "outputs": [],
   "source": [
    "import numpy as np\n",
    "import matplotlib.pyplot as plt\n",
    "import pandas as pd\n",
    "from util import load_data, fdr, plot_report\n",
    "from util import load_data, fdr, plot_report"
   ]
  },
  {
   "cell_type": "code",
   "execution_count": 4,
   "metadata": {},
   "outputs": [],
   "source": [
    "x_train, x_test, y_train, y_test = load_data('var_30.csv')"
   ]
  },
  {
   "cell_type": "code",
   "execution_count": 5,
   "metadata": {},
   "outputs": [
    {
     "data": {
      "text/html": [
       "<div>\n",
       "<style scoped>\n",
       "    .dataframe tbody tr th:only-of-type {\n",
       "        vertical-align: middle;\n",
       "    }\n",
       "\n",
       "    .dataframe tbody tr th {\n",
       "        vertical-align: top;\n",
       "    }\n",
       "\n",
       "    .dataframe thead th {\n",
       "        text-align: right;\n",
       "    }\n",
       "</style>\n",
       "<table border=\"1\" class=\"dataframe\">\n",
       "  <thead>\n",
       "    <tr style=\"text-align: right;\">\n",
       "      <th></th>\n",
       "      <th>ssn_name_count_14</th>\n",
       "      <th>ssn_name_dob_count_14</th>\n",
       "      <th>ssn_lastname_count_14</th>\n",
       "      <th>ssn_firstname_count_14</th>\n",
       "      <th>ssn_dob_count_0_by_30</th>\n",
       "      <th>name_dob_count_0_by_30</th>\n",
       "      <th>fulladdress_homephone_count_14</th>\n",
       "      <th>fulladdress_count_1_by_14</th>\n",
       "      <th>fulladdress_homephone_day_since</th>\n",
       "      <th>ssn_dob_day_since</th>\n",
       "      <th>...</th>\n",
       "      <th>fulladdress_count_0</th>\n",
       "      <th>name_dob_count_3</th>\n",
       "      <th>fulladdress_homephone_count_0_by_14</th>\n",
       "      <th>name_day_since</th>\n",
       "      <th>name_count_14</th>\n",
       "      <th>ssn_dob_count_0_by_14</th>\n",
       "      <th>ssn_lastname_count_0_by_14</th>\n",
       "      <th>ssn_firstname_count_0_by_14</th>\n",
       "      <th>ssn_name_day_since</th>\n",
       "      <th>address_count_1_by_7</th>\n",
       "    </tr>\n",
       "  </thead>\n",
       "  <tbody>\n",
       "    <tr>\n",
       "      <th>639733</th>\n",
       "      <td>-0.070962</td>\n",
       "      <td>-0.068281</td>\n",
       "      <td>-0.071051</td>\n",
       "      <td>-0.071088</td>\n",
       "      <td>0.162987</td>\n",
       "      <td>0.163303</td>\n",
       "      <td>-0.070089</td>\n",
       "      <td>0.123861</td>\n",
       "      <td>0.654609</td>\n",
       "      <td>0.647085</td>\n",
       "      <td>...</td>\n",
       "      <td>-0.041351</td>\n",
       "      <td>-0.046415</td>\n",
       "      <td>0.120387</td>\n",
       "      <td>-0.742173</td>\n",
       "      <td>-0.159376</td>\n",
       "      <td>0.118004</td>\n",
       "      <td>0.123458</td>\n",
       "      <td>0.123528</td>\n",
       "      <td>0.665921</td>\n",
       "      <td>0.103441</td>\n",
       "    </tr>\n",
       "    <tr>\n",
       "      <th>296124</th>\n",
       "      <td>-0.070962</td>\n",
       "      <td>-0.068281</td>\n",
       "      <td>-0.071051</td>\n",
       "      <td>-0.071088</td>\n",
       "      <td>0.162987</td>\n",
       "      <td>0.163303</td>\n",
       "      <td>-0.070089</td>\n",
       "      <td>0.123861</td>\n",
       "      <td>-0.541584</td>\n",
       "      <td>-0.548364</td>\n",
       "      <td>...</td>\n",
       "      <td>-0.041351</td>\n",
       "      <td>-0.046415</td>\n",
       "      <td>0.120387</td>\n",
       "      <td>-0.326230</td>\n",
       "      <td>-0.159376</td>\n",
       "      <td>0.118004</td>\n",
       "      <td>0.123458</td>\n",
       "      <td>0.123528</td>\n",
       "      <td>-0.532238</td>\n",
       "      <td>0.103441</td>\n",
       "    </tr>\n",
       "    <tr>\n",
       "      <th>423119</th>\n",
       "      <td>-0.070962</td>\n",
       "      <td>-0.068281</td>\n",
       "      <td>-0.071051</td>\n",
       "      <td>-0.071088</td>\n",
       "      <td>0.162987</td>\n",
       "      <td>0.163303</td>\n",
       "      <td>-0.070089</td>\n",
       "      <td>0.123861</td>\n",
       "      <td>-0.095385</td>\n",
       "      <td>-0.102443</td>\n",
       "      <td>...</td>\n",
       "      <td>-0.041351</td>\n",
       "      <td>-0.046415</td>\n",
       "      <td>0.120387</td>\n",
       "      <td>0.118074</td>\n",
       "      <td>-0.159376</td>\n",
       "      <td>0.118004</td>\n",
       "      <td>0.123458</td>\n",
       "      <td>0.123528</td>\n",
       "      <td>-0.085306</td>\n",
       "      <td>0.103441</td>\n",
       "    </tr>\n",
       "    <tr>\n",
       "      <th>250489</th>\n",
       "      <td>-0.070962</td>\n",
       "      <td>-0.068281</td>\n",
       "      <td>-0.071051</td>\n",
       "      <td>-0.071088</td>\n",
       "      <td>0.162987</td>\n",
       "      <td>0.163303</td>\n",
       "      <td>-0.070089</td>\n",
       "      <td>0.123861</td>\n",
       "      <td>-0.693481</td>\n",
       "      <td>-0.700167</td>\n",
       "      <td>...</td>\n",
       "      <td>-0.041351</td>\n",
       "      <td>-0.046415</td>\n",
       "      <td>0.120387</td>\n",
       "      <td>-0.997412</td>\n",
       "      <td>-0.159376</td>\n",
       "      <td>0.118004</td>\n",
       "      <td>0.123458</td>\n",
       "      <td>0.123528</td>\n",
       "      <td>-0.684385</td>\n",
       "      <td>0.103441</td>\n",
       "    </tr>\n",
       "    <tr>\n",
       "      <th>385740</th>\n",
       "      <td>-0.070962</td>\n",
       "      <td>-0.068281</td>\n",
       "      <td>-0.071051</td>\n",
       "      <td>-0.071088</td>\n",
       "      <td>0.162987</td>\n",
       "      <td>0.163303</td>\n",
       "      <td>-0.070089</td>\n",
       "      <td>0.123861</td>\n",
       "      <td>-0.228295</td>\n",
       "      <td>-0.235271</td>\n",
       "      <td>...</td>\n",
       "      <td>-0.041351</td>\n",
       "      <td>-0.046415</td>\n",
       "      <td>0.120387</td>\n",
       "      <td>-0.014272</td>\n",
       "      <td>-0.159376</td>\n",
       "      <td>0.118004</td>\n",
       "      <td>0.123458</td>\n",
       "      <td>0.123528</td>\n",
       "      <td>-0.218434</td>\n",
       "      <td>0.103441</td>\n",
       "    </tr>\n",
       "  </tbody>\n",
       "</table>\n",
       "<p>5 rows × 30 columns</p>\n",
       "</div>"
      ],
      "text/plain": [
       "        ssn_name_count_14  ssn_name_dob_count_14  ssn_lastname_count_14  \\\n",
       "639733          -0.070962              -0.068281              -0.071051   \n",
       "296124          -0.070962              -0.068281              -0.071051   \n",
       "423119          -0.070962              -0.068281              -0.071051   \n",
       "250489          -0.070962              -0.068281              -0.071051   \n",
       "385740          -0.070962              -0.068281              -0.071051   \n",
       "\n",
       "        ssn_firstname_count_14  ssn_dob_count_0_by_30  name_dob_count_0_by_30  \\\n",
       "639733               -0.071088               0.162987                0.163303   \n",
       "296124               -0.071088               0.162987                0.163303   \n",
       "423119               -0.071088               0.162987                0.163303   \n",
       "250489               -0.071088               0.162987                0.163303   \n",
       "385740               -0.071088               0.162987                0.163303   \n",
       "\n",
       "        fulladdress_homephone_count_14  fulladdress_count_1_by_14  \\\n",
       "639733                       -0.070089                   0.123861   \n",
       "296124                       -0.070089                   0.123861   \n",
       "423119                       -0.070089                   0.123861   \n",
       "250489                       -0.070089                   0.123861   \n",
       "385740                       -0.070089                   0.123861   \n",
       "\n",
       "        fulladdress_homephone_day_since  ssn_dob_day_since  ...  \\\n",
       "639733                         0.654609           0.647085  ...   \n",
       "296124                        -0.541584          -0.548364  ...   \n",
       "423119                        -0.095385          -0.102443  ...   \n",
       "250489                        -0.693481          -0.700167  ...   \n",
       "385740                        -0.228295          -0.235271  ...   \n",
       "\n",
       "        fulladdress_count_0  name_dob_count_3  \\\n",
       "639733            -0.041351         -0.046415   \n",
       "296124            -0.041351         -0.046415   \n",
       "423119            -0.041351         -0.046415   \n",
       "250489            -0.041351         -0.046415   \n",
       "385740            -0.041351         -0.046415   \n",
       "\n",
       "        fulladdress_homephone_count_0_by_14  name_day_since  name_count_14  \\\n",
       "639733                             0.120387       -0.742173      -0.159376   \n",
       "296124                             0.120387       -0.326230      -0.159376   \n",
       "423119                             0.120387        0.118074      -0.159376   \n",
       "250489                             0.120387       -0.997412      -0.159376   \n",
       "385740                             0.120387       -0.014272      -0.159376   \n",
       "\n",
       "        ssn_dob_count_0_by_14  ssn_lastname_count_0_by_14  \\\n",
       "639733               0.118004                    0.123458   \n",
       "296124               0.118004                    0.123458   \n",
       "423119               0.118004                    0.123458   \n",
       "250489               0.118004                    0.123458   \n",
       "385740               0.118004                    0.123458   \n",
       "\n",
       "        ssn_firstname_count_0_by_14  ssn_name_day_since  address_count_1_by_7  \n",
       "639733                     0.123528            0.665921              0.103441  \n",
       "296124                     0.123528           -0.532238              0.103441  \n",
       "423119                     0.123528           -0.085306              0.103441  \n",
       "250489                     0.123528           -0.684385              0.103441  \n",
       "385740                     0.123528           -0.218434              0.103441  \n",
       "\n",
       "[5 rows x 30 columns]"
      ]
     },
     "execution_count": 5,
     "metadata": {},
     "output_type": "execute_result"
    }
   ],
   "source": [
    "x_train.head()"
   ]
  },
  {
   "cell_type": "code",
   "execution_count": 6,
   "metadata": {},
   "outputs": [],
   "source": [
    "from sklearn.naive_bayes import GaussianNB"
   ]
  },
  {
   "cell_type": "code",
   "execution_count": 7,
   "metadata": {},
   "outputs": [],
   "source": [
    "clf = GaussianNB()"
   ]
  },
  {
   "cell_type": "code",
   "execution_count": 8,
   "metadata": {},
   "outputs": [
    {
     "data": {
      "text/plain": [
       "GaussianNB(priors=None, var_smoothing=1e-09)"
      ]
     },
     "execution_count": 8,
     "metadata": {},
     "output_type": "execute_result"
    }
   ],
   "source": [
    "clf.fit(x_train, y_train)"
   ]
  },
  {
   "cell_type": "code",
   "execution_count": 9,
   "metadata": {},
   "outputs": [],
   "source": [
    "y_model = clf.predict(x_test)"
   ]
  },
  {
   "cell_type": "code",
   "execution_count": 10,
   "metadata": {},
   "outputs": [
    {
     "data": {
      "text/plain": [
       "0.9599"
      ]
     },
     "execution_count": 10,
     "metadata": {},
     "output_type": "execute_result"
    }
   ],
   "source": [
    "from sklearn.metrics import accuracy_score\n",
    "accuracy_score(y_test, y_model)"
   ]
  },
  {
   "cell_type": "code",
   "execution_count": 11,
   "metadata": {},
   "outputs": [
    {
     "data": {
      "text/plain": [
       "array([0, 1, 0, ..., 0, 0, 0], dtype=int64)"
      ]
     },
     "execution_count": 11,
     "metadata": {},
     "output_type": "execute_result"
    }
   ],
   "source": [
    "y_model"
   ]
  },
  {
   "cell_type": "code",
   "execution_count": 12,
   "metadata": {},
   "outputs": [
    {
     "name": "stdout",
     "output_type": "stream",
     "text": [
      "0.43375174337517436\n",
      "0.41013351591920577\n"
     ]
    }
   ],
   "source": [
    "print(fdr(clf, x_train, y_train))\n",
    "print(fdr(clf, x_test, y_test))"
   ]
  },
  {
   "cell_type": "code",
   "execution_count": null,
   "metadata": {},
   "outputs": [],
   "source": []
  }
 ],
 "metadata": {
  "kernelspec": {
   "display_name": "Python 3",
   "language": "python",
   "name": "python3"
  },
  "language_info": {
   "codemirror_mode": {
    "name": "ipython",
    "version": 3
   },
   "file_extension": ".py",
   "mimetype": "text/x-python",
   "name": "python",
   "nbconvert_exporter": "python",
   "pygments_lexer": "ipython3",
   "version": "3.7.2"
  }
 },
 "nbformat": 4,
 "nbformat_minor": 4
}
