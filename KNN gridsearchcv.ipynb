{
 "cells": [
  {
   "cell_type": "code",
   "execution_count": 2,
   "metadata": {},
   "outputs": [],
   "source": [
    "import numpy as np\n",
    "import pandas as pd\n",
    "from sklearn.neighbors import KNeighborsClassifier\n",
    "import matplotlib.pyplot as plt\n",
    "from sklearn.model_selection import GridSearchCV\n",
    "from util import load_data, fdr, plot_report\n",
    "from sklearn.ensemble import BaggingClassifier"
   ]
  },
  {
   "cell_type": "code",
   "execution_count": 6,
   "metadata": {},
   "outputs": [],
   "source": [
    "x_train, x_test, y_train, y_test = load_data('var 2000.csv')"
   ]
  },
  {
   "cell_type": "code",
   "execution_count": 7,
   "metadata": {},
   "outputs": [
    {
     "data": {
      "text/html": [
       "<div>\n",
       "<style scoped>\n",
       "    .dataframe tbody tr th:only-of-type {\n",
       "        vertical-align: middle;\n",
       "    }\n",
       "\n",
       "    .dataframe tbody tr th {\n",
       "        vertical-align: top;\n",
       "    }\n",
       "\n",
       "    .dataframe thead th {\n",
       "        text-align: right;\n",
       "    }\n",
       "</style>\n",
       "<table border=\"1\" class=\"dataframe\">\n",
       "  <thead>\n",
       "    <tr style=\"text-align: right;\">\n",
       "      <th></th>\n",
       "      <th>ssn_name_count_14</th>\n",
       "      <th>ssn_name_dob_count_14</th>\n",
       "      <th>ssn_lastname_count_14</th>\n",
       "      <th>ssn_firstname_count_14</th>\n",
       "      <th>ssn_dob_count_0_by_30</th>\n",
       "      <th>name_dob_count_0_by_30</th>\n",
       "      <th>fulladdress_homephone_count_14</th>\n",
       "      <th>fulladdress_count_1_by_14</th>\n",
       "      <th>fulladdress_homephone_day_since</th>\n",
       "      <th>ssn_dob_day_since</th>\n",
       "      <th>...</th>\n",
       "      <th>fulladdress_count_0</th>\n",
       "      <th>name_dob_count_3</th>\n",
       "      <th>fulladdress_homephone_count_0_by_14</th>\n",
       "      <th>name_day_since</th>\n",
       "      <th>name_count_14</th>\n",
       "      <th>ssn_dob_count_0_by_14</th>\n",
       "      <th>ssn_lastname_count_0_by_14</th>\n",
       "      <th>ssn_firstname_count_0_by_14</th>\n",
       "      <th>ssn_name_day_since</th>\n",
       "      <th>address_count_1_by_7</th>\n",
       "    </tr>\n",
       "  </thead>\n",
       "  <tbody>\n",
       "    <tr>\n",
       "      <th>1426</th>\n",
       "      <td>-0.070962</td>\n",
       "      <td>-0.068281</td>\n",
       "      <td>-0.071051</td>\n",
       "      <td>-0.071088</td>\n",
       "      <td>0.162987</td>\n",
       "      <td>0.163303</td>\n",
       "      <td>-0.070089</td>\n",
       "      <td>0.123861</td>\n",
       "      <td>-1.566892</td>\n",
       "      <td>-1.573035</td>\n",
       "      <td>...</td>\n",
       "      <td>-0.041351</td>\n",
       "      <td>-0.046415</td>\n",
       "      <td>0.120387</td>\n",
       "      <td>-1.347182</td>\n",
       "      <td>-0.159376</td>\n",
       "      <td>0.118004</td>\n",
       "      <td>0.123458</td>\n",
       "      <td>0.123528</td>\n",
       "      <td>-1.559231</td>\n",
       "      <td>0.103441</td>\n",
       "    </tr>\n",
       "    <tr>\n",
       "      <th>1408</th>\n",
       "      <td>-0.070962</td>\n",
       "      <td>-0.068281</td>\n",
       "      <td>-0.071051</td>\n",
       "      <td>-0.071088</td>\n",
       "      <td>0.162987</td>\n",
       "      <td>0.163303</td>\n",
       "      <td>-0.070089</td>\n",
       "      <td>0.123861</td>\n",
       "      <td>-1.566892</td>\n",
       "      <td>-1.573035</td>\n",
       "      <td>...</td>\n",
       "      <td>-0.041351</td>\n",
       "      <td>-0.046415</td>\n",
       "      <td>0.120387</td>\n",
       "      <td>-1.347182</td>\n",
       "      <td>-0.159376</td>\n",
       "      <td>0.118004</td>\n",
       "      <td>0.123458</td>\n",
       "      <td>0.123528</td>\n",
       "      <td>-1.559231</td>\n",
       "      <td>0.103441</td>\n",
       "    </tr>\n",
       "    <tr>\n",
       "      <th>374</th>\n",
       "      <td>-0.070962</td>\n",
       "      <td>-0.068281</td>\n",
       "      <td>-0.071051</td>\n",
       "      <td>-0.071088</td>\n",
       "      <td>0.162987</td>\n",
       "      <td>0.163303</td>\n",
       "      <td>-0.070089</td>\n",
       "      <td>0.123861</td>\n",
       "      <td>-1.566892</td>\n",
       "      <td>-1.573035</td>\n",
       "      <td>...</td>\n",
       "      <td>-0.041351</td>\n",
       "      <td>-0.046415</td>\n",
       "      <td>0.120387</td>\n",
       "      <td>-1.347182</td>\n",
       "      <td>-0.159376</td>\n",
       "      <td>0.118004</td>\n",
       "      <td>0.123458</td>\n",
       "      <td>0.123528</td>\n",
       "      <td>-1.559231</td>\n",
       "      <td>0.103441</td>\n",
       "    </tr>\n",
       "    <tr>\n",
       "      <th>209</th>\n",
       "      <td>-0.070962</td>\n",
       "      <td>-0.068281</td>\n",
       "      <td>-0.071051</td>\n",
       "      <td>-0.071088</td>\n",
       "      <td>0.162987</td>\n",
       "      <td>0.163303</td>\n",
       "      <td>-0.070089</td>\n",
       "      <td>0.123861</td>\n",
       "      <td>-1.566892</td>\n",
       "      <td>-1.573035</td>\n",
       "      <td>...</td>\n",
       "      <td>-0.041351</td>\n",
       "      <td>-0.046415</td>\n",
       "      <td>0.120387</td>\n",
       "      <td>-1.347182</td>\n",
       "      <td>-0.159376</td>\n",
       "      <td>0.118004</td>\n",
       "      <td>0.123458</td>\n",
       "      <td>0.123528</td>\n",
       "      <td>-1.559231</td>\n",
       "      <td>0.103441</td>\n",
       "    </tr>\n",
       "    <tr>\n",
       "      <th>851</th>\n",
       "      <td>-0.070962</td>\n",
       "      <td>-0.068281</td>\n",
       "      <td>-0.071051</td>\n",
       "      <td>-0.071088</td>\n",
       "      <td>0.162987</td>\n",
       "      <td>0.163303</td>\n",
       "      <td>-0.070089</td>\n",
       "      <td>0.123861</td>\n",
       "      <td>-1.566892</td>\n",
       "      <td>-1.573035</td>\n",
       "      <td>...</td>\n",
       "      <td>-0.041351</td>\n",
       "      <td>-0.046415</td>\n",
       "      <td>0.120387</td>\n",
       "      <td>-1.347182</td>\n",
       "      <td>-0.159376</td>\n",
       "      <td>0.118004</td>\n",
       "      <td>0.123458</td>\n",
       "      <td>0.123528</td>\n",
       "      <td>-1.559231</td>\n",
       "      <td>0.103441</td>\n",
       "    </tr>\n",
       "  </tbody>\n",
       "</table>\n",
       "<p>5 rows × 30 columns</p>\n",
       "</div>"
      ],
      "text/plain": [
       "      ssn_name_count_14  ssn_name_dob_count_14  ssn_lastname_count_14  \\\n",
       "1426          -0.070962              -0.068281              -0.071051   \n",
       "1408          -0.070962              -0.068281              -0.071051   \n",
       "374           -0.070962              -0.068281              -0.071051   \n",
       "209           -0.070962              -0.068281              -0.071051   \n",
       "851           -0.070962              -0.068281              -0.071051   \n",
       "\n",
       "      ssn_firstname_count_14  ssn_dob_count_0_by_30  name_dob_count_0_by_30  \\\n",
       "1426               -0.071088               0.162987                0.163303   \n",
       "1408               -0.071088               0.162987                0.163303   \n",
       "374                -0.071088               0.162987                0.163303   \n",
       "209                -0.071088               0.162987                0.163303   \n",
       "851                -0.071088               0.162987                0.163303   \n",
       "\n",
       "      fulladdress_homephone_count_14  fulladdress_count_1_by_14  \\\n",
       "1426                       -0.070089                   0.123861   \n",
       "1408                       -0.070089                   0.123861   \n",
       "374                        -0.070089                   0.123861   \n",
       "209                        -0.070089                   0.123861   \n",
       "851                        -0.070089                   0.123861   \n",
       "\n",
       "      fulladdress_homephone_day_since  ssn_dob_day_since  ...  \\\n",
       "1426                        -1.566892          -1.573035  ...   \n",
       "1408                        -1.566892          -1.573035  ...   \n",
       "374                         -1.566892          -1.573035  ...   \n",
       "209                         -1.566892          -1.573035  ...   \n",
       "851                         -1.566892          -1.573035  ...   \n",
       "\n",
       "      fulladdress_count_0  name_dob_count_3  \\\n",
       "1426            -0.041351         -0.046415   \n",
       "1408            -0.041351         -0.046415   \n",
       "374             -0.041351         -0.046415   \n",
       "209             -0.041351         -0.046415   \n",
       "851             -0.041351         -0.046415   \n",
       "\n",
       "      fulladdress_homephone_count_0_by_14  name_day_since  name_count_14  \\\n",
       "1426                             0.120387       -1.347182      -0.159376   \n",
       "1408                             0.120387       -1.347182      -0.159376   \n",
       "374                              0.120387       -1.347182      -0.159376   \n",
       "209                              0.120387       -1.347182      -0.159376   \n",
       "851                              0.120387       -1.347182      -0.159376   \n",
       "\n",
       "      ssn_dob_count_0_by_14  ssn_lastname_count_0_by_14  \\\n",
       "1426               0.118004                    0.123458   \n",
       "1408               0.118004                    0.123458   \n",
       "374                0.118004                    0.123458   \n",
       "209                0.118004                    0.123458   \n",
       "851                0.118004                    0.123458   \n",
       "\n",
       "      ssn_firstname_count_0_by_14  ssn_name_day_since  address_count_1_by_7  \n",
       "1426                     0.123528           -1.559231              0.103441  \n",
       "1408                     0.123528           -1.559231              0.103441  \n",
       "374                      0.123528           -1.559231              0.103441  \n",
       "209                      0.123528           -1.559231              0.103441  \n",
       "851                      0.123528           -1.559231              0.103441  \n",
       "\n",
       "[5 rows x 30 columns]"
      ]
     },
     "execution_count": 7,
     "metadata": {},
     "output_type": "execute_result"
    }
   ],
   "source": [
    "x_train.head()"
   ]
  },
  {
   "cell_type": "code",
   "execution_count": 8,
   "metadata": {},
   "outputs": [
    {
     "name": "stdout",
     "output_type": "stream",
     "text": [
      "Fitting 2 folds for each of 2 candidates, totalling 4 fits\n"
     ]
    },
    {
     "name": "stderr",
     "output_type": "stream",
     "text": [
      "[Parallel(n_jobs=8)]: Using backend LokyBackend with 8 concurrent workers.\n",
      "[Parallel(n_jobs=8)]: Done   4 out of   4 | elapsed:    2.3s remaining:    0.0s\n",
      "[Parallel(n_jobs=8)]: Done   4 out of   4 | elapsed:    2.3s finished\n"
     ]
    },
    {
     "data": {
      "text/plain": [
       "GridSearchCV(cv=2, error_score=nan,\n",
       "             estimator=KNeighborsClassifier(algorithm='auto', leaf_size=30,\n",
       "                                            metric='minkowski',\n",
       "                                            metric_params=None, n_jobs=None,\n",
       "                                            n_neighbors=5, p=2,\n",
       "                                            weights='uniform'),\n",
       "             iid='deprecated', n_jobs=8,\n",
       "             param_grid={'n_neighbors': [3],\n",
       "                         'weights': ['uniform', 'distance']},\n",
       "             pre_dispatch='2*n_jobs', refit='FDR', return_train_score=False,\n",
       "             scoring={'FDR': <function fdr at 0x0000029C39A41BF8>}, verbose=1)"
      ]
     },
     "execution_count": 8,
     "metadata": {},
     "output_type": "execute_result"
    }
   ],
   "source": [
    "knn = KNeighborsClassifier(p=2)\n",
    "params = {'n_neighbors': [3],\n",
    "         'weights':['uniform','distance'],\n",
    "         }\n",
    "clf = GridSearchCV(knn, params, cv=2, refit='FDR', verbose=1,\n",
    "                   n_jobs=8, scoring={'FDR': fdr})\n",
    "clf.fit(x_train,y_train)"
   ]
  },
  {
   "cell_type": "code",
   "execution_count": 9,
   "metadata": {},
   "outputs": [
    {
     "name": "stdout",
     "output_type": "stream",
     "text": [
      "The best parameters are {'n_neighbors': 3, 'weights': 'uniform'} with a score of 0.40000\n"
     ]
    }
   ],
   "source": [
    "print(f\"The best parameters are {clf.best_params_} \"\n",
    "      f\"with a score of {clf.best_score_:0.5f}\")"
   ]
  },
  {
   "cell_type": "code",
   "execution_count": 10,
   "metadata": {},
   "outputs": [
    {
     "name": "stdout",
     "output_type": "stream",
     "text": [
      "0.0\n",
      "0.0\n"
     ]
    }
   ],
   "source": [
    "print(fdr(clf, x_train, y_train))\n",
    "print(fdr(clf, x_test, y_test))"
   ]
  },
  {
   "cell_type": "code",
   "execution_count": null,
   "metadata": {},
   "outputs": [],
   "source": []
  }
 ],
 "metadata": {
  "kernelspec": {
   "display_name": "Python 3",
   "language": "python",
   "name": "python3"
  },
  "language_info": {
   "codemirror_mode": {
    "name": "ipython",
    "version": 3
   },
   "file_extension": ".py",
   "mimetype": "text/x-python",
   "name": "python",
   "nbconvert_exporter": "python",
   "pygments_lexer": "ipython3",
   "version": "3.7.2"
  }
 },
 "nbformat": 4,
 "nbformat_minor": 4
}
