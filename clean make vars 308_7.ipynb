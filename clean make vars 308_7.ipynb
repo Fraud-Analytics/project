{
 "cells": [
  {
   "cell_type": "code",
   "execution_count": 1,
   "metadata": {
    "pycharm": {
     "is_executing": false
    }
   },
   "outputs": [],
   "source": [
    "import calendar\n",
    "import datetime as dt\n",
    "from timeit import default_timer as timer\n",
    "\n",
    "import numpy as np\n",
    "import pandas as pd\n",
    "\n",
    "start_time = timer()"
   ]
  },
  {
   "cell_type": "code",
   "execution_count": 2,
   "metadata": {
    "pycharm": {
     "is_executing": false
    }
   },
   "outputs": [],
   "source": [
    "df = pd.read_csv('applications data.csv')"
   ]
  },
  {
   "cell_type": "code",
   "execution_count": 3,
   "metadata": {
    "pycharm": {
     "is_executing": false
    }
   },
   "outputs": [
    {
     "data": {
      "text/html": [
       "<div>\n",
       "<style scoped>\n",
       "    .dataframe tbody tr th:only-of-type {\n",
       "        vertical-align: middle;\n",
       "    }\n",
       "\n",
       "    .dataframe tbody tr th {\n",
       "        vertical-align: top;\n",
       "    }\n",
       "\n",
       "    .dataframe thead th {\n",
       "        text-align: right;\n",
       "    }\n",
       "</style>\n",
       "<table border=\"1\" class=\"dataframe\">\n",
       "  <thead>\n",
       "    <tr style=\"text-align: right;\">\n",
       "      <th></th>\n",
       "      <th>record</th>\n",
       "      <th>date</th>\n",
       "      <th>ssn</th>\n",
       "      <th>firstname</th>\n",
       "      <th>lastname</th>\n",
       "      <th>address</th>\n",
       "      <th>zip5</th>\n",
       "      <th>dob</th>\n",
       "      <th>homephone</th>\n",
       "      <th>fraud_label</th>\n",
       "    </tr>\n",
       "  </thead>\n",
       "  <tbody>\n",
       "    <tr>\n",
       "      <th>0</th>\n",
       "      <td>1</td>\n",
       "      <td>20160101</td>\n",
       "      <td>379070012</td>\n",
       "      <td>XRRAMMTR</td>\n",
       "      <td>SMJETJMJ</td>\n",
       "      <td>6861 EUTST PL</td>\n",
       "      <td>2765</td>\n",
       "      <td>19070626</td>\n",
       "      <td>1797504115</td>\n",
       "      <td>0</td>\n",
       "    </tr>\n",
       "    <tr>\n",
       "      <th>1</th>\n",
       "      <td>2</td>\n",
       "      <td>20160101</td>\n",
       "      <td>387482503</td>\n",
       "      <td>MAMSTUJR</td>\n",
       "      <td>RTTEMRRR</td>\n",
       "      <td>7280 URASA PL</td>\n",
       "      <td>57169</td>\n",
       "      <td>19340615</td>\n",
       "      <td>4164239415</td>\n",
       "      <td>1</td>\n",
       "    </tr>\n",
       "    <tr>\n",
       "      <th>2</th>\n",
       "      <td>3</td>\n",
       "      <td>20160101</td>\n",
       "      <td>200332444</td>\n",
       "      <td>SZMMUJEZS</td>\n",
       "      <td>EUSEZRAE</td>\n",
       "      <td>5581 RSREX LN</td>\n",
       "      <td>56721</td>\n",
       "      <td>19070626</td>\n",
       "      <td>216537580</td>\n",
       "      <td>0</td>\n",
       "    </tr>\n",
       "    <tr>\n",
       "      <th>3</th>\n",
       "      <td>4</td>\n",
       "      <td>20160101</td>\n",
       "      <td>747451317</td>\n",
       "      <td>SJJZSXRSZ</td>\n",
       "      <td>ETJXTXXS</td>\n",
       "      <td>1387 UJZXJ RD</td>\n",
       "      <td>35286</td>\n",
       "      <td>19440430</td>\n",
       "      <td>132144161</td>\n",
       "      <td>0</td>\n",
       "    </tr>\n",
       "    <tr>\n",
       "      <th>4</th>\n",
       "      <td>5</td>\n",
       "      <td>20160101</td>\n",
       "      <td>24065868</td>\n",
       "      <td>SSSXUEJMS</td>\n",
       "      <td>SSUUJXUZ</td>\n",
       "      <td>279 EAASA WY</td>\n",
       "      <td>3173</td>\n",
       "      <td>19980315</td>\n",
       "      <td>6101082272</td>\n",
       "      <td>0</td>\n",
       "    </tr>\n",
       "  </tbody>\n",
       "</table>\n",
       "</div>"
      ],
      "text/plain": [
       "   record      date        ssn  firstname  lastname        address   zip5  \\\n",
       "0       1  20160101  379070012   XRRAMMTR  SMJETJMJ  6861 EUTST PL   2765   \n",
       "1       2  20160101  387482503   MAMSTUJR  RTTEMRRR  7280 URASA PL  57169   \n",
       "2       3  20160101  200332444  SZMMUJEZS  EUSEZRAE  5581 RSREX LN  56721   \n",
       "3       4  20160101  747451317  SJJZSXRSZ  ETJXTXXS  1387 UJZXJ RD  35286   \n",
       "4       5  20160101   24065868  SSSXUEJMS  SSUUJXUZ   279 EAASA WY   3173   \n",
       "\n",
       "        dob   homephone  fraud_label  \n",
       "0  19070626  1797504115            0  \n",
       "1  19340615  4164239415            1  \n",
       "2  19070626   216537580            0  \n",
       "3  19440430   132144161            0  \n",
       "4  19980315  6101082272            0  "
      ]
     },
     "execution_count": 3,
     "metadata": {},
     "output_type": "execute_result"
    }
   ],
   "source": [
    "df.head()"
   ]
  },
  {
   "cell_type": "code",
   "execution_count": 4,
   "metadata": {
    "pycharm": {
     "is_executing": false
    }
   },
   "outputs": [],
   "source": [
    "df.date = pd.to_datetime(df.date,format='%Y%m%d')"
   ]
  },
  {
   "cell_type": "code",
   "execution_count": 5,
   "metadata": {
    "pycharm": {
     "is_executing": false
    }
   },
   "outputs": [
    {
     "data": {
      "text/plain": [
       "record                  int64\n",
       "date           datetime64[ns]\n",
       "ssn                     int64\n",
       "firstname              object\n",
       "lastname               object\n",
       "address                object\n",
       "zip5                    int64\n",
       "dob                     int64\n",
       "homephone               int64\n",
       "fraud_label             int64\n",
       "dtype: object"
      ]
     },
     "execution_count": 5,
     "metadata": {},
     "output_type": "execute_result"
    }
   ],
   "source": [
    "df.dtypes"
   ]
  },
  {
   "cell_type": "code",
   "execution_count": 6,
   "metadata": {},
   "outputs": [
    {
     "data": {
      "text/plain": [
       "(1000000, 10)"
      ]
     },
     "execution_count": 6,
     "metadata": {},
     "output_type": "execute_result"
    }
   ],
   "source": [
    "df.shape"
   ]
  },
  {
   "cell_type": "markdown",
   "metadata": {},
   "source": [
    "### Clean frivolous fields"
   ]
  },
  {
   "cell_type": "code",
   "execution_count": 7,
   "metadata": {
    "pycharm": {
     "is_executing": false
    }
   },
   "outputs": [],
   "source": [
    "df.loc[df.ssn == 999999999, 'ssn'] = df.loc[df.ssn == 999999999, 'record']\n",
    "df.loc[df.address == '123 MAIN ST', 'address'] = df.loc[df.address == '123 MAIN ST', 'record']\n",
    "df.loc[df.homephone == 9999999999, 'homephone'] = df.loc[df.homephone == 9999999999, 'record']\n",
    "df.loc[df.dob == 19070626, 'dob'] = df.loc[df.dob == 19070626, 'record']"
   ]
  },
  {
   "cell_type": "code",
   "execution_count": 8,
   "metadata": {
    "pycharm": {
     "is_executing": false
    }
   },
   "outputs": [],
   "source": [
    "df.ssn = df.ssn.astype(str)\n",
    "df.zip5 = df.zip5.astype(str)\n",
    "df.dob = df.dob.astype(str)\n",
    "df.homephone = df.homephone.astype(str)\n",
    "df.address = df.address.astype(str)"
   ]
  },
  {
   "cell_type": "code",
   "execution_count": 9,
   "metadata": {
    "pycharm": {
     "is_executing": false
    }
   },
   "outputs": [],
   "source": [
    "# add leading 0 to zips\n",
    "\n",
    "df['zip5'] = df.zip5.apply(lambda x: x if len(x) == 5 else '0'*(5-len(x)) + x)"
   ]
  },
  {
   "cell_type": "markdown",
   "metadata": {},
   "source": [
    "### Risk table for day of week"
   ]
  },
  {
   "cell_type": "code",
   "execution_count": 10,
   "metadata": {
    "pycharm": {
     "is_executing": false
    }
   },
   "outputs": [],
   "source": [
    "df['dow'] = df.date.apply(lambda x: calendar.day_name[x.weekday()])"
   ]
  },
  {
   "cell_type": "code",
   "execution_count": 11,
   "metadata": {
    "pycharm": {
     "is_executing": false
    }
   },
   "outputs": [],
   "source": [
    "train_test = df[df.date < '2016-11-01']"
   ]
  },
  {
   "cell_type": "code",
   "execution_count": 12,
   "metadata": {
    "pycharm": {
     "is_executing": false
    }
   },
   "outputs": [],
   "source": [
    "# do statistical smoothing\n",
    "c = 4; nmid = 20; y_avg = train_test['fraud_label'].mean()\n",
    "y_dow = train_test.groupby('dow')['fraud_label'].mean()\n",
    "num = train_test.groupby('dow').size()\n",
    "y_dow_smooth = y_avg + (y_dow - y_avg)/(1 + np.exp(-(num - nmid)/c))\n",
    "df['dow_risk'] = df.dow.map(y_dow_smooth)"
   ]
  },
  {
   "cell_type": "code",
   "execution_count": 13,
   "metadata": {
    "pycharm": {
     "is_executing": false
    }
   },
   "outputs": [
    {
     "data": {
      "text/html": [
       "<div>\n",
       "<style scoped>\n",
       "    .dataframe tbody tr th:only-of-type {\n",
       "        vertical-align: middle;\n",
       "    }\n",
       "\n",
       "    .dataframe tbody tr th {\n",
       "        vertical-align: top;\n",
       "    }\n",
       "\n",
       "    .dataframe thead th {\n",
       "        text-align: right;\n",
       "    }\n",
       "</style>\n",
       "<table border=\"1\" class=\"dataframe\">\n",
       "  <thead>\n",
       "    <tr style=\"text-align: right;\">\n",
       "      <th></th>\n",
       "      <th>record</th>\n",
       "      <th>date</th>\n",
       "      <th>ssn</th>\n",
       "      <th>firstname</th>\n",
       "      <th>lastname</th>\n",
       "      <th>address</th>\n",
       "      <th>zip5</th>\n",
       "      <th>dob</th>\n",
       "      <th>homephone</th>\n",
       "      <th>fraud_label</th>\n",
       "      <th>dow</th>\n",
       "      <th>dow_risk</th>\n",
       "    </tr>\n",
       "  </thead>\n",
       "  <tbody>\n",
       "    <tr>\n",
       "      <th>0</th>\n",
       "      <td>1</td>\n",
       "      <td>2016-01-01</td>\n",
       "      <td>379070012</td>\n",
       "      <td>XRRAMMTR</td>\n",
       "      <td>SMJETJMJ</td>\n",
       "      <td>6861 EUTST PL</td>\n",
       "      <td>02765</td>\n",
       "      <td>1</td>\n",
       "      <td>1797504115</td>\n",
       "      <td>0</td>\n",
       "      <td>Friday</td>\n",
       "      <td>0.014499</td>\n",
       "    </tr>\n",
       "    <tr>\n",
       "      <th>1</th>\n",
       "      <td>2</td>\n",
       "      <td>2016-01-01</td>\n",
       "      <td>387482503</td>\n",
       "      <td>MAMSTUJR</td>\n",
       "      <td>RTTEMRRR</td>\n",
       "      <td>7280 URASA PL</td>\n",
       "      <td>57169</td>\n",
       "      <td>19340615</td>\n",
       "      <td>4164239415</td>\n",
       "      <td>1</td>\n",
       "      <td>Friday</td>\n",
       "      <td>0.014499</td>\n",
       "    </tr>\n",
       "    <tr>\n",
       "      <th>2</th>\n",
       "      <td>3</td>\n",
       "      <td>2016-01-01</td>\n",
       "      <td>200332444</td>\n",
       "      <td>SZMMUJEZS</td>\n",
       "      <td>EUSEZRAE</td>\n",
       "      <td>5581 RSREX LN</td>\n",
       "      <td>56721</td>\n",
       "      <td>3</td>\n",
       "      <td>216537580</td>\n",
       "      <td>0</td>\n",
       "      <td>Friday</td>\n",
       "      <td>0.014499</td>\n",
       "    </tr>\n",
       "    <tr>\n",
       "      <th>3</th>\n",
       "      <td>4</td>\n",
       "      <td>2016-01-01</td>\n",
       "      <td>747451317</td>\n",
       "      <td>SJJZSXRSZ</td>\n",
       "      <td>ETJXTXXS</td>\n",
       "      <td>1387 UJZXJ RD</td>\n",
       "      <td>35286</td>\n",
       "      <td>19440430</td>\n",
       "      <td>132144161</td>\n",
       "      <td>0</td>\n",
       "      <td>Friday</td>\n",
       "      <td>0.014499</td>\n",
       "    </tr>\n",
       "    <tr>\n",
       "      <th>4</th>\n",
       "      <td>5</td>\n",
       "      <td>2016-01-01</td>\n",
       "      <td>24065868</td>\n",
       "      <td>SSSXUEJMS</td>\n",
       "      <td>SSUUJXUZ</td>\n",
       "      <td>279 EAASA WY</td>\n",
       "      <td>03173</td>\n",
       "      <td>19980315</td>\n",
       "      <td>6101082272</td>\n",
       "      <td>0</td>\n",
       "      <td>Friday</td>\n",
       "      <td>0.014499</td>\n",
       "    </tr>\n",
       "  </tbody>\n",
       "</table>\n",
       "</div>"
      ],
      "text/plain": [
       "   record       date        ssn  firstname  lastname        address   zip5  \\\n",
       "0       1 2016-01-01  379070012   XRRAMMTR  SMJETJMJ  6861 EUTST PL  02765   \n",
       "1       2 2016-01-01  387482503   MAMSTUJR  RTTEMRRR  7280 URASA PL  57169   \n",
       "2       3 2016-01-01  200332444  SZMMUJEZS  EUSEZRAE  5581 RSREX LN  56721   \n",
       "3       4 2016-01-01  747451317  SJJZSXRSZ  ETJXTXXS  1387 UJZXJ RD  35286   \n",
       "4       5 2016-01-01   24065868  SSSXUEJMS  SSUUJXUZ   279 EAASA WY  03173   \n",
       "\n",
       "        dob   homephone  fraud_label     dow  dow_risk  \n",
       "0         1  1797504115            0  Friday  0.014499  \n",
       "1  19340615  4164239415            1  Friday  0.014499  \n",
       "2         3   216537580            0  Friday  0.014499  \n",
       "3  19440430   132144161            0  Friday  0.014499  \n",
       "4  19980315  6101082272            0  Friday  0.014499  "
      ]
     },
     "execution_count": 13,
     "metadata": {},
     "output_type": "execute_result"
    }
   ],
   "source": [
    "df.head()"
   ]
  },
  {
   "cell_type": "markdown",
   "metadata": {},
   "source": [
    "### Create entities"
   ]
  },
  {
   "cell_type": "code",
   "execution_count": 14,
   "metadata": {
    "pycharm": {
     "is_executing": false
    }
   },
   "outputs": [],
   "source": [
    "df['name'] = df.firstname + df.lastname\n",
    "df['fulladdress'] = df.address + df.zip5\n",
    "df['name_dob'] = df.name + df.dob\n",
    "df['name_fulladdress'] = df.name + df.fulladdress\n",
    "df['name_homephone'] = df.name + df.homephone\n",
    "df['fulladdress_dob'] = df.fulladdress + df.dob\n",
    "df['fulladdress_homephone'] = df.fulladdress + df.homephone\n",
    "df['dob_homephone'] = df.dob + df.homephone\n",
    "df['homephone_name_dob'] = df.homephone + df.name_dob"
   ]
  },
  {
   "cell_type": "code",
   "execution_count": 15,
   "metadata": {
    "pycharm": {
     "is_executing": false
    }
   },
   "outputs": [],
   "source": [
    "for field in list(df.iloc[:,np.r_[3:9, 12:15]].columns):\n",
    "    df['ssn_' + field] = df.ssn + df[field]"
   ]
  },
  {
   "cell_type": "code",
   "execution_count": 16,
   "metadata": {
    "pycharm": {
     "is_executing": false
    }
   },
   "outputs": [],
   "source": [
    "attributes = list(df.iloc[:, np.r_[2, 5, 7, 8, 12:30]].columns)"
   ]
  },
  {
   "cell_type": "code",
   "execution_count": 17,
   "metadata": {
    "pycharm": {
     "is_executing": false
    },
    "scrolled": false
   },
   "outputs": [
    {
     "data": {
      "text/plain": [
       "['ssn',\n",
       " 'address',\n",
       " 'dob',\n",
       " 'homephone',\n",
       " 'name',\n",
       " 'fulladdress',\n",
       " 'name_dob',\n",
       " 'name_fulladdress',\n",
       " 'name_homephone',\n",
       " 'fulladdress_dob',\n",
       " 'fulladdress_homephone',\n",
       " 'dob_homephone',\n",
       " 'homephone_name_dob',\n",
       " 'ssn_firstname',\n",
       " 'ssn_lastname',\n",
       " 'ssn_address',\n",
       " 'ssn_zip5',\n",
       " 'ssn_dob',\n",
       " 'ssn_homephone',\n",
       " 'ssn_name',\n",
       " 'ssn_fulladdress',\n",
       " 'ssn_name_dob']"
      ]
     },
     "execution_count": 17,
     "metadata": {},
     "output_type": "execute_result"
    }
   ],
   "source": [
    "attributes"
   ]
  },
  {
   "cell_type": "markdown",
   "metadata": {},
   "source": [
    "### Velocity + Day since"
   ]
  },
  {
   "cell_type": "code",
   "execution_count": 18,
   "metadata": {
    "pycharm": {
     "is_executing": false
    }
   },
   "outputs": [],
   "source": [
    "df1 = df.copy()\n",
    "final = df.copy()\n",
    "df1['check_date'] = df1.date\n",
    "df1['check_record'] = df1.record"
   ]
  },
  {
   "cell_type": "code",
   "execution_count": 19,
   "metadata": {
    "pycharm": {
     "is_executing": true
    },
    "scrolled": false
   },
   "outputs": [
    {
     "name": "stdout",
     "output_type": "stream",
     "text": [
      "\n",
      "ssn_day_since ---> Done\n",
      "ssn_count_0 ---> Done\n",
      "ssn_count_1 ---> Done\n",
      "ssn_count_3 ---> Done\n",
      "ssn_count_7 ---> Done\n",
      "ssn_count_14 ---> Done\n",
      "ssn_count_30 ---> Done\n",
      "Run time for entity ssn ----------------- 2.22s\n",
      "\n",
      "address_day_since ---> Done\n",
      "address_count_0 ---> Done\n",
      "address_count_1 ---> Done\n",
      "address_count_3 ---> Done\n",
      "address_count_7 ---> Done\n",
      "address_count_14 ---> Done\n",
      "address_count_30 ---> Done\n",
      "Run time for entity address ----------------- 2.23s\n",
      "\n",
      "dob_day_since ---> Done\n",
      "dob_count_0 ---> Done\n",
      "dob_count_1 ---> Done\n",
      "dob_count_3 ---> Done\n",
      "dob_count_7 ---> Done\n",
      "dob_count_14 ---> Done\n",
      "dob_count_30 ---> Done\n",
      "Run time for entity dob ----------------- 15.34s\n",
      "\n",
      "homephone_day_since ---> Done\n",
      "homephone_count_0 ---> Done\n",
      "homephone_count_1 ---> Done\n",
      "homephone_count_3 ---> Done\n",
      "homephone_count_7 ---> Done\n",
      "homephone_count_14 ---> Done\n",
      "homephone_count_30 ---> Done\n",
      "Run time for entity homephone ----------------- 13.08s\n",
      "\n",
      "name_day_since ---> Done\n",
      "name_count_0 ---> Done\n",
      "name_count_1 ---> Done\n",
      "name_count_3 ---> Done\n",
      "name_count_7 ---> Done\n",
      "name_count_14 ---> Done\n",
      "name_count_30 ---> Done\n",
      "Run time for entity name ----------------- 2.82s\n",
      "\n",
      "fulladdress_day_since ---> Done\n",
      "fulladdress_count_0 ---> Done\n",
      "fulladdress_count_1 ---> Done\n",
      "fulladdress_count_3 ---> Done\n",
      "fulladdress_count_7 ---> Done\n",
      "fulladdress_count_14 ---> Done\n",
      "fulladdress_count_30 ---> Done\n",
      "Run time for entity fulladdress ----------------- 2.18s\n",
      "\n",
      "name_dob_day_since ---> Done\n",
      "name_dob_count_0 ---> Done\n",
      "name_dob_count_1 ---> Done\n",
      "name_dob_count_3 ---> Done\n",
      "name_dob_count_7 ---> Done\n",
      "name_dob_count_14 ---> Done\n",
      "name_dob_count_30 ---> Done\n",
      "Run time for entity name_dob ----------------- 2.13s\n",
      "\n",
      "name_fulladdress_day_since ---> Done\n",
      "name_fulladdress_count_0 ---> Done\n",
      "name_fulladdress_count_1 ---> Done\n",
      "name_fulladdress_count_3 ---> Done\n",
      "name_fulladdress_count_7 ---> Done\n",
      "name_fulladdress_count_14 ---> Done\n",
      "name_fulladdress_count_30 ---> Done\n",
      "Run time for entity name_fulladdress ----------------- 2.21s\n",
      "\n",
      "name_homephone_day_since ---> Done\n",
      "name_homephone_count_0 ---> Done\n",
      "name_homephone_count_1 ---> Done\n",
      "name_homephone_count_3 ---> Done\n",
      "name_homephone_count_7 ---> Done\n",
      "name_homephone_count_14 ---> Done\n",
      "name_homephone_count_30 ---> Done\n",
      "Run time for entity name_homephone ----------------- 2.13s\n",
      "\n",
      "fulladdress_dob_day_since ---> Done\n",
      "fulladdress_dob_count_0 ---> Done\n",
      "fulladdress_dob_count_1 ---> Done\n",
      "fulladdress_dob_count_3 ---> Done\n",
      "fulladdress_dob_count_7 ---> Done\n",
      "fulladdress_dob_count_14 ---> Done\n",
      "fulladdress_dob_count_30 ---> Done\n",
      "Run time for entity fulladdress_dob ----------------- 2.10s\n",
      "\n",
      "fulladdress_homephone_day_since ---> Done\n",
      "fulladdress_homephone_count_0 ---> Done\n",
      "fulladdress_homephone_count_1 ---> Done\n",
      "fulladdress_homephone_count_3 ---> Done\n",
      "fulladdress_homephone_count_7 ---> Done\n",
      "fulladdress_homephone_count_14 ---> Done\n",
      "fulladdress_homephone_count_30 ---> Done\n",
      "Run time for entity fulladdress_homephone ----------------- 2.14s\n",
      "\n",
      "dob_homephone_day_since ---> Done\n",
      "dob_homephone_count_0 ---> Done\n",
      "dob_homephone_count_1 ---> Done\n",
      "dob_homephone_count_3 ---> Done\n",
      "dob_homephone_count_7 ---> Done\n",
      "dob_homephone_count_14 ---> Done\n",
      "dob_homephone_count_30 ---> Done\n",
      "Run time for entity dob_homephone ----------------- 2.11s\n",
      "\n",
      "homephone_name_dob_day_since ---> Done\n",
      "homephone_name_dob_count_0 ---> Done\n",
      "homephone_name_dob_count_1 ---> Done\n",
      "homephone_name_dob_count_3 ---> Done\n",
      "homephone_name_dob_count_7 ---> Done\n",
      "homephone_name_dob_count_14 ---> Done\n",
      "homephone_name_dob_count_30 ---> Done\n",
      "Run time for entity homephone_name_dob ----------------- 2.14s\n",
      "\n",
      "ssn_firstname_day_since ---> Done\n",
      "ssn_firstname_count_0 ---> Done\n",
      "ssn_firstname_count_1 ---> Done\n",
      "ssn_firstname_count_3 ---> Done\n",
      "ssn_firstname_count_7 ---> Done\n",
      "ssn_firstname_count_14 ---> Done\n",
      "ssn_firstname_count_30 ---> Done\n",
      "Run time for entity ssn_firstname ----------------- 2.69s\n",
      "\n",
      "ssn_lastname_day_since ---> Done\n",
      "ssn_lastname_count_0 ---> Done\n",
      "ssn_lastname_count_1 ---> Done\n",
      "ssn_lastname_count_3 ---> Done\n",
      "ssn_lastname_count_7 ---> Done\n",
      "ssn_lastname_count_14 ---> Done\n",
      "ssn_lastname_count_30 ---> Done\n",
      "Run time for entity ssn_lastname ----------------- 2.14s\n",
      "\n",
      "ssn_address_day_since ---> Done\n",
      "ssn_address_count_0 ---> Done\n",
      "ssn_address_count_1 ---> Done\n",
      "ssn_address_count_3 ---> Done\n",
      "ssn_address_count_7 ---> Done\n",
      "ssn_address_count_14 ---> Done\n",
      "ssn_address_count_30 ---> Done\n",
      "Run time for entity ssn_address ----------------- 2.15s\n",
      "\n",
      "ssn_zip5_day_since ---> Done\n",
      "ssn_zip5_count_0 ---> Done\n",
      "ssn_zip5_count_1 ---> Done\n",
      "ssn_zip5_count_3 ---> Done\n",
      "ssn_zip5_count_7 ---> Done\n",
      "ssn_zip5_count_14 ---> Done\n",
      "ssn_zip5_count_30 ---> Done\n",
      "Run time for entity ssn_zip5 ----------------- 2.10s\n",
      "\n",
      "ssn_dob_day_since ---> Done\n",
      "ssn_dob_count_0 ---> Done\n",
      "ssn_dob_count_1 ---> Done\n",
      "ssn_dob_count_3 ---> Done\n",
      "ssn_dob_count_7 ---> Done\n",
      "ssn_dob_count_14 ---> Done\n",
      "ssn_dob_count_30 ---> Done\n",
      "Run time for entity ssn_dob ----------------- 2.07s\n",
      "\n",
      "ssn_homephone_day_since ---> Done\n",
      "ssn_homephone_count_0 ---> Done\n",
      "ssn_homephone_count_1 ---> Done\n",
      "ssn_homephone_count_3 ---> Done\n",
      "ssn_homephone_count_7 ---> Done\n",
      "ssn_homephone_count_14 ---> Done\n",
      "ssn_homephone_count_30 ---> Done\n",
      "Run time for entity ssn_homephone ----------------- 2.11s\n",
      "\n",
      "ssn_name_day_since ---> Done\n",
      "ssn_name_count_0 ---> Done\n",
      "ssn_name_count_1 ---> Done\n",
      "ssn_name_count_3 ---> Done\n",
      "ssn_name_count_7 ---> Done\n",
      "ssn_name_count_14 ---> Done\n",
      "ssn_name_count_30 ---> Done\n",
      "Run time for entity ssn_name ----------------- 2.14s\n",
      "\n",
      "ssn_fulladdress_day_since ---> Done\n",
      "ssn_fulladdress_count_0 ---> Done\n",
      "ssn_fulladdress_count_1 ---> Done\n",
      "ssn_fulladdress_count_3 ---> Done\n",
      "ssn_fulladdress_count_7 ---> Done\n",
      "ssn_fulladdress_count_14 ---> Done\n",
      "ssn_fulladdress_count_30 ---> Done\n",
      "Run time for entity ssn_fulladdress ----------------- 2.17s\n",
      "\n",
      "ssn_name_dob_day_since ---> Done\n",
      "ssn_name_dob_count_0 ---> Done\n",
      "ssn_name_dob_count_1 ---> Done\n",
      "ssn_name_dob_count_3 ---> Done\n",
      "ssn_name_dob_count_7 ---> Done\n",
      "ssn_name_dob_count_14 ---> Done\n",
      "ssn_name_dob_count_30 ---> Done\n",
      "Run time for entity ssn_name_dob ----------------- 2.11s\n",
      "Total run time: 1.21min\n"
     ]
    }
   ],
   "source": [
    "start = timer()\n",
    "\n",
    "for entity in attributes:\n",
    "    \n",
    "    st = timer()\n",
    "\n",
    "    df_l = df1[['record', 'date', entity]]\n",
    "    df_r = df1[['check_record', 'check_date', entity]]\n",
    "    temp = pd.merge(df_l, df_r, left_on=entity, right_on=entity)\n",
    "\n",
    "    # day since\n",
    "    day_since_df = temp[temp.record > temp.check_record][['record', 'date', 'check_date']] \\\n",
    "        .groupby('record')[['date', 'check_date']].last()\n",
    "    mapper = (day_since_df.date - day_since_df.check_date).dt.days\n",
    "    final[entity + '_day_since'] = final.record.map(mapper)\n",
    "    final[entity + '_day_since'].fillna(365, inplace=True)\n",
    "    print(f'\\n{entity}_day_since ---> Done')\n",
    "\n",
    "    # velocity\n",
    "    for offset_t in [0, 1, 3, 7, 14, 30]:\n",
    "        count_day_df = temp[(temp.check_date >= (temp.date - dt.timedelta(offset_t)))\n",
    "                            & (temp.record >= temp.check_record)]\n",
    "        col_name = f'{entity}_count_{offset_t}'\n",
    "        mapper2 = count_day_df.groupby('record')[entity].count()\n",
    "        final[col_name] = final.record.map(mapper2)\n",
    "\n",
    "        print(f'{entity}_count_{str(offset_t)} ---> Done')\n",
    "\n",
    "    print(f'Run time for entity {entity} ----------------- {timer() - st:0.2f}s')\n",
    "\n",
    "print(f'Total run time: {(timer() - start) / 60:0.2f}min')"
   ]
  },
  {
   "cell_type": "markdown",
   "metadata": {},
   "source": [
    "### Relative Velocity"
   ]
  },
  {
   "cell_type": "code",
   "execution_count": 20,
   "metadata": {},
   "outputs": [
    {
     "name": "stdout",
     "output_type": "stream",
     "text": [
      "Total run time: 2.82s\n"
     ]
    }
   ],
   "source": [
    "start = timer()\n",
    "for att in attributes:\n",
    "    for d in ['0', '1']:\n",
    "        for dd in ['3', '7', '14', '30']:\n",
    "            final[att + '_count_' + d + '_by_' + dd] \\\n",
    "                = final[att + '_count_' + d] / (final[att + '_count_' + dd] / float(dd))\n",
    "print(f'Total run time: {timer() - start:0.2f}s')"
   ]
  },
  {
   "cell_type": "markdown",
   "metadata": {},
   "source": [
    "### Keep desired variables"
   ]
  },
  {
   "cell_type": "code",
   "execution_count": 21,
   "metadata": {},
   "outputs": [],
   "source": [
    "final.set_index('record', inplace = True)"
   ]
  },
  {
   "cell_type": "code",
   "execution_count": 22,
   "metadata": {},
   "outputs": [
    {
     "data": {
      "text/plain": [
       "(1000000, 310)"
      ]
     },
     "execution_count": 22,
     "metadata": {},
     "output_type": "execute_result"
    }
   ],
   "source": [
    "final = final.iloc[:, np.r_[8, 10, 29:337]]\n",
    "final.shape"
   ]
  },
  {
   "cell_type": "code",
   "execution_count": 23,
   "metadata": {},
   "outputs": [
    {
     "data": {
      "text/html": [
       "<div>\n",
       "<style scoped>\n",
       "    .dataframe tbody tr th:only-of-type {\n",
       "        vertical-align: middle;\n",
       "    }\n",
       "\n",
       "    .dataframe tbody tr th {\n",
       "        vertical-align: top;\n",
       "    }\n",
       "\n",
       "    .dataframe thead th {\n",
       "        text-align: right;\n",
       "    }\n",
       "</style>\n",
       "<table border=\"1\" class=\"dataframe\">\n",
       "  <thead>\n",
       "    <tr style=\"text-align: right;\">\n",
       "      <th></th>\n",
       "      <th>fraud_label</th>\n",
       "      <th>dow_risk</th>\n",
       "      <th>ssn_day_since</th>\n",
       "      <th>ssn_count_0</th>\n",
       "      <th>ssn_count_1</th>\n",
       "      <th>ssn_count_3</th>\n",
       "      <th>ssn_count_7</th>\n",
       "      <th>ssn_count_14</th>\n",
       "      <th>ssn_count_30</th>\n",
       "      <th>address_day_since</th>\n",
       "      <th>...</th>\n",
       "      <th>ssn_homephone_count_0_by_3</th>\n",
       "      <th>ssn_homephone_count_0_by_7</th>\n",
       "      <th>ssn_homephone_count_0_by_14</th>\n",
       "      <th>ssn_homephone_count_0_by_30</th>\n",
       "      <th>ssn_homephone_count_1_by_3</th>\n",
       "      <th>ssn_homephone_count_1_by_7</th>\n",
       "      <th>ssn_homephone_count_1_by_14</th>\n",
       "      <th>ssn_homephone_count_1_by_30</th>\n",
       "      <th>ssn_name_count_0_by_3</th>\n",
       "      <th>ssn_name_count_0_by_7</th>\n",
       "    </tr>\n",
       "    <tr>\n",
       "      <th>record</th>\n",
       "      <th></th>\n",
       "      <th></th>\n",
       "      <th></th>\n",
       "      <th></th>\n",
       "      <th></th>\n",
       "      <th></th>\n",
       "      <th></th>\n",
       "      <th></th>\n",
       "      <th></th>\n",
       "      <th></th>\n",
       "      <th></th>\n",
       "      <th></th>\n",
       "      <th></th>\n",
       "      <th></th>\n",
       "      <th></th>\n",
       "      <th></th>\n",
       "      <th></th>\n",
       "      <th></th>\n",
       "      <th></th>\n",
       "      <th></th>\n",
       "      <th></th>\n",
       "    </tr>\n",
       "  </thead>\n",
       "  <tbody>\n",
       "    <tr>\n",
       "      <th>1</th>\n",
       "      <td>0</td>\n",
       "      <td>0.014499</td>\n",
       "      <td>365.0</td>\n",
       "      <td>1</td>\n",
       "      <td>1</td>\n",
       "      <td>1</td>\n",
       "      <td>1</td>\n",
       "      <td>1</td>\n",
       "      <td>1</td>\n",
       "      <td>365.0</td>\n",
       "      <td>...</td>\n",
       "      <td>3.0</td>\n",
       "      <td>7.0</td>\n",
       "      <td>14.0</td>\n",
       "      <td>30.0</td>\n",
       "      <td>3.0</td>\n",
       "      <td>7.0</td>\n",
       "      <td>14.0</td>\n",
       "      <td>30.0</td>\n",
       "      <td>3.0</td>\n",
       "      <td>7.0</td>\n",
       "    </tr>\n",
       "    <tr>\n",
       "      <th>2</th>\n",
       "      <td>1</td>\n",
       "      <td>0.014499</td>\n",
       "      <td>365.0</td>\n",
       "      <td>1</td>\n",
       "      <td>1</td>\n",
       "      <td>1</td>\n",
       "      <td>1</td>\n",
       "      <td>1</td>\n",
       "      <td>1</td>\n",
       "      <td>365.0</td>\n",
       "      <td>...</td>\n",
       "      <td>3.0</td>\n",
       "      <td>7.0</td>\n",
       "      <td>14.0</td>\n",
       "      <td>30.0</td>\n",
       "      <td>3.0</td>\n",
       "      <td>7.0</td>\n",
       "      <td>14.0</td>\n",
       "      <td>30.0</td>\n",
       "      <td>3.0</td>\n",
       "      <td>7.0</td>\n",
       "    </tr>\n",
       "    <tr>\n",
       "      <th>3</th>\n",
       "      <td>0</td>\n",
       "      <td>0.014499</td>\n",
       "      <td>365.0</td>\n",
       "      <td>1</td>\n",
       "      <td>1</td>\n",
       "      <td>1</td>\n",
       "      <td>1</td>\n",
       "      <td>1</td>\n",
       "      <td>1</td>\n",
       "      <td>365.0</td>\n",
       "      <td>...</td>\n",
       "      <td>3.0</td>\n",
       "      <td>7.0</td>\n",
       "      <td>14.0</td>\n",
       "      <td>30.0</td>\n",
       "      <td>3.0</td>\n",
       "      <td>7.0</td>\n",
       "      <td>14.0</td>\n",
       "      <td>30.0</td>\n",
       "      <td>3.0</td>\n",
       "      <td>7.0</td>\n",
       "    </tr>\n",
       "    <tr>\n",
       "      <th>4</th>\n",
       "      <td>0</td>\n",
       "      <td>0.014499</td>\n",
       "      <td>365.0</td>\n",
       "      <td>1</td>\n",
       "      <td>1</td>\n",
       "      <td>1</td>\n",
       "      <td>1</td>\n",
       "      <td>1</td>\n",
       "      <td>1</td>\n",
       "      <td>365.0</td>\n",
       "      <td>...</td>\n",
       "      <td>3.0</td>\n",
       "      <td>7.0</td>\n",
       "      <td>14.0</td>\n",
       "      <td>30.0</td>\n",
       "      <td>3.0</td>\n",
       "      <td>7.0</td>\n",
       "      <td>14.0</td>\n",
       "      <td>30.0</td>\n",
       "      <td>3.0</td>\n",
       "      <td>7.0</td>\n",
       "    </tr>\n",
       "    <tr>\n",
       "      <th>5</th>\n",
       "      <td>0</td>\n",
       "      <td>0.014499</td>\n",
       "      <td>365.0</td>\n",
       "      <td>1</td>\n",
       "      <td>1</td>\n",
       "      <td>1</td>\n",
       "      <td>1</td>\n",
       "      <td>1</td>\n",
       "      <td>1</td>\n",
       "      <td>365.0</td>\n",
       "      <td>...</td>\n",
       "      <td>3.0</td>\n",
       "      <td>7.0</td>\n",
       "      <td>14.0</td>\n",
       "      <td>30.0</td>\n",
       "      <td>3.0</td>\n",
       "      <td>7.0</td>\n",
       "      <td>14.0</td>\n",
       "      <td>30.0</td>\n",
       "      <td>3.0</td>\n",
       "      <td>7.0</td>\n",
       "    </tr>\n",
       "  </tbody>\n",
       "</table>\n",
       "<p>5 rows × 310 columns</p>\n",
       "</div>"
      ],
      "text/plain": [
       "        fraud_label  dow_risk  ssn_day_since  ssn_count_0  ssn_count_1  \\\n",
       "record                                                                   \n",
       "1                 0  0.014499          365.0            1            1   \n",
       "2                 1  0.014499          365.0            1            1   \n",
       "3                 0  0.014499          365.0            1            1   \n",
       "4                 0  0.014499          365.0            1            1   \n",
       "5                 0  0.014499          365.0            1            1   \n",
       "\n",
       "        ssn_count_3  ssn_count_7  ssn_count_14  ssn_count_30  \\\n",
       "record                                                         \n",
       "1                 1            1             1             1   \n",
       "2                 1            1             1             1   \n",
       "3                 1            1             1             1   \n",
       "4                 1            1             1             1   \n",
       "5                 1            1             1             1   \n",
       "\n",
       "        address_day_since  ...  ssn_homephone_count_0_by_3  \\\n",
       "record                     ...                               \n",
       "1                   365.0  ...                         3.0   \n",
       "2                   365.0  ...                         3.0   \n",
       "3                   365.0  ...                         3.0   \n",
       "4                   365.0  ...                         3.0   \n",
       "5                   365.0  ...                         3.0   \n",
       "\n",
       "        ssn_homephone_count_0_by_7  ssn_homephone_count_0_by_14  \\\n",
       "record                                                            \n",
       "1                              7.0                         14.0   \n",
       "2                              7.0                         14.0   \n",
       "3                              7.0                         14.0   \n",
       "4                              7.0                         14.0   \n",
       "5                              7.0                         14.0   \n",
       "\n",
       "        ssn_homephone_count_0_by_30  ssn_homephone_count_1_by_3  \\\n",
       "record                                                            \n",
       "1                              30.0                         3.0   \n",
       "2                              30.0                         3.0   \n",
       "3                              30.0                         3.0   \n",
       "4                              30.0                         3.0   \n",
       "5                              30.0                         3.0   \n",
       "\n",
       "        ssn_homephone_count_1_by_7  ssn_homephone_count_1_by_14  \\\n",
       "record                                                            \n",
       "1                              7.0                         14.0   \n",
       "2                              7.0                         14.0   \n",
       "3                              7.0                         14.0   \n",
       "4                              7.0                         14.0   \n",
       "5                              7.0                         14.0   \n",
       "\n",
       "        ssn_homephone_count_1_by_30  ssn_name_count_0_by_3  \\\n",
       "record                                                       \n",
       "1                              30.0                    3.0   \n",
       "2                              30.0                    3.0   \n",
       "3                              30.0                    3.0   \n",
       "4                              30.0                    3.0   \n",
       "5                              30.0                    3.0   \n",
       "\n",
       "        ssn_name_count_0_by_7  \n",
       "record                         \n",
       "1                         7.0  \n",
       "2                         7.0  \n",
       "3                         7.0  \n",
       "4                         7.0  \n",
       "5                         7.0  \n",
       "\n",
       "[5 rows x 310 columns]"
      ]
     },
     "execution_count": 23,
     "metadata": {},
     "output_type": "execute_result"
    }
   ],
   "source": [
    "final.head()"
   ]
  },
  {
   "cell_type": "code",
   "execution_count": 24,
   "metadata": {},
   "outputs": [],
   "source": [
    "final.to_csv('vars_308.csv')"
   ]
  },
  {
   "cell_type": "code",
   "execution_count": 25,
   "metadata": {},
   "outputs": [
    {
     "name": "stdout",
     "output_type": "stream",
     "text": [
      "Duration:  3.19 min\n"
     ]
    }
   ],
   "source": [
    "print(f'Duration: {(timer() - start_time) / 60: 0.2f} min')"
   ]
  }
 ],
 "metadata": {
  "kernelspec": {
   "display_name": "Python 3",
   "language": "python",
   "name": "python3"
  },
  "language_info": {
   "codemirror_mode": {
    "name": "ipython",
    "version": 3
   },
   "file_extension": ".py",
   "mimetype": "text/x-python",
   "name": "python",
   "nbconvert_exporter": "python",
   "pygments_lexer": "ipython3",
   "version": "3.6.8"
  },
  "pycharm": {
   "stem_cell": {
    "cell_type": "raw",
    "metadata": {
     "collapsed": false
    },
    "source": []
   }
  }
 },
 "nbformat": 4,
 "nbformat_minor": 2
}
