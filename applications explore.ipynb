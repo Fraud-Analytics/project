{
 "cells": [
  {
   "cell_type": "code",
   "execution_count": 1,
   "metadata": {
    "pycharm": {
     "is_executing": false
    }
   },
   "outputs": [
    {
     "name": "stderr",
     "text": [
      "c:\\program files\\python37\\lib\\site-packages\\ipykernel_launcher.py:8: FutureWarning: The pandas.datetime class is deprecated and will be removed from pandas in a future version. Import from datetime module instead.\n",
      "  \n"
     ],
     "output_type": "stream"
    }
   ],
   "source": [
    "import pandas as pd\n",
    "import scipy.stats\n",
    "import numpy as np\n",
    "import datetime as dt\n",
    "import seaborn as sns\n",
    "import matplotlib.pyplot as plt\n",
    "%matplotlib inline\n",
    "start_time = pd.datetime.now()"
   ]
  },
  {
   "cell_type": "code",
   "execution_count": 2,
   "metadata": {
    "pycharm": {
     "is_executing": false
    }
   },
   "outputs": [],
   "source": [
    "data = pd.read_csv('applications data.csv')"
   ]
  },
  {
   "cell_type": "code",
   "execution_count": 3,
   "metadata": {
    "pycharm": {
     "is_executing": false
    }
   },
   "outputs": [
    {
     "data": {
      "text/plain": [
       "(1000000, 10)"
      ]
     },
     "execution_count": 3,
     "metadata": {},
     "output_type": "execute_result"
    }
   ],
   "source": [
    "data.shape"
   ]
  },
  {
   "cell_type": "code",
   "execution_count": 4,
   "metadata": {
    "pycharm": {
     "is_executing": false
    },
    "scrolled": true
   },
   "outputs": [
    {
     "data": {
      "text/html": [
       "<div>\n",
       "<style scoped>\n",
       "    .dataframe tbody tr th:only-of-type {\n",
       "        vertical-align: middle;\n",
       "    }\n",
       "\n",
       "    .dataframe tbody tr th {\n",
       "        vertical-align: top;\n",
       "    }\n",
       "\n",
       "    .dataframe thead th {\n",
       "        text-align: right;\n",
       "    }\n",
       "</style>\n",
       "<table border=\"1\" class=\"dataframe\">\n",
       "  <thead>\n",
       "    <tr style=\"text-align: right;\">\n",
       "      <th></th>\n",
       "      <th>record</th>\n",
       "      <th>date</th>\n",
       "      <th>ssn</th>\n",
       "      <th>firstname</th>\n",
       "      <th>lastname</th>\n",
       "      <th>address</th>\n",
       "      <th>zip5</th>\n",
       "      <th>dob</th>\n",
       "      <th>homephone</th>\n",
       "      <th>fraud_label</th>\n",
       "    </tr>\n",
       "  </thead>\n",
       "  <tbody>\n",
       "    <tr>\n",
       "      <th>0</th>\n",
       "      <td>1</td>\n",
       "      <td>20160101</td>\n",
       "      <td>379070012</td>\n",
       "      <td>XRRAMMTR</td>\n",
       "      <td>SMJETJMJ</td>\n",
       "      <td>6861 EUTST PL</td>\n",
       "      <td>2765</td>\n",
       "      <td>19070626</td>\n",
       "      <td>1797504115</td>\n",
       "      <td>0</td>\n",
       "    </tr>\n",
       "    <tr>\n",
       "      <th>1</th>\n",
       "      <td>2</td>\n",
       "      <td>20160101</td>\n",
       "      <td>387482503</td>\n",
       "      <td>MAMSTUJR</td>\n",
       "      <td>RTTEMRRR</td>\n",
       "      <td>7280 URASA PL</td>\n",
       "      <td>57169</td>\n",
       "      <td>19340615</td>\n",
       "      <td>4164239415</td>\n",
       "      <td>1</td>\n",
       "    </tr>\n",
       "    <tr>\n",
       "      <th>2</th>\n",
       "      <td>3</td>\n",
       "      <td>20160101</td>\n",
       "      <td>200332444</td>\n",
       "      <td>SZMMUJEZS</td>\n",
       "      <td>EUSEZRAE</td>\n",
       "      <td>5581 RSREX LN</td>\n",
       "      <td>56721</td>\n",
       "      <td>19070626</td>\n",
       "      <td>216537580</td>\n",
       "      <td>0</td>\n",
       "    </tr>\n",
       "    <tr>\n",
       "      <th>3</th>\n",
       "      <td>4</td>\n",
       "      <td>20160101</td>\n",
       "      <td>747451317</td>\n",
       "      <td>SJJZSXRSZ</td>\n",
       "      <td>ETJXTXXS</td>\n",
       "      <td>1387 UJZXJ RD</td>\n",
       "      <td>35286</td>\n",
       "      <td>19440430</td>\n",
       "      <td>132144161</td>\n",
       "      <td>0</td>\n",
       "    </tr>\n",
       "    <tr>\n",
       "      <th>4</th>\n",
       "      <td>5</td>\n",
       "      <td>20160101</td>\n",
       "      <td>24065868</td>\n",
       "      <td>SSSXUEJMS</td>\n",
       "      <td>SSUUJXUZ</td>\n",
       "      <td>279 EAASA WY</td>\n",
       "      <td>3173</td>\n",
       "      <td>19980315</td>\n",
       "      <td>6101082272</td>\n",
       "      <td>0</td>\n",
       "    </tr>\n",
       "    <tr>\n",
       "      <th>5</th>\n",
       "      <td>6</td>\n",
       "      <td>20160101</td>\n",
       "      <td>922264214</td>\n",
       "      <td>XEEJJSTER</td>\n",
       "      <td>ERJSAXA</td>\n",
       "      <td>4322 USJXU LN</td>\n",
       "      <td>8391</td>\n",
       "      <td>19480613</td>\n",
       "      <td>5742016319</td>\n",
       "      <td>0</td>\n",
       "    </tr>\n",
       "    <tr>\n",
       "      <th>6</th>\n",
       "      <td>7</td>\n",
       "      <td>20160101</td>\n",
       "      <td>415812149</td>\n",
       "      <td>XZJRJUSRR</td>\n",
       "      <td>STSMJRUM</td>\n",
       "      <td>478 EEXUM LN</td>\n",
       "      <td>41640</td>\n",
       "      <td>19640318</td>\n",
       "      <td>7697396312</td>\n",
       "      <td>0</td>\n",
       "    </tr>\n",
       "    <tr>\n",
       "      <th>7</th>\n",
       "      <td>8</td>\n",
       "      <td>20160101</td>\n",
       "      <td>373752050</td>\n",
       "      <td>EJMRRSUXR</td>\n",
       "      <td>AMTZXRU</td>\n",
       "      <td>8906 UUAJ PL</td>\n",
       "      <td>60567</td>\n",
       "      <td>19190528</td>\n",
       "      <td>2727421586</td>\n",
       "      <td>0</td>\n",
       "    </tr>\n",
       "    <tr>\n",
       "      <th>8</th>\n",
       "      <td>9</td>\n",
       "      <td>20160101</td>\n",
       "      <td>769970791</td>\n",
       "      <td>RXTSZJATS</td>\n",
       "      <td>RSXMRJME</td>\n",
       "      <td>8266 SSEAR RD</td>\n",
       "      <td>37934</td>\n",
       "      <td>19900314</td>\n",
       "      <td>5520652307</td>\n",
       "      <td>0</td>\n",
       "    </tr>\n",
       "    <tr>\n",
       "      <th>9</th>\n",
       "      <td>10</td>\n",
       "      <td>20160101</td>\n",
       "      <td>732119085</td>\n",
       "      <td>EREMTZXXA</td>\n",
       "      <td>EXMMSEXT</td>\n",
       "      <td>9166 XXSAZ PL</td>\n",
       "      <td>93751</td>\n",
       "      <td>19750127</td>\n",
       "      <td>3749451123</td>\n",
       "      <td>0</td>\n",
       "    </tr>\n",
       "  </tbody>\n",
       "</table>\n",
       "</div>"
      ],
      "text/plain": [
       "   record      date        ssn  firstname  lastname        address   zip5  \\\n",
       "0       1  20160101  379070012   XRRAMMTR  SMJETJMJ  6861 EUTST PL   2765   \n",
       "1       2  20160101  387482503   MAMSTUJR  RTTEMRRR  7280 URASA PL  57169   \n",
       "2       3  20160101  200332444  SZMMUJEZS  EUSEZRAE  5581 RSREX LN  56721   \n",
       "3       4  20160101  747451317  SJJZSXRSZ  ETJXTXXS  1387 UJZXJ RD  35286   \n",
       "4       5  20160101   24065868  SSSXUEJMS  SSUUJXUZ   279 EAASA WY   3173   \n",
       "5       6  20160101  922264214  XEEJJSTER   ERJSAXA  4322 USJXU LN   8391   \n",
       "6       7  20160101  415812149  XZJRJUSRR  STSMJRUM   478 EEXUM LN  41640   \n",
       "7       8  20160101  373752050  EJMRRSUXR   AMTZXRU   8906 UUAJ PL  60567   \n",
       "8       9  20160101  769970791  RXTSZJATS  RSXMRJME  8266 SSEAR RD  37934   \n",
       "9      10  20160101  732119085  EREMTZXXA  EXMMSEXT  9166 XXSAZ PL  93751   \n",
       "\n",
       "        dob   homephone  fraud_label  \n",
       "0  19070626  1797504115            0  \n",
       "1  19340615  4164239415            1  \n",
       "2  19070626   216537580            0  \n",
       "3  19440430   132144161            0  \n",
       "4  19980315  6101082272            0  \n",
       "5  19480613  5742016319            0  \n",
       "6  19640318  7697396312            0  \n",
       "7  19190528  2727421586            0  \n",
       "8  19900314  5520652307            0  \n",
       "9  19750127  3749451123            0  "
      ]
     },
     "execution_count": 4,
     "metadata": {},
     "output_type": "execute_result"
    }
   ],
   "source": [
    "data.head(10)"
   ]
  },
  {
   "cell_type": "code",
   "execution_count": 5,
   "metadata": {},
   "outputs": [
    {
     "data": {
      "text/plain": [
       "record          int64\n",
       "date            int64\n",
       "ssn             int64\n",
       "firstname      object\n",
       "lastname       object\n",
       "address        object\n",
       "zip5            int64\n",
       "dob             int64\n",
       "homephone       int64\n",
       "fraud_label     int64\n",
       "dtype: object"
      ]
     },
     "execution_count": 5,
     "metadata": {},
     "output_type": "execute_result"
    }
   ],
   "source": [
    "data.dtypes"
   ]
  },
  {
   "cell_type": "code",
   "execution_count": 6,
   "metadata": {},
   "outputs": [],
   "source": [
    "data['appyear'] = (data['date'] / 10000).astype('int')\n",
    "data['appmonth'] = ((data['date'] - data['appyear'] * 10000) / 100).astype('int')\n",
    "data['appday'] = data['date'] - data['appyear'] * 10000 - data['appmonth'] * 100\n",
    "data['date'] = pd.to_datetime(data.appyear*10000+data.appmonth*100+data.appday,format='%Y%m%d')\n",
    "data = data.drop(columns = ['appyear','appmonth','appday'])"
   ]
  },
  {
   "cell_type": "code",
   "execution_count": 7,
   "metadata": {},
   "outputs": [
    {
     "data": {
      "text/plain": [
       "record                  int64\n",
       "date           datetime64[ns]\n",
       "ssn                     int64\n",
       "firstname              object\n",
       "lastname               object\n",
       "address                object\n",
       "zip5                    int64\n",
       "dob                     int64\n",
       "homephone               int64\n",
       "fraud_label             int64\n",
       "dtype: object"
      ]
     },
     "execution_count": 7,
     "metadata": {},
     "output_type": "execute_result"
    }
   ],
   "source": [
    "data.dtypes"
   ]
  },
  {
   "cell_type": "code",
   "execution_count": 8,
   "metadata": {},
   "outputs": [
    {
     "data": {
      "text/html": [
       "<div>\n",
       "<style scoped>\n",
       "    .dataframe tbody tr th:only-of-type {\n",
       "        vertical-align: middle;\n",
       "    }\n",
       "\n",
       "    .dataframe tbody tr th {\n",
       "        vertical-align: top;\n",
       "    }\n",
       "\n",
       "    .dataframe thead th {\n",
       "        text-align: right;\n",
       "    }\n",
       "</style>\n",
       "<table border=\"1\" class=\"dataframe\">\n",
       "  <thead>\n",
       "    <tr style=\"text-align: right;\">\n",
       "      <th></th>\n",
       "      <th>record</th>\n",
       "      <th>date</th>\n",
       "      <th>ssn</th>\n",
       "      <th>firstname</th>\n",
       "      <th>lastname</th>\n",
       "      <th>address</th>\n",
       "      <th>zip5</th>\n",
       "      <th>dob</th>\n",
       "      <th>homephone</th>\n",
       "      <th>fraud_label</th>\n",
       "    </tr>\n",
       "  </thead>\n",
       "  <tbody>\n",
       "    <tr>\n",
       "      <th>0</th>\n",
       "      <td>1</td>\n",
       "      <td>2016-01-01</td>\n",
       "      <td>379070012</td>\n",
       "      <td>XRRAMMTR</td>\n",
       "      <td>SMJETJMJ</td>\n",
       "      <td>6861 EUTST PL</td>\n",
       "      <td>2765</td>\n",
       "      <td>19070626</td>\n",
       "      <td>1797504115</td>\n",
       "      <td>0</td>\n",
       "    </tr>\n",
       "    <tr>\n",
       "      <th>1</th>\n",
       "      <td>2</td>\n",
       "      <td>2016-01-01</td>\n",
       "      <td>387482503</td>\n",
       "      <td>MAMSTUJR</td>\n",
       "      <td>RTTEMRRR</td>\n",
       "      <td>7280 URASA PL</td>\n",
       "      <td>57169</td>\n",
       "      <td>19340615</td>\n",
       "      <td>4164239415</td>\n",
       "      <td>1</td>\n",
       "    </tr>\n",
       "    <tr>\n",
       "      <th>2</th>\n",
       "      <td>3</td>\n",
       "      <td>2016-01-01</td>\n",
       "      <td>200332444</td>\n",
       "      <td>SZMMUJEZS</td>\n",
       "      <td>EUSEZRAE</td>\n",
       "      <td>5581 RSREX LN</td>\n",
       "      <td>56721</td>\n",
       "      <td>19070626</td>\n",
       "      <td>216537580</td>\n",
       "      <td>0</td>\n",
       "    </tr>\n",
       "    <tr>\n",
       "      <th>3</th>\n",
       "      <td>4</td>\n",
       "      <td>2016-01-01</td>\n",
       "      <td>747451317</td>\n",
       "      <td>SJJZSXRSZ</td>\n",
       "      <td>ETJXTXXS</td>\n",
       "      <td>1387 UJZXJ RD</td>\n",
       "      <td>35286</td>\n",
       "      <td>19440430</td>\n",
       "      <td>132144161</td>\n",
       "      <td>0</td>\n",
       "    </tr>\n",
       "    <tr>\n",
       "      <th>4</th>\n",
       "      <td>5</td>\n",
       "      <td>2016-01-01</td>\n",
       "      <td>24065868</td>\n",
       "      <td>SSSXUEJMS</td>\n",
       "      <td>SSUUJXUZ</td>\n",
       "      <td>279 EAASA WY</td>\n",
       "      <td>3173</td>\n",
       "      <td>19980315</td>\n",
       "      <td>6101082272</td>\n",
       "      <td>0</td>\n",
       "    </tr>\n",
       "  </tbody>\n",
       "</table>\n",
       "</div>"
      ],
      "text/plain": [
       "   record       date        ssn  firstname  lastname        address   zip5  \\\n",
       "0       1 2016-01-01  379070012   XRRAMMTR  SMJETJMJ  6861 EUTST PL   2765   \n",
       "1       2 2016-01-01  387482503   MAMSTUJR  RTTEMRRR  7280 URASA PL  57169   \n",
       "2       3 2016-01-01  200332444  SZMMUJEZS  EUSEZRAE  5581 RSREX LN  56721   \n",
       "3       4 2016-01-01  747451317  SJJZSXRSZ  ETJXTXXS  1387 UJZXJ RD  35286   \n",
       "4       5 2016-01-01   24065868  SSSXUEJMS  SSUUJXUZ   279 EAASA WY   3173   \n",
       "\n",
       "        dob   homephone  fraud_label  \n",
       "0  19070626  1797504115            0  \n",
       "1  19340615  4164239415            1  \n",
       "2  19070626   216537580            0  \n",
       "3  19440430   132144161            0  \n",
       "4  19980315  6101082272            0  "
      ]
     },
     "execution_count": 8,
     "metadata": {},
     "output_type": "execute_result"
    }
   ],
   "source": [
    "data.head(5)"
   ]
  },
  {
   "cell_type": "code",
   "execution_count": 9,
   "metadata": {},
   "outputs": [
    {
     "data": {
      "text/html": [
       "<div>\n",
       "<style scoped>\n",
       "    .dataframe tbody tr th:only-of-type {\n",
       "        vertical-align: middle;\n",
       "    }\n",
       "\n",
       "    .dataframe tbody tr th {\n",
       "        vertical-align: top;\n",
       "    }\n",
       "\n",
       "    .dataframe thead th {\n",
       "        text-align: right;\n",
       "    }\n",
       "</style>\n",
       "<table border=\"1\" class=\"dataframe\">\n",
       "  <thead>\n",
       "    <tr style=\"text-align: right;\">\n",
       "      <th></th>\n",
       "      <th>record</th>\n",
       "      <th>date</th>\n",
       "      <th>ssn</th>\n",
       "      <th>firstname</th>\n",
       "      <th>lastname</th>\n",
       "      <th>address</th>\n",
       "      <th>zip5</th>\n",
       "      <th>dob</th>\n",
       "      <th>homephone</th>\n",
       "      <th>fraud_label</th>\n",
       "    </tr>\n",
       "  </thead>\n",
       "  <tbody>\n",
       "    <tr>\n",
       "      <th>999995</th>\n",
       "      <td>999996</td>\n",
       "      <td>2016-12-31</td>\n",
       "      <td>766104848</td>\n",
       "      <td>XUSAAURMZ</td>\n",
       "      <td>EJXXEXZX</td>\n",
       "      <td>8079 EJRUJ AVE</td>\n",
       "      <td>54890</td>\n",
       "      <td>19550418</td>\n",
       "      <td>8236558223</td>\n",
       "      <td>0</td>\n",
       "    </tr>\n",
       "    <tr>\n",
       "      <th>999996</th>\n",
       "      <td>999997</td>\n",
       "      <td>2016-12-31</td>\n",
       "      <td>445178058</td>\n",
       "      <td>SAAJJEMTX</td>\n",
       "      <td>UMAUETJX</td>\n",
       "      <td>4817 UMSXT AVE</td>\n",
       "      <td>74683</td>\n",
       "      <td>19150624</td>\n",
       "      <td>6790134432</td>\n",
       "      <td>0</td>\n",
       "    </tr>\n",
       "    <tr>\n",
       "      <th>999997</th>\n",
       "      <td>999998</td>\n",
       "      <td>2016-12-31</td>\n",
       "      <td>25283410</td>\n",
       "      <td>ESRXXRSUX</td>\n",
       "      <td>EUEJRJJE</td>\n",
       "      <td>7562 RJMAZ ST</td>\n",
       "      <td>86805</td>\n",
       "      <td>19880628</td>\n",
       "      <td>3997657622</td>\n",
       "      <td>0</td>\n",
       "    </tr>\n",
       "    <tr>\n",
       "      <th>999998</th>\n",
       "      <td>999999</td>\n",
       "      <td>2016-12-31</td>\n",
       "      <td>361232148</td>\n",
       "      <td>XXMZSRXMA</td>\n",
       "      <td>RSRSUJSS</td>\n",
       "      <td>3408 UZZAM WY</td>\n",
       "      <td>49183</td>\n",
       "      <td>20120302</td>\n",
       "      <td>5935293731</td>\n",
       "      <td>0</td>\n",
       "    </tr>\n",
       "    <tr>\n",
       "      <th>999999</th>\n",
       "      <td>1000000</td>\n",
       "      <td>2016-12-31</td>\n",
       "      <td>40027083</td>\n",
       "      <td>RXZXSMEZA</td>\n",
       "      <td>UTEAAZXU</td>\n",
       "      <td>112 UTTJT PL</td>\n",
       "      <td>39491</td>\n",
       "      <td>19820826</td>\n",
       "      <td>5869926905</td>\n",
       "      <td>0</td>\n",
       "    </tr>\n",
       "  </tbody>\n",
       "</table>\n",
       "</div>"
      ],
      "text/plain": [
       "         record       date        ssn  firstname  lastname         address  \\\n",
       "999995   999996 2016-12-31  766104848  XUSAAURMZ  EJXXEXZX  8079 EJRUJ AVE   \n",
       "999996   999997 2016-12-31  445178058  SAAJJEMTX  UMAUETJX  4817 UMSXT AVE   \n",
       "999997   999998 2016-12-31   25283410  ESRXXRSUX  EUEJRJJE   7562 RJMAZ ST   \n",
       "999998   999999 2016-12-31  361232148  XXMZSRXMA  RSRSUJSS   3408 UZZAM WY   \n",
       "999999  1000000 2016-12-31   40027083  RXZXSMEZA  UTEAAZXU    112 UTTJT PL   \n",
       "\n",
       "         zip5       dob   homephone  fraud_label  \n",
       "999995  54890  19550418  8236558223            0  \n",
       "999996  74683  19150624  6790134432            0  \n",
       "999997  86805  19880628  3997657622            0  \n",
       "999998  49183  20120302  5935293731            0  \n",
       "999999  39491  19820826  5869926905            0  "
      ]
     },
     "execution_count": 9,
     "metadata": {},
     "output_type": "execute_result"
    }
   ],
   "source": [
    "data.tail(5)"
   ]
  },
  {
   "cell_type": "code",
   "execution_count": 10,
   "metadata": {},
   "outputs": [
    {
     "data": {
      "text/html": [
       "<div>\n",
       "<style scoped>\n",
       "    .dataframe tbody tr th:only-of-type {\n",
       "        vertical-align: middle;\n",
       "    }\n",
       "\n",
       "    .dataframe tbody tr th {\n",
       "        vertical-align: top;\n",
       "    }\n",
       "\n",
       "    .dataframe thead th {\n",
       "        text-align: right;\n",
       "    }\n",
       "</style>\n",
       "<table border=\"1\" class=\"dataframe\">\n",
       "  <thead>\n",
       "    <tr style=\"text-align: right;\">\n",
       "      <th></th>\n",
       "      <th>record</th>\n",
       "      <th>ssn</th>\n",
       "      <th>zip5</th>\n",
       "      <th>dob</th>\n",
       "      <th>homephone</th>\n",
       "      <th>fraud_label</th>\n",
       "    </tr>\n",
       "  </thead>\n",
       "  <tbody>\n",
       "    <tr>\n",
       "      <th>count</th>\n",
       "      <td>1000000.000000</td>\n",
       "      <td>1.000000e+06</td>\n",
       "      <td>1000000.000000</td>\n",
       "      <td>1.000000e+06</td>\n",
       "      <td>1.000000e+06</td>\n",
       "      <td>1000000.000000</td>\n",
       "    </tr>\n",
       "    <tr>\n",
       "      <th>mean</th>\n",
       "      <td>500000.500000</td>\n",
       "      <td>5.083415e+08</td>\n",
       "      <td>50073.333143</td>\n",
       "      <td>1.951725e+07</td>\n",
       "      <td>5.368716e+09</td>\n",
       "      <td>0.014393</td>\n",
       "    </tr>\n",
       "    <tr>\n",
       "      <th>std</th>\n",
       "      <td>288675.278932</td>\n",
       "      <td>2.934864e+08</td>\n",
       "      <td>28915.921546</td>\n",
       "      <td>3.568872e+05</td>\n",
       "      <td>3.082161e+09</td>\n",
       "      <td>0.119104</td>\n",
       "    </tr>\n",
       "    <tr>\n",
       "      <th>min</th>\n",
       "      <td>1.000000</td>\n",
       "      <td>3.600000e+01</td>\n",
       "      <td>2.000000</td>\n",
       "      <td>1.900010e+07</td>\n",
       "      <td>5.937990e+05</td>\n",
       "      <td>0.000000</td>\n",
       "    </tr>\n",
       "    <tr>\n",
       "      <th>25%</th>\n",
       "      <td>250000.750000</td>\n",
       "      <td>2.542176e+08</td>\n",
       "      <td>24992.000000</td>\n",
       "      <td>1.916092e+07</td>\n",
       "      <td>2.677134e+09</td>\n",
       "      <td>0.000000</td>\n",
       "    </tr>\n",
       "    <tr>\n",
       "      <th>50%</th>\n",
       "      <td>500000.500000</td>\n",
       "      <td>5.088144e+08</td>\n",
       "      <td>50492.000000</td>\n",
       "      <td>1.950090e+07</td>\n",
       "      <td>5.399910e+09</td>\n",
       "      <td>0.000000</td>\n",
       "    </tr>\n",
       "    <tr>\n",
       "      <th>75%</th>\n",
       "      <td>750000.250000</td>\n",
       "      <td>7.630924e+08</td>\n",
       "      <td>74496.000000</td>\n",
       "      <td>1.983032e+07</td>\n",
       "      <td>8.109241e+09</td>\n",
       "      <td>0.000000</td>\n",
       "    </tr>\n",
       "    <tr>\n",
       "      <th>max</th>\n",
       "      <td>1000000.000000</td>\n",
       "      <td>1.000000e+09</td>\n",
       "      <td>99999.000000</td>\n",
       "      <td>2.016103e+07</td>\n",
       "      <td>1.000000e+10</td>\n",
       "      <td>1.000000</td>\n",
       "    </tr>\n",
       "  </tbody>\n",
       "</table>\n",
       "</div>"
      ],
      "text/plain": [
       "               record           ssn            zip5           dob  \\\n",
       "count  1000000.000000  1.000000e+06  1000000.000000  1.000000e+06   \n",
       "mean    500000.500000  5.083415e+08    50073.333143  1.951725e+07   \n",
       "std     288675.278932  2.934864e+08    28915.921546  3.568872e+05   \n",
       "min          1.000000  3.600000e+01        2.000000  1.900010e+07   \n",
       "25%     250000.750000  2.542176e+08    24992.000000  1.916092e+07   \n",
       "50%     500000.500000  5.088144e+08    50492.000000  1.950090e+07   \n",
       "75%     750000.250000  7.630924e+08    74496.000000  1.983032e+07   \n",
       "max    1000000.000000  1.000000e+09    99999.000000  2.016103e+07   \n",
       "\n",
       "          homephone     fraud_label  \n",
       "count  1.000000e+06  1000000.000000  \n",
       "mean   5.368716e+09        0.014393  \n",
       "std    3.082161e+09        0.119104  \n",
       "min    5.937990e+05        0.000000  \n",
       "25%    2.677134e+09        0.000000  \n",
       "50%    5.399910e+09        0.000000  \n",
       "75%    8.109241e+09        0.000000  \n",
       "max    1.000000e+10        1.000000  "
      ]
     },
     "execution_count": 10,
     "metadata": {},
     "output_type": "execute_result"
    }
   ],
   "source": [
    "data.describe()"
   ]
  },
  {
   "cell_type": "code",
   "execution_count": 11,
   "metadata": {},
   "outputs": [
    {
     "data": {
      "text/plain": [
       "record         1000000\n",
       "date           1000000\n",
       "ssn            1000000\n",
       "firstname      1000000\n",
       "lastname       1000000\n",
       "address        1000000\n",
       "zip5           1000000\n",
       "dob            1000000\n",
       "homephone      1000000\n",
       "fraud_label    1000000\n",
       "dtype: int64"
      ]
     },
     "execution_count": 11,
     "metadata": {},
     "output_type": "execute_result"
    }
   ],
   "source": [
    "data.count()"
   ]
  },
  {
   "cell_type": "code",
   "execution_count": 12,
   "metadata": {},
   "outputs": [
    {
     "data": {
      "text/plain": [
       "14393"
      ]
     },
     "execution_count": 12,
     "metadata": {},
     "output_type": "execute_result"
    }
   ],
   "source": [
    "data['fraud_label'].sum()"
   ]
  },
  {
   "cell_type": "code",
   "execution_count": 13,
   "metadata": {
    "scrolled": true
   },
   "outputs": [
    {
     "name": "stdout",
     "output_type": "stream",
     "text": [
      "985607\n"
     ]
    }
   ],
   "source": [
    "print(len(data[data['fraud_label'] == 0]))"
   ]
  },
  {
   "cell_type": "code",
   "execution_count": 14,
   "metadata": {
    "scrolled": true
   },
   "outputs": [
    {
     "name": "stdout",
     "output_type": "stream",
     "text": [
      "14393\n"
     ]
    }
   ],
   "source": [
    "print(len(data[data['fraud_label'] != 0]))"
   ]
  },
  {
   "cell_type": "code",
   "execution_count": 15,
   "metadata": {
    "scrolled": true
   },
   "outputs": [
    {
     "name": "stdout",
     "output_type": "stream",
     "text": [
      "1000000\n"
     ]
    }
   ],
   "source": [
    "print(len(data[data['fraud_label'] == 0]) + len(data[data['fraud_label'] != 0]))"
   ]
  },
  {
   "cell_type": "code",
   "execution_count": 16,
   "metadata": {},
   "outputs": [],
   "source": [
    "goods = data[data['fraud_label'] == 0]\n",
    "bads = data[data['fraud_label'] == 1]"
   ]
  },
  {
   "cell_type": "code",
   "execution_count": 17,
   "metadata": {},
   "outputs": [
    {
     "name": "stdout",
     "output_type": "stream",
     "text": [
      "1000000\n"
     ]
    }
   ],
   "source": [
    "numrecords = len(data)\n",
    "print(numrecords)"
   ]
  },
  {
   "cell_type": "code",
   "execution_count": 18,
   "metadata": {},
   "outputs": [
    {
     "name": "stdout",
     "output_type": "stream",
     "text": [
      "985607\n"
     ]
    }
   ],
   "source": [
    "print(len(goods))"
   ]
  },
  {
   "cell_type": "code",
   "execution_count": 19,
   "metadata": {},
   "outputs": [
    {
     "name": "stdout",
     "output_type": "stream",
     "text": [
      "14393\n"
     ]
    }
   ],
   "source": [
    "print(len(bads))"
   ]
  },
  {
   "cell_type": "code",
   "execution_count": 20,
   "metadata": {},
   "outputs": [
    {
     "name": "stdout",
     "output_type": "stream",
     "text": [
      "1000000\n"
     ]
    }
   ],
   "source": [
    "print(len(goods) + len(bads))"
   ]
  },
  {
   "cell_type": "code",
   "execution_count": 21,
   "metadata": {},
   "outputs": [
    {
     "data": {
      "text/plain": [
       "1000000"
      ]
     },
     "execution_count": 21,
     "metadata": {},
     "output_type": "execute_result"
    }
   ],
   "source": [
    "len(data['record'].unique())"
   ]
  },
  {
   "cell_type": "code",
   "execution_count": 22,
   "metadata": {},
   "outputs": [
    {
     "data": {
      "text/plain": [
       "100.0"
      ]
     },
     "execution_count": 22,
     "metadata": {},
     "output_type": "execute_result"
    }
   ],
   "source": [
    "len(data['record']) * 100 / numrecords"
   ]
  },
  {
   "cell_type": "code",
   "execution_count": 23,
   "metadata": {},
   "outputs": [
    {
     "data": {
      "text/plain": [
       "100.0"
      ]
     },
     "execution_count": 23,
     "metadata": {},
     "output_type": "execute_result"
    }
   ],
   "source": [
    "len(data['date']) * 100 / numrecords"
   ]
  },
  {
   "cell_type": "code",
   "execution_count": 24,
   "metadata": {},
   "outputs": [
    {
     "data": {
      "text/plain": [
       "365"
      ]
     },
     "execution_count": 24,
     "metadata": {},
     "output_type": "execute_result"
    }
   ],
   "source": [
    "len(data['date'].unique())"
   ]
  },
  {
   "cell_type": "code",
   "execution_count": 25,
   "metadata": {},
   "outputs": [
    {
     "data": {
      "text/html": [
       "<div>\n",
       "<style scoped>\n",
       "    .dataframe tbody tr th:only-of-type {\n",
       "        vertical-align: middle;\n",
       "    }\n",
       "\n",
       "    .dataframe tbody tr th {\n",
       "        vertical-align: top;\n",
       "    }\n",
       "\n",
       "    .dataframe thead th {\n",
       "        text-align: right;\n",
       "    }\n",
       "</style>\n",
       "<table border=\"1\" class=\"dataframe\">\n",
       "  <thead>\n",
       "    <tr style=\"text-align: right;\">\n",
       "      <th></th>\n",
       "      <th>record</th>\n",
       "      <th>ssn</th>\n",
       "      <th>firstname</th>\n",
       "      <th>lastname</th>\n",
       "      <th>address</th>\n",
       "      <th>zip5</th>\n",
       "      <th>dob</th>\n",
       "      <th>homephone</th>\n",
       "      <th>fraud_label</th>\n",
       "    </tr>\n",
       "    <tr>\n",
       "      <th>date</th>\n",
       "      <th></th>\n",
       "      <th></th>\n",
       "      <th></th>\n",
       "      <th></th>\n",
       "      <th></th>\n",
       "      <th></th>\n",
       "      <th></th>\n",
       "      <th></th>\n",
       "      <th></th>\n",
       "    </tr>\n",
       "  </thead>\n",
       "  <tbody>\n",
       "    <tr>\n",
       "      <th>2016-01-01</th>\n",
       "      <td>2840</td>\n",
       "      <td>2840</td>\n",
       "      <td>2840</td>\n",
       "      <td>2840</td>\n",
       "      <td>2840</td>\n",
       "      <td>2840</td>\n",
       "      <td>2840</td>\n",
       "      <td>2840</td>\n",
       "      <td>2840</td>\n",
       "    </tr>\n",
       "    <tr>\n",
       "      <th>2016-01-02</th>\n",
       "      <td>2719</td>\n",
       "      <td>2719</td>\n",
       "      <td>2719</td>\n",
       "      <td>2719</td>\n",
       "      <td>2719</td>\n",
       "      <td>2719</td>\n",
       "      <td>2719</td>\n",
       "      <td>2719</td>\n",
       "      <td>2719</td>\n",
       "    </tr>\n",
       "    <tr>\n",
       "      <th>2016-01-03</th>\n",
       "      <td>2764</td>\n",
       "      <td>2764</td>\n",
       "      <td>2764</td>\n",
       "      <td>2764</td>\n",
       "      <td>2764</td>\n",
       "      <td>2764</td>\n",
       "      <td>2764</td>\n",
       "      <td>2764</td>\n",
       "      <td>2764</td>\n",
       "    </tr>\n",
       "    <tr>\n",
       "      <th>2016-01-04</th>\n",
       "      <td>2757</td>\n",
       "      <td>2757</td>\n",
       "      <td>2757</td>\n",
       "      <td>2757</td>\n",
       "      <td>2757</td>\n",
       "      <td>2757</td>\n",
       "      <td>2757</td>\n",
       "      <td>2757</td>\n",
       "      <td>2757</td>\n",
       "    </tr>\n",
       "    <tr>\n",
       "      <th>2016-01-05</th>\n",
       "      <td>2732</td>\n",
       "      <td>2732</td>\n",
       "      <td>2732</td>\n",
       "      <td>2732</td>\n",
       "      <td>2732</td>\n",
       "      <td>2732</td>\n",
       "      <td>2732</td>\n",
       "      <td>2732</td>\n",
       "      <td>2732</td>\n",
       "    </tr>\n",
       "    <tr>\n",
       "      <th>2016-01-06</th>\n",
       "      <td>2682</td>\n",
       "      <td>2682</td>\n",
       "      <td>2682</td>\n",
       "      <td>2682</td>\n",
       "      <td>2682</td>\n",
       "      <td>2682</td>\n",
       "      <td>2682</td>\n",
       "      <td>2682</td>\n",
       "      <td>2682</td>\n",
       "    </tr>\n",
       "    <tr>\n",
       "      <th>2016-01-07</th>\n",
       "      <td>2782</td>\n",
       "      <td>2782</td>\n",
       "      <td>2782</td>\n",
       "      <td>2782</td>\n",
       "      <td>2782</td>\n",
       "      <td>2782</td>\n",
       "      <td>2782</td>\n",
       "      <td>2782</td>\n",
       "      <td>2782</td>\n",
       "    </tr>\n",
       "    <tr>\n",
       "      <th>2016-01-08</th>\n",
       "      <td>2809</td>\n",
       "      <td>2809</td>\n",
       "      <td>2809</td>\n",
       "      <td>2809</td>\n",
       "      <td>2809</td>\n",
       "      <td>2809</td>\n",
       "      <td>2809</td>\n",
       "      <td>2809</td>\n",
       "      <td>2809</td>\n",
       "    </tr>\n",
       "    <tr>\n",
       "      <th>2016-01-09</th>\n",
       "      <td>2779</td>\n",
       "      <td>2779</td>\n",
       "      <td>2779</td>\n",
       "      <td>2779</td>\n",
       "      <td>2779</td>\n",
       "      <td>2779</td>\n",
       "      <td>2779</td>\n",
       "      <td>2779</td>\n",
       "      <td>2779</td>\n",
       "    </tr>\n",
       "    <tr>\n",
       "      <th>2016-01-10</th>\n",
       "      <td>2758</td>\n",
       "      <td>2758</td>\n",
       "      <td>2758</td>\n",
       "      <td>2758</td>\n",
       "      <td>2758</td>\n",
       "      <td>2758</td>\n",
       "      <td>2758</td>\n",
       "      <td>2758</td>\n",
       "      <td>2758</td>\n",
       "    </tr>\n",
       "  </tbody>\n",
       "</table>\n",
       "</div>"
      ],
      "text/plain": [
       "            record   ssn  firstname  lastname  address  zip5   dob  homephone  \\\n",
       "date                                                                            \n",
       "2016-01-01    2840  2840       2840      2840     2840  2840  2840       2840   \n",
       "2016-01-02    2719  2719       2719      2719     2719  2719  2719       2719   \n",
       "2016-01-03    2764  2764       2764      2764     2764  2764  2764       2764   \n",
       "2016-01-04    2757  2757       2757      2757     2757  2757  2757       2757   \n",
       "2016-01-05    2732  2732       2732      2732     2732  2732  2732       2732   \n",
       "2016-01-06    2682  2682       2682      2682     2682  2682  2682       2682   \n",
       "2016-01-07    2782  2782       2782      2782     2782  2782  2782       2782   \n",
       "2016-01-08    2809  2809       2809      2809     2809  2809  2809       2809   \n",
       "2016-01-09    2779  2779       2779      2779     2779  2779  2779       2779   \n",
       "2016-01-10    2758  2758       2758      2758     2758  2758  2758       2758   \n",
       "\n",
       "            fraud_label  \n",
       "date                     \n",
       "2016-01-01         2840  \n",
       "2016-01-02         2719  \n",
       "2016-01-03         2764  \n",
       "2016-01-04         2757  \n",
       "2016-01-05         2732  \n",
       "2016-01-06         2682  \n",
       "2016-01-07         2782  \n",
       "2016-01-08         2809  \n",
       "2016-01-09         2779  \n",
       "2016-01-10         2758  "
      ]
     },
     "execution_count": 25,
     "metadata": {},
     "output_type": "execute_result"
    }
   ],
   "source": [
    "count_day = data.groupby('date').count()\n",
    "count_day.head(10)"
   ]
  },
  {
   "cell_type": "code",
   "execution_count": 26,
   "metadata": {
    "scrolled": false
   },
   "outputs": [
    {
     "data": {
      "text/plain": [
       "<matplotlib.axes._subplots.AxesSubplot at 0x18486862448>"
      ]
     },
     "execution_count": 26,
     "metadata": {},
     "output_type": "execute_result"
    },
    {
     "data": {
      "image/png": "[encoded data removed]",
      "text/plain": [
       "<Figure size 432x288 with 1 Axes>"
      ]
     },
     "metadata": {
      "needs_background": "light"
     },
     "output_type": "display_data"
    }
   ],
   "source": [
    "daily_count = data.assign(apps = np.ones(numrecords)).set_index(data['date']).resample(dt.timedelta(days = 1))\\\n",
    "    .count().apps\n",
    "daily_count.plot(title = 'Daily Applications')"
   ]
  },
  {
   "cell_type": "code",
   "execution_count": 27,
   "metadata": {},
   "outputs": [
    {
     "data": {
      "text/plain": [
       "date\n",
       "2016-01-01    2840\n",
       "2016-01-02    2719\n",
       "2016-01-03    2764\n",
       "2016-01-04    2757\n",
       "2016-01-05    2732\n",
       "2016-01-06    2682\n",
       "2016-01-07    2782\n",
       "2016-01-08    2809\n",
       "2016-01-09    2779\n",
       "2016-01-10    2758\n",
       "2016-01-11    2698\n",
       "2016-01-12    2767\n",
       "2016-01-13    2667\n",
       "2016-01-14    2757\n",
       "2016-01-15    2728\n",
       "2016-01-16    2819\n",
       "2016-01-17    2691\n",
       "2016-01-18    2740\n",
       "2016-01-19    2739\n",
       "2016-01-20    2807\n",
       "2016-01-21    2748\n",
       "2016-01-22    2663\n",
       "2016-01-23    2710\n",
       "2016-01-24    2684\n",
       "2016-01-25    2766\n",
       "2016-01-26    2688\n",
       "2016-01-27    2760\n",
       "2016-01-28    2797\n",
       "2016-01-29    2785\n",
       "2016-01-30    2810\n",
       "              ... \n",
       "2016-02-10    2753\n",
       "2016-02-11    2803\n",
       "2016-02-12    2689\n",
       "2016-02-13    2779\n",
       "2016-02-14    2687\n",
       "2016-02-15    2678\n",
       "2016-02-16    2750\n",
       "2016-02-17    2753\n",
       "2016-02-18    2745\n",
       "2016-02-19    2701\n",
       "2016-02-20    2722\n",
       "2016-02-21    2723\n",
       "2016-02-22    2698\n",
       "2016-02-23    2766\n",
       "2016-02-24    2723\n",
       "2016-02-25    2734\n",
       "2016-02-26    2733\n",
       "2016-02-27    2789\n",
       "2016-02-28    2789\n",
       "2016-02-29       0\n",
       "2016-03-01    2765\n",
       "2016-03-02    2760\n",
       "2016-03-03    2695\n",
       "2016-03-04    2861\n",
       "2016-03-05    2722\n",
       "2016-03-06    2730\n",
       "2016-03-07    2831\n",
       "2016-03-08    2798\n",
       "2016-03-09    2738\n",
       "2016-03-10    2643\n",
       "Freq: D, Name: apps, Length: 70, dtype: int64"
      ]
     },
     "execution_count": 27,
     "metadata": {},
     "output_type": "execute_result"
    }
   ],
   "source": [
    "daily_count.head(70)"
   ]
  },
  {
   "cell_type": "code",
   "execution_count": 28,
   "metadata": {},
   "outputs": [
    {
     "data": {
      "text/plain": [
       "date\n",
       "2016-01-01    2840\n",
       "2016-01-02    2719\n",
       "2016-01-03    2764\n",
       "2016-01-04    2757\n",
       "2016-01-05    2732\n",
       "2016-01-06    2682\n",
       "2016-01-07    2782\n",
       "2016-01-08    2809\n",
       "2016-01-09    2779\n",
       "2016-01-10    2758\n",
       "2016-01-11    2698\n",
       "2016-01-12    2767\n",
       "2016-01-13    2667\n",
       "2016-01-14    2757\n",
       "2016-01-15    2728\n",
       "2016-01-16    2819\n",
       "2016-01-17    2691\n",
       "2016-01-18    2740\n",
       "2016-01-19    2739\n",
       "2016-01-20    2807\n",
       "2016-01-21    2748\n",
       "2016-01-22    2663\n",
       "2016-01-23    2710\n",
       "2016-01-24    2684\n",
       "2016-01-25    2766\n",
       "2016-01-26    2688\n",
       "2016-01-27    2760\n",
       "2016-01-28    2797\n",
       "2016-01-29    2785\n",
       "2016-01-30    2810\n",
       "              ... \n",
       "2016-02-10    2753\n",
       "2016-02-11    2803\n",
       "2016-02-12    2689\n",
       "2016-02-13    2779\n",
       "2016-02-14    2687\n",
       "2016-02-15    2678\n",
       "2016-02-16    2750\n",
       "2016-02-17    2753\n",
       "2016-02-18    2745\n",
       "2016-02-19    2701\n",
       "2016-02-20    2722\n",
       "2016-02-21    2723\n",
       "2016-02-22    2698\n",
       "2016-02-23    2766\n",
       "2016-02-24    2723\n",
       "2016-02-25    2734\n",
       "2016-02-26    2733\n",
       "2016-02-27    2789\n",
       "2016-02-28    2789\n",
       "2016-02-29    2789\n",
       "2016-03-01    2765\n",
       "2016-03-02    2760\n",
       "2016-03-03    2695\n",
       "2016-03-04    2861\n",
       "2016-03-05    2722\n",
       "2016-03-06    2730\n",
       "2016-03-07    2831\n",
       "2016-03-08    2798\n",
       "2016-03-09    2738\n",
       "2016-03-10    2643\n",
       "Freq: D, Name: apps, Length: 70, dtype: int64"
      ]
     },
     "execution_count": 28,
     "metadata": {},
     "output_type": "execute_result"
    }
   ],
   "source": [
    "daily_count['2016-02-29'] = daily_count['2016-02-28']\n",
    "daily_count.head(70)"
   ]
  },
  {
   "cell_type": "code",
   "execution_count": 29,
   "metadata": {},
   "outputs": [
    {
     "data": {
      "text/plain": [
       "<matplotlib.axes._subplots.AxesSubplot at 0x1a1a0fbf60>"
      ]
     },
     "execution_count": 29,
     "metadata": {},
     "output_type": "execute_result"
    },
    {
     "data": {
      "image/png": "[encoded data removed]",
      "text/plain": [
       "<Figure size 432x288 with 1 Axes>"
      ]
     },
     "metadata": {
      "needs_background": "light"
     },
     "output_type": "display_data"
    }
   ],
   "source": [
    "daily_count.plot(title = 'Daily Applications')"
   ]
  },
  {
   "cell_type": "code",
   "execution_count": 30,
   "metadata": {},
   "outputs": [
    {
     "data": {
      "text/plain": [
       "<matplotlib.axes._subplots.AxesSubplot at 0x1a18eac0b8>"
      ]
     },
     "execution_count": 30,
     "metadata": {},
     "output_type": "execute_result"
    },
    {
     "data": {
      "image/png": "[encoded data removed]",
      "text/plain": [
       "<Figure size 432x288 with 1 Axes>"
      ]
     },
     "metadata": {
      "needs_background": "light"
     },
     "output_type": "display_data"
    }
   ],
   "source": [
    "ngoods = len(goods)\n",
    "nbads = len(bads)\n",
    "goods_series = goods.assign(apps = np.ones(ngoods)).set_index(goods['date']).resample(dt.timedelta(days = 1)).count().apps\n",
    "norm_goods_series = goods_series / ngoods\n",
    "norm_goods_series.plot(title = 'Daily Applicationss', color = 'green')\n",
    "bads_series = bads.assign(apps = np.ones(nbads)).set_index(bads['date']).resample(dt.timedelta(days = 1)).count().apps\n",
    "norm_bads_series = bads_series / nbads\n",
    "norm_bads_series.plot(color = 'red')"
   ]
  },
  {
   "cell_type": "code",
   "execution_count": 31,
   "metadata": {},
   "outputs": [
    {
     "data": {
      "text/plain": [
       "<matplotlib.axes._subplots.AxesSubplot at 0x1a18e9d7f0>"
      ]
     },
     "execution_count": 31,
     "metadata": {},
     "output_type": "execute_result"
    },
    {
     "data": {
      "image/png": "[encoded data removed]",
      "text/plain": [
       "<Figure size 432x288 with 1 Axes>"
      ]
     },
     "metadata": {
      "needs_background": "light"
     },
     "output_type": "display_data"
    }
   ],
   "source": [
    "weekly_applications = data.assign(apps = np.ones(numrecords)).set_index(data['date']).resample(dt.timedelta(days = 7))\\\n",
    "    .count().apps\n",
    "weekly_applications.plot(title = 'Weekly Applications')"
   ]
  },
  {
   "cell_type": "code",
   "execution_count": 32,
   "metadata": {},
   "outputs": [
    {
     "data": {
      "text/plain": [
       "date\n",
       "2016-01-01    19276\n",
       "2016-01-08    19235\n",
       "2016-01-15    19272\n",
       "2016-01-22    19068\n",
       "2016-01-29    19363\n",
       "2016-02-05    19318\n",
       "2016-02-12    19081\n",
       "2016-02-19    19067\n",
       "2016-02-26    16531\n",
       "2016-03-04    19323\n",
       "2016-03-11    19029\n",
       "2016-03-18    19118\n",
       "2016-03-25    19181\n",
       "2016-04-01    19306\n",
       "2016-04-08    19052\n",
       "2016-04-15    19508\n",
       "2016-04-22    19254\n",
       "2016-04-29    19217\n",
       "2016-05-06    19284\n",
       "2016-05-13    19143\n",
       "2016-05-20    19204\n",
       "2016-05-27    19057\n",
       "2016-06-03    19463\n",
       "2016-06-10    19000\n",
       "2016-06-17    19151\n",
       "2016-06-24    18994\n",
       "2016-07-01    18950\n",
       "2016-07-08    19160\n",
       "2016-07-15    19351\n",
       "2016-07-22    19255\n",
       "2016-07-29    19233\n",
       "2016-08-05    19108\n",
       "2016-08-12    19258\n",
       "2016-08-19    19116\n",
       "2016-08-26    19080\n",
       "2016-09-02    19362\n",
       "2016-09-09    19082\n",
       "2016-09-16    19169\n",
       "2016-09-23    19292\n",
       "2016-09-30    19272\n",
       "2016-10-07    19067\n",
       "2016-10-14    19160\n",
       "2016-10-21    19227\n",
       "2016-10-28    19080\n",
       "2016-11-04    18896\n",
       "2016-11-11    18975\n",
       "2016-11-18    19084\n",
       "2016-11-25    19196\n",
       "2016-12-02    19247\n",
       "2016-12-09    19147\n",
       "2016-12-16    18986\n",
       "2016-12-23    19254\n",
       "2016-12-30     5498\n",
       "Freq: 7D, Name: apps, dtype: int64"
      ]
     },
     "execution_count": 32,
     "metadata": {},
     "output_type": "execute_result"
    }
   ],
   "source": [
    "weekly_applications.head(60)"
   ]
  },
  {
   "cell_type": "code",
   "execution_count": 33,
   "metadata": {},
   "outputs": [
    {
     "data": {
      "text/plain": [
       "<matplotlib.axes._subplots.AxesSubplot at 0x1a1910fd30>"
      ]
     },
     "execution_count": 33,
     "metadata": {},
     "output_type": "execute_result"
    },
    {
     "data": {
      "image/png": "[encoded data removed]",
      "text/plain": [
       "<Figure size 432x288 with 1 Axes>"
      ]
     },
     "metadata": {
      "needs_background": "light"
     },
     "output_type": "display_data"
    }
   ],
   "source": [
    "weekly_applications['2016-02-26'] = weekly_applications['2016-02-19']\n",
    "weekly_applications['2016-12-30'] = weekly_applications['2016-12-23']\n",
    "weekly_applications.plot(title = 'Weekly Applications')"
   ]
  },
  {
   "cell_type": "code",
   "execution_count": 34,
   "metadata": {},
   "outputs": [
    {
     "data": {
      "text/plain": [
       "<matplotlib.axes._subplots.AxesSubplot at 0x1a19d11358>"
      ]
     },
     "execution_count": 34,
     "metadata": {},
     "output_type": "execute_result"
    },
    {
     "data": {
      "image/png": "[encoded data removed]",
      "text/plain": [
       "<Figure size 432x288 with 1 Axes>"
      ]
     },
     "metadata": {
      "needs_background": "light"
     },
     "output_type": "display_data"
    }
   ],
   "source": [
    "goods_series = goods.assign(apps = np.ones(ngoods)).set_index(goods['date']).resample(dt.timedelta(days = 7)).count().apps\n",
    "norm_goods_series = goods_series / ngoods\n",
    "norm_goods_series.plot(title = 'Weeky Applications', color = 'green')\n",
    "bads_series = bads.assign(apps = np.ones(nbads)).set_index(bads['date']).resample(dt.timedelta(days = 7)).count().apps\n",
    "norm_bads_series = bads_series / nbads\n",
    "norm_bads_series.plot(color = 'red')"
   ]
  },
  {
   "cell_type": "code",
   "execution_count": 35,
   "metadata": {},
   "outputs": [
    {
     "data": {
      "text/plain": [
       "100.0"
      ]
     },
     "execution_count": 35,
     "metadata": {},
     "output_type": "execute_result"
    }
   ],
   "source": [
    "len(data['ssn']) * 100 / numrecords"
   ]
  },
  {
   "cell_type": "code",
   "execution_count": 36,
   "metadata": {},
   "outputs": [
    {
     "data": {
      "text/plain": [
       "835819"
      ]
     },
     "execution_count": 36,
     "metadata": {},
     "output_type": "execute_result"
    }
   ],
   "source": [
    "len(data['ssn'].unique())"
   ]
  },
  {
   "cell_type": "code",
   "execution_count": 37,
   "metadata": {},
   "outputs": [
    {
     "data": {
      "text/plain": [
       "999999999    16935\n",
       "938972725      114\n",
       "810776805       81\n",
       "829352390       74\n",
       "473311863       44\n",
       "165764866       34\n",
       "189622157       30\n",
       "295308935       30\n",
       "588726212       29\n",
       "163830210       29\n",
       "687424410       28\n",
       "826488428       25\n",
       "457346566       24\n",
       "77441357        24\n",
       "901493436       24\n",
       "407447121       24\n",
       "325064391       23\n",
       "258312431       23\n",
       "256440495       23\n",
       "406203526       23\n",
       "176836012       22\n",
       "108231635       22\n",
       "118692079       22\n",
       "907534928       22\n",
       "849295926       21\n",
       "727200669       21\n",
       "127072438       21\n",
       "205926169       21\n",
       "936716159       21\n",
       "365449201       21\n",
       "             ...  \n",
       "555709770        1\n",
       "886488129        1\n",
       "786443285        1\n",
       "280300599        1\n",
       "198509622        1\n",
       "517282869        1\n",
       "556508844        1\n",
       "767001702        1\n",
       "869786730        1\n",
       "332917867        1\n",
       "370179225        1\n",
       "479229080        1\n",
       "17829015         1\n",
       "32513173         1\n",
       "745542804        1\n",
       "854639758        1\n",
       "240178316        1\n",
       "332438661        1\n",
       "173059203        1\n",
       "699876478        1\n",
       "815223932        1\n",
       "362245243        1\n",
       "730365755        1\n",
       "811039865        1\n",
       "437744760        1\n",
       "555160692        1\n",
       "89796279         1\n",
       "60236914         1\n",
       "232246383        1\n",
       "622713275        1\n",
       "Name: ssn, Length: 835819, dtype: int64"
      ]
     },
     "execution_count": 37,
     "metadata": {},
     "output_type": "execute_result"
    }
   ],
   "source": [
    "data['ssn'].value_counts()"
   ]
  },
  {
   "cell_type": "code",
   "execution_count": 38,
   "metadata": {
    "scrolled": true
   },
   "outputs": [
    {
     "data": {
      "image/png": "[encoded data removed]",
      "text/plain": [
       "<Figure size 432x288 with 1 Axes>"
      ]
     },
     "metadata": {},
     "output_type": "display_data"
    }
   ],
   "source": [
    "sns.set(font_scale=1.5)\n",
    "data['ssn'].value_counts().head(15).plot(kind = 'bar')\n",
    "plt.yscale('log')"
   ]
  },
  {
   "cell_type": "code",
   "execution_count": 39,
   "metadata": {},
   "outputs": [
    {
     "data": {
      "text/html": [
       "<div>\n",
       "<style scoped>\n",
       "    .dataframe tbody tr th:only-of-type {\n",
       "        vertical-align: middle;\n",
       "    }\n",
       "\n",
       "    .dataframe tbody tr th {\n",
       "        vertical-align: top;\n",
       "    }\n",
       "\n",
       "    .dataframe thead th {\n",
       "        text-align: right;\n",
       "    }\n",
       "</style>\n",
       "<table border=\"1\" class=\"dataframe\">\n",
       "  <thead>\n",
       "    <tr style=\"text-align: right;\">\n",
       "      <th></th>\n",
       "      <th>record</th>\n",
       "      <th>date</th>\n",
       "      <th>ssn</th>\n",
       "      <th>firstname</th>\n",
       "      <th>lastname</th>\n",
       "      <th>address</th>\n",
       "      <th>zip5</th>\n",
       "      <th>dob</th>\n",
       "      <th>homephone</th>\n",
       "      <th>fraud_label</th>\n",
       "    </tr>\n",
       "  </thead>\n",
       "  <tbody>\n",
       "    <tr>\n",
       "      <th>10</th>\n",
       "      <td>11</td>\n",
       "      <td>2016-01-01</td>\n",
       "      <td>999999999</td>\n",
       "      <td>UZZSMXSEE</td>\n",
       "      <td>USJZUSA</td>\n",
       "      <td>726 UMTXU ST</td>\n",
       "      <td>92129</td>\n",
       "      <td>19400126</td>\n",
       "      <td>3026547212</td>\n",
       "      <td>0</td>\n",
       "    </tr>\n",
       "    <tr>\n",
       "      <th>22</th>\n",
       "      <td>23</td>\n",
       "      <td>2016-01-01</td>\n",
       "      <td>999999999</td>\n",
       "      <td>ETXMUSZEM</td>\n",
       "      <td>UJMAMEU</td>\n",
       "      <td>3387 STRUM WY</td>\n",
       "      <td>45982</td>\n",
       "      <td>19580830</td>\n",
       "      <td>5568704443</td>\n",
       "      <td>0</td>\n",
       "    </tr>\n",
       "    <tr>\n",
       "      <th>64</th>\n",
       "      <td>65</td>\n",
       "      <td>2016-01-01</td>\n",
       "      <td>999999999</td>\n",
       "      <td>STUMMAMTS</td>\n",
       "      <td>SSJXTUJM</td>\n",
       "      <td>6393 UEJEA LN</td>\n",
       "      <td>41640</td>\n",
       "      <td>19070626</td>\n",
       "      <td>9999999999</td>\n",
       "      <td>0</td>\n",
       "    </tr>\n",
       "    <tr>\n",
       "      <th>68</th>\n",
       "      <td>69</td>\n",
       "      <td>2016-01-01</td>\n",
       "      <td>999999999</td>\n",
       "      <td>UUZAJXZMT</td>\n",
       "      <td>SRAAMZXU</td>\n",
       "      <td>2557 URRXS DR</td>\n",
       "      <td>98407</td>\n",
       "      <td>20110831</td>\n",
       "      <td>5490098836</td>\n",
       "      <td>0</td>\n",
       "    </tr>\n",
       "    <tr>\n",
       "      <th>74</th>\n",
       "      <td>75</td>\n",
       "      <td>2016-01-01</td>\n",
       "      <td>999999999</td>\n",
       "      <td>AUATMMZX</td>\n",
       "      <td>UUUTAZR</td>\n",
       "      <td>30 ETXRM ST</td>\n",
       "      <td>38402</td>\n",
       "      <td>19760625</td>\n",
       "      <td>2382673773</td>\n",
       "      <td>0</td>\n",
       "    </tr>\n",
       "    <tr>\n",
       "      <th>283</th>\n",
       "      <td>284</td>\n",
       "      <td>2016-01-01</td>\n",
       "      <td>999999999</td>\n",
       "      <td>MSJUZSMZJ</td>\n",
       "      <td>UXMTEZUT</td>\n",
       "      <td>356 UZSRE AVE</td>\n",
       "      <td>74187</td>\n",
       "      <td>19070626</td>\n",
       "      <td>153492955</td>\n",
       "      <td>0</td>\n",
       "    </tr>\n",
       "    <tr>\n",
       "      <th>380</th>\n",
       "      <td>381</td>\n",
       "      <td>2016-01-01</td>\n",
       "      <td>999999999</td>\n",
       "      <td>XRJSMRRRT</td>\n",
       "      <td>RMRXAMX</td>\n",
       "      <td>9769 UAMZJ DR</td>\n",
       "      <td>52351</td>\n",
       "      <td>19070626</td>\n",
       "      <td>3181686949</td>\n",
       "      <td>0</td>\n",
       "    </tr>\n",
       "    <tr>\n",
       "      <th>420</th>\n",
       "      <td>421</td>\n",
       "      <td>2016-01-01</td>\n",
       "      <td>999999999</td>\n",
       "      <td>XRXMTMZEZ</td>\n",
       "      <td>SZRXXJMX</td>\n",
       "      <td>5854 RXRXX PL</td>\n",
       "      <td>34957</td>\n",
       "      <td>19970721</td>\n",
       "      <td>316681200</td>\n",
       "      <td>0</td>\n",
       "    </tr>\n",
       "    <tr>\n",
       "      <th>446</th>\n",
       "      <td>447</td>\n",
       "      <td>2016-01-01</td>\n",
       "      <td>999999999</td>\n",
       "      <td>RRZUZUSX</td>\n",
       "      <td>ESZRRRAA</td>\n",
       "      <td>8970 AXME RD</td>\n",
       "      <td>48333</td>\n",
       "      <td>19110729</td>\n",
       "      <td>5350782211</td>\n",
       "      <td>0</td>\n",
       "    </tr>\n",
       "    <tr>\n",
       "      <th>468</th>\n",
       "      <td>469</td>\n",
       "      <td>2016-01-01</td>\n",
       "      <td>999999999</td>\n",
       "      <td>XETRJXESR</td>\n",
       "      <td>SSJXTUJM</td>\n",
       "      <td>6995 RMSST CT</td>\n",
       "      <td>48162</td>\n",
       "      <td>19700418</td>\n",
       "      <td>2503172355</td>\n",
       "      <td>0</td>\n",
       "    </tr>\n",
       "    <tr>\n",
       "      <th>520</th>\n",
       "      <td>521</td>\n",
       "      <td>2016-01-01</td>\n",
       "      <td>999999999</td>\n",
       "      <td>RTMMTSZRZ</td>\n",
       "      <td>MEAXJUX</td>\n",
       "      <td>8778 EMUEX AVE</td>\n",
       "      <td>15972</td>\n",
       "      <td>19070626</td>\n",
       "      <td>9999999999</td>\n",
       "      <td>0</td>\n",
       "    </tr>\n",
       "    <tr>\n",
       "      <th>607</th>\n",
       "      <td>608</td>\n",
       "      <td>2016-01-01</td>\n",
       "      <td>999999999</td>\n",
       "      <td>RTEAZZJJZ</td>\n",
       "      <td>USMATTUR</td>\n",
       "      <td>2370 EAJEZ RD</td>\n",
       "      <td>31476</td>\n",
       "      <td>20110109</td>\n",
       "      <td>9289374745</td>\n",
       "      <td>0</td>\n",
       "    </tr>\n",
       "    <tr>\n",
       "      <th>651</th>\n",
       "      <td>652</td>\n",
       "      <td>2016-01-01</td>\n",
       "      <td>999999999</td>\n",
       "      <td>REUJAUMUT</td>\n",
       "      <td>RATZUERE</td>\n",
       "      <td>7717 XRRXE DR</td>\n",
       "      <td>85203</td>\n",
       "      <td>19070626</td>\n",
       "      <td>5962238641</td>\n",
       "      <td>0</td>\n",
       "    </tr>\n",
       "    <tr>\n",
       "      <th>788</th>\n",
       "      <td>789</td>\n",
       "      <td>2016-01-01</td>\n",
       "      <td>999999999</td>\n",
       "      <td>EMMUZZEEZ</td>\n",
       "      <td>UZSEMAZJ</td>\n",
       "      <td>5370 SUTSR ST</td>\n",
       "      <td>45405</td>\n",
       "      <td>20060516</td>\n",
       "      <td>9999999999</td>\n",
       "      <td>0</td>\n",
       "    </tr>\n",
       "    <tr>\n",
       "      <th>899</th>\n",
       "      <td>900</td>\n",
       "      <td>2016-01-01</td>\n",
       "      <td>999999999</td>\n",
       "      <td>EASEXMJAT</td>\n",
       "      <td>UJUMXTZM</td>\n",
       "      <td>2007 MEM PL</td>\n",
       "      <td>52317</td>\n",
       "      <td>19000804</td>\n",
       "      <td>3301371772</td>\n",
       "      <td>0</td>\n",
       "    </tr>\n",
       "    <tr>\n",
       "      <th>907</th>\n",
       "      <td>908</td>\n",
       "      <td>2016-01-01</td>\n",
       "      <td>999999999</td>\n",
       "      <td>UXJXSXURA</td>\n",
       "      <td>RRARMXRX</td>\n",
       "      <td>4369 SZSAE BLVD</td>\n",
       "      <td>91060</td>\n",
       "      <td>20070105</td>\n",
       "      <td>9999999999</td>\n",
       "      <td>0</td>\n",
       "    </tr>\n",
       "    <tr>\n",
       "      <th>958</th>\n",
       "      <td>959</td>\n",
       "      <td>2016-01-01</td>\n",
       "      <td>999999999</td>\n",
       "      <td>XAREUJZUM</td>\n",
       "      <td>RTSUXJST</td>\n",
       "      <td>4265 EUSX ST</td>\n",
       "      <td>1804</td>\n",
       "      <td>19521002</td>\n",
       "      <td>3304391399</td>\n",
       "      <td>0</td>\n",
       "    </tr>\n",
       "    <tr>\n",
       "      <th>1000</th>\n",
       "      <td>1001</td>\n",
       "      <td>2016-01-01</td>\n",
       "      <td>999999999</td>\n",
       "      <td>ERXTXXZEX</td>\n",
       "      <td>XATTMRZ</td>\n",
       "      <td>5372 RXZTT DR</td>\n",
       "      <td>81912</td>\n",
       "      <td>20110604</td>\n",
       "      <td>4705993465</td>\n",
       "      <td>0</td>\n",
       "    </tr>\n",
       "    <tr>\n",
       "      <th>1032</th>\n",
       "      <td>1033</td>\n",
       "      <td>2016-01-01</td>\n",
       "      <td>999999999</td>\n",
       "      <td>XXXZMSJMU</td>\n",
       "      <td>RTESSAXZ</td>\n",
       "      <td>2066 EZMZJ LN</td>\n",
       "      <td>42979</td>\n",
       "      <td>19461025</td>\n",
       "      <td>2617622312</td>\n",
       "      <td>0</td>\n",
       "    </tr>\n",
       "    <tr>\n",
       "      <th>1105</th>\n",
       "      <td>1106</td>\n",
       "      <td>2016-01-01</td>\n",
       "      <td>999999999</td>\n",
       "      <td>XXUMRXASU</td>\n",
       "      <td>STJRSZRZ</td>\n",
       "      <td>6848 SAJSM AVE</td>\n",
       "      <td>4400</td>\n",
       "      <td>20100209</td>\n",
       "      <td>5603700004</td>\n",
       "      <td>0</td>\n",
       "    </tr>\n",
       "  </tbody>\n",
       "</table>\n",
       "</div>"
      ],
      "text/plain": [
       "      record       date        ssn  firstname  lastname          address  \\\n",
       "10        11 2016-01-01  999999999  UZZSMXSEE   USJZUSA     726 UMTXU ST   \n",
       "22        23 2016-01-01  999999999  ETXMUSZEM   UJMAMEU    3387 STRUM WY   \n",
       "64        65 2016-01-01  999999999  STUMMAMTS  SSJXTUJM    6393 UEJEA LN   \n",
       "68        69 2016-01-01  999999999  UUZAJXZMT  SRAAMZXU    2557 URRXS DR   \n",
       "74        75 2016-01-01  999999999   AUATMMZX   UUUTAZR      30 ETXRM ST   \n",
       "283      284 2016-01-01  999999999  MSJUZSMZJ  UXMTEZUT    356 UZSRE AVE   \n",
       "380      381 2016-01-01  999999999  XRJSMRRRT   RMRXAMX    9769 UAMZJ DR   \n",
       "420      421 2016-01-01  999999999  XRXMTMZEZ  SZRXXJMX    5854 RXRXX PL   \n",
       "446      447 2016-01-01  999999999   RRZUZUSX  ESZRRRAA     8970 AXME RD   \n",
       "468      469 2016-01-01  999999999  XETRJXESR  SSJXTUJM    6995 RMSST CT   \n",
       "520      521 2016-01-01  999999999  RTMMTSZRZ   MEAXJUX   8778 EMUEX AVE   \n",
       "607      608 2016-01-01  999999999  RTEAZZJJZ  USMATTUR    2370 EAJEZ RD   \n",
       "651      652 2016-01-01  999999999  REUJAUMUT  RATZUERE    7717 XRRXE DR   \n",
       "788      789 2016-01-01  999999999  EMMUZZEEZ  UZSEMAZJ    5370 SUTSR ST   \n",
       "899      900 2016-01-01  999999999  EASEXMJAT  UJUMXTZM      2007 MEM PL   \n",
       "907      908 2016-01-01  999999999  UXJXSXURA  RRARMXRX  4369 SZSAE BLVD   \n",
       "958      959 2016-01-01  999999999  XAREUJZUM  RTSUXJST     4265 EUSX ST   \n",
       "1000    1001 2016-01-01  999999999  ERXTXXZEX   XATTMRZ    5372 RXZTT DR   \n",
       "1032    1033 2016-01-01  999999999  XXXZMSJMU  RTESSAXZ    2066 EZMZJ LN   \n",
       "1105    1106 2016-01-01  999999999  XXUMRXASU  STJRSZRZ   6848 SAJSM AVE   \n",
       "\n",
       "       zip5       dob   homephone  fraud_label  \n",
       "10    92129  19400126  3026547212            0  \n",
       "22    45982  19580830  5568704443            0  \n",
       "64    41640  19070626  9999999999            0  \n",
       "68    98407  20110831  5490098836            0  \n",
       "74    38402  19760625  2382673773            0  \n",
       "283   74187  19070626   153492955            0  \n",
       "380   52351  19070626  3181686949            0  \n",
       "420   34957  19970721   316681200            0  \n",
       "446   48333  19110729  5350782211            0  \n",
       "468   48162  19700418  2503172355            0  \n",
       "520   15972  19070626  9999999999            0  \n",
       "607   31476  20110109  9289374745            0  \n",
       "651   85203  19070626  5962238641            0  \n",
       "788   45405  20060516  9999999999            0  \n",
       "899   52317  19000804  3301371772            0  \n",
       "907   91060  20070105  9999999999            0  \n",
       "958    1804  19521002  3304391399            0  \n",
       "1000  81912  20110604  4705993465            0  \n",
       "1032  42979  19461025  2617622312            0  \n",
       "1105   4400  20100209  5603700004            0  "
      ]
     },
     "execution_count": 39,
     "metadata": {},
     "output_type": "execute_result"
    }
   ],
   "source": [
    "data[data['ssn'] == 999999999].head(20)"
   ]
  },
  {
   "cell_type": "code",
   "execution_count": 40,
   "metadata": {},
   "outputs": [
    {
     "data": {
      "text/plain": [
       "100.0"
      ]
     },
     "execution_count": 40,
     "metadata": {},
     "output_type": "execute_result"
    }
   ],
   "source": [
    "len(data['firstname']) * 100 / numrecords"
   ]
  },
  {
   "cell_type": "code",
   "execution_count": 41,
   "metadata": {},
   "outputs": [
    {
     "data": {
      "text/plain": [
       "78136"
      ]
     },
     "execution_count": 41,
     "metadata": {},
     "output_type": "execute_result"
    }
   ],
   "source": [
    "len(data['firstname'].unique())"
   ]
  },
  {
   "cell_type": "code",
   "execution_count": 42,
   "metadata": {},
   "outputs": [
    {
     "data": {
      "text/plain": [
       "EAMSTRMT     12658\n",
       "TXEMXZZM     10297\n",
       "UXXJJZTUZ    10235\n",
       "UJSRSMUEZ     9994\n",
       "SREZUJMJU     9688\n",
       "EASEXMJAT     7576\n",
       "SSSXUEJMS     6923\n",
       "SZUASTTA      6878\n",
       "EREMTZXXA     6717\n",
       "EAXRRUMUX     5686\n",
       "USSZMRERM     5511\n",
       "MJJJZUZTE     5294\n",
       "MAUJMJTU      5022\n",
       "RSZXMZRSU     5006\n",
       "MEERZUXXU     4966\n",
       "EZTERXZRA     4716\n",
       "RTMMTSZRZ     4618\n",
       "UXZUMTRTR     4600\n",
       "UXJAUZRMM     4580\n",
       "MSRUAREMU     4145\n",
       "AAASERAT      4095\n",
       "RURXRTZAM     4070\n",
       "MRETXAZMJ     4047\n",
       "XUERJXSTU     3839\n",
       "RSXTZRTS      3822\n",
       "XXMZSRXMA     3745\n",
       "ZZURXRJS      3712\n",
       "STRTETJUZ     3637\n",
       "EMTJTUTSM     3607\n",
       "MSXSMXSEM     3570\n",
       "             ...  \n",
       "EXTAASEUE        1\n",
       "MMRMUMMX         1\n",
       "EEAXZEZZR        1\n",
       "REJZSSMSU        1\n",
       "MUTJRRXSE        1\n",
       "MEUZZXUJU        1\n",
       "ERXXTMMTJ        1\n",
       "XXJTZURUR        1\n",
       "MJETSUEUS        1\n",
       "SARSMUTSR        1\n",
       "ERMMASZTS        1\n",
       "ZMJAZJSE         1\n",
       "EUSXZSJAE        1\n",
       "SASZSSTTX        1\n",
       "EATJTMEXZ        1\n",
       "EMRRJZZJT        1\n",
       "RRRUAJRMT        1\n",
       "EEXSMTMXU        1\n",
       "UZUMSJRSS        1\n",
       "XUXEUUJXZ        1\n",
       "RJUXJATRM        1\n",
       "MJXUXRSSE        1\n",
       "MRRREJAEE        1\n",
       "UUTTXMJRX        1\n",
       "RRRAJSRXU        1\n",
       "SSTUXAZMA        1\n",
       "STZJEMMXM        1\n",
       "UTXXZTARU        1\n",
       "MUMSAUEX         1\n",
       "SJZSAMTS         1\n",
       "Name: firstname, Length: 78136, dtype: int64"
      ]
     },
     "execution_count": 42,
     "metadata": {},
     "output_type": "execute_result"
    }
   ],
   "source": [
    "data['firstname'].value_counts()"
   ]
  },
  {
   "cell_type": "code",
   "execution_count": 43,
   "metadata": {},
   "outputs": [
    {
     "data": {
      "text/plain": [
       "<matplotlib.axes._subplots.AxesSubplot at 0x1a198ca128>"
      ]
     },
     "execution_count": 43,
     "metadata": {},
     "output_type": "execute_result"
    },
    {
     "data": {
      "image/png": "[encoded data removed]",
      "text/plain": [
       "<Figure size 432x288 with 1 Axes>"
      ]
     },
     "metadata": {},
     "output_type": "display_data"
    }
   ],
   "source": [
    "data['firstname'].value_counts().head(15).plot(kind='bar')"
   ]
  },
  {
   "cell_type": "code",
   "execution_count": 44,
   "metadata": {},
   "outputs": [
    {
     "data": {
      "text/plain": [
       "100.0"
      ]
     },
     "execution_count": 44,
     "metadata": {},
     "output_type": "execute_result"
    }
   ],
   "source": [
    "len(data['lastname']) * 100 / numrecords"
   ]
  },
  {
   "cell_type": "code",
   "execution_count": 45,
   "metadata": {},
   "outputs": [
    {
     "data": {
      "text/plain": [
       "177001"
      ]
     },
     "execution_count": 45,
     "metadata": {},
     "output_type": "execute_result"
    }
   ],
   "source": [
    "len(data['lastname'].unique())"
   ]
  },
  {
   "cell_type": "code",
   "execution_count": 46,
   "metadata": {},
   "outputs": [
    {
     "data": {
      "text/plain": [
       "ERJSAXA     8580\n",
       "UMXUUUSE    7156\n",
       "UMARRMA     6832\n",
       "MEAXJUX     5492\n",
       "XMERRR      5451\n",
       "SXZXJRJT    4340\n",
       "EUSEZRAE    4173\n",
       "USMATTUR    4036\n",
       "ETERUXME    3762\n",
       "RJURSTXJ    3575\n",
       "RTZRTZAS    3559\n",
       "SRTRERMJ    3259\n",
       "RMRXAMX     3074\n",
       "RJRARJJU    3048\n",
       "SUERZXAT    3026\n",
       "EUXRMR      2757\n",
       "STXAAZZM    2594\n",
       "ETAJXSRE    2584\n",
       "EASASTEM    2535\n",
       "SMTTZJJX    2527\n",
       "MZRUMMJ     2507\n",
       "UXJEXUJR    2471\n",
       "ARUZTZM     2360\n",
       "SRRTAZTX    2309\n",
       "SJURETUX    2289\n",
       "UMUMAEZM    2275\n",
       "RMERUMUM    2056\n",
       "AJUZMTM     1989\n",
       "EMRSJTXE    1963\n",
       "RRUXSJRT    1901\n",
       "            ... \n",
       "UJRRRZSR       1\n",
       "XRJMSST        1\n",
       "RRJSZSZR       1\n",
       "UUZZEEXM       1\n",
       "STSXAJRX       1\n",
       "RTERTRZ        1\n",
       "EEUEJXXZ       1\n",
       "RUUZAJ         1\n",
       "SSXRXXST       1\n",
       "ESAJSEJ        1\n",
       "RMRTRAAX       1\n",
       "UXXZZZZ        1\n",
       "SXAUEEZJ       1\n",
       "SRTUMURU       1\n",
       "SJTMSZEU       1\n",
       "RXRRURST       1\n",
       "EXZSXRAA       1\n",
       "SESJZEJA       1\n",
       "ERESMSAX       1\n",
       "ERXZMXSJ       1\n",
       "ERESERAE       1\n",
       "UUSXJMA        1\n",
       "ZJJSXRX        1\n",
       "RATSXZMT       1\n",
       "EARUTAZM       1\n",
       "RMAXRAMU       1\n",
       "EAUMTJJE       1\n",
       "UAAAXAEU       1\n",
       "RMXUREUS       1\n",
       "SARZZUZX       1\n",
       "Name: lastname, Length: 177001, dtype: int64"
      ]
     },
     "execution_count": 46,
     "metadata": {},
     "output_type": "execute_result"
    }
   ],
   "source": [
    "data['lastname'].value_counts()"
   ]
  },
  {
   "cell_type": "code",
   "execution_count": 47,
   "metadata": {},
   "outputs": [
    {
     "data": {
      "text/plain": [
       "<matplotlib.axes._subplots.AxesSubplot at 0x1a19f10ba8>"
      ]
     },
     "execution_count": 47,
     "metadata": {},
     "output_type": "execute_result"
    },
    {
     "data": {
      "image/png": "[encoded data removed]",
      "text/plain": [
       "<Figure size 432x288 with 1 Axes>"
      ]
     },
     "metadata": {},
     "output_type": "display_data"
    }
   ],
   "source": [
    "data['lastname'].value_counts().head(15).plot(kind='bar')"
   ]
  },
  {
   "cell_type": "code",
   "execution_count": 48,
   "metadata": {},
   "outputs": [
    {
     "data": {
      "text/plain": [
       "100.0"
      ]
     },
     "execution_count": 48,
     "metadata": {},
     "output_type": "execute_result"
    }
   ],
   "source": [
    "len(data['address']) * 100 / numrecords"
   ]
  },
  {
   "cell_type": "code",
   "execution_count": 49,
   "metadata": {},
   "outputs": [
    {
     "data": {
      "text/plain": [
       "828774"
      ]
     },
     "execution_count": 49,
     "metadata": {},
     "output_type": "execute_result"
    }
   ],
   "source": [
    "len(data['address'].unique())"
   ]
  },
  {
   "cell_type": "code",
   "execution_count": 50,
   "metadata": {},
   "outputs": [
    {
     "data": {
      "text/plain": [
       "123 MAIN ST        1079\n",
       "1775 XJXE LN         97\n",
       "7433 RAEZA ST        80\n",
       "8911 MZSU DR         74\n",
       "4907 RRAAU DR        73\n",
       "426 XUAXZ BLVD       57\n",
       "3545 ARMA ST         44\n",
       "606 EZZAU WY         44\n",
       "4530 ETSMX WY        42\n",
       "4292 RUSMM LN        41\n",
       "9693 ERJZA LN        40\n",
       "3142 MZZE WY         36\n",
       "1425 UAATX ST        35\n",
       "6637 UESAX LN        35\n",
       "5600 UETAR AVE       35\n",
       "4479 RMEAZ PL        34\n",
       "2611 AXXS CT         33\n",
       "9777 RMJJU WY        32\n",
       "2026 UZJTX CT        31\n",
       "8966 UAJER AVE       31\n",
       "1693 RJTTT CT        30\n",
       "1849 XUXRE DR        30\n",
       "2105 RMTMA ST        30\n",
       "3253 EMMZX LN        30\n",
       "7651 RRMTE WY        30\n",
       "8198 UMJAJ DR        30\n",
       "7157 UEMXE PL        29\n",
       "7017 SJJUZ WY        29\n",
       "1569 XURRA RD        29\n",
       "7793 XASZE LN        28\n",
       "                   ... \n",
       "5338 UEMXM RD         1\n",
       "6617 XSRMR RD         1\n",
       "9027 XEUEM ST         1\n",
       "4160 ZTJZ ST          1\n",
       "793 EMJMR LN          1\n",
       "9057 TRMT WY          1\n",
       "655 SMXZ PL           1\n",
       "8859 AREJ PL          1\n",
       "2641 RZTZJ ST         1\n",
       "3963 RXSSX LN         1\n",
       "5412 TMEU PL          1\n",
       "7205 STUZX WY         1\n",
       "1737 SEZUZ WY         1\n",
       "8769 URRUT AVE        1\n",
       "9142 EZZTZ WY         1\n",
       "1334 UAXJM CT         1\n",
       "5020 SZAJZ CT         1\n",
       "1561 UJJXA CT         1\n",
       "301 XESZ AVE          1\n",
       "2299 ESEEZ BLVD       1\n",
       "8643 EMTJE WY         1\n",
       "7902 SEUXX LN         1\n",
       "1837 SUMTA DR         1\n",
       "9332 RUUER RD         1\n",
       "9210 RRSSE WY         1\n",
       "4135 SUUER BLVD       1\n",
       "9880 RZJEJ CT         1\n",
       "8644 RRUAT AVE        1\n",
       "9270 EZRAR RD         1\n",
       "7554 SUUZR LN         1\n",
       "Name: address, Length: 828774, dtype: int64"
      ]
     },
     "execution_count": 50,
     "metadata": {},
     "output_type": "execute_result"
    }
   ],
   "source": [
    "data['address'].value_counts()"
   ]
  },
  {
   "cell_type": "code",
   "execution_count": 51,
   "metadata": {},
   "outputs": [
    {
     "data": {
      "text/plain": [
       "<matplotlib.axes._subplots.AxesSubplot at 0x1a1944a908>"
      ]
     },
     "execution_count": 51,
     "metadata": {},
     "output_type": "execute_result"
    },
    {
     "data": {
      "image/png": "[encoded data removed]",
      "text/plain": [
       "<Figure size 432x288 with 1 Axes>"
      ]
     },
     "metadata": {},
     "output_type": "display_data"
    }
   ],
   "source": [
    "data['address'].value_counts().head(15).plot(kind='bar',logy=True)"
   ]
  },
  {
   "cell_type": "code",
   "execution_count": 52,
   "metadata": {},
   "outputs": [
    {
     "data": {
      "text/html": [
       "<div>\n",
       "<style scoped>\n",
       "    .dataframe tbody tr th:only-of-type {\n",
       "        vertical-align: middle;\n",
       "    }\n",
       "\n",
       "    .dataframe tbody tr th {\n",
       "        vertical-align: top;\n",
       "    }\n",
       "\n",
       "    .dataframe thead th {\n",
       "        text-align: right;\n",
       "    }\n",
       "</style>\n",
       "<table border=\"1\" class=\"dataframe\">\n",
       "  <thead>\n",
       "    <tr style=\"text-align: right;\">\n",
       "      <th></th>\n",
       "      <th>record</th>\n",
       "      <th>date</th>\n",
       "      <th>ssn</th>\n",
       "      <th>firstname</th>\n",
       "      <th>lastname</th>\n",
       "      <th>address</th>\n",
       "      <th>zip5</th>\n",
       "      <th>dob</th>\n",
       "      <th>homephone</th>\n",
       "      <th>fraud_label</th>\n",
       "    </tr>\n",
       "  </thead>\n",
       "  <tbody>\n",
       "    <tr>\n",
       "      <th>1247</th>\n",
       "      <td>1248</td>\n",
       "      <td>2016-01-01</td>\n",
       "      <td>904524264</td>\n",
       "      <td>UJSRSMUEZ</td>\n",
       "      <td>EAXAXAXA</td>\n",
       "      <td>123 MAIN ST</td>\n",
       "      <td>68138</td>\n",
       "      <td>19241031</td>\n",
       "      <td>8135264540</td>\n",
       "      <td>0</td>\n",
       "    </tr>\n",
       "    <tr>\n",
       "      <th>2191</th>\n",
       "      <td>2192</td>\n",
       "      <td>2016-01-01</td>\n",
       "      <td>345413970</td>\n",
       "      <td>XXSMUSEJT</td>\n",
       "      <td>SRRAXESJ</td>\n",
       "      <td>123 MAIN ST</td>\n",
       "      <td>68138</td>\n",
       "      <td>19300526</td>\n",
       "      <td>94097353</td>\n",
       "      <td>0</td>\n",
       "    </tr>\n",
       "    <tr>\n",
       "      <th>2529</th>\n",
       "      <td>2530</td>\n",
       "      <td>2016-01-01</td>\n",
       "      <td>821839005</td>\n",
       "      <td>UXZUMTRTR</td>\n",
       "      <td>EARTMRJS</td>\n",
       "      <td>123 MAIN ST</td>\n",
       "      <td>68138</td>\n",
       "      <td>19621101</td>\n",
       "      <td>7715547340</td>\n",
       "      <td>0</td>\n",
       "    </tr>\n",
       "    <tr>\n",
       "      <th>3434</th>\n",
       "      <td>3435</td>\n",
       "      <td>2016-01-02</td>\n",
       "      <td>24205988</td>\n",
       "      <td>SXTUZZXAS</td>\n",
       "      <td>UJJAJMM</td>\n",
       "      <td>123 MAIN ST</td>\n",
       "      <td>68138</td>\n",
       "      <td>19640428</td>\n",
       "      <td>8788942828</td>\n",
       "      <td>0</td>\n",
       "    </tr>\n",
       "    <tr>\n",
       "      <th>3750</th>\n",
       "      <td>3751</td>\n",
       "      <td>2016-01-02</td>\n",
       "      <td>623763056</td>\n",
       "      <td>SEZESJMSR</td>\n",
       "      <td>UZJEUZMT</td>\n",
       "      <td>123 MAIN ST</td>\n",
       "      <td>68138</td>\n",
       "      <td>19731107</td>\n",
       "      <td>974228226</td>\n",
       "      <td>0</td>\n",
       "    </tr>\n",
       "    <tr>\n",
       "      <th>4715</th>\n",
       "      <td>4716</td>\n",
       "      <td>2016-01-02</td>\n",
       "      <td>686787130</td>\n",
       "      <td>SXXSZJMM</td>\n",
       "      <td>ARRZTAA</td>\n",
       "      <td>123 MAIN ST</td>\n",
       "      <td>68138</td>\n",
       "      <td>19810323</td>\n",
       "      <td>1839236819</td>\n",
       "      <td>1</td>\n",
       "    </tr>\n",
       "    <tr>\n",
       "      <th>5353</th>\n",
       "      <td>5354</td>\n",
       "      <td>2016-01-02</td>\n",
       "      <td>932938215</td>\n",
       "      <td>UXRJESTM</td>\n",
       "      <td>EETAEAR</td>\n",
       "      <td>123 MAIN ST</td>\n",
       "      <td>68138</td>\n",
       "      <td>19980513</td>\n",
       "      <td>5441682419</td>\n",
       "      <td>0</td>\n",
       "    </tr>\n",
       "    <tr>\n",
       "      <th>7299</th>\n",
       "      <td>7300</td>\n",
       "      <td>2016-01-03</td>\n",
       "      <td>417080344</td>\n",
       "      <td>SJETUJAAZ</td>\n",
       "      <td>REMJTREU</td>\n",
       "      <td>123 MAIN ST</td>\n",
       "      <td>92821</td>\n",
       "      <td>19340914</td>\n",
       "      <td>7507186577</td>\n",
       "      <td>0</td>\n",
       "    </tr>\n",
       "    <tr>\n",
       "      <th>8512</th>\n",
       "      <td>8513</td>\n",
       "      <td>2016-01-04</td>\n",
       "      <td>477797652</td>\n",
       "      <td>EAMSTRMT</td>\n",
       "      <td>UTXXZZET</td>\n",
       "      <td>123 MAIN ST</td>\n",
       "      <td>68138</td>\n",
       "      <td>19190519</td>\n",
       "      <td>5922864904</td>\n",
       "      <td>0</td>\n",
       "    </tr>\n",
       "    <tr>\n",
       "      <th>8750</th>\n",
       "      <td>8751</td>\n",
       "      <td>2016-01-04</td>\n",
       "      <td>6367698</td>\n",
       "      <td>XUERJXSTU</td>\n",
       "      <td>EERMEXAE</td>\n",
       "      <td>123 MAIN ST</td>\n",
       "      <td>42035</td>\n",
       "      <td>19821127</td>\n",
       "      <td>6442565981</td>\n",
       "      <td>0</td>\n",
       "    </tr>\n",
       "    <tr>\n",
       "      <th>9051</th>\n",
       "      <td>9052</td>\n",
       "      <td>2016-01-04</td>\n",
       "      <td>268297199</td>\n",
       "      <td>XUERJXSTU</td>\n",
       "      <td>RUSXSMTS</td>\n",
       "      <td>123 MAIN ST</td>\n",
       "      <td>55457</td>\n",
       "      <td>19430413</td>\n",
       "      <td>4330604659</td>\n",
       "      <td>0</td>\n",
       "    </tr>\n",
       "    <tr>\n",
       "      <th>9147</th>\n",
       "      <td>9148</td>\n",
       "      <td>2016-01-04</td>\n",
       "      <td>875566268</td>\n",
       "      <td>MJJJZUZTE</td>\n",
       "      <td>AJUZMTM</td>\n",
       "      <td>123 MAIN ST</td>\n",
       "      <td>68138</td>\n",
       "      <td>19011214</td>\n",
       "      <td>9999999999</td>\n",
       "      <td>0</td>\n",
       "    </tr>\n",
       "    <tr>\n",
       "      <th>10043</th>\n",
       "      <td>10044</td>\n",
       "      <td>2016-01-04</td>\n",
       "      <td>828973613</td>\n",
       "      <td>USSZMRERM</td>\n",
       "      <td>TSUEEET</td>\n",
       "      <td>123 MAIN ST</td>\n",
       "      <td>68138</td>\n",
       "      <td>19040413</td>\n",
       "      <td>1886028283</td>\n",
       "      <td>0</td>\n",
       "    </tr>\n",
       "    <tr>\n",
       "      <th>10588</th>\n",
       "      <td>10589</td>\n",
       "      <td>2016-01-04</td>\n",
       "      <td>999999999</td>\n",
       "      <td>RATREMERM</td>\n",
       "      <td>RJURSTXJ</td>\n",
       "      <td>123 MAIN ST</td>\n",
       "      <td>68138</td>\n",
       "      <td>20020214</td>\n",
       "      <td>9999999999</td>\n",
       "      <td>0</td>\n",
       "    </tr>\n",
       "    <tr>\n",
       "      <th>10701</th>\n",
       "      <td>10702</td>\n",
       "      <td>2016-01-04</td>\n",
       "      <td>691187893</td>\n",
       "      <td>SRRZEXETU</td>\n",
       "      <td>UUTJTJM</td>\n",
       "      <td>123 MAIN ST</td>\n",
       "      <td>68138</td>\n",
       "      <td>19030505</td>\n",
       "      <td>3092099983</td>\n",
       "      <td>0</td>\n",
       "    </tr>\n",
       "    <tr>\n",
       "      <th>10802</th>\n",
       "      <td>10803</td>\n",
       "      <td>2016-01-04</td>\n",
       "      <td>647675920</td>\n",
       "      <td>SJUXSATRM</td>\n",
       "      <td>XJMJMRA</td>\n",
       "      <td>123 MAIN ST</td>\n",
       "      <td>66279</td>\n",
       "      <td>19000124</td>\n",
       "      <td>1932109910</td>\n",
       "      <td>0</td>\n",
       "    </tr>\n",
       "    <tr>\n",
       "      <th>13663</th>\n",
       "      <td>13664</td>\n",
       "      <td>2016-01-05</td>\n",
       "      <td>786557432</td>\n",
       "      <td>XRUURASXU</td>\n",
       "      <td>SAZMRUAA</td>\n",
       "      <td>123 MAIN ST</td>\n",
       "      <td>49706</td>\n",
       "      <td>20141210</td>\n",
       "      <td>7078543383</td>\n",
       "      <td>0</td>\n",
       "    </tr>\n",
       "    <tr>\n",
       "      <th>14082</th>\n",
       "      <td>14083</td>\n",
       "      <td>2016-01-06</td>\n",
       "      <td>426706700</td>\n",
       "      <td>XTTTEXZA</td>\n",
       "      <td>UTAMRJSA</td>\n",
       "      <td>123 MAIN ST</td>\n",
       "      <td>68138</td>\n",
       "      <td>19461231</td>\n",
       "      <td>2890618122</td>\n",
       "      <td>0</td>\n",
       "    </tr>\n",
       "    <tr>\n",
       "      <th>14257</th>\n",
       "      <td>14258</td>\n",
       "      <td>2016-01-06</td>\n",
       "      <td>738979458</td>\n",
       "      <td>SRTXJZSXM</td>\n",
       "      <td>EERMERJ</td>\n",
       "      <td>123 MAIN ST</td>\n",
       "      <td>97302</td>\n",
       "      <td>20001128</td>\n",
       "      <td>2232057333</td>\n",
       "      <td>0</td>\n",
       "    </tr>\n",
       "    <tr>\n",
       "      <th>14789</th>\n",
       "      <td>14790</td>\n",
       "      <td>2016-01-06</td>\n",
       "      <td>746042136</td>\n",
       "      <td>STJZXXMET</td>\n",
       "      <td>RJSTUESS</td>\n",
       "      <td>123 MAIN ST</td>\n",
       "      <td>68138</td>\n",
       "      <td>20110806</td>\n",
       "      <td>8658354142</td>\n",
       "      <td>0</td>\n",
       "    </tr>\n",
       "  </tbody>\n",
       "</table>\n",
       "</div>"
      ],
      "text/plain": [
       "       record       date        ssn  firstname  lastname      address   zip5  \\\n",
       "1247     1248 2016-01-01  904524264  UJSRSMUEZ  EAXAXAXA  123 MAIN ST  68138   \n",
       "2191     2192 2016-01-01  345413970  XXSMUSEJT  SRRAXESJ  123 MAIN ST  68138   \n",
       "2529     2530 2016-01-01  821839005  UXZUMTRTR  EARTMRJS  123 MAIN ST  68138   \n",
       "3434     3435 2016-01-02   24205988  SXTUZZXAS   UJJAJMM  123 MAIN ST  68138   \n",
       "3750     3751 2016-01-02  623763056  SEZESJMSR  UZJEUZMT  123 MAIN ST  68138   \n",
       "4715     4716 2016-01-02  686787130   SXXSZJMM   ARRZTAA  123 MAIN ST  68138   \n",
       "5353     5354 2016-01-02  932938215   UXRJESTM   EETAEAR  123 MAIN ST  68138   \n",
       "7299     7300 2016-01-03  417080344  SJETUJAAZ  REMJTREU  123 MAIN ST  92821   \n",
       "8512     8513 2016-01-04  477797652   EAMSTRMT  UTXXZZET  123 MAIN ST  68138   \n",
       "8750     8751 2016-01-04    6367698  XUERJXSTU  EERMEXAE  123 MAIN ST  42035   \n",
       "9051     9052 2016-01-04  268297199  XUERJXSTU  RUSXSMTS  123 MAIN ST  55457   \n",
       "9147     9148 2016-01-04  875566268  MJJJZUZTE   AJUZMTM  123 MAIN ST  68138   \n",
       "10043   10044 2016-01-04  828973613  USSZMRERM   TSUEEET  123 MAIN ST  68138   \n",
       "10588   10589 2016-01-04  999999999  RATREMERM  RJURSTXJ  123 MAIN ST  68138   \n",
       "10701   10702 2016-01-04  691187893  SRRZEXETU   UUTJTJM  123 MAIN ST  68138   \n",
       "10802   10803 2016-01-04  647675920  SJUXSATRM   XJMJMRA  123 MAIN ST  66279   \n",
       "13663   13664 2016-01-05  786557432  XRUURASXU  SAZMRUAA  123 MAIN ST  49706   \n",
       "14082   14083 2016-01-06  426706700   XTTTEXZA  UTAMRJSA  123 MAIN ST  68138   \n",
       "14257   14258 2016-01-06  738979458  SRTXJZSXM   EERMERJ  123 MAIN ST  97302   \n",
       "14789   14790 2016-01-06  746042136  STJZXXMET  RJSTUESS  123 MAIN ST  68138   \n",
       "\n",
       "            dob   homephone  fraud_label  \n",
       "1247   19241031  8135264540            0  \n",
       "2191   19300526    94097353            0  \n",
       "2529   19621101  7715547340            0  \n",
       "3434   19640428  8788942828            0  \n",
       "3750   19731107   974228226            0  \n",
       "4715   19810323  1839236819            1  \n",
       "5353   19980513  5441682419            0  \n",
       "7299   19340914  7507186577            0  \n",
       "8512   19190519  5922864904            0  \n",
       "8750   19821127  6442565981            0  \n",
       "9051   19430413  4330604659            0  \n",
       "9147   19011214  9999999999            0  \n",
       "10043  19040413  1886028283            0  \n",
       "10588  20020214  9999999999            0  \n",
       "10701  19030505  3092099983            0  \n",
       "10802  19000124  1932109910            0  \n",
       "13663  20141210  7078543383            0  \n",
       "14082  19461231  2890618122            0  \n",
       "14257  20001128  2232057333            0  \n",
       "14789  20110806  8658354142            0  "
      ]
     },
     "execution_count": 52,
     "metadata": {},
     "output_type": "execute_result"
    }
   ],
   "source": [
    "data[data['address'] == '123 MAIN ST'].head(20)"
   ]
  },
  {
   "cell_type": "code",
   "execution_count": 53,
   "metadata": {},
   "outputs": [
    {
     "data": {
      "text/plain": [
       "100.0"
      ]
     },
     "execution_count": 53,
     "metadata": {},
     "output_type": "execute_result"
    }
   ],
   "source": [
    "len(data['zip5']) * 100 / numrecords"
   ]
  },
  {
   "cell_type": "code",
   "execution_count": 54,
   "metadata": {},
   "outputs": [
    {
     "data": {
      "text/plain": [
       "26370"
      ]
     },
     "execution_count": 54,
     "metadata": {},
     "output_type": "execute_result"
    }
   ],
   "source": [
    "len(data['zip5'].unique())"
   ]
  },
  {
   "cell_type": "code",
   "execution_count": 55,
   "metadata": {
    "scrolled": false
   },
   "outputs": [
    {
     "data": {
      "text/plain": [
       "68138    823\n",
       "90042    514\n",
       "89835    489\n",
       "35227    478\n",
       "14931    459\n",
       "86500    438\n",
       "12700    436\n",
       "1362     434\n",
       "59695    432\n",
       "52317    432\n",
       "14455    431\n",
       "64597    431\n",
       "11848    428\n",
       "34031    425\n",
       "84983    419\n",
       "80692    408\n",
       "94992    406\n",
       "47208    399\n",
       "27132    397\n",
       "94887    397\n",
       "56155    385\n",
       "13053    378\n",
       "14200    375\n",
       "68992    374\n",
       "10664    373\n",
       "50780    372\n",
       "66902    371\n",
       "9298     371\n",
       "72192    370\n",
       "90755    368\n",
       "        ... \n",
       "37335      1\n",
       "47475      1\n",
       "31922      1\n",
       "25068      1\n",
       "93289      1\n",
       "11392      1\n",
       "88784      1\n",
       "50341      1\n",
       "86737      1\n",
       "36098      1\n",
       "11841      1\n",
       "18797      1\n",
       "15427      1\n",
       "51581      1\n",
       "97276      1\n",
       "82131      1\n",
       "74336      1\n",
       "5928       1\n",
       "35413      1\n",
       "19699      1\n",
       "52163      1\n",
       "41653      1\n",
       "37858      1\n",
       "63579      1\n",
       "40169      1\n",
       "37527      1\n",
       "54496      1\n",
       "73481      1\n",
       "52531      1\n",
       "69618      1\n",
       "Name: zip5, Length: 26370, dtype: int64"
      ]
     },
     "execution_count": 55,
     "metadata": {},
     "output_type": "execute_result"
    }
   ],
   "source": [
    "data['zip5'].value_counts()"
   ]
  },
  {
   "cell_type": "code",
   "execution_count": 56,
   "metadata": {
    "scrolled": false
   },
   "outputs": [
    {
     "data": {
      "text/plain": [
       "<matplotlib.axes._subplots.AxesSubplot at 0x1a1a2aec18>"
      ]
     },
     "execution_count": 56,
     "metadata": {},
     "output_type": "execute_result"
    },
    {
     "data": {
      "image/png": "[encoded data removed]",
      "text/plain": [
       "<Figure size 432x288 with 1 Axes>"
      ]
     },
     "metadata": {},
     "output_type": "display_data"
    }
   ],
   "source": [
    "data['zip5'].value_counts().head(20).plot(kind='bar',logy=True)"
   ]
  },
  {
   "cell_type": "code",
   "execution_count": 57,
   "metadata": {},
   "outputs": [
    {
     "data": {
      "text/plain": [
       "100.0"
      ]
     },
     "execution_count": 57,
     "metadata": {},
     "output_type": "execute_result"
    }
   ],
   "source": [
    "len(data['dob']) * 100 / numrecords"
   ]
  },
  {
   "cell_type": "code",
   "execution_count": 58,
   "metadata": {},
   "outputs": [
    {
     "data": {
      "text/plain": [
       "42673"
      ]
     },
     "execution_count": 58,
     "metadata": {},
     "output_type": "execute_result"
    }
   ],
   "source": [
    "len(data['dob'].unique())"
   ]
  },
  {
   "cell_type": "code",
   "execution_count": 59,
   "metadata": {},
   "outputs": [
    {
     "data": {
      "text/plain": [
       "19070626    126568\n",
       "19640318      4818\n",
       "19760625      3723\n",
       "19880628      1404\n",
       "19740216       980\n",
       "20090127       280\n",
       "19460901       135\n",
       "19591208       126\n",
       "19280611       120\n",
       "19670215       102\n",
       "19360908        81\n",
       "19570630        69\n",
       "20010904        69\n",
       "20151012        67\n",
       "20020315        65\n",
       "19860425        56\n",
       "19551013        55\n",
       "19290921        54\n",
       "19400301        52\n",
       "19240409        52\n",
       "19670629        50\n",
       "19530920        50\n",
       "19021213        50\n",
       "20141117        49\n",
       "19680820        49\n",
       "19731101        48\n",
       "19360713        48\n",
       "19830419        47\n",
       "20010907        47\n",
       "19421110        47\n",
       "             ...  \n",
       "19851220         6\n",
       "19741208         6\n",
       "19700314         6\n",
       "19611222         6\n",
       "19970723         6\n",
       "19350608         6\n",
       "20060218         6\n",
       "19110205         6\n",
       "19690416         6\n",
       "19850410         6\n",
       "19061018         6\n",
       "19910531         6\n",
       "19840913         6\n",
       "19611107         6\n",
       "19210701         6\n",
       "19521206         6\n",
       "19280918         6\n",
       "19481018         6\n",
       "19860313         5\n",
       "19330705         5\n",
       "19960904         5\n",
       "20030515         5\n",
       "19470512         5\n",
       "19771023         5\n",
       "19310921         5\n",
       "19280730         5\n",
       "19450523         5\n",
       "19750509         5\n",
       "19190223         5\n",
       "19441127         5\n",
       "Name: dob, Length: 42673, dtype: int64"
      ]
     },
     "execution_count": 59,
     "metadata": {},
     "output_type": "execute_result"
    }
   ],
   "source": [
    "data['dob'].value_counts()"
   ]
  },
  {
   "cell_type": "code",
   "execution_count": 60,
   "metadata": {},
   "outputs": [
    {
     "data": {
      "text/plain": [
       "<matplotlib.axes._subplots.AxesSubplot at 0x1a1be17a20>"
      ]
     },
     "execution_count": 60,
     "metadata": {},
     "output_type": "execute_result"
    },
    {
     "data": {
      "image/png": "[encoded data removed]",
      "text/plain": [
       "<Figure size 432x288 with 1 Axes>"
      ]
     },
     "metadata": {},
     "output_type": "display_data"
    }
   ],
   "source": [
    "data['dob'].value_counts().head(15).plot(kind='bar',logy=True)"
   ]
  },
  {
   "cell_type": "code",
   "execution_count": 61,
   "metadata": {},
   "outputs": [
    {
     "data": {
      "text/plain": [
       "100.0"
      ]
     },
     "execution_count": 61,
     "metadata": {},
     "output_type": "execute_result"
    }
   ],
   "source": [
    "len(data['homephone']) * 100 / numrecords"
   ]
  },
  {
   "cell_type": "code",
   "execution_count": 62,
   "metadata": {},
   "outputs": [
    {
     "data": {
      "text/plain": [
       "28244"
      ]
     },
     "execution_count": 62,
     "metadata": {},
     "output_type": "execute_result"
    }
   ],
   "source": [
    "len(data['homephone'].unique())"
   ]
  },
  {
   "cell_type": "code",
   "execution_count": 63,
   "metadata": {},
   "outputs": [
    {
     "data": {
      "text/plain": [
       "9999999999    78512\n",
       "6384782007      466\n",
       "6035129044      360\n",
       "2113738531      331\n",
       "4024680535      198\n",
       "2669445638      172\n",
       "6637507363      169\n",
       "8629049955      139\n",
       "3364980740      110\n",
       "1324008228      108\n",
       "6845279110      108\n",
       "8880326532      107\n",
       "2841944187      107\n",
       "5014272561      106\n",
       "8477710704      106\n",
       "6773573704      105\n",
       "3417174496      104\n",
       "6538326086      104\n",
       "7460887672      103\n",
       "1133829511      103\n",
       "1721670786      103\n",
       "5753452592      100\n",
       "6051690361       99\n",
       "4701588077       99\n",
       "7304949596       98\n",
       "1252191250       98\n",
       "7279614471       98\n",
       "7666418262       96\n",
       "4236591930       96\n",
       "5930087830       96\n",
       "              ...  \n",
       "3152497907        1\n",
       "4173896871        1\n",
       "7909661647        1\n",
       "1487242890        1\n",
       "7813229119        1\n",
       "2957613865        1\n",
       "6975375821        1\n",
       "4382854075        1\n",
       "2723400856        1\n",
       "8157246551        1\n",
       "6773922191        1\n",
       "5203848044        1\n",
       "6361389271        1\n",
       "5150223351        1\n",
       "8507465472        1\n",
       "3850395065        1\n",
       "3828148714        1\n",
       "1763757379        1\n",
       "6724376073        1\n",
       "6152426849        1\n",
       "4760204804        1\n",
       "8441986709        1\n",
       "3926552597        1\n",
       "4814622873        1\n",
       "9190239975        1\n",
       "9296466299        1\n",
       "6970852322        1\n",
       "1925750863        1\n",
       "5265623318        1\n",
       "1625814675        1\n",
       "Name: homephone, Length: 28244, dtype: int64"
      ]
     },
     "execution_count": 63,
     "metadata": {},
     "output_type": "execute_result"
    }
   ],
   "source": [
    "data['homephone'].value_counts()"
   ]
  },
  {
   "cell_type": "code",
   "execution_count": 64,
   "metadata": {},
   "outputs": [
    {
     "data": {
      "text/plain": [
       "<matplotlib.axes._subplots.AxesSubplot at 0x1a199681d0>"
      ]
     },
     "execution_count": 64,
     "metadata": {},
     "output_type": "execute_result"
    },
    {
     "data": {
      "image/png": "[encoded data removed]",
      "text/plain": [
       "<Figure size 432x288 with 1 Axes>"
      ]
     },
     "metadata": {},
     "output_type": "display_data"
    }
   ],
   "source": [
    "data['homephone'].value_counts().head(15).plot(kind='bar',logy=True)"
   ]
  },
  {
   "cell_type": "code",
   "execution_count": 65,
   "metadata": {},
   "outputs": [
    {
     "data": {
      "text/html": [
       "<div>\n",
       "<style scoped>\n",
       "    .dataframe tbody tr th:only-of-type {\n",
       "        vertical-align: middle;\n",
       "    }\n",
       "\n",
       "    .dataframe tbody tr th {\n",
       "        vertical-align: top;\n",
       "    }\n",
       "\n",
       "    .dataframe thead th {\n",
       "        text-align: right;\n",
       "    }\n",
       "</style>\n",
       "<table border=\"1\" class=\"dataframe\">\n",
       "  <thead>\n",
       "    <tr style=\"text-align: right;\">\n",
       "      <th></th>\n",
       "      <th>record</th>\n",
       "      <th>date</th>\n",
       "      <th>ssn</th>\n",
       "      <th>firstname</th>\n",
       "      <th>lastname</th>\n",
       "      <th>address</th>\n",
       "      <th>zip5</th>\n",
       "      <th>dob</th>\n",
       "      <th>homephone</th>\n",
       "      <th>fraud_label</th>\n",
       "    </tr>\n",
       "  </thead>\n",
       "  <tbody>\n",
       "    <tr>\n",
       "      <th>17</th>\n",
       "      <td>18</td>\n",
       "      <td>2016-01-01</td>\n",
       "      <td>346374636</td>\n",
       "      <td>XRSSZZUXT</td>\n",
       "      <td>ETXZXJAJ</td>\n",
       "      <td>5719 UEZJT PL</td>\n",
       "      <td>51486</td>\n",
       "      <td>19500110</td>\n",
       "      <td>9999999999</td>\n",
       "      <td>0</td>\n",
       "    </tr>\n",
       "    <tr>\n",
       "      <th>26</th>\n",
       "      <td>27</td>\n",
       "      <td>2016-01-01</td>\n",
       "      <td>735495403</td>\n",
       "      <td>EMSSTSXUA</td>\n",
       "      <td>STZRUXZM</td>\n",
       "      <td>9323 STRMS PL</td>\n",
       "      <td>51395</td>\n",
       "      <td>19881111</td>\n",
       "      <td>9999999999</td>\n",
       "      <td>0</td>\n",
       "    </tr>\n",
       "    <tr>\n",
       "      <th>60</th>\n",
       "      <td>61</td>\n",
       "      <td>2016-01-01</td>\n",
       "      <td>780136117</td>\n",
       "      <td>UZTZEETU</td>\n",
       "      <td>ARUZTZM</td>\n",
       "      <td>5317 UTXME ST</td>\n",
       "      <td>37840</td>\n",
       "      <td>19731129</td>\n",
       "      <td>9999999999</td>\n",
       "      <td>0</td>\n",
       "    </tr>\n",
       "    <tr>\n",
       "      <th>64</th>\n",
       "      <td>65</td>\n",
       "      <td>2016-01-01</td>\n",
       "      <td>999999999</td>\n",
       "      <td>STUMMAMTS</td>\n",
       "      <td>SSJXTUJM</td>\n",
       "      <td>6393 UEJEA LN</td>\n",
       "      <td>41640</td>\n",
       "      <td>19070626</td>\n",
       "      <td>9999999999</td>\n",
       "      <td>0</td>\n",
       "    </tr>\n",
       "    <tr>\n",
       "      <th>145</th>\n",
       "      <td>146</td>\n",
       "      <td>2016-01-01</td>\n",
       "      <td>671506143</td>\n",
       "      <td>TXEMXZZM</td>\n",
       "      <td>SRTERSRA</td>\n",
       "      <td>5795 UMUTM BLVD</td>\n",
       "      <td>45077</td>\n",
       "      <td>19030913</td>\n",
       "      <td>9999999999</td>\n",
       "      <td>0</td>\n",
       "    </tr>\n",
       "    <tr>\n",
       "      <th>149</th>\n",
       "      <td>150</td>\n",
       "      <td>2016-01-01</td>\n",
       "      <td>149112205</td>\n",
       "      <td>EZTERXZRA</td>\n",
       "      <td>EERMAXJU</td>\n",
       "      <td>2249 XXAU DR</td>\n",
       "      <td>27375</td>\n",
       "      <td>19841206</td>\n",
       "      <td>9999999999</td>\n",
       "      <td>0</td>\n",
       "    </tr>\n",
       "    <tr>\n",
       "      <th>178</th>\n",
       "      <td>179</td>\n",
       "      <td>2016-01-01</td>\n",
       "      <td>507916615</td>\n",
       "      <td>EUEJUURAR</td>\n",
       "      <td>XUSMXRU</td>\n",
       "      <td>8314 XXMX DR</td>\n",
       "      <td>398</td>\n",
       "      <td>19720416</td>\n",
       "      <td>9999999999</td>\n",
       "      <td>0</td>\n",
       "    </tr>\n",
       "    <tr>\n",
       "      <th>179</th>\n",
       "      <td>180</td>\n",
       "      <td>2016-01-01</td>\n",
       "      <td>106080337</td>\n",
       "      <td>SRARXRMRM</td>\n",
       "      <td>UTJMRJUX</td>\n",
       "      <td>8413 URUEU WY</td>\n",
       "      <td>15746</td>\n",
       "      <td>19070626</td>\n",
       "      <td>9999999999</td>\n",
       "      <td>0</td>\n",
       "    </tr>\n",
       "    <tr>\n",
       "      <th>180</th>\n",
       "      <td>181</td>\n",
       "      <td>2016-01-01</td>\n",
       "      <td>291680381</td>\n",
       "      <td>MUSXJTSSX</td>\n",
       "      <td>EXAAJUT</td>\n",
       "      <td>9762 SXJXM LN</td>\n",
       "      <td>41694</td>\n",
       "      <td>19620504</td>\n",
       "      <td>9999999999</td>\n",
       "      <td>0</td>\n",
       "    </tr>\n",
       "    <tr>\n",
       "      <th>200</th>\n",
       "      <td>201</td>\n",
       "      <td>2016-01-01</td>\n",
       "      <td>13382014</td>\n",
       "      <td>EAMSTRMT</td>\n",
       "      <td>RURSXSXX</td>\n",
       "      <td>372 SXTEA DR</td>\n",
       "      <td>42716</td>\n",
       "      <td>19070626</td>\n",
       "      <td>9999999999</td>\n",
       "      <td>0</td>\n",
       "    </tr>\n",
       "  </tbody>\n",
       "</table>\n",
       "</div>"
      ],
      "text/plain": [
       "     record       date        ssn  firstname  lastname          address  \\\n",
       "17       18 2016-01-01  346374636  XRSSZZUXT  ETXZXJAJ    5719 UEZJT PL   \n",
       "26       27 2016-01-01  735495403  EMSSTSXUA  STZRUXZM    9323 STRMS PL   \n",
       "60       61 2016-01-01  780136117   UZTZEETU   ARUZTZM    5317 UTXME ST   \n",
       "64       65 2016-01-01  999999999  STUMMAMTS  SSJXTUJM    6393 UEJEA LN   \n",
       "145     146 2016-01-01  671506143   TXEMXZZM  SRTERSRA  5795 UMUTM BLVD   \n",
       "149     150 2016-01-01  149112205  EZTERXZRA  EERMAXJU     2249 XXAU DR   \n",
       "178     179 2016-01-01  507916615  EUEJUURAR   XUSMXRU     8314 XXMX DR   \n",
       "179     180 2016-01-01  106080337  SRARXRMRM  UTJMRJUX    8413 URUEU WY   \n",
       "180     181 2016-01-01  291680381  MUSXJTSSX   EXAAJUT    9762 SXJXM LN   \n",
       "200     201 2016-01-01   13382014   EAMSTRMT  RURSXSXX     372 SXTEA DR   \n",
       "\n",
       "      zip5       dob   homephone  fraud_label  \n",
       "17   51486  19500110  9999999999            0  \n",
       "26   51395  19881111  9999999999            0  \n",
       "60   37840  19731129  9999999999            0  \n",
       "64   41640  19070626  9999999999            0  \n",
       "145  45077  19030913  9999999999            0  \n",
       "149  27375  19841206  9999999999            0  \n",
       "178    398  19720416  9999999999            0  \n",
       "179  15746  19070626  9999999999            0  \n",
       "180  41694  19620504  9999999999            0  \n",
       "200  42716  19070626  9999999999            0  "
      ]
     },
     "execution_count": 65,
     "metadata": {},
     "output_type": "execute_result"
    }
   ],
   "source": [
    "data[data['homephone'] == 9999999999].head(10)"
   ]
  },
  {
   "cell_type": "code",
   "execution_count": 66,
   "metadata": {},
   "outputs": [
    {
     "name": "stdout",
     "output_type": "stream",
     "text": [
      "duration:  0:00:17.743509\n"
     ]
    }
   ],
   "source": [
    "print('duration: ', pd.datetime.now()-start_time)"
   ]
  }
 ],
 "metadata": {
  "anaconda-cloud": {},
  "kernelspec": {
   "display_name": "Python 3",
   "language": "python",
   "name": "python3"
  },
  "language_info": {
   "codemirror_mode": {
    "name": "ipython",
    "version": 3
   },
   "file_extension": ".py",
   "mimetype": "text/x-python",
   "name": "python",
   "nbconvert_exporter": "python",
   "pygments_lexer": "ipython3",
   "version": "3.7.7"
  },
  "pycharm": {
   "stem_cell": {
    "cell_type": "raw",
    "source": [],
    "metadata": {
     "collapsed": false
    }
   }
  }
 },
 "nbformat": 4,
 "nbformat_minor": 2
}