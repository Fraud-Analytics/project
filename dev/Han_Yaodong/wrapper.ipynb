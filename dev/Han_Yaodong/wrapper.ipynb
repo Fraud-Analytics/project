{
 "cells": [
  {
   "cell_type": "code",
   "execution_count": 1,
   "metadata": {},
   "outputs": [],
   "source": [
    "import numpy as np\n",
    "import pandas as pd\n",
    "from sklearn.linear_model import LogisticRegression\n",
    "from sklearn.preprocessing import StandardScaler\n",
    "from sklearn.feature_selection import RFECV\n",
    "import matplotlib.pyplot as plt\n",
    "\n",
    "from util import fdr"
   ]
  },
  {
   "cell_type": "code",
   "execution_count": 2,
   "metadata": {},
   "outputs": [],
   "source": [
    "def load_data(file, num_features=81):\n",
    "    df = pd.read_csv(file)\n",
    "    std_scale = StandardScaler().fit(df)\n",
    "    df_std = pd.DataFrame(std_scale.transform(df), columns=df.columns)\n",
    "\n",
    "    with open('filter_rank.csv', 'r') as f:\n",
    "        rank = f.read().split('\\n')\n",
    "\n",
    "    y = df['fraud_label'].to_numpy()\n",
    "    df_std.drop(columns=['record', 'fraud_label'], inplace=True)\n",
    "\n",
    "    ks_col = rank[:num_features]\n",
    "    filter_df = df_std.filter(items=ks_col)\n",
    "    return filter_df, y"
   ]
  },
  {
   "cell_type": "code",
   "execution_count": 4,
   "metadata": {
    "pycharm": {
     "name": "#%%\n"
    }
   },
   "outputs": [],
   "source": [
    "df, y = load_data('vars_308.csv')"
   ]
  },
  {
   "cell_type": "code",
   "execution_count": 5,
   "metadata": {},
   "outputs": [
    {
     "data": {
      "text/html": [
       "<div>\n",
       "<style scoped>\n",
       "    .dataframe tbody tr th:only-of-type {\n",
       "        vertical-align: middle;\n",
       "    }\n",
       "\n",
       "    .dataframe tbody tr th {\n",
       "        vertical-align: top;\n",
       "    }\n",
       "\n",
       "    .dataframe thead th {\n",
       "        text-align: right;\n",
       "    }\n",
       "</style>\n",
       "<table border=\"1\" class=\"dataframe\">\n",
       "  <thead>\n",
       "    <tr style=\"text-align: right;\">\n",
       "      <th></th>\n",
       "      <th>fulladdress_day_since</th>\n",
       "      <th>address_day_since</th>\n",
       "      <th>fulladdress_count_30</th>\n",
       "      <th>address_count_30</th>\n",
       "      <th>address_count_14</th>\n",
       "      <th>fulladdress_count_14</th>\n",
       "      <th>address_count_7</th>\n",
       "      <th>fulladdress_count_7</th>\n",
       "      <th>address_count_0_by_14</th>\n",
       "      <th>fulladdress_count_0_by_14</th>\n",
       "      <th>...</th>\n",
       "      <th>fulladdress_homephone_count_0_by_14</th>\n",
       "      <th>homephone_count_7</th>\n",
       "      <th>homephone_count_3</th>\n",
       "      <th>address_count_1_by_7</th>\n",
       "      <th>fulladdress_count_1_by_7</th>\n",
       "      <th>fulladdress_count_0</th>\n",
       "      <th>address_count_0</th>\n",
       "      <th>name_dob_count_3</th>\n",
       "      <th>ssn_count_3</th>\n",
       "      <th>homephone_count_14</th>\n",
       "    </tr>\n",
       "  </thead>\n",
       "  <tbody>\n",
       "    <tr>\n",
       "      <th>0</th>\n",
       "      <td>0.402897</td>\n",
       "      <td>0.427984</td>\n",
       "      <td>-0.101958</td>\n",
       "      <td>-0.117706</td>\n",
       "      <td>-0.088541</td>\n",
       "      <td>-0.079045</td>\n",
       "      <td>-0.072633</td>\n",
       "      <td>-0.067095</td>\n",
       "      <td>0.148454</td>\n",
       "      <td>0.131798</td>\n",
       "      <td>...</td>\n",
       "      <td>0.120387</td>\n",
       "      <td>-0.769214</td>\n",
       "      <td>-0.521454</td>\n",
       "      <td>0.103441</td>\n",
       "      <td>0.09144</td>\n",
       "      <td>-0.041351</td>\n",
       "      <td>-0.042158</td>\n",
       "      <td>-0.046415</td>\n",
       "      <td>-0.047591</td>\n",
       "      <td>-1.011308</td>\n",
       "    </tr>\n",
       "    <tr>\n",
       "      <th>1</th>\n",
       "      <td>0.402897</td>\n",
       "      <td>0.427984</td>\n",
       "      <td>-0.101958</td>\n",
       "      <td>-0.117706</td>\n",
       "      <td>-0.088541</td>\n",
       "      <td>-0.079045</td>\n",
       "      <td>-0.072633</td>\n",
       "      <td>-0.067095</td>\n",
       "      <td>0.148454</td>\n",
       "      <td>0.131798</td>\n",
       "      <td>...</td>\n",
       "      <td>0.120387</td>\n",
       "      <td>-0.769214</td>\n",
       "      <td>-0.521454</td>\n",
       "      <td>0.103441</td>\n",
       "      <td>0.09144</td>\n",
       "      <td>-0.041351</td>\n",
       "      <td>-0.042158</td>\n",
       "      <td>-0.046415</td>\n",
       "      <td>-0.047591</td>\n",
       "      <td>-1.011308</td>\n",
       "    </tr>\n",
       "    <tr>\n",
       "      <th>2</th>\n",
       "      <td>0.402897</td>\n",
       "      <td>0.427984</td>\n",
       "      <td>-0.101958</td>\n",
       "      <td>-0.117706</td>\n",
       "      <td>-0.088541</td>\n",
       "      <td>-0.079045</td>\n",
       "      <td>-0.072633</td>\n",
       "      <td>-0.067095</td>\n",
       "      <td>0.148454</td>\n",
       "      <td>0.131798</td>\n",
       "      <td>...</td>\n",
       "      <td>0.120387</td>\n",
       "      <td>-0.769214</td>\n",
       "      <td>-0.521454</td>\n",
       "      <td>0.103441</td>\n",
       "      <td>0.09144</td>\n",
       "      <td>-0.041351</td>\n",
       "      <td>-0.042158</td>\n",
       "      <td>-0.046415</td>\n",
       "      <td>-0.047591</td>\n",
       "      <td>-1.011308</td>\n",
       "    </tr>\n",
       "    <tr>\n",
       "      <th>3</th>\n",
       "      <td>0.402897</td>\n",
       "      <td>0.427984</td>\n",
       "      <td>-0.101958</td>\n",
       "      <td>-0.117706</td>\n",
       "      <td>-0.088541</td>\n",
       "      <td>-0.079045</td>\n",
       "      <td>-0.072633</td>\n",
       "      <td>-0.067095</td>\n",
       "      <td>0.148454</td>\n",
       "      <td>0.131798</td>\n",
       "      <td>...</td>\n",
       "      <td>0.120387</td>\n",
       "      <td>-0.769214</td>\n",
       "      <td>-0.521454</td>\n",
       "      <td>0.103441</td>\n",
       "      <td>0.09144</td>\n",
       "      <td>-0.041351</td>\n",
       "      <td>-0.042158</td>\n",
       "      <td>-0.046415</td>\n",
       "      <td>-0.047591</td>\n",
       "      <td>-1.011308</td>\n",
       "    </tr>\n",
       "    <tr>\n",
       "      <th>4</th>\n",
       "      <td>0.402897</td>\n",
       "      <td>0.427984</td>\n",
       "      <td>-0.101958</td>\n",
       "      <td>-0.117706</td>\n",
       "      <td>-0.088541</td>\n",
       "      <td>-0.079045</td>\n",
       "      <td>-0.072633</td>\n",
       "      <td>-0.067095</td>\n",
       "      <td>0.148454</td>\n",
       "      <td>0.131798</td>\n",
       "      <td>...</td>\n",
       "      <td>0.120387</td>\n",
       "      <td>-0.769214</td>\n",
       "      <td>-0.521454</td>\n",
       "      <td>0.103441</td>\n",
       "      <td>0.09144</td>\n",
       "      <td>-0.041351</td>\n",
       "      <td>-0.042158</td>\n",
       "      <td>-0.046415</td>\n",
       "      <td>-0.047591</td>\n",
       "      <td>-1.011308</td>\n",
       "    </tr>\n",
       "  </tbody>\n",
       "</table>\n",
       "<p>5 rows × 80 columns</p>\n",
       "</div>"
      ],
      "text/plain": [
       "   fulladdress_day_since  address_day_since  fulladdress_count_30  \\\n",
       "0               0.402897           0.427984             -0.101958   \n",
       "1               0.402897           0.427984             -0.101958   \n",
       "2               0.402897           0.427984             -0.101958   \n",
       "3               0.402897           0.427984             -0.101958   \n",
       "4               0.402897           0.427984             -0.101958   \n",
       "\n",
       "   address_count_30  address_count_14  fulladdress_count_14  address_count_7  \\\n",
       "0         -0.117706         -0.088541             -0.079045        -0.072633   \n",
       "1         -0.117706         -0.088541             -0.079045        -0.072633   \n",
       "2         -0.117706         -0.088541             -0.079045        -0.072633   \n",
       "3         -0.117706         -0.088541             -0.079045        -0.072633   \n",
       "4         -0.117706         -0.088541             -0.079045        -0.072633   \n",
       "\n",
       "   fulladdress_count_7  address_count_0_by_14  fulladdress_count_0_by_14  ...  \\\n",
       "0            -0.067095               0.148454                   0.131798  ...   \n",
       "1            -0.067095               0.148454                   0.131798  ...   \n",
       "2            -0.067095               0.148454                   0.131798  ...   \n",
       "3            -0.067095               0.148454                   0.131798  ...   \n",
       "4            -0.067095               0.148454                   0.131798  ...   \n",
       "\n",
       "   fulladdress_homephone_count_0_by_14  homephone_count_7  homephone_count_3  \\\n",
       "0                             0.120387          -0.769214          -0.521454   \n",
       "1                             0.120387          -0.769214          -0.521454   \n",
       "2                             0.120387          -0.769214          -0.521454   \n",
       "3                             0.120387          -0.769214          -0.521454   \n",
       "4                             0.120387          -0.769214          -0.521454   \n",
       "\n",
       "   address_count_1_by_7  fulladdress_count_1_by_7  fulladdress_count_0  \\\n",
       "0              0.103441                   0.09144            -0.041351   \n",
       "1              0.103441                   0.09144            -0.041351   \n",
       "2              0.103441                   0.09144            -0.041351   \n",
       "3              0.103441                   0.09144            -0.041351   \n",
       "4              0.103441                   0.09144            -0.041351   \n",
       "\n",
       "   address_count_0  name_dob_count_3  ssn_count_3  homephone_count_14  \n",
       "0        -0.042158         -0.046415    -0.047591           -1.011308  \n",
       "1        -0.042158         -0.046415    -0.047591           -1.011308  \n",
       "2        -0.042158         -0.046415    -0.047591           -1.011308  \n",
       "3        -0.042158         -0.046415    -0.047591           -1.011308  \n",
       "4        -0.042158         -0.046415    -0.047591           -1.011308  \n",
       "\n",
       "[5 rows x 80 columns]"
      ]
     },
     "execution_count": 5,
     "metadata": {},
     "output_type": "execute_result"
    }
   ],
   "source": [
    "df.head()"
   ]
  },
  {
   "cell_type": "code",
   "execution_count": 6,
   "metadata": {
    "pycharm": {
     "name": "#%%\n"
    },
    "scrolled": true
   },
   "outputs": [
    {
     "name": "stdout",
     "output_type": "stream",
     "text": [
      "Fitting estimator with 80 features.\n"
     ]
    },
    {
     "name": "stderr",
     "output_type": "stream",
     "text": [
      "/usr/local/lib64/python3.6/site-packages/sklearn/linear_model/_logistic.py:940: ConvergenceWarning: lbfgs failed to converge (status=1):\n",
      "STOP: TOTAL NO. of ITERATIONS REACHED LIMIT.\n",
      "\n",
      "Increase the number of iterations (max_iter) or scale the data as shown in:\n",
      "    https://scikit-learn.org/stable/modules/preprocessing.html\n",
      "Please also refer to the documentation for alternative solver options:\n",
      "    https://scikit-learn.org/stable/modules/linear_model.html#logistic-regression\n",
      "  extra_warning_msg=_LOGISTIC_SOLVER_CONVERGENCE_MSG)\n"
     ]
    },
    {
     "name": "stdout",
     "output_type": "stream",
     "text": [
      "Fitting estimator with 79 features.\n"
     ]
    },
    {
     "name": "stderr",
     "output_type": "stream",
     "text": [
      "/usr/local/lib64/python3.6/site-packages/sklearn/linear_model/_logistic.py:940: ConvergenceWarning: lbfgs failed to converge (status=1):\n",
      "STOP: TOTAL NO. of ITERATIONS REACHED LIMIT.\n",
      "\n",
      "Increase the number of iterations (max_iter) or scale the data as shown in:\n",
      "    https://scikit-learn.org/stable/modules/preprocessing.html\n",
      "Please also refer to the documentation for alternative solver options:\n",
      "    https://scikit-learn.org/stable/modules/linear_model.html#logistic-regression\n",
      "  extra_warning_msg=_LOGISTIC_SOLVER_CONVERGENCE_MSG)\n"
     ]
    },
    {
     "name": "stdout",
     "output_type": "stream",
     "text": [
      "Fitting estimator with 78 features.\n"
     ]
    },
    {
     "name": "stderr",
     "output_type": "stream",
     "text": [
      "/usr/local/lib64/python3.6/site-packages/sklearn/linear_model/_logistic.py:940: ConvergenceWarning: lbfgs failed to converge (status=1):\n",
      "STOP: TOTAL NO. of ITERATIONS REACHED LIMIT.\n",
      "\n",
      "Increase the number of iterations (max_iter) or scale the data as shown in:\n",
      "    https://scikit-learn.org/stable/modules/preprocessing.html\n",
      "Please also refer to the documentation for alternative solver options:\n",
      "    https://scikit-learn.org/stable/modules/linear_model.html#logistic-regression\n",
      "  extra_warning_msg=_LOGISTIC_SOLVER_CONVERGENCE_MSG)\n"
     ]
    },
    {
     "name": "stdout",
     "output_type": "stream",
     "text": [
      "Fitting estimator with 77 features.\n"
     ]
    },
    {
     "name": "stderr",
     "output_type": "stream",
     "text": [
      "/usr/local/lib64/python3.6/site-packages/sklearn/linear_model/_logistic.py:940: ConvergenceWarning: lbfgs failed to converge (status=1):\n",
      "STOP: TOTAL NO. of ITERATIONS REACHED LIMIT.\n",
      "\n",
      "Increase the number of iterations (max_iter) or scale the data as shown in:\n",
      "    https://scikit-learn.org/stable/modules/preprocessing.html\n",
      "Please also refer to the documentation for alternative solver options:\n",
      "    https://scikit-learn.org/stable/modules/linear_model.html#logistic-regression\n",
      "  extra_warning_msg=_LOGISTIC_SOLVER_CONVERGENCE_MSG)\n"
     ]
    },
    {
     "name": "stdout",
     "output_type": "stream",
     "text": [
      "Fitting estimator with 76 features.\n"
     ]
    },
    {
     "name": "stderr",
     "output_type": "stream",
     "text": [
      "/usr/local/lib64/python3.6/site-packages/sklearn/linear_model/_logistic.py:940: ConvergenceWarning: lbfgs failed to converge (status=1):\n",
      "STOP: TOTAL NO. of ITERATIONS REACHED LIMIT.\n",
      "\n",
      "Increase the number of iterations (max_iter) or scale the data as shown in:\n",
      "    https://scikit-learn.org/stable/modules/preprocessing.html\n",
      "Please also refer to the documentation for alternative solver options:\n",
      "    https://scikit-learn.org/stable/modules/linear_model.html#logistic-regression\n",
      "  extra_warning_msg=_LOGISTIC_SOLVER_CONVERGENCE_MSG)\n"
     ]
    },
    {
     "name": "stdout",
     "output_type": "stream",
     "text": [
      "Fitting estimator with 75 features.\n"
     ]
    },
    {
     "name": "stderr",
     "output_type": "stream",
     "text": [
      "/usr/local/lib64/python3.6/site-packages/sklearn/linear_model/_logistic.py:940: ConvergenceWarning: lbfgs failed to converge (status=1):\n",
      "STOP: TOTAL NO. of ITERATIONS REACHED LIMIT.\n",
      "\n",
      "Increase the number of iterations (max_iter) or scale the data as shown in:\n",
      "    https://scikit-learn.org/stable/modules/preprocessing.html\n",
      "Please also refer to the documentation for alternative solver options:\n",
      "    https://scikit-learn.org/stable/modules/linear_model.html#logistic-regression\n",
      "  extra_warning_msg=_LOGISTIC_SOLVER_CONVERGENCE_MSG)\n"
     ]
    },
    {
     "name": "stdout",
     "output_type": "stream",
     "text": [
      "Fitting estimator with 74 features.\n"
     ]
    },
    {
     "name": "stderr",
     "output_type": "stream",
     "text": [
      "/usr/local/lib64/python3.6/site-packages/sklearn/linear_model/_logistic.py:940: ConvergenceWarning: lbfgs failed to converge (status=1):\n",
      "STOP: TOTAL NO. of ITERATIONS REACHED LIMIT.\n",
      "\n",
      "Increase the number of iterations (max_iter) or scale the data as shown in:\n",
      "    https://scikit-learn.org/stable/modules/preprocessing.html\n",
      "Please also refer to the documentation for alternative solver options:\n",
      "    https://scikit-learn.org/stable/modules/linear_model.html#logistic-regression\n",
      "  extra_warning_msg=_LOGISTIC_SOLVER_CONVERGENCE_MSG)\n"
     ]
    },
    {
     "name": "stdout",
     "output_type": "stream",
     "text": [
      "Fitting estimator with 73 features.\n"
     ]
    },
    {
     "name": "stderr",
     "output_type": "stream",
     "text": [
      "/usr/local/lib64/python3.6/site-packages/sklearn/linear_model/_logistic.py:940: ConvergenceWarning: lbfgs failed to converge (status=1):\n",
      "STOP: TOTAL NO. of ITERATIONS REACHED LIMIT.\n",
      "\n",
      "Increase the number of iterations (max_iter) or scale the data as shown in:\n",
      "    https://scikit-learn.org/stable/modules/preprocessing.html\n",
      "Please also refer to the documentation for alternative solver options:\n",
      "    https://scikit-learn.org/stable/modules/linear_model.html#logistic-regression\n",
      "  extra_warning_msg=_LOGISTIC_SOLVER_CONVERGENCE_MSG)\n"
     ]
    },
    {
     "name": "stdout",
     "output_type": "stream",
     "text": [
      "Fitting estimator with 72 features.\n"
     ]
    },
    {
     "name": "stderr",
     "output_type": "stream",
     "text": [
      "/usr/local/lib64/python3.6/site-packages/sklearn/linear_model/_logistic.py:940: ConvergenceWarning: lbfgs failed to converge (status=1):\n",
      "STOP: TOTAL NO. of ITERATIONS REACHED LIMIT.\n",
      "\n",
      "Increase the number of iterations (max_iter) or scale the data as shown in:\n",
      "    https://scikit-learn.org/stable/modules/preprocessing.html\n",
      "Please also refer to the documentation for alternative solver options:\n",
      "    https://scikit-learn.org/stable/modules/linear_model.html#logistic-regression\n",
      "  extra_warning_msg=_LOGISTIC_SOLVER_CONVERGENCE_MSG)\n"
     ]
    },
    {
     "name": "stdout",
     "output_type": "stream",
     "text": [
      "Fitting estimator with 71 features.\n",
      "Fitting estimator with 70 features.\n"
     ]
    },
    {
     "name": "stderr",
     "output_type": "stream",
     "text": [
      "/usr/local/lib64/python3.6/site-packages/sklearn/linear_model/_logistic.py:940: ConvergenceWarning: lbfgs failed to converge (status=1):\n",
      "STOP: TOTAL NO. of ITERATIONS REACHED LIMIT.\n",
      "\n",
      "Increase the number of iterations (max_iter) or scale the data as shown in:\n",
      "    https://scikit-learn.org/stable/modules/preprocessing.html\n",
      "Please also refer to the documentation for alternative solver options:\n",
      "    https://scikit-learn.org/stable/modules/linear_model.html#logistic-regression\n",
      "  extra_warning_msg=_LOGISTIC_SOLVER_CONVERGENCE_MSG)\n"
     ]
    },
    {
     "name": "stdout",
     "output_type": "stream",
     "text": [
      "Fitting estimator with 69 features.\n",
      "Fitting estimator with 68 features.\n",
      "Fitting estimator with 67 features.\n",
      "Fitting estimator with 66 features.\n"
     ]
    },
    {
     "name": "stderr",
     "output_type": "stream",
     "text": [
      "/usr/local/lib64/python3.6/site-packages/sklearn/linear_model/_logistic.py:940: ConvergenceWarning: lbfgs failed to converge (status=1):\n",
      "STOP: TOTAL NO. of ITERATIONS REACHED LIMIT.\n",
      "\n",
      "Increase the number of iterations (max_iter) or scale the data as shown in:\n",
      "    https://scikit-learn.org/stable/modules/preprocessing.html\n",
      "Please also refer to the documentation for alternative solver options:\n",
      "    https://scikit-learn.org/stable/modules/linear_model.html#logistic-regression\n",
      "  extra_warning_msg=_LOGISTIC_SOLVER_CONVERGENCE_MSG)\n"
     ]
    },
    {
     "name": "stdout",
     "output_type": "stream",
     "text": [
      "Fitting estimator with 65 features.\n",
      "Fitting estimator with 64 features.\n",
      "Fitting estimator with 63 features.\n",
      "Fitting estimator with 62 features.\n",
      "Fitting estimator with 61 features.\n",
      "Fitting estimator with 60 features.\n",
      "Fitting estimator with 59 features.\n",
      "Fitting estimator with 58 features.\n",
      "Fitting estimator with 57 features.\n",
      "Fitting estimator with 56 features.\n",
      "Fitting estimator with 55 features.\n",
      "Fitting estimator with 54 features.\n",
      "Fitting estimator with 53 features.\n",
      "Fitting estimator with 52 features.\n",
      "Fitting estimator with 51 features.\n",
      "Fitting estimator with 50 features.\n",
      "Fitting estimator with 49 features.\n",
      "Fitting estimator with 48 features.\n",
      "Fitting estimator with 47 features.\n",
      "Fitting estimator with 46 features.\n",
      "Fitting estimator with 45 features.\n",
      "Fitting estimator with 44 features.\n",
      "Fitting estimator with 43 features.\n",
      "Fitting estimator with 42 features.\n",
      "Fitting estimator with 41 features.\n",
      "Fitting estimator with 40 features.\n",
      "Fitting estimator with 39 features.\n",
      "Fitting estimator with 38 features.\n",
      "Fitting estimator with 37 features.\n",
      "Fitting estimator with 36 features.\n",
      "Fitting estimator with 35 features.\n",
      "Fitting estimator with 34 features.\n",
      "Fitting estimator with 33 features.\n",
      "Fitting estimator with 32 features.\n",
      "Fitting estimator with 31 features.\n",
      "Fitting estimator with 30 features.\n",
      "Fitting estimator with 29 features.\n",
      "Fitting estimator with 28 features.\n",
      "Fitting estimator with 27 features.\n",
      "Fitting estimator with 26 features.\n",
      "Fitting estimator with 25 features.\n",
      "Fitting estimator with 24 features.\n",
      "Fitting estimator with 23 features.\n",
      "Fitting estimator with 22 features.\n",
      "Fitting estimator with 21 features.\n",
      "Fitting estimator with 20 features.\n",
      "Fitting estimator with 19 features.\n",
      "Fitting estimator with 18 features.\n",
      "Fitting estimator with 17 features.\n",
      "Fitting estimator with 16 features.\n",
      "Fitting estimator with 15 features.\n",
      "Fitting estimator with 14 features.\n",
      "Fitting estimator with 13 features.\n",
      "Fitting estimator with 12 features.\n",
      "Fitting estimator with 11 features.\n",
      "Fitting estimator with 10 features.\n",
      "Fitting estimator with 9 features.\n",
      "Fitting estimator with 8 features.\n",
      "Fitting estimator with 7 features.\n",
      "Fitting estimator with 6 features.\n",
      "Fitting estimator with 5 features.\n",
      "Fitting estimator with 4 features.\n",
      "Fitting estimator with 3 features.\n",
      "Fitting estimator with 2 features.\n",
      "Fitting estimator with 80 features.\n"
     ]
    },
    {
     "name": "stderr",
     "output_type": "stream",
     "text": [
      "/usr/local/lib64/python3.6/site-packages/sklearn/linear_model/_logistic.py:940: ConvergenceWarning: lbfgs failed to converge (status=1):\n",
      "STOP: TOTAL NO. of ITERATIONS REACHED LIMIT.\n",
      "\n",
      "Increase the number of iterations (max_iter) or scale the data as shown in:\n",
      "    https://scikit-learn.org/stable/modules/preprocessing.html\n",
      "Please also refer to the documentation for alternative solver options:\n",
      "    https://scikit-learn.org/stable/modules/linear_model.html#logistic-regression\n",
      "  extra_warning_msg=_LOGISTIC_SOLVER_CONVERGENCE_MSG)\n"
     ]
    },
    {
     "name": "stdout",
     "output_type": "stream",
     "text": [
      "Fitting estimator with 79 features.\n"
     ]
    },
    {
     "name": "stderr",
     "output_type": "stream",
     "text": [
      "/usr/local/lib64/python3.6/site-packages/sklearn/linear_model/_logistic.py:940: ConvergenceWarning: lbfgs failed to converge (status=1):\n",
      "STOP: TOTAL NO. of ITERATIONS REACHED LIMIT.\n",
      "\n",
      "Increase the number of iterations (max_iter) or scale the data as shown in:\n",
      "    https://scikit-learn.org/stable/modules/preprocessing.html\n",
      "Please also refer to the documentation for alternative solver options:\n",
      "    https://scikit-learn.org/stable/modules/linear_model.html#logistic-regression\n",
      "  extra_warning_msg=_LOGISTIC_SOLVER_CONVERGENCE_MSG)\n"
     ]
    },
    {
     "name": "stdout",
     "output_type": "stream",
     "text": [
      "Fitting estimator with 78 features.\n",
      "Fitting estimator with 77 features.\n",
      "Fitting estimator with 76 features.\n",
      "Fitting estimator with 75 features.\n"
     ]
    },
    {
     "name": "stderr",
     "output_type": "stream",
     "text": [
      "/usr/local/lib64/python3.6/site-packages/sklearn/linear_model/_logistic.py:940: ConvergenceWarning: lbfgs failed to converge (status=1):\n",
      "STOP: TOTAL NO. of ITERATIONS REACHED LIMIT.\n",
      "\n",
      "Increase the number of iterations (max_iter) or scale the data as shown in:\n",
      "    https://scikit-learn.org/stable/modules/preprocessing.html\n",
      "Please also refer to the documentation for alternative solver options:\n",
      "    https://scikit-learn.org/stable/modules/linear_model.html#logistic-regression\n",
      "  extra_warning_msg=_LOGISTIC_SOLVER_CONVERGENCE_MSG)\n"
     ]
    },
    {
     "name": "stdout",
     "output_type": "stream",
     "text": [
      "Fitting estimator with 74 features.\n",
      "Fitting estimator with 73 features.\n",
      "Fitting estimator with 72 features.\n",
      "Fitting estimator with 71 features.\n",
      "Fitting estimator with 70 features.\n",
      "Fitting estimator with 69 features.\n",
      "Fitting estimator with 68 features.\n",
      "Fitting estimator with 67 features.\n",
      "Fitting estimator with 66 features.\n",
      "Fitting estimator with 65 features.\n",
      "Fitting estimator with 64 features.\n",
      "Fitting estimator with 63 features.\n",
      "Fitting estimator with 62 features.\n",
      "Fitting estimator with 61 features.\n",
      "Fitting estimator with 60 features.\n",
      "Fitting estimator with 59 features.\n",
      "Fitting estimator with 58 features.\n",
      "Fitting estimator with 57 features.\n",
      "Fitting estimator with 56 features.\n",
      "Fitting estimator with 55 features.\n",
      "Fitting estimator with 54 features.\n",
      "Fitting estimator with 53 features.\n",
      "Fitting estimator with 52 features.\n",
      "Fitting estimator with 51 features.\n",
      "Fitting estimator with 50 features.\n",
      "Fitting estimator with 49 features.\n",
      "Fitting estimator with 48 features.\n",
      "Fitting estimator with 47 features.\n",
      "Fitting estimator with 46 features.\n",
      "Fitting estimator with 45 features.\n",
      "Fitting estimator with 44 features.\n",
      "Fitting estimator with 43 features.\n",
      "Fitting estimator with 42 features.\n",
      "Fitting estimator with 41 features.\n",
      "Fitting estimator with 40 features.\n",
      "Fitting estimator with 39 features.\n",
      "Fitting estimator with 38 features.\n",
      "Fitting estimator with 37 features.\n",
      "Fitting estimator with 36 features.\n",
      "Fitting estimator with 35 features.\n",
      "Fitting estimator with 34 features.\n",
      "Fitting estimator with 33 features.\n",
      "Fitting estimator with 32 features.\n",
      "Fitting estimator with 31 features.\n",
      "Fitting estimator with 30 features.\n",
      "Fitting estimator with 29 features.\n",
      "Fitting estimator with 28 features.\n",
      "Fitting estimator with 27 features.\n",
      "Fitting estimator with 26 features.\n",
      "Fitting estimator with 25 features.\n",
      "Fitting estimator with 24 features.\n",
      "Fitting estimator with 23 features.\n",
      "Fitting estimator with 22 features.\n",
      "Fitting estimator with 21 features.\n",
      "Fitting estimator with 20 features.\n",
      "Fitting estimator with 19 features.\n",
      "Fitting estimator with 18 features.\n",
      "Fitting estimator with 17 features.\n",
      "Fitting estimator with 16 features.\n",
      "Fitting estimator with 15 features.\n",
      "Fitting estimator with 14 features.\n",
      "Fitting estimator with 13 features.\n",
      "Fitting estimator with 12 features.\n",
      "Fitting estimator with 11 features.\n",
      "Fitting estimator with 10 features.\n",
      "Fitting estimator with 9 features.\n",
      "Fitting estimator with 8 features.\n",
      "Fitting estimator with 7 features.\n",
      "Fitting estimator with 6 features.\n",
      "Fitting estimator with 5 features.\n",
      "Fitting estimator with 4 features.\n",
      "Fitting estimator with 3 features.\n",
      "Fitting estimator with 2 features.\n",
      "Fitting estimator with 80 features.\n"
     ]
    },
    {
     "name": "stderr",
     "output_type": "stream",
     "text": [
      "/usr/local/lib64/python3.6/site-packages/sklearn/linear_model/_logistic.py:940: ConvergenceWarning: lbfgs failed to converge (status=1):\n",
      "STOP: TOTAL NO. of ITERATIONS REACHED LIMIT.\n",
      "\n",
      "Increase the number of iterations (max_iter) or scale the data as shown in:\n",
      "    https://scikit-learn.org/stable/modules/preprocessing.html\n",
      "Please also refer to the documentation for alternative solver options:\n",
      "    https://scikit-learn.org/stable/modules/linear_model.html#logistic-regression\n",
      "  extra_warning_msg=_LOGISTIC_SOLVER_CONVERGENCE_MSG)\n",
      "/usr/local/lib64/python3.6/site-packages/sklearn/linear_model/_logistic.py:940: ConvergenceWarning: lbfgs failed to converge (status=1):\n",
      "STOP: TOTAL NO. of ITERATIONS REACHED LIMIT.\n",
      "\n",
      "Increase the number of iterations (max_iter) or scale the data as shown in:\n",
      "    https://scikit-learn.org/stable/modules/preprocessing.html\n",
      "Please also refer to the documentation for alternative solver options:\n",
      "    https://scikit-learn.org/stable/modules/linear_model.html#logistic-regression\n",
      "  extra_warning_msg=_LOGISTIC_SOLVER_CONVERGENCE_MSG)\n",
      "/usr/local/lib64/python3.6/site-packages/sklearn/linear_model/_logistic.py:940: ConvergenceWarning: lbfgs failed to converge (status=1):\n",
      "STOP: TOTAL NO. of ITERATIONS REACHED LIMIT.\n",
      "\n",
      "Increase the number of iterations (max_iter) or scale the data as shown in:\n",
      "    https://scikit-learn.org/stable/modules/preprocessing.html\n",
      "Please also refer to the documentation for alternative solver options:\n",
      "    https://scikit-learn.org/stable/modules/linear_model.html#logistic-regression\n",
      "  extra_warning_msg=_LOGISTIC_SOLVER_CONVERGENCE_MSG)\n"
     ]
    }
   ],
   "source": [
    "logit_select = RFECV(LogisticRegression(C=0.1,\n",
    "                                        class_weight='balanced',\n",
    "                                        max_iter=500),\n",
    "                     step=1, cv=2, scoring=fdr, verbose=1, n_jobs=1)\n",
    "logit_select = logit_select.fit(df, y)"
   ]
  },
  {
   "cell_type": "code",
   "execution_count": 7,
   "metadata": {
    "pycharm": {
     "name": "#%%\n"
    }
   },
   "outputs": [
    {
     "data": {
      "text/plain": [
       "array([0.26318254, 0.38024541, 0.48280189, 0.4891253 , 0.507607  ,\n",
       "       0.50656479, 0.50830177, 0.51226232, 0.51219285, 0.51128957,\n",
       "       0.511498  , 0.51135904, 0.51504167, 0.51962691, 0.51816779,\n",
       "       0.51927952, 0.51948797, 0.51948797, 0.51941849, 0.51941849,\n",
       "       0.55040582, 0.5522816 , 0.55242056, 0.55262898, 0.55228161,\n",
       "       0.5547134 , 0.55596392, 0.55596392, 0.55603339, 0.55610286,\n",
       "       0.55603339, 0.55707549, 0.5566586 , 0.55686701, 0.55665859,\n",
       "       0.55721446, 0.55756182, 0.55721446, 0.55728393, 0.55728393,\n",
       "       0.557006  , 0.557006  , 0.55693652, 0.557006  , 0.55693652,\n",
       "       0.55707546, 0.55707547, 0.55707547, 0.55707547, 0.55714495,\n",
       "       0.55735338, 0.55735338, 0.55742286, 0.55728391, 0.55763132,\n",
       "       0.55763132, 0.5574229 , 0.55735343, 0.55742292, 0.55735344,\n",
       "       0.55749239, 0.55749239, 0.55749239, 0.55749239, 0.55749239,\n",
       "       0.5572145 , 0.55735346, 0.55756192, 0.55749244, 0.55756192,\n",
       "       0.55756191, 0.55749244, 0.55749244, 0.55749244, 0.55756191,\n",
       "       0.55770086, 0.55770086, 0.55770086, 0.55777033, 0.55770086])"
      ]
     },
     "execution_count": 7,
     "metadata": {},
     "output_type": "execute_result"
    }
   ],
   "source": [
    "logit_select.grid_scores_"
   ]
  },
  {
   "cell_type": "code",
   "execution_count": 12,
   "metadata": {},
   "outputs": [
    {
     "data": {
      "image/png": "[encoded data removed]",
      "text/plain": [
       "<Figure size 432x288 with 1 Axes>"
      ]
     },
     "metadata": {
      "needs_background": "light"
     },
     "output_type": "display_data"
    }
   ],
   "source": [
    "plt.figure()\n",
    "plt.plot(range(1, len(logit_select.grid_scores_) + 1), logit_select.grid_scores_)\n",
    "plt.show()"
   ]
  },
  {
   "cell_type": "code",
   "execution_count": 13,
   "metadata": {
    "pycharm": {
     "name": "#%%\n"
    }
   },
   "outputs": [],
   "source": [
    "logit_scores = [[col, s] for col, s in zip(df.columns, logit_select.grid_scores_)]\n",
    "logit_scores.sort(key=lambda x: x[1], reverse=True)\n",
    "logit_scores = np.asarray(logit_scores)"
   ]
  },
  {
   "cell_type": "code",
   "execution_count": 14,
   "metadata": {
    "pycharm": {
     "name": "#%%\n"
    }
   },
   "outputs": [
    {
     "data": {
      "image/png": "[encoded data removed]",
      "text/plain": [
       "<Figure size 432x288 with 1 Axes>"
      ]
     },
     "metadata": {
      "needs_background": "light"
     },
     "output_type": "display_data"
    }
   ],
   "source": [
    "plt.figure()\n",
    "scores = logit_select.grid_scores_\n",
    "plt.plot(range(len(scores)), sorted(scores, reverse=True), 'r')\n",
    "plt.show()"
   ]
  },
  {
   "cell_type": "code",
   "execution_count": 15,
   "metadata": {},
   "outputs": [],
   "source": [
    "with open(\"wrapper_1.csv\", 'w') as f:\n",
    "    f.write('\\n'.join([f'{col},{s}' for col, s in logit_scores]))"
   ]
  },
  {
   "cell_type": "code",
   "execution_count": 19,
   "metadata": {},
   "outputs": [],
   "source": [
    "w1_df = df.filter(items=logit_scores[:30, :1].reshape(-1))\n",
    "w1_df['fraud_label'] = y\n",
    "w1_df.to_csv('var_30.csv', index=False)"
   ]
  },
  {
   "cell_type": "code",
   "execution_count": 21,
   "metadata": {},
   "outputs": [],
   "source": [
    "w1_df = df.filter(items=logit_scores[:40, :1].reshape(-1))\n",
    "w1_df['fraud_label'] = y\n",
    "w1_df.to_csv('var_40.csv', index=False)"
   ]
  },
  {
   "cell_type": "markdown",
   "metadata": {},
   "source": [
    "##### Run wrapper again with top 50 features\n",
    "**Currently not used !**"
   ]
  },
  {
   "cell_type": "code",
   "execution_count": 19,
   "metadata": {
    "pycharm": {
     "name": "#%%\n"
    }
   },
   "outputs": [],
   "source": [
    "wrap_1 = logit_scores[:50, :1].reshape(-1)\n",
    "wrap_df = df.filter(items=wrap_1)"
   ]
  },
  {
   "cell_type": "code",
   "execution_count": 20,
   "metadata": {},
   "outputs": [
    {
     "data": {
      "text/html": [
       "<div>\n",
       "<style scoped>\n",
       "    .dataframe tbody tr th:only-of-type {\n",
       "        vertical-align: middle;\n",
       "    }\n",
       "\n",
       "    .dataframe tbody tr th {\n",
       "        vertical-align: top;\n",
       "    }\n",
       "\n",
       "    .dataframe thead th {\n",
       "        text-align: right;\n",
       "    }\n",
       "</style>\n",
       "<table border=\"1\" class=\"dataframe\">\n",
       "  <thead>\n",
       "    <tr style=\"text-align: right;\">\n",
       "      <th></th>\n",
       "      <th>fulladdress_count_1_by_7</th>\n",
       "      <th>address_count_0</th>\n",
       "      <th>ssn_count_3</th>\n",
       "      <th>fulladdress_count_0</th>\n",
       "      <th>homephone_count_7</th>\n",
       "      <th>address_count_1_by_7</th>\n",
       "      <th>name_dob_count_3</th>\n",
       "      <th>name_count_7</th>\n",
       "      <th>homephone_count_3</th>\n",
       "      <th>fulladdress_homephone_count_0_by_14</th>\n",
       "      <th>...</th>\n",
       "      <th>ssn_count_0_by_30</th>\n",
       "      <th>ssn_name_count_30</th>\n",
       "      <th>ssn_name_day_since</th>\n",
       "      <th>address_count_0_by_3</th>\n",
       "      <th>fulladdress_count_0_by_3</th>\n",
       "      <th>ssn_name_dob_count_14</th>\n",
       "      <th>fulladdress_homephone_count_14</th>\n",
       "      <th>ssn_dob_count_0_by_30</th>\n",
       "      <th>name_dob_count_0_by_30</th>\n",
       "      <th>ssn_name_dob_count_30</th>\n",
       "    </tr>\n",
       "  </thead>\n",
       "  <tbody>\n",
       "    <tr>\n",
       "      <th>0</th>\n",
       "      <td>0.09144</td>\n",
       "      <td>-0.042158</td>\n",
       "      <td>-0.047591</td>\n",
       "      <td>-0.041351</td>\n",
       "      <td>-0.769214</td>\n",
       "      <td>0.103441</td>\n",
       "      <td>-0.046415</td>\n",
       "      <td>-0.115648</td>\n",
       "      <td>-0.521454</td>\n",
       "      <td>0.120387</td>\n",
       "      <td>...</td>\n",
       "      <td>0.17291</td>\n",
       "      <td>-0.097773</td>\n",
       "      <td>0.389111</td>\n",
       "      <td>0.087425</td>\n",
       "      <td>0.079739</td>\n",
       "      <td>-0.068281</td>\n",
       "      <td>-0.070089</td>\n",
       "      <td>0.162987</td>\n",
       "      <td>0.163303</td>\n",
       "      <td>-0.092594</td>\n",
       "    </tr>\n",
       "    <tr>\n",
       "      <th>1</th>\n",
       "      <td>0.09144</td>\n",
       "      <td>-0.042158</td>\n",
       "      <td>-0.047591</td>\n",
       "      <td>-0.041351</td>\n",
       "      <td>-0.769214</td>\n",
       "      <td>0.103441</td>\n",
       "      <td>-0.046415</td>\n",
       "      <td>-0.115648</td>\n",
       "      <td>-0.521454</td>\n",
       "      <td>0.120387</td>\n",
       "      <td>...</td>\n",
       "      <td>0.17291</td>\n",
       "      <td>-0.097773</td>\n",
       "      <td>0.389111</td>\n",
       "      <td>0.087425</td>\n",
       "      <td>0.079739</td>\n",
       "      <td>-0.068281</td>\n",
       "      <td>-0.070089</td>\n",
       "      <td>0.162987</td>\n",
       "      <td>0.163303</td>\n",
       "      <td>-0.092594</td>\n",
       "    </tr>\n",
       "    <tr>\n",
       "      <th>2</th>\n",
       "      <td>0.09144</td>\n",
       "      <td>-0.042158</td>\n",
       "      <td>-0.047591</td>\n",
       "      <td>-0.041351</td>\n",
       "      <td>-0.769214</td>\n",
       "      <td>0.103441</td>\n",
       "      <td>-0.046415</td>\n",
       "      <td>-0.115648</td>\n",
       "      <td>-0.521454</td>\n",
       "      <td>0.120387</td>\n",
       "      <td>...</td>\n",
       "      <td>0.17291</td>\n",
       "      <td>-0.097773</td>\n",
       "      <td>0.389111</td>\n",
       "      <td>0.087425</td>\n",
       "      <td>0.079739</td>\n",
       "      <td>-0.068281</td>\n",
       "      <td>-0.070089</td>\n",
       "      <td>0.162987</td>\n",
       "      <td>0.163303</td>\n",
       "      <td>-0.092594</td>\n",
       "    </tr>\n",
       "    <tr>\n",
       "      <th>3</th>\n",
       "      <td>0.09144</td>\n",
       "      <td>-0.042158</td>\n",
       "      <td>-0.047591</td>\n",
       "      <td>-0.041351</td>\n",
       "      <td>-0.769214</td>\n",
       "      <td>0.103441</td>\n",
       "      <td>-0.046415</td>\n",
       "      <td>-0.115648</td>\n",
       "      <td>-0.521454</td>\n",
       "      <td>0.120387</td>\n",
       "      <td>...</td>\n",
       "      <td>0.17291</td>\n",
       "      <td>-0.097773</td>\n",
       "      <td>0.389111</td>\n",
       "      <td>0.087425</td>\n",
       "      <td>0.079739</td>\n",
       "      <td>-0.068281</td>\n",
       "      <td>-0.070089</td>\n",
       "      <td>0.162987</td>\n",
       "      <td>0.163303</td>\n",
       "      <td>-0.092594</td>\n",
       "    </tr>\n",
       "    <tr>\n",
       "      <th>4</th>\n",
       "      <td>0.09144</td>\n",
       "      <td>-0.042158</td>\n",
       "      <td>-0.047591</td>\n",
       "      <td>-0.041351</td>\n",
       "      <td>-0.769214</td>\n",
       "      <td>0.103441</td>\n",
       "      <td>-0.046415</td>\n",
       "      <td>-0.115648</td>\n",
       "      <td>-0.521454</td>\n",
       "      <td>0.120387</td>\n",
       "      <td>...</td>\n",
       "      <td>0.17291</td>\n",
       "      <td>-0.097773</td>\n",
       "      <td>0.389111</td>\n",
       "      <td>0.087425</td>\n",
       "      <td>0.079739</td>\n",
       "      <td>-0.068281</td>\n",
       "      <td>-0.070089</td>\n",
       "      <td>0.162987</td>\n",
       "      <td>0.163303</td>\n",
       "      <td>-0.092594</td>\n",
       "    </tr>\n",
       "  </tbody>\n",
       "</table>\n",
       "<p>5 rows × 50 columns</p>\n",
       "</div>"
      ],
      "text/plain": [
       "   fulladdress_count_1_by_7  address_count_0  ssn_count_3  \\\n",
       "0                   0.09144        -0.042158    -0.047591   \n",
       "1                   0.09144        -0.042158    -0.047591   \n",
       "2                   0.09144        -0.042158    -0.047591   \n",
       "3                   0.09144        -0.042158    -0.047591   \n",
       "4                   0.09144        -0.042158    -0.047591   \n",
       "\n",
       "   fulladdress_count_0  homephone_count_7  address_count_1_by_7  \\\n",
       "0            -0.041351          -0.769214              0.103441   \n",
       "1            -0.041351          -0.769214              0.103441   \n",
       "2            -0.041351          -0.769214              0.103441   \n",
       "3            -0.041351          -0.769214              0.103441   \n",
       "4            -0.041351          -0.769214              0.103441   \n",
       "\n",
       "   name_dob_count_3  name_count_7  homephone_count_3  \\\n",
       "0         -0.046415     -0.115648          -0.521454   \n",
       "1         -0.046415     -0.115648          -0.521454   \n",
       "2         -0.046415     -0.115648          -0.521454   \n",
       "3         -0.046415     -0.115648          -0.521454   \n",
       "4         -0.046415     -0.115648          -0.521454   \n",
       "\n",
       "   fulladdress_homephone_count_0_by_14  ...  ssn_count_0_by_30  \\\n",
       "0                             0.120387  ...            0.17291   \n",
       "1                             0.120387  ...            0.17291   \n",
       "2                             0.120387  ...            0.17291   \n",
       "3                             0.120387  ...            0.17291   \n",
       "4                             0.120387  ...            0.17291   \n",
       "\n",
       "   ssn_name_count_30  ssn_name_day_since  address_count_0_by_3  \\\n",
       "0          -0.097773            0.389111              0.087425   \n",
       "1          -0.097773            0.389111              0.087425   \n",
       "2          -0.097773            0.389111              0.087425   \n",
       "3          -0.097773            0.389111              0.087425   \n",
       "4          -0.097773            0.389111              0.087425   \n",
       "\n",
       "   fulladdress_count_0_by_3  ssn_name_dob_count_14  \\\n",
       "0                  0.079739              -0.068281   \n",
       "1                  0.079739              -0.068281   \n",
       "2                  0.079739              -0.068281   \n",
       "3                  0.079739              -0.068281   \n",
       "4                  0.079739              -0.068281   \n",
       "\n",
       "   fulladdress_homephone_count_14  ssn_dob_count_0_by_30  \\\n",
       "0                       -0.070089               0.162987   \n",
       "1                       -0.070089               0.162987   \n",
       "2                       -0.070089               0.162987   \n",
       "3                       -0.070089               0.162987   \n",
       "4                       -0.070089               0.162987   \n",
       "\n",
       "   name_dob_count_0_by_30  ssn_name_dob_count_30  \n",
       "0                0.163303              -0.092594  \n",
       "1                0.163303              -0.092594  \n",
       "2                0.163303              -0.092594  \n",
       "3                0.163303              -0.092594  \n",
       "4                0.163303              -0.092594  \n",
       "\n",
       "[5 rows x 50 columns]"
      ]
     },
     "execution_count": 20,
     "metadata": {},
     "output_type": "execute_result"
    }
   ],
   "source": [
    "wrap_df.head()"
   ]
  },
  {
   "cell_type": "code",
   "execution_count": 21,
   "metadata": {
    "pycharm": {
     "name": "#%%\n"
    },
    "scrolled": false
   },
   "outputs": [
    {
     "name": "stdout",
     "output_type": "stream",
     "text": [
      "Fitting estimator with 50 features.\n",
      "Fitting estimator with 49 features.\n",
      "Fitting estimator with 48 features.\n",
      "Fitting estimator with 47 features.\n",
      "Fitting estimator with 46 features.\n",
      "Fitting estimator with 45 features.\n",
      "Fitting estimator with 44 features.\n",
      "Fitting estimator with 43 features.\n",
      "Fitting estimator with 42 features.\n",
      "Fitting estimator with 41 features.\n",
      "Fitting estimator with 40 features.\n"
     ]
    }
   ],
   "source": [
    "logit_select_2 = RFECV(LogisticRegression(C=0.1,\n",
    "                                          class_weight='balanced',\n",
    "                                          max_iter=1000),\n",
    "                       step=1, cv=4, scoring=fdr, verbose=1, n_jobs=2)\n",
    "logit_select_2 = logit_select_2.fit(wrap_df, y)"
   ]
  },
  {
   "cell_type": "code",
   "execution_count": 22,
   "metadata": {
    "pycharm": {
     "name": "#%%\n"
    }
   },
   "outputs": [],
   "source": [
    "logit_scores_2 = [[col, s] for col, s in zip(wrap_df.columns, logit_select_2.grid_scores_)]\n",
    "logit_scores_2.sort(key=lambda x: x[1], reverse=True)\n",
    "logit_scores_2 = np.asarray(logit_scores_2)"
   ]
  },
  {
   "cell_type": "code",
   "execution_count": 23,
   "metadata": {
    "pycharm": {
     "name": "#%%\n"
    }
   },
   "outputs": [
    {
     "data": {
      "image/png": "[encoded data removed]",
      "text/plain": [
       "<Figure size 432x288 with 1 Axes>"
      ]
     },
     "metadata": {
      "needs_background": "light"
     },
     "output_type": "display_data"
    }
   ],
   "source": [
    "plt.figure()\n",
    "scores = logit_select_2.grid_scores_\n",
    "plt.plot(range(len(scores)), sorted(scores, reverse=True), 'r')\n",
    "plt.show()"
   ]
  },
  {
   "cell_type": "code",
   "execution_count": 24,
   "metadata": {
    "pycharm": {
     "name": "#%%\n"
    }
   },
   "outputs": [
    {
     "data": {
      "text/plain": [
       "{'address_count_0',\n",
       " 'address_count_1_by_7',\n",
       " 'fulladdress_count_0',\n",
       " 'fulladdress_count_1_by_7',\n",
       " 'fulladdress_homephone_count_0_by_14',\n",
       " 'fulladdress_homephone_count_7',\n",
       " 'homephone_count_3',\n",
       " 'homephone_count_7',\n",
       " 'name_count_7',\n",
       " 'name_dob_count_0_by_14',\n",
       " 'name_dob_count_3',\n",
       " 'name_dob_count_7',\n",
       " 'ssn_count_0_by_14',\n",
       " 'ssn_count_3',\n",
       " 'ssn_dob_count_0_by_14',\n",
       " 'ssn_firstname_count_0_by_14',\n",
       " 'ssn_firstname_count_7',\n",
       " 'ssn_lastname_count_0_by_14',\n",
       " 'ssn_lastname_count_7',\n",
       " 'ssn_name_dob_count_7'}"
      ]
     },
     "execution_count": 24,
     "metadata": {},
     "output_type": "execute_result"
    }
   ],
   "source": [
    "set(logit_scores[:30, :1].flat) - set(logit_scores_2[:30, :1].flat)"
   ]
  },
  {
   "cell_type": "code",
   "execution_count": 25,
   "metadata": {
    "pycharm": {
     "name": "#%%\n"
    }
   },
   "outputs": [
    {
     "data": {
      "text/plain": [
       "{'address_count_0_by_3',\n",
       " 'address_count_1_by_14',\n",
       " 'fulladdress_count_0_by_3',\n",
       " 'fulladdress_count_1_by_30',\n",
       " 'fulladdress_homephone_count_14',\n",
       " 'fulladdress_homephone_count_30',\n",
       " 'fulladdress_homephone_day_since',\n",
       " 'name_count_30',\n",
       " 'name_dob_count_0_by_30',\n",
       " 'name_dob_count_14',\n",
       " 'ssn_count_0_by_30',\n",
       " 'ssn_count_14',\n",
       " 'ssn_dob_count_0_by_30',\n",
       " 'ssn_dob_count_14',\n",
       " 'ssn_firstname_count_0_by_30',\n",
       " 'ssn_lastname_count_0_by_30',\n",
       " 'ssn_name_count_30',\n",
       " 'ssn_name_day_since',\n",
       " 'ssn_name_dob_count_14',\n",
       " 'ssn_name_dob_count_30'}"
      ]
     },
     "execution_count": 25,
     "metadata": {},
     "output_type": "execute_result"
    }
   ],
   "source": [
    "set(logit_scores_2[:30, :1].flat) - set(logit_scores[:30, :1].flat)"
   ]
  },
  {
   "cell_type": "code",
   "execution_count": 26,
   "metadata": {
    "pycharm": {
     "name": "#%%\n"
    }
   },
   "outputs": [],
   "source": [
    "with open(\"wrapper_2.csv\", 'w') as f:\n",
    "    f.write('\\n'.join([f'{col},{s}' for col, s in logit_scores_2]))"
   ]
  },
  {
   "cell_type": "code",
   "execution_count": 27,
   "metadata": {
    "pycharm": {
     "name": "#%%\n"
    }
   },
   "outputs": [],
   "source": [
    "w2_df = df.filter(items=logit_scores_2[:30, :1].reshape(-1))\n",
    "w2_df['fraud_label'] = y\n",
    "w2_df.to_csv('var_30_2.csv', index=False)"
   ]
  },
  {
   "cell_type": "code",
   "execution_count": 28,
   "metadata": {},
   "outputs": [],
   "source": [
    "w2_df = df.filter(items=logit_scores_2[:40, :1].reshape(-1))\n",
    "w2_df['fraud_label'] = y\n",
    "w2_df.to_csv('var_40_2.csv', index=False)"
   ]
  }
 ],
 "metadata": {
  "kernelspec": {
   "display_name": "Python 3",
   "language": "python",
   "name": "python3"
  },
  "language_info": {
   "codemirror_mode": {
    "name": "ipython",
    "version": 3
   },
   "file_extension": ".py",
   "mimetype": "text/x-python",
   "name": "python",
   "nbconvert_exporter": "python",
   "pygments_lexer": "ipython3",
   "version": "3.6.8"
  }
 },
 "nbformat": 4,
 "nbformat_minor": 1
}
