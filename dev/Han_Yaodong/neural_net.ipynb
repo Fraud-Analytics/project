{
 "cells": [
  {
   "cell_type": "code",
   "execution_count": 7,
   "metadata": {
    "pycharm": {
     "is_executing": true
    }
   },
   "outputs": [],
   "source": [
    "from collections import ChainMap\n",
    "\n",
    "import pandas as pd\n",
    "import numpy as np\n",
    "import matplotlib.pyplot as plt\n",
    "\n",
    "from sklearn.neural_network import MLPClassifier\n",
    "from sklearn.model_selection import GridSearchCV\n",
    "from sklearn.ensemble import VotingClassifier\n",
    "\n",
    "from imblearn.under_sampling import RandomUnderSampler\n",
    "from imblearn.ensemble import EasyEnsembleClassifier\n",
    "\n",
    "from util import *"
   ]
  },
  {
   "cell_type": "code",
   "execution_count": 2,
   "metadata": {
    "pycharm": {
     "name": "#%%\n"
    }
   },
   "outputs": [
    {
     "data": {
      "text/html": [
       "<div>\n",
       "<style scoped>\n",
       "    .dataframe tbody tr th:only-of-type {\n",
       "        vertical-align: middle;\n",
       "    }\n",
       "\n",
       "    .dataframe tbody tr th {\n",
       "        vertical-align: top;\n",
       "    }\n",
       "\n",
       "    .dataframe thead th {\n",
       "        text-align: right;\n",
       "    }\n",
       "</style>\n",
       "<table border=\"1\" class=\"dataframe\">\n",
       "  <thead>\n",
       "    <tr style=\"text-align: right;\">\n",
       "      <th></th>\n",
       "      <th>ssn_name_dob_count_7</th>\n",
       "      <th>ssn_dob_count_0_by_14</th>\n",
       "      <th>name_dob_count_0_by_14</th>\n",
       "      <th>ssn_firstname_count_0_by_14</th>\n",
       "      <th>name_count_7</th>\n",
       "      <th>fulladdress_homephone_count_0_by_14</th>\n",
       "      <th>name_day_since</th>\n",
       "      <th>homephone_count_7</th>\n",
       "      <th>homephone_count_3</th>\n",
       "      <th>address_count_1_by_7</th>\n",
       "      <th>...</th>\n",
       "      <th>fulladdress_homephone_count_7</th>\n",
       "      <th>ssn_firstname_count_7</th>\n",
       "      <th>ssn_lastname_count_0_by_14</th>\n",
       "      <th>ssn_lastname_day_since</th>\n",
       "      <th>ssn_name_count_7</th>\n",
       "      <th>name_count_14</th>\n",
       "      <th>ssn_count_7</th>\n",
       "      <th>ssn_dob_count_7</th>\n",
       "      <th>ssn_lastname_count_7</th>\n",
       "      <th>ssn_name_day_since</th>\n",
       "    </tr>\n",
       "  </thead>\n",
       "  <tbody>\n",
       "    <tr>\n",
       "      <th>661175</th>\n",
       "      <td>-0.055635</td>\n",
       "      <td>0.118004</td>\n",
       "      <td>0.118316</td>\n",
       "      <td>0.123528</td>\n",
       "      <td>-0.115648</td>\n",
       "      <td>0.120387</td>\n",
       "      <td>0.940508</td>\n",
       "      <td>-0.769214</td>\n",
       "      <td>-0.521454</td>\n",
       "      <td>0.103441</td>\n",
       "      <td>...</td>\n",
       "      <td>-0.057263</td>\n",
       "      <td>-0.057185</td>\n",
       "      <td>0.123458</td>\n",
       "      <td>0.742526</td>\n",
       "      <td>-0.057109</td>\n",
       "      <td>-0.159376</td>\n",
       "      <td>-0.058092</td>\n",
       "      <td>-0.055708</td>\n",
       "      <td>-0.057154</td>\n",
       "      <td>0.741995</td>\n",
       "    </tr>\n",
       "    <tr>\n",
       "      <th>319831</th>\n",
       "      <td>-0.055635</td>\n",
       "      <td>0.118004</td>\n",
       "      <td>0.118316</td>\n",
       "      <td>0.123528</td>\n",
       "      <td>-0.115648</td>\n",
       "      <td>0.120387</td>\n",
       "      <td>-0.241150</td>\n",
       "      <td>-0.769214</td>\n",
       "      <td>-0.521454</td>\n",
       "      <td>0.103441</td>\n",
       "      <td>...</td>\n",
       "      <td>-0.057263</td>\n",
       "      <td>-0.057185</td>\n",
       "      <td>0.123458</td>\n",
       "      <td>-0.446132</td>\n",
       "      <td>-0.057109</td>\n",
       "      <td>-0.159376</td>\n",
       "      <td>-0.058092</td>\n",
       "      <td>-0.055708</td>\n",
       "      <td>-0.057154</td>\n",
       "      <td>-0.446655</td>\n",
       "    </tr>\n",
       "    <tr>\n",
       "      <th>266732</th>\n",
       "      <td>-0.055635</td>\n",
       "      <td>0.118004</td>\n",
       "      <td>0.118316</td>\n",
       "      <td>0.123528</td>\n",
       "      <td>-0.115648</td>\n",
       "      <td>0.120387</td>\n",
       "      <td>-0.420762</td>\n",
       "      <td>-0.769214</td>\n",
       "      <td>-0.521454</td>\n",
       "      <td>0.103441</td>\n",
       "      <td>...</td>\n",
       "      <td>-0.057263</td>\n",
       "      <td>-0.057185</td>\n",
       "      <td>0.123458</td>\n",
       "      <td>-0.626808</td>\n",
       "      <td>-0.057109</td>\n",
       "      <td>-0.159376</td>\n",
       "      <td>-0.058092</td>\n",
       "      <td>-0.055708</td>\n",
       "      <td>-0.057154</td>\n",
       "      <td>-0.627330</td>\n",
       "    </tr>\n",
       "    <tr>\n",
       "      <th>549489</th>\n",
       "      <td>-0.055635</td>\n",
       "      <td>0.118004</td>\n",
       "      <td>0.118316</td>\n",
       "      <td>0.123528</td>\n",
       "      <td>-0.115648</td>\n",
       "      <td>0.120387</td>\n",
       "      <td>0.552924</td>\n",
       "      <td>0.055132</td>\n",
       "      <td>-0.521454</td>\n",
       "      <td>0.103441</td>\n",
       "      <td>...</td>\n",
       "      <td>-0.057263</td>\n",
       "      <td>-0.057185</td>\n",
       "      <td>0.123458</td>\n",
       "      <td>0.352646</td>\n",
       "      <td>-0.057109</td>\n",
       "      <td>-0.159376</td>\n",
       "      <td>-0.058092</td>\n",
       "      <td>-0.055708</td>\n",
       "      <td>-0.057154</td>\n",
       "      <td>0.352118</td>\n",
       "    </tr>\n",
       "    <tr>\n",
       "      <th>369392</th>\n",
       "      <td>-0.055635</td>\n",
       "      <td>0.118004</td>\n",
       "      <td>0.118316</td>\n",
       "      <td>0.123528</td>\n",
       "      <td>-0.115648</td>\n",
       "      <td>0.120387</td>\n",
       "      <td>-0.070992</td>\n",
       "      <td>-0.769214</td>\n",
       "      <td>-0.521454</td>\n",
       "      <td>0.103441</td>\n",
       "      <td>...</td>\n",
       "      <td>-0.057263</td>\n",
       "      <td>-0.057185</td>\n",
       "      <td>0.123458</td>\n",
       "      <td>-0.274966</td>\n",
       "      <td>-0.057109</td>\n",
       "      <td>-0.159376</td>\n",
       "      <td>-0.058092</td>\n",
       "      <td>-0.055708</td>\n",
       "      <td>-0.057154</td>\n",
       "      <td>-0.275489</td>\n",
       "    </tr>\n",
       "  </tbody>\n",
       "</table>\n",
       "<p>5 rows × 25 columns</p>\n",
       "</div>"
      ],
      "text/plain": [
       "        ssn_name_dob_count_7  ssn_dob_count_0_by_14  name_dob_count_0_by_14  \\\n",
       "661175             -0.055635               0.118004                0.118316   \n",
       "319831             -0.055635               0.118004                0.118316   \n",
       "266732             -0.055635               0.118004                0.118316   \n",
       "549489             -0.055635               0.118004                0.118316   \n",
       "369392             -0.055635               0.118004                0.118316   \n",
       "\n",
       "        ssn_firstname_count_0_by_14  name_count_7  \\\n",
       "661175                     0.123528     -0.115648   \n",
       "319831                     0.123528     -0.115648   \n",
       "266732                     0.123528     -0.115648   \n",
       "549489                     0.123528     -0.115648   \n",
       "369392                     0.123528     -0.115648   \n",
       "\n",
       "        fulladdress_homephone_count_0_by_14  name_day_since  \\\n",
       "661175                             0.120387        0.940508   \n",
       "319831                             0.120387       -0.241150   \n",
       "266732                             0.120387       -0.420762   \n",
       "549489                             0.120387        0.552924   \n",
       "369392                             0.120387       -0.070992   \n",
       "\n",
       "        homephone_count_7  homephone_count_3  address_count_1_by_7  ...  \\\n",
       "661175          -0.769214          -0.521454              0.103441  ...   \n",
       "319831          -0.769214          -0.521454              0.103441  ...   \n",
       "266732          -0.769214          -0.521454              0.103441  ...   \n",
       "549489           0.055132          -0.521454              0.103441  ...   \n",
       "369392          -0.769214          -0.521454              0.103441  ...   \n",
       "\n",
       "        fulladdress_homephone_count_7  ssn_firstname_count_7  \\\n",
       "661175                      -0.057263              -0.057185   \n",
       "319831                      -0.057263              -0.057185   \n",
       "266732                      -0.057263              -0.057185   \n",
       "549489                      -0.057263              -0.057185   \n",
       "369392                      -0.057263              -0.057185   \n",
       "\n",
       "        ssn_lastname_count_0_by_14  ssn_lastname_day_since  ssn_name_count_7  \\\n",
       "661175                    0.123458                0.742526         -0.057109   \n",
       "319831                    0.123458               -0.446132         -0.057109   \n",
       "266732                    0.123458               -0.626808         -0.057109   \n",
       "549489                    0.123458                0.352646         -0.057109   \n",
       "369392                    0.123458               -0.274966         -0.057109   \n",
       "\n",
       "        name_count_14  ssn_count_7  ssn_dob_count_7  ssn_lastname_count_7  \\\n",
       "661175      -0.159376    -0.058092        -0.055708             -0.057154   \n",
       "319831      -0.159376    -0.058092        -0.055708             -0.057154   \n",
       "266732      -0.159376    -0.058092        -0.055708             -0.057154   \n",
       "549489      -0.159376    -0.058092        -0.055708             -0.057154   \n",
       "369392      -0.159376    -0.058092        -0.055708             -0.057154   \n",
       "\n",
       "        ssn_name_day_since  \n",
       "661175            0.741995  \n",
       "319831           -0.446655  \n",
       "266732           -0.627330  \n",
       "549489            0.352118  \n",
       "369392           -0.275489  \n",
       "\n",
       "[5 rows x 25 columns]"
      ]
     },
     "execution_count": 2,
     "metadata": {},
     "output_type": "execute_result"
    }
   ],
   "source": [
    "x_train, x_test, x_oot, y_train, y_test, y_oot = load_data('var_30.csv')\n",
    "x_train.head()"
   ]
  },
  {
   "cell_type": "code",
   "execution_count": 5,
   "metadata": {
    "scrolled": false
   },
   "outputs": [
    {
     "name": "stdout",
     "output_type": "stream",
     "text": [
      "Iteration 1, loss = 0.05106573\n",
      "Iteration 2, loss = 0.04910147\n",
      "Iteration 3, loss = 0.04889677\n",
      "Iteration 4, loss = 0.04866563\n",
      "Iteration 5, loss = 0.04862690\n",
      "Iteration 6, loss = 0.04852418\n",
      "Iteration 7, loss = 0.04848832\n",
      "Iteration 8, loss = 0.04841574\n",
      "Iteration 9, loss = 0.04840225\n",
      "Iteration 10, loss = 0.04844143\n",
      "Iteration 11, loss = 0.04837196\n",
      "Iteration 12, loss = 0.04837431\n",
      "Iteration 13, loss = 0.04837338\n",
      "Iteration 14, loss = 0.04833429\n",
      "Iteration 15, loss = 0.04837924\n",
      "Iteration 16, loss = 0.04835720\n",
      "Iteration 17, loss = 0.04835626\n",
      "Training loss did not improve more than tol=0.000100 for 10 consecutive epochs. Stopping.\n",
      "0.5325139470013946\n",
      "0.5220814789455666\n"
     ]
    }
   ],
   "source": [
    "nn = MLPClassifier((100,), learning_rate_init=0.01, verbose=1).fit(x_train, y_train)\n",
    "print(fdr(nn, x_train, y_train))\n",
    "print(fdr(nn, x_test, y_test))"
   ]
  },
  {
   "cell_type": "code",
   "execution_count": 11,
   "metadata": {
    "pycharm": {
     "name": "#%%\n"
    },
    "scrolled": true
   },
   "outputs": [
    {
     "name": "stdout",
     "output_type": "stream",
     "text": [
      "Iteration 1, loss = 0.05733666\n",
      "Iteration 2, loss = 0.04833396\n",
      "Iteration 3, loss = 0.04812294\n",
      "Iteration 4, loss = 0.04797798\n",
      "Iteration 5, loss = 0.04787389\n",
      "Iteration 6, loss = 0.04783505\n",
      "Iteration 7, loss = 0.04772320\n",
      "Iteration 8, loss = 0.04769655\n",
      "Iteration 9, loss = 0.04761283\n",
      "Iteration 10, loss = 0.04760213\n",
      "Iteration 11, loss = 0.04754495\n",
      "Iteration 12, loss = 0.04754267\n",
      "Iteration 13, loss = 0.04745639\n",
      "Iteration 14, loss = 0.04749684\n",
      "Iteration 15, loss = 0.04743195\n",
      "Iteration 16, loss = 0.04741379\n",
      "Iteration 17, loss = 0.04741647\n",
      "Iteration 18, loss = 0.04739404\n",
      "Training loss did not improve more than tol=0.000100 for 10 consecutive epochs. Stopping.\n",
      "0.534431659693166\n",
      "0.5217391304347826\n"
     ]
    }
   ],
   "source": [
    "nn = MLPClassifier((100,), learning_rate_init=0.001, verbose=1).fit(x_train, y_train)\n",
    "print(fdr(nn, x_train, y_train))\n",
    "print(fdr(nn, x_test, y_test))"
   ]
  },
  {
   "cell_type": "code",
   "execution_count": 5,
   "metadata": {
    "scrolled": false
   },
   "outputs": [
    {
     "name": "stdout",
     "output_type": "stream",
     "text": [
      "Iteration 0: with loss 0.48167356660726385\n",
      "Iteration 1: with loss 0.4785211025491436\n",
      "Iteration 2: with loss 0.4822980681138491\n",
      "Iteration 3: with loss 0.4805464431638996\n",
      "Iteration 4: with loss 0.4769622058420434\n",
      "Iteration 5: with loss 0.4801283139305787\n",
      "Iteration 6: with loss 0.48291215962351147\n",
      "Iteration 7: with loss 0.4788628155283076\n",
      "Iteration 8: with loss 0.48310211593188596\n",
      "Iteration 9: with loss 0.48083155896833035\n"
     ]
    },
    {
     "data": {
      "text/plain": [
       "0.5217391304347826"
      ]
     },
     "execution_count": 5,
     "metadata": {},
     "output_type": "execute_result"
    }
   ],
   "source": [
    "clfs = list()\n",
    "for i in range(10):\n",
    "    x_resample, y_resample = RandomUnderSampler().fit_resample(x_train, y_train)\n",
    "    clf = MLPClassifier((1000,), learning_rate_init=0.01, verbose=0).fit(x_resample, y_resample)\n",
    "    clfs.append(clf)\n",
    "    print(f'Iteration {i}: with loss {clf.loss_}')\n",
    "prob = sum([c.predict_proba(x_test) for c in clfs]) / len(clfs)\n",
    "fdr_prob(y_test, prob)"
   ]
  },
  {
   "cell_type": "code",
   "execution_count": 11,
   "metadata": {},
   "outputs": [
    {
     "name": "stderr",
     "output_type": "stream",
     "text": [
      "[Parallel(n_jobs=2)]: Using backend LokyBackend with 2 concurrent workers.\n",
      "[Parallel(n_jobs=2)]: Done   2 out of   2 | elapsed:   26.8s remaining:    0.0s\n",
      "[Parallel(n_jobs=2)]: Done   2 out of   2 | elapsed:   26.8s finished\n"
     ]
    },
    {
     "ename": "TypeError",
     "evalue": "plot_report() missing 2 required positional arguments: 'x' and 'y'",
     "output_type": "error",
     "traceback": [
      "\u001b[0;31m---------------------------------------------------------------------------\u001b[0m",
      "\u001b[0;31mTypeError\u001b[0m                                 Traceback (most recent call last)",
      "\u001b[0;32m<ipython-input-11-33a67fb41e15>\u001b[0m in \u001b[0;36m<module>\u001b[0;34m\u001b[0m\n\u001b[1;32m      3\u001b[0m                             \u001b[0mn_jobs\u001b[0m\u001b[0;34m=\u001b[0m\u001b[0;36m2\u001b[0m\u001b[0;34m,\u001b[0m\u001b[0;34m\u001b[0m\u001b[0;34m\u001b[0m\u001b[0m\n\u001b[1;32m      4\u001b[0m                             verbose=1).fit(x_train, y_train)\n\u001b[0;32m----> 5\u001b[0;31m \u001b[0mplot_report\u001b[0m\u001b[0;34m(\u001b[0m\u001b[0mee\u001b[0m\u001b[0;34m)\u001b[0m\u001b[0;34m\u001b[0m\u001b[0;34m\u001b[0m\u001b[0m\n\u001b[0m",
      "\u001b[0;31mTypeError\u001b[0m: plot_report() missing 2 required positional arguments: 'x' and 'y'"
     ]
    }
   ],
   "source": [
    "ee = EasyEnsembleClassifier(base_estimator=MLPClassifier((100,), learning_rate_init=0.01, verbose=0),\n",
    "                            n_estimators=10,\n",
    "                            n_jobs=2,\n",
    "                            verbose=0).fit(x_train, y_train)\n"
   ]
  },
  {
   "cell_type": "code",
   "execution_count": 12,
   "metadata": {},
   "outputs": [
    {
     "name": "stderr",
     "output_type": "stream",
     "text": [
      "[Parallel(n_jobs=2)]: Using backend LokyBackend with 2 concurrent workers.\n",
      "[Parallel(n_jobs=2)]: Done   2 out of   2 | elapsed:    0.7s remaining:    0.0s\n",
      "[Parallel(n_jobs=2)]: Done   2 out of   2 | elapsed:    0.7s finished\n"
     ]
    },
    {
     "name": "stdout",
     "output_type": "stream",
     "text": [
      "FDR: 0.5213967819239986\n",
      "\n"
     ]
    },
    {
     "name": "stderr",
     "output_type": "stream",
     "text": [
      "[Parallel(n_jobs=2)]: Using backend LokyBackend with 2 concurrent workers.\n",
      "[Parallel(n_jobs=2)]: Done   2 out of   2 | elapsed:    0.8s remaining:    0.0s\n",
      "[Parallel(n_jobs=2)]: Done   2 out of   2 | elapsed:    0.8s finished\n",
      "[Parallel(n_jobs=2)]: Using backend LokyBackend with 2 concurrent workers.\n"
     ]
    },
    {
     "name": "stdout",
     "output_type": "stream",
     "text": [
      "              precision    recall  f1-score   support\n",
      "\n",
      "           0       0.99      0.97      0.98    197079\n",
      "           1       0.22      0.53      0.31      2921\n",
      "\n",
      "    accuracy                           0.97    200000\n",
      "   macro avg       0.61      0.75      0.65    200000\n",
      "weighted avg       0.98      0.97      0.97    200000\n",
      "\n"
     ]
    },
    {
     "name": "stderr",
     "output_type": "stream",
     "text": [
      "[Parallel(n_jobs=2)]: Done   2 out of   2 | elapsed:    0.8s remaining:    0.0s\n",
      "[Parallel(n_jobs=2)]: Done   2 out of   2 | elapsed:    0.8s finished\n",
      "[Parallel(n_jobs=2)]: Using backend LokyBackend with 2 concurrent workers.\n",
      "[Parallel(n_jobs=2)]: Done   2 out of   2 | elapsed:    0.8s remaining:    0.0s\n",
      "[Parallel(n_jobs=2)]: Done   2 out of   2 | elapsed:    0.8s finished\n"
     ]
    },
    {
     "data": {
      "image/png": "[encoded data removed]",
      "text/plain": [
       "<Figure size 432x288 with 2 Axes>"
      ]
     },
     "metadata": {
      "needs_background": "light"
     },
     "output_type": "display_data"
    },
    {
     "data": {
      "image/png": "[encoded data removed]",
      "text/plain": [
       "<Figure size 432x288 with 1 Axes>"
      ]
     },
     "metadata": {
      "needs_background": "light"
     },
     "output_type": "display_data"
    }
   ],
   "source": [
    "plot_report(ee, x_test, y_test)"
   ]
  },
  {
   "cell_type": "code",
   "execution_count": null,
   "metadata": {},
   "outputs": [],
   "source": []
  }
 ],
 "metadata": {
  "kernelspec": {
   "display_name": "Python 3",
   "language": "python",
   "name": "python3"
  },
  "language_info": {
   "codemirror_mode": {
    "name": "ipython",
    "version": 3
   },
   "file_extension": ".py",
   "mimetype": "text/x-python",
   "name": "python",
   "nbconvert_exporter": "python",
   "pygments_lexer": "ipython3",
   "version": "3.6.8"
  }
 },
 "nbformat": 4,
 "nbformat_minor": 1
}
