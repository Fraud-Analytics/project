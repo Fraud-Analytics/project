{
 "cells": [
  {
   "cell_type": "code",
   "execution_count": 1,
   "metadata": {
    "collapsed": true,
    "pycharm": {
     "is_executing": false
    }
   },
   "outputs": [],
   "source": [
    "import pandas as pd\n",
    "from scipy.stats import ks_2samp\n",
    "from sklearn.preprocessing import StandardScaler"
   ]
  },
  {
   "cell_type": "code",
   "execution_count": 2,
   "outputs": [],
   "source": [
    "df = pd.read_csv('sample.csv')"
   ],
   "metadata": {
    "collapsed": false,
    "pycharm": {
     "name": "#%%\n",
     "is_executing": false
    }
   }
  },
  {
   "cell_type": "code",
   "execution_count": 4,
   "outputs": [
    {
     "data": {
      "text/plain": "   record  fraud_label  dow_risk  ssn_day_since  ssn_count_0  ssn_count_1  \\\n0       1            0  0.014499            0.0            1            1   \n1       2            1  0.014499            0.0            1            1   \n2       3            0  0.014499            0.0            1            1   \n3       4            0  0.014499            0.0            1            1   \n4       5            0  0.014499            0.0            1            1   \n\n   ssn_count_3  ssn_count_7  ssn_count_14  ssn_count_30  ...  \\\n0            1            1             1             1  ...   \n1            1            1             1             1  ...   \n2            1            1             1             1  ...   \n3            1            1             1             1  ...   \n4            1            1             1             1  ...   \n\n   ssn_homephone_count_0_by_3  ssn_homephone_count_0_by_7  \\\n0                         3.0                         7.0   \n1                         3.0                         7.0   \n2                         3.0                         7.0   \n3                         3.0                         7.0   \n4                         3.0                         7.0   \n\n   ssn_homephone_count_0_by_14  ssn_homephone_count_0_by_30  \\\n0                         14.0                         30.0   \n1                         14.0                         30.0   \n2                         14.0                         30.0   \n3                         14.0                         30.0   \n4                         14.0                         30.0   \n\n   ssn_homephone_count_1_by_3  ssn_homephone_count_1_by_7  \\\n0                         3.0                         7.0   \n1                         3.0                         7.0   \n2                         3.0                         7.0   \n3                         3.0                         7.0   \n4                         3.0                         7.0   \n\n   ssn_homephone_count_1_by_14  ssn_homephone_count_1_by_30  \\\n0                         14.0                         30.0   \n1                         14.0                         30.0   \n2                         14.0                         30.0   \n3                         14.0                         30.0   \n4                         14.0                         30.0   \n\n   ssn_name_count_0_by_3  ssn_name_count_0_by_7  \n0                    3.0                    7.0  \n1                    3.0                    7.0  \n2                    3.0                    7.0  \n3                    3.0                    7.0  \n4                    3.0                    7.0  \n\n[5 rows x 311 columns]",
      "text/html": "<div>\n<style scoped>\n    .dataframe tbody tr th:only-of-type {\n        vertical-align: middle;\n    }\n\n    .dataframe tbody tr th {\n        vertical-align: top;\n    }\n\n    .dataframe thead th {\n        text-align: right;\n    }\n</style>\n<table border=\"1\" class=\"dataframe\">\n  <thead>\n    <tr style=\"text-align: right;\">\n      <th></th>\n      <th>record</th>\n      <th>fraud_label</th>\n      <th>dow_risk</th>\n      <th>ssn_day_since</th>\n      <th>ssn_count_0</th>\n      <th>ssn_count_1</th>\n      <th>ssn_count_3</th>\n      <th>ssn_count_7</th>\n      <th>ssn_count_14</th>\n      <th>ssn_count_30</th>\n      <th>...</th>\n      <th>ssn_homephone_count_0_by_3</th>\n      <th>ssn_homephone_count_0_by_7</th>\n      <th>ssn_homephone_count_0_by_14</th>\n      <th>ssn_homephone_count_0_by_30</th>\n      <th>ssn_homephone_count_1_by_3</th>\n      <th>ssn_homephone_count_1_by_7</th>\n      <th>ssn_homephone_count_1_by_14</th>\n      <th>ssn_homephone_count_1_by_30</th>\n      <th>ssn_name_count_0_by_3</th>\n      <th>ssn_name_count_0_by_7</th>\n    </tr>\n  </thead>\n  <tbody>\n    <tr>\n      <th>0</th>\n      <td>1</td>\n      <td>0</td>\n      <td>0.014499</td>\n      <td>0.0</td>\n      <td>1</td>\n      <td>1</td>\n      <td>1</td>\n      <td>1</td>\n      <td>1</td>\n      <td>1</td>\n      <td>...</td>\n      <td>3.0</td>\n      <td>7.0</td>\n      <td>14.0</td>\n      <td>30.0</td>\n      <td>3.0</td>\n      <td>7.0</td>\n      <td>14.0</td>\n      <td>30.0</td>\n      <td>3.0</td>\n      <td>7.0</td>\n    </tr>\n    <tr>\n      <th>1</th>\n      <td>2</td>\n      <td>1</td>\n      <td>0.014499</td>\n      <td>0.0</td>\n      <td>1</td>\n      <td>1</td>\n      <td>1</td>\n      <td>1</td>\n      <td>1</td>\n      <td>1</td>\n      <td>...</td>\n      <td>3.0</td>\n      <td>7.0</td>\n      <td>14.0</td>\n      <td>30.0</td>\n      <td>3.0</td>\n      <td>7.0</td>\n      <td>14.0</td>\n      <td>30.0</td>\n      <td>3.0</td>\n      <td>7.0</td>\n    </tr>\n    <tr>\n      <th>2</th>\n      <td>3</td>\n      <td>0</td>\n      <td>0.014499</td>\n      <td>0.0</td>\n      <td>1</td>\n      <td>1</td>\n      <td>1</td>\n      <td>1</td>\n      <td>1</td>\n      <td>1</td>\n      <td>...</td>\n      <td>3.0</td>\n      <td>7.0</td>\n      <td>14.0</td>\n      <td>30.0</td>\n      <td>3.0</td>\n      <td>7.0</td>\n      <td>14.0</td>\n      <td>30.0</td>\n      <td>3.0</td>\n      <td>7.0</td>\n    </tr>\n    <tr>\n      <th>3</th>\n      <td>4</td>\n      <td>0</td>\n      <td>0.014499</td>\n      <td>0.0</td>\n      <td>1</td>\n      <td>1</td>\n      <td>1</td>\n      <td>1</td>\n      <td>1</td>\n      <td>1</td>\n      <td>...</td>\n      <td>3.0</td>\n      <td>7.0</td>\n      <td>14.0</td>\n      <td>30.0</td>\n      <td>3.0</td>\n      <td>7.0</td>\n      <td>14.0</td>\n      <td>30.0</td>\n      <td>3.0</td>\n      <td>7.0</td>\n    </tr>\n    <tr>\n      <th>4</th>\n      <td>5</td>\n      <td>0</td>\n      <td>0.014499</td>\n      <td>0.0</td>\n      <td>1</td>\n      <td>1</td>\n      <td>1</td>\n      <td>1</td>\n      <td>1</td>\n      <td>1</td>\n      <td>...</td>\n      <td>3.0</td>\n      <td>7.0</td>\n      <td>14.0</td>\n      <td>30.0</td>\n      <td>3.0</td>\n      <td>7.0</td>\n      <td>14.0</td>\n      <td>30.0</td>\n      <td>3.0</td>\n      <td>7.0</td>\n    </tr>\n  </tbody>\n</table>\n<p>5 rows × 311 columns</p>\n</div>"
     },
     "metadata": {},
     "output_type": "execute_result",
     "execution_count": 4
    }
   ],
   "source": [
    "df.head()"
   ],
   "metadata": {
    "collapsed": false,
    "pycharm": {
     "name": "#%%\n",
     "is_executing": false
    }
   }
  },
  {
   "cell_type": "code",
   "execution_count": 38,
   "outputs": [
    {
     "data": {
      "text/plain": "Index(['dow_risk', 'ssn_day_since', 'ssn_count_0', 'ssn_count_1',\n       'ssn_count_3', 'ssn_count_7', 'ssn_count_14', 'ssn_count_30',\n       'address_day_since', 'address_count_0',\n       ...\n       'ssn_homephone_count_0_by_3', 'ssn_homephone_count_0_by_7',\n       'ssn_homephone_count_0_by_14', 'ssn_homephone_count_0_by_30',\n       'ssn_homephone_count_1_by_3', 'ssn_homephone_count_1_by_7',\n       'ssn_homephone_count_1_by_14', 'ssn_homephone_count_1_by_30',\n       'ssn_name_count_0_by_3', 'ssn_name_count_0_by_7'],\n      dtype='object', length=309)"
     },
     "metadata": {},
     "output_type": "execute_result",
     "execution_count": 38
    }
   ],
   "source": [
    "df.columns"
   ],
   "metadata": {
    "collapsed": false,
    "pycharm": {
     "name": "#%%\n",
     "is_executing": false
    }
   }
  },
  {
   "cell_type": "code",
   "execution_count": 8,
   "outputs": [],
   "source": [
    "std_scale = StandardScaler().fit(df)\n",
    "df_std = pd.DataFrame(std_scale.transform(df), columns=df.columns)"
   ],
   "metadata": {
    "collapsed": false,
    "pycharm": {
     "name": "#%%\n",
     "is_executing": false
    }
   }
  },
  {
   "cell_type": "code",
   "execution_count": null,
   "outputs": [],
   "source": [
    "print(df_std.mean(axis=0))\n",
    "print(df_std.std(axis=0))"
   ],
   "metadata": {
    "collapsed": false,
    "pycharm": {
     "name": "#%%\n"
    }
   }
  },
  {
   "cell_type": "code",
   "execution_count": 19,
   "outputs": [],
   "source": [
    "y = df_std['fraud_label']"
   ],
   "metadata": {
    "collapsed": false,
    "pycharm": {
     "name": "#%%\n",
     "is_executing": false
    }
   }
  },
  {
   "cell_type": "code",
   "execution_count": 10,
   "outputs": [],
   "source": [
    "ks_stat = {}\n",
    "for col in df_std.columns:\n",
    "    ks = ks_2samp(y, df_std[col])\n",
    "    ks_stat[col] = ks"
   ],
   "metadata": {
    "collapsed": false,
    "pycharm": {
     "name": "#%%\n",
     "is_executing": false
    }
   }
  },
  {
   "cell_type": "code",
   "execution_count": 11,
   "outputs": [],
   "source": [
    "sorted_ks_pvalue = sorted(ks_stat.items(), key=lambda x:x[1].pvalue, reverse=True)\n",
    "sorted_ks_stat = sorted(ks_stat.items(), key=lambda x:x[1].statistic)"
   ],
   "metadata": {
    "collapsed": false,
    "pycharm": {
     "name": "#%%\n",
     "is_executing": false
    }
   }
  },
  {
   "cell_type": "code",
   "execution_count": 13,
   "outputs": [],
   "source": [
    "with open('ks_stat.csv', 'w') as f:\n",
    "    f.write('\\n'.join([f'{i[0]},{i[1].statistic},{i[1].pvalue}' for i in sorted_ks_stat]))"
   ],
   "metadata": {
    "collapsed": false,
    "pycharm": {
     "name": "#%%\n",
     "is_executing": false
    }
   }
  },
  {
   "cell_type": "code",
   "execution_count": 14,
   "outputs": [],
   "source": [
    "from sklearn.metrics import normalized_mutual_info_score"
   ],
   "metadata": {
    "collapsed": false,
    "pycharm": {
     "name": "#%%\n",
     "is_executing": false
    }
   }
  },
  {
   "cell_type": "code",
   "execution_count": 23,
   "outputs": [],
   "source": [
    "mi = {}\n",
    "for col in df_std.columns:\n",
    "    mi[col] = normalized_mutual_info_score(y, df_std[col])"
   ],
   "metadata": {
    "collapsed": false,
    "pycharm": {
     "name": "#%%\n",
     "is_executing": false
    }
   }
  },
  {
   "cell_type": "code",
   "execution_count": 24,
   "outputs": [],
   "source": [
    "sorted_mi = sorted(mi.items(), key=lambda x:x[1], reverse=True)"
   ],
   "metadata": {
    "collapsed": false,
    "pycharm": {
     "name": "#%%\n",
     "is_executing": false
    }
   }
  },
  {
   "cell_type": "code",
   "execution_count": 26,
   "outputs": [],
   "source": [
    "with open('mi_stat.csv', 'w') as f:\n",
    "    f.write('\\n'.join([f'{i[0]},{i[1]}' for i in sorted_mi]))"
   ],
   "metadata": {
    "collapsed": false,
    "pycharm": {
     "name": "#%%\n",
     "is_executing": false
    }
   }
  },
  {
   "cell_type": "code",
   "execution_count": 29,
   "outputs": [],
   "source": [
    "num = len(sorted_mi) // 2\n",
    "mi_set = {i[0] for i in sorted_mi[:num]}\n",
    "ks_set = {i[0] for i in sorted_ks_stat[:num]}"
   ],
   "metadata": {
    "collapsed": false,
    "pycharm": {
     "name": "#%%\n",
     "is_executing": false
    }
   }
  }
 ],
 "metadata": {
  "kernelspec": {
   "display_name": "Python 3",
   "language": "python",
   "name": "python3"
  },
  "language_info": {
   "codemirror_mode": {
    "name": "ipython",
    "version": 2
   },
   "file_extension": ".py",
   "mimetype": "text/x-python",
   "name": "python",
   "nbconvert_exporter": "python",
   "pygments_lexer": "ipython2",
   "version": "2.7.6"
  },
  "pycharm": {
   "stem_cell": {
    "cell_type": "raw",
    "source": [],
    "metadata": {
     "collapsed": false
    }
   }
  }
 },
 "nbformat": 4,
 "nbformat_minor": 0
}