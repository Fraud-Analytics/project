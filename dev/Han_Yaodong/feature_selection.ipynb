{
 "cells": [
  {
   "cell_type": "code",
   "execution_count": 1,
   "metadata": {
    "collapsed": true
   },
   "outputs": [],
   "source": [
    "import pandas as pd\n",
    "import numpy as np\n",
    "from scipy.stats import ks_2samp\n",
    "from sklearn.preprocessing import StandardScaler"
   ]
  },
  {
   "cell_type": "code",
   "execution_count": 2,
   "outputs": [],
   "source": [
    "df = pd.read_csv('sample.csv')"
   ],
   "metadata": {
    "collapsed": false,
    "pycharm": {
     "name": "#%%\n"
    }
   }
  },
  {
   "cell_type": "code",
   "execution_count": 3,
   "outputs": [
    {
     "data": {
      "text/plain": "   record  fraud_label  dow_risk  ssn_day_since  ssn_count_0  ssn_count_1  \\\n0       1            0  0.014499            0.0            1            1   \n1       2            1  0.014499            0.0            1            1   \n2       3            0  0.014499            0.0            1            1   \n3       4            0  0.014499            0.0            1            1   \n4       5            0  0.014499            0.0            1            1   \n\n   ssn_count_3  ssn_count_7  ssn_count_14  ssn_count_30  ...  \\\n0            1            1             1             1  ...   \n1            1            1             1             1  ...   \n2            1            1             1             1  ...   \n3            1            1             1             1  ...   \n4            1            1             1             1  ...   \n\n   ssn_homephone_count_0_by_3  ssn_homephone_count_0_by_7  \\\n0                         3.0                         7.0   \n1                         3.0                         7.0   \n2                         3.0                         7.0   \n3                         3.0                         7.0   \n4                         3.0                         7.0   \n\n   ssn_homephone_count_0_by_14  ssn_homephone_count_0_by_30  \\\n0                         14.0                         30.0   \n1                         14.0                         30.0   \n2                         14.0                         30.0   \n3                         14.0                         30.0   \n4                         14.0                         30.0   \n\n   ssn_homephone_count_1_by_3  ssn_homephone_count_1_by_7  \\\n0                         3.0                         7.0   \n1                         3.0                         7.0   \n2                         3.0                         7.0   \n3                         3.0                         7.0   \n4                         3.0                         7.0   \n\n   ssn_homephone_count_1_by_14  ssn_homephone_count_1_by_30  \\\n0                         14.0                         30.0   \n1                         14.0                         30.0   \n2                         14.0                         30.0   \n3                         14.0                         30.0   \n4                         14.0                         30.0   \n\n   ssn_name_count_0_by_3  ssn_name_count_0_by_7  \n0                    3.0                    7.0  \n1                    3.0                    7.0  \n2                    3.0                    7.0  \n3                    3.0                    7.0  \n4                    3.0                    7.0  \n\n[5 rows x 311 columns]",
      "text/html": "<div>\n<style scoped>\n    .dataframe tbody tr th:only-of-type {\n        vertical-align: middle;\n    }\n\n    .dataframe tbody tr th {\n        vertical-align: top;\n    }\n\n    .dataframe thead th {\n        text-align: right;\n    }\n</style>\n<table border=\"1\" class=\"dataframe\">\n  <thead>\n    <tr style=\"text-align: right;\">\n      <th></th>\n      <th>record</th>\n      <th>fraud_label</th>\n      <th>dow_risk</th>\n      <th>ssn_day_since</th>\n      <th>ssn_count_0</th>\n      <th>ssn_count_1</th>\n      <th>ssn_count_3</th>\n      <th>ssn_count_7</th>\n      <th>ssn_count_14</th>\n      <th>ssn_count_30</th>\n      <th>...</th>\n      <th>ssn_homephone_count_0_by_3</th>\n      <th>ssn_homephone_count_0_by_7</th>\n      <th>ssn_homephone_count_0_by_14</th>\n      <th>ssn_homephone_count_0_by_30</th>\n      <th>ssn_homephone_count_1_by_3</th>\n      <th>ssn_homephone_count_1_by_7</th>\n      <th>ssn_homephone_count_1_by_14</th>\n      <th>ssn_homephone_count_1_by_30</th>\n      <th>ssn_name_count_0_by_3</th>\n      <th>ssn_name_count_0_by_7</th>\n    </tr>\n  </thead>\n  <tbody>\n    <tr>\n      <th>0</th>\n      <td>1</td>\n      <td>0</td>\n      <td>0.014499</td>\n      <td>0.0</td>\n      <td>1</td>\n      <td>1</td>\n      <td>1</td>\n      <td>1</td>\n      <td>1</td>\n      <td>1</td>\n      <td>...</td>\n      <td>3.0</td>\n      <td>7.0</td>\n      <td>14.0</td>\n      <td>30.0</td>\n      <td>3.0</td>\n      <td>7.0</td>\n      <td>14.0</td>\n      <td>30.0</td>\n      <td>3.0</td>\n      <td>7.0</td>\n    </tr>\n    <tr>\n      <th>1</th>\n      <td>2</td>\n      <td>1</td>\n      <td>0.014499</td>\n      <td>0.0</td>\n      <td>1</td>\n      <td>1</td>\n      <td>1</td>\n      <td>1</td>\n      <td>1</td>\n      <td>1</td>\n      <td>...</td>\n      <td>3.0</td>\n      <td>7.0</td>\n      <td>14.0</td>\n      <td>30.0</td>\n      <td>3.0</td>\n      <td>7.0</td>\n      <td>14.0</td>\n      <td>30.0</td>\n      <td>3.0</td>\n      <td>7.0</td>\n    </tr>\n    <tr>\n      <th>2</th>\n      <td>3</td>\n      <td>0</td>\n      <td>0.014499</td>\n      <td>0.0</td>\n      <td>1</td>\n      <td>1</td>\n      <td>1</td>\n      <td>1</td>\n      <td>1</td>\n      <td>1</td>\n      <td>...</td>\n      <td>3.0</td>\n      <td>7.0</td>\n      <td>14.0</td>\n      <td>30.0</td>\n      <td>3.0</td>\n      <td>7.0</td>\n      <td>14.0</td>\n      <td>30.0</td>\n      <td>3.0</td>\n      <td>7.0</td>\n    </tr>\n    <tr>\n      <th>3</th>\n      <td>4</td>\n      <td>0</td>\n      <td>0.014499</td>\n      <td>0.0</td>\n      <td>1</td>\n      <td>1</td>\n      <td>1</td>\n      <td>1</td>\n      <td>1</td>\n      <td>1</td>\n      <td>...</td>\n      <td>3.0</td>\n      <td>7.0</td>\n      <td>14.0</td>\n      <td>30.0</td>\n      <td>3.0</td>\n      <td>7.0</td>\n      <td>14.0</td>\n      <td>30.0</td>\n      <td>3.0</td>\n      <td>7.0</td>\n    </tr>\n    <tr>\n      <th>4</th>\n      <td>5</td>\n      <td>0</td>\n      <td>0.014499</td>\n      <td>0.0</td>\n      <td>1</td>\n      <td>1</td>\n      <td>1</td>\n      <td>1</td>\n      <td>1</td>\n      <td>1</td>\n      <td>...</td>\n      <td>3.0</td>\n      <td>7.0</td>\n      <td>14.0</td>\n      <td>30.0</td>\n      <td>3.0</td>\n      <td>7.0</td>\n      <td>14.0</td>\n      <td>30.0</td>\n      <td>3.0</td>\n      <td>7.0</td>\n    </tr>\n  </tbody>\n</table>\n<p>5 rows × 311 columns</p>\n</div>"
     },
     "execution_count": 3,
     "metadata": {},
     "output_type": "execute_result"
    }
   ],
   "source": [
    "df.head()"
   ],
   "metadata": {
    "collapsed": false,
    "pycharm": {
     "name": "#%%\n"
    }
   }
  },
  {
   "cell_type": "code",
   "execution_count": 4,
   "outputs": [
    {
     "data": {
      "text/plain": "Index(['record', 'fraud_label', 'dow_risk', 'ssn_day_since', 'ssn_count_0',\n       'ssn_count_1', 'ssn_count_3', 'ssn_count_7', 'ssn_count_14',\n       'ssn_count_30',\n       ...\n       'ssn_homephone_count_0_by_3', 'ssn_homephone_count_0_by_7',\n       'ssn_homephone_count_0_by_14', 'ssn_homephone_count_0_by_30',\n       'ssn_homephone_count_1_by_3', 'ssn_homephone_count_1_by_7',\n       'ssn_homephone_count_1_by_14', 'ssn_homephone_count_1_by_30',\n       'ssn_name_count_0_by_3', 'ssn_name_count_0_by_7'],\n      dtype='object', length=311)"
     },
     "execution_count": 4,
     "metadata": {},
     "output_type": "execute_result"
    }
   ],
   "source": [
    "df.columns"
   ],
   "metadata": {
    "collapsed": false,
    "pycharm": {
     "name": "#%%\n"
    }
   }
  },
  {
   "cell_type": "code",
   "execution_count": 5,
   "outputs": [],
   "source": [
    "y = df['fraud_label']"
   ],
   "metadata": {
    "collapsed": false,
    "pycharm": {
     "name": "#%%\n"
    }
   }
  },
  {
   "cell_type": "code",
   "execution_count": 6,
   "outputs": [],
   "source": [
    "df_f = df[y==1]\n",
    "df_nf = df[y==0]"
   ],
   "metadata": {
    "collapsed": false,
    "pycharm": {
     "name": "#%%\n"
    }
   }
  },
  {
   "cell_type": "code",
   "execution_count": 7,
   "outputs": [],
   "source": [
    "df_f = pd.DataFrame(np.repeat(df_f.values, 100, axis=0))\n",
    "df_f.set_axis(df.columns, axis='columns', inplace=True)"
   ],
   "metadata": {
    "collapsed": false,
    "pycharm": {
     "name": "#%%\n"
    }
   }
  },
  {
   "cell_type": "code",
   "execution_count": 8,
   "outputs": [
    {
     "name": "stdout",
     "output_type": "stream",
     "text": [
      "KS for record: 0.097, with p: 1.000\n",
      "KS for fraud_label: 1.000, with p: 1.000\n",
      "KS for dow_risk: 0.066, with p: 1.000\n",
      "KS for ssn_day_since: 0.117, with p: 1.000\n",
      "KS for ssn_count_0: 0.084, with p: 1.000\n",
      "KS for ssn_count_1: 0.135, with p: 1.000\n",
      "KS for ssn_count_3: 0.135, with p: 1.000\n",
      "KS for ssn_count_7: 0.135, with p: 1.000\n",
      "KS for ssn_count_14: 0.135, with p: 1.000\n",
      "KS for ssn_count_30: 0.135, with p: 1.000\n",
      "KS for address_day_since: 0.043, with p: 1.000\n",
      "KS for address_count_0: 0.041, with p: 1.000\n",
      "KS for address_count_1: 0.051, with p: 1.000\n",
      "KS for address_count_3: 0.060, with p: 1.000\n",
      "KS for address_count_7: 0.060, with p: 1.000\n",
      "KS for address_count_14: 0.060, with p: 1.000\n",
      "KS for address_count_30: 0.060, with p: 1.000\n",
      "KS for dob_day_since: 0.116, with p: 1.000\n",
      "KS for dob_count_0: 0.060, with p: 1.000\n",
      "KS for dob_count_1: 0.120, with p: 1.000\n",
      "KS for dob_count_3: 0.115, with p: 1.000\n",
      "KS for dob_count_7: 0.115, with p: 1.000\n",
      "KS for dob_count_14: 0.115, with p: 1.000\n",
      "KS for dob_count_30: 0.115, with p: 1.000\n",
      "KS for homephone_day_since: 0.052, with p: 1.000\n",
      "KS for homephone_count_0: 0.060, with p: 1.000\n",
      "KS for homephone_count_1: 0.091, with p: 1.000\n",
      "KS for homephone_count_3: 0.072, with p: 1.000\n",
      "KS for homephone_count_7: 0.072, with p: 1.000\n",
      "KS for homephone_count_14: 0.072, with p: 1.000\n",
      "KS for homephone_count_30: 0.072, with p: 1.000\n",
      "KS for name_day_since: 0.126, with p: 1.000\n",
      "KS for name_count_0: 0.092, with p: 1.000\n",
      "KS for name_count_1: 0.142, with p: 1.000\n",
      "KS for name_count_3: 0.160, with p: 1.000\n",
      "KS for name_count_7: 0.160, with p: 1.000\n",
      "KS for name_count_14: 0.160, with p: 1.000\n",
      "KS for name_count_30: 0.160, with p: 1.000\n",
      "KS for fulladdress_day_since: 0.043, with p: 1.000\n",
      "KS for fulladdress_count_0: 0.041, with p: 1.000\n",
      "KS for fulladdress_count_1: 0.051, with p: 1.000\n",
      "KS for fulladdress_count_3: 0.061, with p: 1.000\n",
      "KS for fulladdress_count_7: 0.061, with p: 1.000\n",
      "KS for fulladdress_count_14: 0.061, with p: 1.000\n",
      "KS for fulladdress_count_30: 0.061, with p: 1.000\n",
      "KS for name_dob_day_since: 0.117, with p: 1.000\n",
      "KS for name_dob_count_0: 0.084, with p: 1.000\n",
      "KS for name_dob_count_1: 0.136, with p: 1.000\n",
      "KS for name_dob_count_3: 0.135, with p: 1.000\n",
      "KS for name_dob_count_7: 0.135, with p: 1.000\n",
      "KS for name_dob_count_14: 0.135, with p: 1.000\n",
      "KS for name_dob_count_30: 0.135, with p: 1.000\n",
      "KS for name_fulladdress_day_since: 0.064, with p: 1.000\n",
      "KS for name_fulladdress_count_0: 0.000, with p: 1.000\n",
      "KS for name_fulladdress_count_1: 0.001, with p: 1.000\n",
      "KS for name_fulladdress_count_3: 0.002, with p: 1.000\n",
      "KS for name_fulladdress_count_7: 0.002, with p: 1.000\n",
      "KS for name_fulladdress_count_14: 0.002, with p: 1.000\n",
      "KS for name_fulladdress_count_30: 0.002, with p: 1.000\n",
      "KS for name_homephone_day_since: 0.064, with p: 1.000\n",
      "KS for name_homephone_count_0: 0.000, with p: 1.000\n",
      "KS for name_homephone_count_1: 0.001, with p: 1.000\n",
      "KS for name_homephone_count_3: 0.002, with p: 1.000\n",
      "KS for name_homephone_count_7: 0.002, with p: 1.000\n",
      "KS for name_homephone_count_14: 0.002, with p: 1.000\n",
      "KS for name_homephone_count_30: 0.002, with p: 1.000\n",
      "KS for fulladdress_dob_day_since: 0.064, with p: 1.000\n",
      "KS for fulladdress_dob_count_0: 0.000, with p: 1.000\n",
      "KS for fulladdress_dob_count_1: 0.001, with p: 1.000\n",
      "KS for fulladdress_dob_count_3: 0.002, with p: 1.000\n",
      "KS for fulladdress_dob_count_7: 0.002, with p: 1.000\n",
      "KS for fulladdress_dob_count_14: 0.002, with p: 1.000\n",
      "KS for fulladdress_dob_count_30: 0.002, with p: 1.000\n",
      "KS for fulladdress_homephone_day_since: 0.053, with p: 1.000\n",
      "KS for fulladdress_homephone_count_0: 0.010, with p: 1.000\n",
      "KS for fulladdress_homephone_count_1: 0.020, with p: 1.000\n",
      "KS for fulladdress_homephone_count_3: 0.019, with p: 1.000\n",
      "KS for fulladdress_homephone_count_7: 0.019, with p: 1.000\n",
      "KS for fulladdress_homephone_count_14: 0.019, with p: 1.000\n",
      "KS for fulladdress_homephone_count_30: 0.019, with p: 1.000\n",
      "KS for dob_homephone_day_since: 0.064, with p: 1.000\n",
      "KS for dob_homephone_count_0: 0.000, with p: 1.000\n",
      "KS for dob_homephone_count_1: 0.001, with p: 1.000\n",
      "KS for dob_homephone_count_3: 0.002, with p: 1.000\n",
      "KS for dob_homephone_count_7: 0.002, with p: 1.000\n",
      "KS for dob_homephone_count_14: 0.002, with p: 1.000\n",
      "KS for dob_homephone_count_30: 0.002, with p: 1.000\n",
      "KS for homephone_name_dob_day_since: 0.064, with p: 1.000\n",
      "KS for homephone_name_dob_count_0: 0.000, with p: 1.000\n",
      "KS for homephone_name_dob_count_1: 0.001, with p: 1.000\n",
      "KS for homephone_name_dob_count_3: 0.002, with p: 1.000\n",
      "KS for homephone_name_dob_count_7: 0.002, with p: 1.000\n",
      "KS for homephone_name_dob_count_14: 0.002, with p: 1.000\n",
      "KS for homephone_name_dob_count_30: 0.002, with p: 1.000\n",
      "KS for ssn_firstname_day_since: 0.117, with p: 1.000\n",
      "KS for ssn_firstname_count_0: 0.084, with p: 1.000\n",
      "KS for ssn_firstname_count_1: 0.136, with p: 1.000\n",
      "KS for ssn_firstname_count_3: 0.135, with p: 1.000\n",
      "KS for ssn_firstname_count_7: 0.135, with p: 1.000\n",
      "KS for ssn_firstname_count_14: 0.135, with p: 1.000\n",
      "KS for ssn_firstname_count_30: 0.135, with p: 1.000\n",
      "KS for ssn_lastname_day_since: 0.117, with p: 1.000\n",
      "KS for ssn_lastname_count_0: 0.084, with p: 1.000\n",
      "KS for ssn_lastname_count_1: 0.136, with p: 1.000\n",
      "KS for ssn_lastname_count_3: 0.135, with p: 1.000\n",
      "KS for ssn_lastname_count_7: 0.135, with p: 1.000\n",
      "KS for ssn_lastname_count_14: 0.135, with p: 1.000\n",
      "KS for ssn_lastname_count_30: 0.135, with p: 1.000\n",
      "KS for ssn_address_day_since: 0.064, with p: 1.000\n",
      "KS for ssn_address_count_0: 0.000, with p: 1.000\n",
      "KS for ssn_address_count_1: 0.001, with p: 1.000\n",
      "KS for ssn_address_count_3: 0.002, with p: 1.000\n",
      "KS for ssn_address_count_7: 0.002, with p: 1.000\n",
      "KS for ssn_address_count_14: 0.002, with p: 1.000\n",
      "KS for ssn_address_count_30: 0.002, with p: 1.000\n",
      "KS for ssn_zip5_day_since: 0.064, with p: 1.000\n",
      "KS for ssn_zip5_count_0: 0.000, with p: 1.000\n",
      "KS for ssn_zip5_count_1: 0.001, with p: 1.000\n",
      "KS for ssn_zip5_count_3: 0.002, with p: 1.000\n",
      "KS for ssn_zip5_count_7: 0.002, with p: 1.000\n",
      "KS for ssn_zip5_count_14: 0.002, with p: 1.000\n",
      "KS for ssn_zip5_count_30: 0.002, with p: 1.000\n",
      "KS for ssn_dob_day_since: 0.117, with p: 1.000\n",
      "KS for ssn_dob_count_0: 0.084, with p: 1.000\n",
      "KS for ssn_dob_count_1: 0.136, with p: 1.000\n",
      "KS for ssn_dob_count_3: 0.135, with p: 1.000\n",
      "KS for ssn_dob_count_7: 0.135, with p: 1.000\n",
      "KS for ssn_dob_count_14: 0.135, with p: 1.000\n",
      "KS for ssn_dob_count_30: 0.135, with p: 1.000\n",
      "KS for ssn_homephone_day_since: 0.064, with p: 1.000\n",
      "KS for ssn_homephone_count_0: 0.000, with p: 1.000\n",
      "KS for ssn_homephone_count_1: 0.001, with p: 1.000\n",
      "KS for ssn_homephone_count_3: 0.002, with p: 1.000\n",
      "KS for ssn_homephone_count_7: 0.002, with p: 1.000\n",
      "KS for ssn_homephone_count_14: 0.002, with p: 1.000\n",
      "KS for ssn_homephone_count_30: 0.002, with p: 1.000\n",
      "KS for ssn_name_day_since: 0.117, with p: 1.000\n",
      "KS for ssn_name_count_0: 0.084, with p: 1.000\n",
      "KS for ssn_name_count_1: 0.136, with p: 1.000\n",
      "KS for ssn_name_count_3: 0.135, with p: 1.000\n",
      "KS for ssn_name_count_7: 0.135, with p: 1.000\n",
      "KS for ssn_name_count_14: 0.135, with p: 1.000\n",
      "KS for ssn_name_count_30: 0.135, with p: 1.000\n",
      "KS for ssn_fulladdress_day_since: 0.064, with p: 1.000\n",
      "KS for ssn_fulladdress_count_0: 0.000, with p: 1.000\n",
      "KS for ssn_fulladdress_count_1: 0.001, with p: 1.000\n",
      "KS for ssn_fulladdress_count_3: 0.002, with p: 1.000\n",
      "KS for ssn_fulladdress_count_7: 0.002, with p: 1.000\n",
      "KS for ssn_fulladdress_count_14: 0.002, with p: 1.000\n",
      "KS for ssn_fulladdress_count_30: 0.002, with p: 1.000\n",
      "KS for ssn_name_dob_day_since: 0.117, with p: 1.000\n",
      "KS for ssn_name_dob_count_0: 0.084, with p: 1.000\n",
      "KS for ssn_name_dob_count_1: 0.136, with p: 1.000\n",
      "KS for ssn_name_dob_count_3: 0.135, with p: 1.000\n",
      "KS for ssn_name_dob_count_7: 0.135, with p: 1.000\n",
      "KS for ssn_name_dob_count_14: 0.135, with p: 1.000\n",
      "KS for ssn_name_dob_count_30: 0.135, with p: 1.000\n",
      "KS for ssn_count_0_by_3: 0.125, with p: 1.000\n",
      "KS for ssn_count_0_by_7: 0.125, with p: 1.000\n",
      "KS for ssn_count_0_by_14: 0.125, with p: 1.000\n",
      "KS for ssn_count_0_by_30: 0.125, with p: 1.000\n",
      "KS for ssn_count_1_by_3: 0.104, with p: 1.000\n",
      "KS for ssn_count_1_by_7: 0.104, with p: 1.000\n",
      "KS for ssn_count_1_by_14: 0.104, with p: 1.000\n",
      "KS for ssn_count_1_by_30: 0.104, with p: 1.000\n",
      "KS for address_count_0_by_3: 0.029, with p: 1.000\n",
      "KS for address_count_0_by_7: 0.029, with p: 1.000\n",
      "KS for address_count_0_by_14: 0.029, with p: 1.000\n",
      "KS for address_count_0_by_30: 0.029, with p: 1.000\n",
      "KS for address_count_1_by_3: 0.009, with p: 1.000\n",
      "KS for address_count_1_by_7: 0.009, with p: 1.000\n",
      "KS for address_count_1_by_14: 0.009, with p: 1.000\n",
      "KS for address_count_1_by_30: 0.009, with p: 1.000\n",
      "KS for dob_count_0_by_3: 0.123, with p: 1.000\n",
      "KS for dob_count_0_by_7: 0.123, with p: 1.000\n",
      "KS for dob_count_0_by_14: 0.123, with p: 1.000\n",
      "KS for dob_count_0_by_30: 0.123, with p: 1.000\n",
      "KS for dob_count_1_by_3: 0.094, with p: 1.000\n",
      "KS for dob_count_1_by_7: 0.094, with p: 1.000\n",
      "KS for dob_count_1_by_14: 0.094, with p: 1.000\n",
      "KS for dob_count_1_by_30: 0.094, with p: 1.000\n",
      "KS for homephone_count_0_by_3: 0.031, with p: 1.000\n",
      "KS for homephone_count_0_by_7: 0.031, with p: 1.000\n",
      "KS for homephone_count_0_by_14: 0.031, with p: 1.000\n",
      "KS for homephone_count_0_by_30: 0.031, with p: 1.000\n",
      "KS for homephone_count_1_by_3: 0.016, with p: 1.000\n",
      "KS for homephone_count_1_by_7: 0.016, with p: 1.000\n",
      "KS for homephone_count_1_by_14: 0.016, with p: 1.000\n",
      "KS for homephone_count_1_by_30: 0.016, with p: 1.000\n",
      "KS for name_count_0_by_3: 0.141, with p: 1.000\n",
      "KS for name_count_0_by_7: 0.141, with p: 1.000\n",
      "KS for name_count_0_by_14: 0.141, with p: 1.000\n",
      "KS for name_count_0_by_30: 0.141, with p: 1.000\n",
      "KS for name_count_1_by_3: 0.123, with p: 1.000\n",
      "KS for name_count_1_by_7: 0.123, with p: 1.000\n",
      "KS for name_count_1_by_14: 0.123, with p: 1.000\n",
      "KS for name_count_1_by_30: 0.123, with p: 1.000\n",
      "KS for fulladdress_count_0_by_3: 0.030, with p: 1.000\n",
      "KS for fulladdress_count_0_by_7: 0.030, with p: 1.000\n",
      "KS for fulladdress_count_0_by_14: 0.030, with p: 1.000\n",
      "KS for fulladdress_count_0_by_30: 0.030, with p: 1.000\n",
      "KS for fulladdress_count_1_by_3: 0.010, with p: 1.000\n",
      "KS for fulladdress_count_1_by_7: 0.010, with p: 1.000\n",
      "KS for fulladdress_count_1_by_14: 0.010, with p: 1.000\n",
      "KS for fulladdress_count_1_by_30: 0.010, with p: 1.000\n",
      "KS for name_dob_count_0_by_3: 0.125, with p: 1.000\n",
      "KS for name_dob_count_0_by_7: 0.125, with p: 1.000\n",
      "KS for name_dob_count_0_by_14: 0.125, with p: 1.000\n",
      "KS for name_dob_count_0_by_30: 0.125, with p: 1.000\n",
      "KS for name_dob_count_1_by_3: 0.104, with p: 1.000\n",
      "KS for name_dob_count_1_by_7: 0.104, with p: 1.000\n",
      "KS for name_dob_count_1_by_14: 0.104, with p: 1.000\n",
      "KS for name_dob_count_1_by_30: 0.104, with p: 1.000\n",
      "KS for name_fulladdress_count_0_by_3: 0.001, with p: 1.000\n",
      "KS for name_fulladdress_count_0_by_7: 0.001, with p: 1.000\n",
      "KS for name_fulladdress_count_0_by_14: 0.001, with p: 1.000\n",
      "KS for name_fulladdress_count_0_by_30: 0.001, with p: 1.000\n",
      "KS for name_fulladdress_count_1_by_3: 0.001, with p: 1.000\n",
      "KS for name_fulladdress_count_1_by_7: 0.001, with p: 1.000\n",
      "KS for name_fulladdress_count_1_by_14: 0.001, with p: 1.000\n",
      "KS for name_fulladdress_count_1_by_30: 0.001, with p: 1.000\n",
      "KS for name_homephone_count_0_by_3: 0.001, with p: 1.000\n",
      "KS for name_homephone_count_0_by_7: 0.001, with p: 1.000\n",
      "KS for name_homephone_count_0_by_14: 0.001, with p: 1.000\n",
      "KS for name_homephone_count_0_by_30: 0.001, with p: 1.000\n",
      "KS for name_homephone_count_1_by_3: 0.001, with p: 1.000\n",
      "KS for name_homephone_count_1_by_7: 0.001, with p: 1.000\n",
      "KS for name_homephone_count_1_by_14: 0.001, with p: 1.000\n",
      "KS for name_homephone_count_1_by_30: 0.001, with p: 1.000\n",
      "KS for fulladdress_dob_count_0_by_3: 0.001, with p: 1.000\n",
      "KS for fulladdress_dob_count_0_by_7: 0.001, with p: 1.000\n",
      "KS for fulladdress_dob_count_0_by_14: 0.001, with p: 1.000\n",
      "KS for fulladdress_dob_count_0_by_30: 0.001, with p: 1.000\n",
      "KS for fulladdress_dob_count_1_by_3: 0.001, with p: 1.000\n",
      "KS for fulladdress_dob_count_1_by_7: 0.001, with p: 1.000\n",
      "KS for fulladdress_dob_count_1_by_14: 0.001, with p: 1.000\n",
      "KS for fulladdress_dob_count_1_by_30: 0.001, with p: 1.000\n",
      "KS for fulladdress_homephone_count_0_by_3: 0.020, with p: 1.000\n",
      "KS for fulladdress_homephone_count_0_by_7: 0.020, with p: 1.000\n",
      "KS for fulladdress_homephone_count_0_by_14: 0.020, with p: 1.000\n",
      "KS for fulladdress_homephone_count_0_by_30: 0.020, with p: 1.000\n",
      "KS for fulladdress_homephone_count_1_by_3: 0.001, with p: 1.000\n",
      "KS for fulladdress_homephone_count_1_by_7: 0.001, with p: 1.000\n",
      "KS for fulladdress_homephone_count_1_by_14: 0.001, with p: 1.000\n",
      "KS for fulladdress_homephone_count_1_by_30: 0.001, with p: 1.000\n",
      "KS for dob_homephone_count_0_by_3: 0.001, with p: 1.000\n",
      "KS for dob_homephone_count_0_by_7: 0.001, with p: 1.000\n",
      "KS for dob_homephone_count_0_by_14: 0.001, with p: 1.000\n",
      "KS for dob_homephone_count_0_by_30: 0.001, with p: 1.000\n",
      "KS for dob_homephone_count_1_by_3: 0.001, with p: 1.000\n",
      "KS for dob_homephone_count_1_by_7: 0.001, with p: 1.000\n",
      "KS for dob_homephone_count_1_by_14: 0.001, with p: 1.000\n",
      "KS for dob_homephone_count_1_by_30: 0.001, with p: 1.000\n",
      "KS for homephone_name_dob_count_0_by_3: 0.001, with p: 1.000\n",
      "KS for homephone_name_dob_count_0_by_7: 0.001, with p: 1.000\n",
      "KS for homephone_name_dob_count_0_by_14: 0.001, with p: 1.000\n",
      "KS for homephone_name_dob_count_0_by_30: 0.001, with p: 1.000\n",
      "KS for homephone_name_dob_count_1_by_3: 0.001, with p: 1.000\n",
      "KS for homephone_name_dob_count_1_by_7: 0.001, with p: 1.000\n",
      "KS for homephone_name_dob_count_1_by_14: 0.001, with p: 1.000\n",
      "KS for homephone_name_dob_count_1_by_30: 0.001, with p: 1.000\n",
      "KS for ssn_firstname_count_0_by_3: 0.125, with p: 1.000\n",
      "KS for ssn_firstname_count_0_by_7: 0.125, with p: 1.000\n",
      "KS for ssn_firstname_count_0_by_14: 0.125, with p: 1.000\n",
      "KS for ssn_firstname_count_0_by_30: 0.125, with p: 1.000\n",
      "KS for ssn_firstname_count_1_by_3: 0.104, with p: 1.000\n",
      "KS for ssn_firstname_count_1_by_7: 0.104, with p: 1.000\n",
      "KS for ssn_firstname_count_1_by_14: 0.104, with p: 1.000\n",
      "KS for ssn_firstname_count_1_by_30: 0.104, with p: 1.000\n",
      "KS for ssn_lastname_count_0_by_3: 0.125, with p: 1.000\n",
      "KS for ssn_lastname_count_0_by_7: 0.125, with p: 1.000\n",
      "KS for ssn_lastname_count_0_by_14: 0.125, with p: 1.000\n",
      "KS for ssn_lastname_count_0_by_30: 0.125, with p: 1.000\n",
      "KS for ssn_lastname_count_1_by_3: 0.104, with p: 1.000\n",
      "KS for ssn_lastname_count_1_by_7: 0.104, with p: 1.000\n",
      "KS for ssn_lastname_count_1_by_14: 0.104, with p: 1.000\n",
      "KS for ssn_lastname_count_1_by_30: 0.104, with p: 1.000\n",
      "KS for ssn_address_count_0_by_3: 0.001, with p: 1.000\n",
      "KS for ssn_address_count_0_by_7: 0.001, with p: 1.000\n",
      "KS for ssn_address_count_0_by_14: 0.001, with p: 1.000\n",
      "KS for ssn_address_count_0_by_30: 0.001, with p: 1.000\n",
      "KS for ssn_address_count_1_by_3: 0.001, with p: 1.000\n",
      "KS for ssn_address_count_1_by_7: 0.001, with p: 1.000\n",
      "KS for ssn_address_count_1_by_14: 0.001, with p: 1.000\n",
      "KS for ssn_address_count_1_by_30: 0.001, with p: 1.000\n",
      "KS for ssn_zip5_count_0_by_3: 0.001, with p: 1.000\n",
      "KS for ssn_zip5_count_0_by_7: 0.001, with p: 1.000\n",
      "KS for ssn_zip5_count_0_by_14: 0.001, with p: 1.000\n",
      "KS for ssn_zip5_count_0_by_30: 0.001, with p: 1.000\n",
      "KS for ssn_zip5_count_1_by_3: 0.001, with p: 1.000\n",
      "KS for ssn_zip5_count_1_by_7: 0.001, with p: 1.000\n",
      "KS for ssn_zip5_count_1_by_14: 0.001, with p: 1.000\n",
      "KS for ssn_zip5_count_1_by_30: 0.001, with p: 1.000\n",
      "KS for ssn_dob_count_0_by_3: 0.125, with p: 1.000\n",
      "KS for ssn_dob_count_0_by_7: 0.125, with p: 1.000\n",
      "KS for ssn_dob_count_0_by_14: 0.125, with p: 1.000\n",
      "KS for ssn_dob_count_0_by_30: 0.125, with p: 1.000\n",
      "KS for ssn_dob_count_1_by_3: 0.104, with p: 1.000\n",
      "KS for ssn_dob_count_1_by_7: 0.104, with p: 1.000\n",
      "KS for ssn_dob_count_1_by_14: 0.104, with p: 1.000\n",
      "KS for ssn_dob_count_1_by_30: 0.104, with p: 1.000\n",
      "KS for ssn_homephone_count_0_by_3: 0.001, with p: 1.000\n",
      "KS for ssn_homephone_count_0_by_7: 0.001, with p: 1.000\n",
      "KS for ssn_homephone_count_0_by_14: 0.001, with p: 1.000\n",
      "KS for ssn_homephone_count_0_by_30: 0.001, with p: 1.000\n",
      "KS for ssn_homephone_count_1_by_3: 0.001, with p: 1.000\n",
      "KS for ssn_homephone_count_1_by_7: 0.001, with p: 1.000\n",
      "KS for ssn_homephone_count_1_by_14: 0.001, with p: 1.000\n",
      "KS for ssn_homephone_count_1_by_30: 0.001, with p: 1.000\n",
      "KS for ssn_name_count_0_by_3: 0.125, with p: 1.000\n",
      "KS for ssn_name_count_0_by_7: 0.125, with p: 1.000\n"
     ]
    }
   ],
   "source": [
    "ks_stat = {}\n",
    "for col in df.columns:\n",
    "    ks = ks_2samp(df_f[col], df_nf[col])\n",
    "    print(f'KS for {col}: {ks.statistic:.3f}, with p: {ks.pvalue:.3f}')\n",
    "    ks_stat[col] = ks"
   ],
   "metadata": {
    "collapsed": false,
    "pycharm": {
     "name": "#%%\n"
    }
   }
  },
  {
   "cell_type": "code",
   "execution_count": 18,
   "outputs": [],
   "source": [
    "sorted_ks_pvalue = sorted(ks_stat.items(), key=lambda x:x[1].pvalue, reverse=True)\n",
    "sorted_ks_stat = sorted(ks_stat.items(), key=lambda x:x[1].statistic, reverse=True)"
   ],
   "metadata": {
    "collapsed": false,
    "pycharm": {
     "name": "#%%\n"
    }
   }
  },
  {
   "cell_type": "code",
   "execution_count": 19,
   "outputs": [],
   "source": [
    "with open('ks_stat.csv', 'w') as f:\n",
    "    f.write('\\n'.join([f'{i[0]},{i[1].statistic},{i[1].pvalue}' for i in sorted_ks_stat]))"
   ],
   "metadata": {
    "collapsed": false,
    "pycharm": {
     "name": "#%%\n"
    }
   }
  },
  {
   "cell_type": "code",
   "execution_count": 11,
   "outputs": [],
   "source": [
    "from sklearn.metrics import normalized_mutual_info_score"
   ],
   "metadata": {
    "collapsed": false,
    "pycharm": {
     "name": "#%%\n"
    }
   }
  },
  {
   "cell_type": "code",
   "execution_count": 12,
   "outputs": [],
   "source": [
    "mi = {}\n",
    "for col in df.columns:\n",
    "    mi[col] = normalized_mutual_info_score(y, df[col])"
   ],
   "metadata": {
    "collapsed": false,
    "pycharm": {
     "name": "#%%\n"
    }
   }
  },
  {
   "cell_type": "code",
   "execution_count": 13,
   "outputs": [],
   "source": [
    "sorted_mi = sorted(mi.items(), key=lambda x:x[1], reverse=True)"
   ],
   "metadata": {
    "collapsed": false,
    "pycharm": {
     "name": "#%%\n"
    }
   }
  },
  {
   "cell_type": "code",
   "execution_count": 17,
   "outputs": [],
   "source": [
    "with open('mi_stat.csv', 'w') as f:\n",
    "    f.write('\\n'.join([f'{i[0]},{i[1]}' for i in sorted_mi]))"
   ],
   "metadata": {
    "collapsed": false,
    "pycharm": {
     "name": "#%%\n"
    }
   }
  },
  {
   "cell_type": "code",
   "execution_count": 15,
   "outputs": [],
   "source": [
    "num = len(sorted_mi) // 2\n",
    "mi_set = {i[0] for i in sorted_mi[:num]}\n",
    "ks_set = {i[0] for i in sorted_ks_stat[:num]}"
   ],
   "metadata": {
    "collapsed": false,
    "pycharm": {
     "name": "#%%\n"
    }
   }
  }
 ],
 "metadata": {
  "kernelspec": {
   "display_name": "Python 3",
   "language": "python",
   "name": "python3"
  },
  "language_info": {
   "codemirror_mode": {
    "name": "ipython",
    "version": 2
   },
   "file_extension": ".py",
   "mimetype": "text/x-python",
   "name": "python",
   "nbconvert_exporter": "python",
   "pygments_lexer": "ipython2",
   "version": "2.7.6"
  }
 },
 "nbformat": 4,
 "nbformat_minor": 0
}