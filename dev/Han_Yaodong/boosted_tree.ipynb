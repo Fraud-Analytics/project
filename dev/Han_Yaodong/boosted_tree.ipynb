{
 "cells": [
  {
   "cell_type": "code",
   "execution_count": 1,
   "metadata": {},
   "outputs": [],
   "source": [
    "import pandas as pd\n",
    "import numpy as np\n",
    "from sklearn.ensemble import GradientBoostingClassifier\n",
    "from sklearn.model_selection import GridSearchCV\n",
    "from sklearn.model_selection import train_test_split\n",
    "from sklearn.preprocessing import OneHotEncoder\n",
    "from sklearn.linear_model import LogisticRegression\n",
    "from sklearn.metrics import roc_curve\n",
    "from joblib import Parallel\n",
    "from joblib import delayed\n",
    "import matplotlib.pyplot as plt\n",
    "from collections import ChainMap\n",
    "from util import *"
   ]
  },
  {
   "cell_type": "code",
   "execution_count": 2,
   "metadata": {
    "pycharm": {
     "name": "#%%\n"
    }
   },
   "outputs": [
    {
     "data": {
      "text/html": [
       "<div>\n",
       "<style scoped>\n",
       "    .dataframe tbody tr th:only-of-type {\n",
       "        vertical-align: middle;\n",
       "    }\n",
       "\n",
       "    .dataframe tbody tr th {\n",
       "        vertical-align: top;\n",
       "    }\n",
       "\n",
       "    .dataframe thead th {\n",
       "        text-align: right;\n",
       "    }\n",
       "</style>\n",
       "<table border=\"1\" class=\"dataframe\">\n",
       "  <thead>\n",
       "    <tr style=\"text-align: right;\">\n",
       "      <th></th>\n",
       "      <th>ssn_count_3</th>\n",
       "      <th>fulladdress_count_0</th>\n",
       "      <th>address_count_0</th>\n",
       "      <th>name_dob_count_3</th>\n",
       "      <th>homephone_count_14</th>\n",
       "      <th>name_dob_count_7</th>\n",
       "      <th>name_day_since</th>\n",
       "      <th>ssn_firstname_count_0_by_14</th>\n",
       "      <th>name_count_7</th>\n",
       "      <th>fulladdress_homephone_count_0_by_14</th>\n",
       "      <th>...</th>\n",
       "      <th>ssn_count_0_by_14</th>\n",
       "      <th>ssn_firstname_count_7</th>\n",
       "      <th>ssn_count_7</th>\n",
       "      <th>fulladdress_count_1_by_14</th>\n",
       "      <th>fulladdress_homephone_count_7</th>\n",
       "      <th>ssn_name_dob_count_7</th>\n",
       "      <th>name_count_14</th>\n",
       "      <th>ssn_firstname_count_0_by_30</th>\n",
       "      <th>ssn_lastname_count_0_by_30</th>\n",
       "      <th>ssn_count_14</th>\n",
       "    </tr>\n",
       "  </thead>\n",
       "  <tbody>\n",
       "    <tr>\n",
       "      <th>244621</th>\n",
       "      <td>-0.047591</td>\n",
       "      <td>-0.041351</td>\n",
       "      <td>-0.042158</td>\n",
       "      <td>-0.046415</td>\n",
       "      <td>0.708788</td>\n",
       "      <td>-0.055801</td>\n",
       "      <td>0.598116</td>\n",
       "      <td>0.123528</td>\n",
       "      <td>-0.115648</td>\n",
       "      <td>0.120387</td>\n",
       "      <td>...</td>\n",
       "      <td>0.124781</td>\n",
       "      <td>-0.057185</td>\n",
       "      <td>-0.058092</td>\n",
       "      <td>0.123861</td>\n",
       "      <td>-0.057263</td>\n",
       "      <td>-0.055635</td>\n",
       "      <td>-0.159376</td>\n",
       "      <td>0.171472</td>\n",
       "      <td>0.171458</td>\n",
       "      <td>-0.072421</td>\n",
       "    </tr>\n",
       "    <tr>\n",
       "      <th>536321</th>\n",
       "      <td>-0.047591</td>\n",
       "      <td>-0.041351</td>\n",
       "      <td>-0.042158</td>\n",
       "      <td>-0.046415</td>\n",
       "      <td>-1.011308</td>\n",
       "      <td>-0.055801</td>\n",
       "      <td>0.598116</td>\n",
       "      <td>0.123528</td>\n",
       "      <td>-0.115648</td>\n",
       "      <td>0.120387</td>\n",
       "      <td>...</td>\n",
       "      <td>0.124781</td>\n",
       "      <td>-0.057185</td>\n",
       "      <td>-0.058092</td>\n",
       "      <td>0.123861</td>\n",
       "      <td>-0.057263</td>\n",
       "      <td>-0.055635</td>\n",
       "      <td>-0.159376</td>\n",
       "      <td>0.171472</td>\n",
       "      <td>0.171458</td>\n",
       "      <td>-0.072421</td>\n",
       "    </tr>\n",
       "    <tr>\n",
       "      <th>288505</th>\n",
       "      <td>-0.047591</td>\n",
       "      <td>-0.041351</td>\n",
       "      <td>-0.042158</td>\n",
       "      <td>-0.046415</td>\n",
       "      <td>0.135423</td>\n",
       "      <td>-0.055801</td>\n",
       "      <td>0.598116</td>\n",
       "      <td>0.123528</td>\n",
       "      <td>-0.115648</td>\n",
       "      <td>0.120387</td>\n",
       "      <td>...</td>\n",
       "      <td>0.124781</td>\n",
       "      <td>-0.057185</td>\n",
       "      <td>-0.058092</td>\n",
       "      <td>0.123861</td>\n",
       "      <td>-0.057263</td>\n",
       "      <td>-0.055635</td>\n",
       "      <td>-0.159376</td>\n",
       "      <td>0.171472</td>\n",
       "      <td>0.171458</td>\n",
       "      <td>-0.072421</td>\n",
       "    </tr>\n",
       "    <tr>\n",
       "      <th>669993</th>\n",
       "      <td>-0.047591</td>\n",
       "      <td>-0.041351</td>\n",
       "      <td>-0.042158</td>\n",
       "      <td>-0.046415</td>\n",
       "      <td>1.282153</td>\n",
       "      <td>-0.055801</td>\n",
       "      <td>-0.512151</td>\n",
       "      <td>0.123528</td>\n",
       "      <td>-0.115648</td>\n",
       "      <td>0.120387</td>\n",
       "      <td>...</td>\n",
       "      <td>0.124781</td>\n",
       "      <td>-0.057185</td>\n",
       "      <td>-0.058092</td>\n",
       "      <td>0.123861</td>\n",
       "      <td>-0.057263</td>\n",
       "      <td>-0.055635</td>\n",
       "      <td>-0.159376</td>\n",
       "      <td>0.171472</td>\n",
       "      <td>0.171458</td>\n",
       "      <td>-0.072421</td>\n",
       "    </tr>\n",
       "    <tr>\n",
       "      <th>219303</th>\n",
       "      <td>-0.047591</td>\n",
       "      <td>-0.041351</td>\n",
       "      <td>-0.042158</td>\n",
       "      <td>-0.046415</td>\n",
       "      <td>0.135423</td>\n",
       "      <td>-0.055801</td>\n",
       "      <td>0.598116</td>\n",
       "      <td>0.123528</td>\n",
       "      <td>-0.115648</td>\n",
       "      <td>0.120387</td>\n",
       "      <td>...</td>\n",
       "      <td>0.124781</td>\n",
       "      <td>-0.057185</td>\n",
       "      <td>-0.058092</td>\n",
       "      <td>0.123861</td>\n",
       "      <td>-0.057263</td>\n",
       "      <td>-0.055635</td>\n",
       "      <td>-0.159376</td>\n",
       "      <td>0.171472</td>\n",
       "      <td>0.171458</td>\n",
       "      <td>-0.072421</td>\n",
       "    </tr>\n",
       "  </tbody>\n",
       "</table>\n",
       "<p>5 rows × 30 columns</p>\n",
       "</div>"
      ],
      "text/plain": [
       "        ssn_count_3  fulladdress_count_0  address_count_0  name_dob_count_3  \\\n",
       "244621    -0.047591            -0.041351        -0.042158         -0.046415   \n",
       "536321    -0.047591            -0.041351        -0.042158         -0.046415   \n",
       "288505    -0.047591            -0.041351        -0.042158         -0.046415   \n",
       "669993    -0.047591            -0.041351        -0.042158         -0.046415   \n",
       "219303    -0.047591            -0.041351        -0.042158         -0.046415   \n",
       "\n",
       "        homephone_count_14  name_dob_count_7  name_day_since  \\\n",
       "244621            0.708788         -0.055801        0.598116   \n",
       "536321           -1.011308         -0.055801        0.598116   \n",
       "288505            0.135423         -0.055801        0.598116   \n",
       "669993            1.282153         -0.055801       -0.512151   \n",
       "219303            0.135423         -0.055801        0.598116   \n",
       "\n",
       "        ssn_firstname_count_0_by_14  name_count_7  \\\n",
       "244621                     0.123528     -0.115648   \n",
       "536321                     0.123528     -0.115648   \n",
       "288505                     0.123528     -0.115648   \n",
       "669993                     0.123528     -0.115648   \n",
       "219303                     0.123528     -0.115648   \n",
       "\n",
       "        fulladdress_homephone_count_0_by_14  ...  ssn_count_0_by_14  \\\n",
       "244621                             0.120387  ...           0.124781   \n",
       "536321                             0.120387  ...           0.124781   \n",
       "288505                             0.120387  ...           0.124781   \n",
       "669993                             0.120387  ...           0.124781   \n",
       "219303                             0.120387  ...           0.124781   \n",
       "\n",
       "        ssn_firstname_count_7  ssn_count_7  fulladdress_count_1_by_14  \\\n",
       "244621              -0.057185    -0.058092                   0.123861   \n",
       "536321              -0.057185    -0.058092                   0.123861   \n",
       "288505              -0.057185    -0.058092                   0.123861   \n",
       "669993              -0.057185    -0.058092                   0.123861   \n",
       "219303              -0.057185    -0.058092                   0.123861   \n",
       "\n",
       "        fulladdress_homephone_count_7  ssn_name_dob_count_7  name_count_14  \\\n",
       "244621                      -0.057263             -0.055635      -0.159376   \n",
       "536321                      -0.057263             -0.055635      -0.159376   \n",
       "288505                      -0.057263             -0.055635      -0.159376   \n",
       "669993                      -0.057263             -0.055635      -0.159376   \n",
       "219303                      -0.057263             -0.055635      -0.159376   \n",
       "\n",
       "        ssn_firstname_count_0_by_30  ssn_lastname_count_0_by_30  ssn_count_14  \n",
       "244621                     0.171472                    0.171458     -0.072421  \n",
       "536321                     0.171472                    0.171458     -0.072421  \n",
       "288505                     0.171472                    0.171458     -0.072421  \n",
       "669993                     0.171472                    0.171458     -0.072421  \n",
       "219303                     0.171472                    0.171458     -0.072421  \n",
       "\n",
       "[5 rows x 30 columns]"
      ]
     },
     "execution_count": 2,
     "metadata": {},
     "output_type": "execute_result"
    }
   ],
   "source": [
    "x_train, x_test, x_oot, y_train, y_test, y_oot = load_data('var_30.csv')\n",
    "x_train.head()"
   ]
  },
  {
   "cell_type": "code",
   "execution_count": 3,
   "metadata": {},
   "outputs": [],
   "source": [
    "def fit_and_calculate_fdr(original_param, setting, label, color):\n",
    "    params = ChainMap(setting, original_param)\n",
    "    bt = GradientBoostingClassifier(**params).fit(x_train, y_train)\n",
    "\n",
    "    test_score = [fdr_prob(y_test, y_pred_prob)\n",
    "                  for y_pred_prob in bt.staged_predict_proba(x_test)]\n",
    "    return label, color, test_score"
   ]
  },
  {
   "cell_type": "code",
   "execution_count": 4,
   "metadata": {
    "scrolled": false
   },
   "outputs": [
    {
     "name": "stderr",
     "output_type": "stream",
     "text": [
      "[Parallel(n_jobs=-1)]: Using backend LokyBackend with 8 concurrent workers.\n",
      "[Parallel(n_jobs=-1)]: Done   2 out of   5 | elapsed: 22.6min remaining: 33.8min\n",
      "[Parallel(n_jobs=-1)]: Done   5 out of   5 | elapsed: 30.6min finished\n"
     ]
    },
    {
     "data": {
      "image/png": "[encoded data removed]",
      "text/plain": [
       "<Figure size 864x360 with 1 Axes>"
      ]
     },
     "metadata": {
      "needs_background": "light"
     },
     "output_type": "display_data"
    }
   ],
   "source": [
    "original_param = {'max_depth': 5, 'n_estimators': 1000}\n",
    "\n",
    "test_scores = Parallel(n_jobs=-1, verbose=1, prefer='processes')(\n",
    "    delayed(fit_and_calculate_fdr)(original_param, setting, label, color)\n",
    "    for label, color, setting in [\n",
    "        ('lr=0.001', 'gray', {'learning_rate': 0.001}),\n",
    "        ('lr=0.01', 'orange', {'learning_rate': 0.01}),\n",
    "        ('lr=0.1', 'turquoise', {'learning_rate': 0.1}),\n",
    "        ('lr=1', 'blue', {'learning_rate': 1}),\n",
    "        ('lr=10', 'red', {'learning_rate': 10})]\n",
    ")\n",
    "\n",
    "plt.figure(figsize=(12, 5))\n",
    "for label, color, test_score in test_scores:\n",
    "    plt.plot(range(original_param['n_estimators']), test_score,\n",
    "             '-', color=color, label=label)\n",
    "plt.ylim((0.45, 0.57))\n",
    "plt.xlabel('number of estimators')\n",
    "plt.ylabel('FDR score')\n",
    "plt.legend(loc='lower right')\n",
    "plt.show()"
   ]
  },
  {
   "cell_type": "code",
   "execution_count": 4,
   "metadata": {},
   "outputs": [
    {
     "name": "stderr",
     "output_type": "stream",
     "text": [
      "[Parallel(n_jobs=-1)]: Using backend LokyBackend with 8 concurrent workers.\n",
      "[Parallel(n_jobs=-1)]: Done   4 out of   4 | elapsed: 20.7min remaining:    0.0s\n",
      "[Parallel(n_jobs=-1)]: Done   4 out of   4 | elapsed: 20.7min finished\n"
     ]
    },
    {
     "data": {
      "image/png": "[encoded data removed]",
      "text/plain": [
       "<Figure size 864x360 with 1 Axes>"
      ]
     },
     "metadata": {
      "needs_background": "light"
     },
     "output_type": "display_data"
    }
   ],
   "source": [
    "original_param = {'max_depth': 5, 'n_estimators': 750}\n",
    "\n",
    "test_scores = Parallel(n_jobs=-1, verbose=1, prefer='processes')(\n",
    "    delayed(fit_and_calculate_fdr)(original_param, setting, label, color)\n",
    "    for label, color, setting in [\n",
    "        ('lr=0.01', 'gray', {'learning_rate': 0.01}),\n",
    "        ('lr=0.05', 'orange', {'learning_rate': 0.05}),\n",
    "        ('lr=0.075', 'turquoise', {'learning_rate': 0.075}),\n",
    "        ('lr=0.1', 'blue', {'learning_rate': 0.1})]\n",
    ")\n",
    "\n",
    "plt.figure(figsize=(12, 5))\n",
    "for label, color, test_score in test_scores:\n",
    "    plt.plot(range(original_param['n_estimators']), test_score,\n",
    "             '-', color=color, label=label)\n",
    "plt.ylim((0.45, 0.57))\n",
    "plt.xlabel('number of estimators')\n",
    "plt.ylabel('FDR score')\n",
    "plt.legend(loc='lower right')\n",
    "plt.show()"
   ]
  },
  {
   "cell_type": "code",
   "execution_count": 5,
   "metadata": {},
   "outputs": [
    {
     "name": "stderr",
     "output_type": "stream",
     "text": [
      "[Parallel(n_jobs=-1)]: Using backend LokyBackend with 8 concurrent workers.\n",
      "[Parallel(n_jobs=-1)]: Done   3 out of   3 | elapsed: 16.2min finished\n"
     ]
    },
    {
     "data": {
      "image/png": "[encoded data removed]",
      "text/plain": [
       "<Figure size 864x360 with 1 Axes>"
      ]
     },
     "metadata": {
      "needs_background": "light"
     },
     "output_type": "display_data"
    }
   ],
   "source": [
    "original_param = {'max_depth': 5, 'n_estimators': 750, 'learning_rate': 0.05}\n",
    "\n",
    "test_scores = Parallel(n_jobs=-1, verbose=1, prefer='processes')(\n",
    "    delayed(fit_and_calculate_fdr)(original_param, setting, label, color)\n",
    "    for label, color, setting in [\n",
    "        ('sub=1', 'gray', {'subsample': 1}),\n",
    "        ('sub=0.5', 'orange', {'subsample': 0.5}),\n",
    "        ('sub=0.1', 'turquoise', {'subsample': 0.1})]\n",
    ")\n",
    "\n",
    "plt.figure(figsize=(12, 5))\n",
    "for label, color, test_score in test_scores:\n",
    "    plt.plot(range(original_param['n_estimators']), test_score,\n",
    "             '-', color=color, label=label)\n",
    "plt.ylim((0.45, 0.57))\n",
    "plt.xlabel('number of estimators')\n",
    "plt.ylabel('FDR score')\n",
    "plt.legend(loc='lower right')\n",
    "plt.show()"
   ]
  },
  {
   "cell_type": "code",
   "execution_count": 8,
   "metadata": {
    "pycharm": {
     "name": "#%%\n"
    },
    "scrolled": true
   },
   "outputs": [
    {
     "name": "stdout",
     "output_type": "stream",
     "text": [
      "Fitting 4 folds for each of 9 candidates, totalling 36 fits\n"
     ]
    },
    {
     "name": "stderr",
     "output_type": "stream",
     "text": [
      "[Parallel(n_jobs=6)]: Using backend LokyBackend with 6 concurrent workers.\n",
      "[Parallel(n_jobs=6)]: Done  36 out of  36 | elapsed: 58.2min finished\n"
     ]
    },
    {
     "data": {
      "text/plain": [
       "GridSearchCV(cv=4, error_score=nan,\n",
       "             estimator=GradientBoostingClassifier(ccp_alpha=0.0,\n",
       "                                                  criterion='friedman_mse',\n",
       "                                                  init=None, learning_rate=0.05,\n",
       "                                                  loss='deviance', max_depth=3,\n",
       "                                                  max_features=None,\n",
       "                                                  max_leaf_nodes=None,\n",
       "                                                  min_impurity_decrease=0.0,\n",
       "                                                  min_impurity_split=None,\n",
       "                                                  min_samples_leaf=1,\n",
       "                                                  min_samples_split=2,\n",
       "                                                  min_weight_fraction_leaf=0.0,\n",
       "                                                  n_estimators=750,\n",
       "                                                  n_iter_no_change=None,\n",
       "                                                  presort='deprecated',\n",
       "                                                  random_state=None,\n",
       "                                                  subsample=1.0, tol=0.0001,\n",
       "                                                  validation_fraction=0.1,\n",
       "                                                  verbose=0, warm_start=True),\n",
       "             iid='deprecated', n_jobs=6,\n",
       "             param_grid={'max_depth': [2, 5, 7], 'subsample': [0.5, 0.75, 1]},\n",
       "             pre_dispatch='2*n_jobs', refit='FDR', return_train_score=False,\n",
       "             scoring={'FDR': <function fdr at 0x7fb9aa02ba60>,\n",
       "                      'ROC': 'roc_auc'},\n",
       "             verbose=1)"
      ]
     },
     "execution_count": 8,
     "metadata": {},
     "output_type": "execute_result"
    }
   ],
   "source": [
    "bt = GradientBoostingClassifier(learning_rate=0.05, n_estimators=750, warm_start=True)\n",
    "params = {'subsample': [0.5, 0.75, 1],\n",
    "          'max_depth': [2, 5, 7]}\n",
    "grid = GridSearchCV(bt, params, cv=4, refit='FDR', \n",
    "                    verbose=1, n_jobs=6,\n",
    "                    scoring={'FDR': fdr})\n",
    "grid.fit(x_train, y_train)"
   ]
  },
  {
   "cell_type": "code",
   "execution_count": 9,
   "metadata": {},
   "outputs": [
    {
     "name": "stdout",
     "output_type": "stream",
     "text": [
      "The best parameters are {'max_depth': 5, 'subsample': 0.5} with a score of 0.55393\n"
     ]
    },
    {
     "data": {
      "text/html": [
       "<div>\n",
       "<style scoped>\n",
       "    .dataframe tbody tr th:only-of-type {\n",
       "        vertical-align: middle;\n",
       "    }\n",
       "\n",
       "    .dataframe tbody tr th {\n",
       "        vertical-align: top;\n",
       "    }\n",
       "\n",
       "    .dataframe thead th {\n",
       "        text-align: right;\n",
       "    }\n",
       "</style>\n",
       "<table border=\"1\" class=\"dataframe\">\n",
       "  <thead>\n",
       "    <tr style=\"text-align: right;\">\n",
       "      <th></th>\n",
       "      <th>param_max_depth</th>\n",
       "      <th>param_subsample</th>\n",
       "      <th>mean_test_FDR</th>\n",
       "      <th>std_test_FDR</th>\n",
       "      <th>rank_test_FDR</th>\n",
       "      <th>mean_test_ROC</th>\n",
       "      <th>std_test_ROC</th>\n",
       "    </tr>\n",
       "  </thead>\n",
       "  <tbody>\n",
       "    <tr>\n",
       "      <th>3</th>\n",
       "      <td>5</td>\n",
       "      <td>0.5</td>\n",
       "      <td>0.553928</td>\n",
       "      <td>0.009736</td>\n",
       "      <td>1</td>\n",
       "      <td>0.780742</td>\n",
       "      <td>0.007788</td>\n",
       "    </tr>\n",
       "    <tr>\n",
       "      <th>4</th>\n",
       "      <td>5</td>\n",
       "      <td>0.75</td>\n",
       "      <td>0.553928</td>\n",
       "      <td>0.009471</td>\n",
       "      <td>1</td>\n",
       "      <td>0.779905</td>\n",
       "      <td>0.007165</td>\n",
       "    </tr>\n",
       "    <tr>\n",
       "      <th>5</th>\n",
       "      <td>5</td>\n",
       "      <td>1</td>\n",
       "      <td>0.553385</td>\n",
       "      <td>0.009700</td>\n",
       "      <td>3</td>\n",
       "      <td>0.780156</td>\n",
       "      <td>0.006833</td>\n",
       "    </tr>\n",
       "    <tr>\n",
       "      <th>6</th>\n",
       "      <td>7</td>\n",
       "      <td>0.5</td>\n",
       "      <td>0.549913</td>\n",
       "      <td>0.010574</td>\n",
       "      <td>4</td>\n",
       "      <td>0.777287</td>\n",
       "      <td>0.007916</td>\n",
       "    </tr>\n",
       "    <tr>\n",
       "      <th>8</th>\n",
       "      <td>7</td>\n",
       "      <td>1</td>\n",
       "      <td>0.549805</td>\n",
       "      <td>0.010036</td>\n",
       "      <td>5</td>\n",
       "      <td>0.776444</td>\n",
       "      <td>0.008215</td>\n",
       "    </tr>\n",
       "    <tr>\n",
       "      <th>2</th>\n",
       "      <td>2</td>\n",
       "      <td>1</td>\n",
       "      <td>0.549262</td>\n",
       "      <td>0.011055</td>\n",
       "      <td>6</td>\n",
       "      <td>0.780128</td>\n",
       "      <td>0.006035</td>\n",
       "    </tr>\n",
       "    <tr>\n",
       "      <th>1</th>\n",
       "      <td>2</td>\n",
       "      <td>0.75</td>\n",
       "      <td>0.548937</td>\n",
       "      <td>0.009994</td>\n",
       "      <td>7</td>\n",
       "      <td>0.778782</td>\n",
       "      <td>0.005487</td>\n",
       "    </tr>\n",
       "    <tr>\n",
       "      <th>7</th>\n",
       "      <td>7</td>\n",
       "      <td>0.75</td>\n",
       "      <td>0.548937</td>\n",
       "      <td>0.011728</td>\n",
       "      <td>7</td>\n",
       "      <td>0.775662</td>\n",
       "      <td>0.009341</td>\n",
       "    </tr>\n",
       "    <tr>\n",
       "      <th>0</th>\n",
       "      <td>2</td>\n",
       "      <td>0.5</td>\n",
       "      <td>0.548286</td>\n",
       "      <td>0.011282</td>\n",
       "      <td>9</td>\n",
       "      <td>0.778037</td>\n",
       "      <td>0.007956</td>\n",
       "    </tr>\n",
       "  </tbody>\n",
       "</table>\n",
       "</div>"
      ],
      "text/plain": [
       "  param_max_depth param_subsample  mean_test_FDR  std_test_FDR  rank_test_FDR  \\\n",
       "3               5             0.5       0.553928      0.009736              1   \n",
       "4               5            0.75       0.553928      0.009471              1   \n",
       "5               5               1       0.553385      0.009700              3   \n",
       "6               7             0.5       0.549913      0.010574              4   \n",
       "8               7               1       0.549805      0.010036              5   \n",
       "2               2               1       0.549262      0.011055              6   \n",
       "1               2            0.75       0.548937      0.009994              7   \n",
       "7               7            0.75       0.548937      0.011728              7   \n",
       "0               2             0.5       0.548286      0.011282              9   \n",
       "\n",
       "   mean_test_ROC  std_test_ROC  \n",
       "3       0.780742      0.007788  \n",
       "4       0.779905      0.007165  \n",
       "5       0.780156      0.006833  \n",
       "6       0.777287      0.007916  \n",
       "8       0.776444      0.008215  \n",
       "2       0.780128      0.006035  \n",
       "1       0.778782      0.005487  \n",
       "7       0.775662      0.009341  \n",
       "0       0.778037      0.007956  "
      ]
     },
     "execution_count": 9,
     "metadata": {},
     "output_type": "execute_result"
    }
   ],
   "source": [
    "print(f\"The best parameters are {grid.best_params_} \"\n",
    "      f\"with a score of {grid.best_score_:0.5f}\")\n",
    "pd.DataFrame(grid.cv_results_).sort_values('rank_test_FDR').filter(\n",
    "    items=['param_max_depth', 'param_subsample', \n",
    "           'mean_test_FDR', 'std_test_FDR', 'rank_test_FDR',\n",
    "           'mean_test_ROC', 'std_test_ROC'])"
   ]
  },
  {
   "cell_type": "code",
   "execution_count": 10,
   "metadata": {},
   "outputs": [
    {
     "name": "stdout",
     "output_type": "stream",
     "text": [
      "Fitting 4 folds for each of 3 candidates, totalling 12 fits\n"
     ]
    },
    {
     "name": "stderr",
     "output_type": "stream",
     "text": [
      "[Parallel(n_jobs=6)]: Using backend LokyBackend with 6 concurrent workers.\n",
      "[Parallel(n_jobs=6)]: Done  12 out of  12 | elapsed: 15.7min finished\n"
     ]
    },
    {
     "data": {
      "text/plain": [
       "GridSearchCV(cv=4, error_score=nan,\n",
       "             estimator=GradientBoostingClassifier(ccp_alpha=0.0,\n",
       "                                                  criterion='friedman_mse',\n",
       "                                                  init=None, learning_rate=0.05,\n",
       "                                                  loss='deviance', max_depth=5,\n",
       "                                                  max_features=None,\n",
       "                                                  max_leaf_nodes=None,\n",
       "                                                  min_impurity_decrease=0.0,\n",
       "                                                  min_impurity_split=None,\n",
       "                                                  min_samples_leaf=1,\n",
       "                                                  min_samples_split=2,\n",
       "                                                  min_weight_fraction_leaf=0.0,\n",
       "                                                  n_estimators=100,\n",
       "                                                  n_iter_no_change=None,\n",
       "                                                  presort='deprecated',\n",
       "                                                  random_state=None,\n",
       "                                                  subsample=0.5, tol=0.0001,\n",
       "                                                  validation_fraction=0.1,\n",
       "                                                  verbose=0, warm_start=True),\n",
       "             iid='deprecated', n_jobs=6,\n",
       "             param_grid={'n_estimators': [500, 750, 1000]},\n",
       "             pre_dispatch='2*n_jobs', refit='FDR', return_train_score=False,\n",
       "             scoring={'FDR': <function fdr at 0x7fb9aa02ba60>}, verbose=1)"
      ]
     },
     "execution_count": 10,
     "metadata": {},
     "output_type": "execute_result"
    }
   ],
   "source": [
    "bt = GradientBoostingClassifier(learning_rate=0.05, subsample=0.5, max_depth=5, warm_start=True)\n",
    "params = {'n_estimators': [500, 750, 1000]}\n",
    "grid = GridSearchCV(bt, params, cv=4, refit='FDR', \n",
    "                    verbose=1, n_jobs=6,\n",
    "                    scoring={'FDR': fdr})\n",
    "grid.fit(x_train, y_train)"
   ]
  },
  {
   "cell_type": "code",
   "execution_count": 11,
   "metadata": {},
   "outputs": [
    {
     "name": "stdout",
     "output_type": "stream",
     "text": [
      "The best parameters are {'n_estimators': 500} with a score of 0.55393\n"
     ]
    },
    {
     "data": {
      "text/html": [
       "<div>\n",
       "<style scoped>\n",
       "    .dataframe tbody tr th:only-of-type {\n",
       "        vertical-align: middle;\n",
       "    }\n",
       "\n",
       "    .dataframe tbody tr th {\n",
       "        vertical-align: top;\n",
       "    }\n",
       "\n",
       "    .dataframe thead th {\n",
       "        text-align: right;\n",
       "    }\n",
       "</style>\n",
       "<table border=\"1\" class=\"dataframe\">\n",
       "  <thead>\n",
       "    <tr style=\"text-align: right;\">\n",
       "      <th></th>\n",
       "      <th>param_n_estimators</th>\n",
       "      <th>mean_test_FDR</th>\n",
       "      <th>std_test_FDR</th>\n",
       "      <th>rank_test_FDR</th>\n",
       "    </tr>\n",
       "  </thead>\n",
       "  <tbody>\n",
       "    <tr>\n",
       "      <th>0</th>\n",
       "      <td>500</td>\n",
       "      <td>0.553928</td>\n",
       "      <td>0.009890</td>\n",
       "      <td>1</td>\n",
       "    </tr>\n",
       "    <tr>\n",
       "      <th>1</th>\n",
       "      <td>750</td>\n",
       "      <td>0.553494</td>\n",
       "      <td>0.009381</td>\n",
       "      <td>2</td>\n",
       "    </tr>\n",
       "    <tr>\n",
       "      <th>2</th>\n",
       "      <td>1000</td>\n",
       "      <td>0.553385</td>\n",
       "      <td>0.009940</td>\n",
       "      <td>3</td>\n",
       "    </tr>\n",
       "  </tbody>\n",
       "</table>\n",
       "</div>"
      ],
      "text/plain": [
       "  param_n_estimators  mean_test_FDR  std_test_FDR  rank_test_FDR\n",
       "0                500       0.553928      0.009890              1\n",
       "1                750       0.553494      0.009381              2\n",
       "2               1000       0.553385      0.009940              3"
      ]
     },
     "execution_count": 11,
     "metadata": {},
     "output_type": "execute_result"
    }
   ],
   "source": [
    "print(f\"The best parameters are {grid.best_params_} \"\n",
    "      f\"with a score of {grid.best_score_:0.5f}\")\n",
    "pd.DataFrame(grid.cv_results_).sort_values('rank_test_FDR').filter(\n",
    "    items=['param_n_estimators',\n",
    "           'mean_test_FDR', 'std_test_FDR', 'rank_test_FDR',\n",
    "           'mean_test_ROC', 'std_test_ROC'])"
   ]
  },
  {
   "cell_type": "code",
   "execution_count": 12,
   "metadata": {},
   "outputs": [
    {
     "name": "stdout",
     "output_type": "stream",
     "text": [
      "Fitting 4 folds for each of 4 candidates, totalling 16 fits\n"
     ]
    },
    {
     "name": "stderr",
     "output_type": "stream",
     "text": [
      "[Parallel(n_jobs=6)]: Using backend LokyBackend with 6 concurrent workers.\n",
      "[Parallel(n_jobs=6)]: Done  16 out of  16 | elapsed: 11.6min finished\n"
     ]
    },
    {
     "data": {
      "text/plain": [
       "GridSearchCV(cv=4, error_score=nan,\n",
       "             estimator=GradientBoostingClassifier(ccp_alpha=0.0,\n",
       "                                                  criterion='friedman_mse',\n",
       "                                                  init=None, learning_rate=0.05,\n",
       "                                                  loss='deviance', max_depth=5,\n",
       "                                                  max_features=None,\n",
       "                                                  max_leaf_nodes=None,\n",
       "                                                  min_impurity_decrease=0.0,\n",
       "                                                  min_impurity_split=None,\n",
       "                                                  min_samples_leaf=1,\n",
       "                                                  min_samples_split=2,\n",
       "                                                  min_weight_fraction_leaf=0.0,\n",
       "                                                  n_estimators=100,\n",
       "                                                  n_iter_no_change=None,\n",
       "                                                  presort='deprecated',\n",
       "                                                  random_state=None,\n",
       "                                                  subsample=0.5, tol=0.0001,\n",
       "                                                  validation_fraction=0.1,\n",
       "                                                  verbose=0, warm_start=True),\n",
       "             iid='deprecated', n_jobs=6,\n",
       "             param_grid={'n_estimators': [200, 400, 500, 600]},\n",
       "             pre_dispatch='2*n_jobs', refit='FDR', return_train_score=False,\n",
       "             scoring={'FDR': <function fdr at 0x7fb9aa02ba60>}, verbose=1)"
      ]
     },
     "execution_count": 12,
     "metadata": {},
     "output_type": "execute_result"
    }
   ],
   "source": [
    "bt = GradientBoostingClassifier(learning_rate=0.05, subsample=0.5, max_depth=5, warm_start=True)\n",
    "params = {'n_estimators': [200, 400, 500, 600]}\n",
    "grid = GridSearchCV(bt, params, cv=4, refit='FDR', \n",
    "                    verbose=1, n_jobs=6,\n",
    "                    scoring={'FDR': fdr})\n",
    "grid.fit(x_train, y_train)"
   ]
  },
  {
   "cell_type": "code",
   "execution_count": 13,
   "metadata": {},
   "outputs": [
    {
     "name": "stdout",
     "output_type": "stream",
     "text": [
      "The best parameters are {'n_estimators': 500} with a score of 0.55414\n"
     ]
    },
    {
     "data": {
      "text/html": [
       "<div>\n",
       "<style scoped>\n",
       "    .dataframe tbody tr th:only-of-type {\n",
       "        vertical-align: middle;\n",
       "    }\n",
       "\n",
       "    .dataframe tbody tr th {\n",
       "        vertical-align: top;\n",
       "    }\n",
       "\n",
       "    .dataframe thead th {\n",
       "        text-align: right;\n",
       "    }\n",
       "</style>\n",
       "<table border=\"1\" class=\"dataframe\">\n",
       "  <thead>\n",
       "    <tr style=\"text-align: right;\">\n",
       "      <th></th>\n",
       "      <th>param_n_estimators</th>\n",
       "      <th>mean_test_FDR</th>\n",
       "      <th>std_test_FDR</th>\n",
       "      <th>rank_test_FDR</th>\n",
       "    </tr>\n",
       "  </thead>\n",
       "  <tbody>\n",
       "    <tr>\n",
       "      <th>2</th>\n",
       "      <td>500</td>\n",
       "      <td>0.554145</td>\n",
       "      <td>0.009127</td>\n",
       "      <td>1</td>\n",
       "    </tr>\n",
       "    <tr>\n",
       "      <th>1</th>\n",
       "      <td>400</td>\n",
       "      <td>0.554036</td>\n",
       "      <td>0.009311</td>\n",
       "      <td>2</td>\n",
       "    </tr>\n",
       "    <tr>\n",
       "      <th>3</th>\n",
       "      <td>600</td>\n",
       "      <td>0.553711</td>\n",
       "      <td>0.009726</td>\n",
       "      <td>3</td>\n",
       "    </tr>\n",
       "    <tr>\n",
       "      <th>0</th>\n",
       "      <td>200</td>\n",
       "      <td>0.552517</td>\n",
       "      <td>0.009720</td>\n",
       "      <td>4</td>\n",
       "    </tr>\n",
       "  </tbody>\n",
       "</table>\n",
       "</div>"
      ],
      "text/plain": [
       "  param_n_estimators  mean_test_FDR  std_test_FDR  rank_test_FDR\n",
       "2                500       0.554145      0.009127              1\n",
       "1                400       0.554036      0.009311              2\n",
       "3                600       0.553711      0.009726              3\n",
       "0                200       0.552517      0.009720              4"
      ]
     },
     "execution_count": 13,
     "metadata": {},
     "output_type": "execute_result"
    }
   ],
   "source": [
    "print(f\"The best parameters are {grid.best_params_} \"\n",
    "      f\"with a score of {grid.best_score_:0.5f}\")\n",
    "pd.DataFrame(grid.cv_results_).sort_values('rank_test_FDR').filter(\n",
    "    items=['param_n_estimators',\n",
    "           'mean_test_FDR', 'std_test_FDR', 'rank_test_FDR',\n",
    "           'mean_test_ROC', 'std_test_ROC'])"
   ]
  },
  {
   "cell_type": "code",
   "execution_count": 14,
   "metadata": {
    "scrolled": true
   },
   "outputs": [
    {
     "name": "stdout",
     "output_type": "stream",
     "text": [
      "0.5571831597222222\n",
      "0.5274822695035462\n",
      "0.5391989044847655\n"
     ]
    }
   ],
   "source": [
    "bt = GradientBoostingClassifier(max_depth=5,\n",
    "                                n_estimators=500,\n",
    "                                learning_rate=0.05,\n",
    "                                subsample=0.5).fit(x_train, y_train)\n",
    "print(fdr(bt, x_train, y_train))\n",
    "print(fdr(bt, x_test, y_test))\n",
    "print(fdr(bt, x_oot, y_oot))"
   ]
  },
  {
   "cell_type": "code",
   "execution_count": 15,
   "metadata": {},
   "outputs": [
    {
     "name": "stdout",
     "output_type": "stream",
     "text": [
      "0.5610741185460103\n",
      "0.5395932496754652\n",
      "0.5436494351249572\n"
     ]
    }
   ],
   "source": [
    "x_train_40, x_test_40, x_oot_40, y_train_40, y_test_40, y_oot_40 = load_data('var_40.csv')\n",
    "bt = GradientBoostingClassifier(max_depth=5,\n",
    "                                n_estimators=500,\n",
    "                                learning_rate=0.05,\n",
    "                                subsample=0.5).fit(x_train_40, y_train_40)\n",
    "print(fdr(bt, x_train_40, y_train_40))\n",
    "print(fdr(bt, x_test_40, y_test_40))\n",
    "print(fdr(bt, x_oot_40, y_oot_40))"
   ]
  },
  {
   "cell_type": "code",
   "execution_count": null,
   "metadata": {},
   "outputs": [],
   "source": []
  }
 ],
 "metadata": {
  "kernelspec": {
   "display_name": "Python 3",
   "language": "python",
   "name": "python3"
  },
  "language_info": {
   "codemirror_mode": {
    "name": "ipython",
    "version": 3
   },
   "file_extension": ".py",
   "mimetype": "text/x-python",
   "name": "python",
   "nbconvert_exporter": "python",
   "pygments_lexer": "ipython3",
   "version": "3.6.8"
  }
 },
 "nbformat": 4,
 "nbformat_minor": 1
}
