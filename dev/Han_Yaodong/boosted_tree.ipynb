{
 "cells": [
  {
   "cell_type": "code",
   "execution_count": null,
   "metadata": {},
   "outputs": [],
   "source": [
    "from util import *\n",
    "import pandas as pd\n",
    "import numpy as np\n",
    "from sklearn.ensemble import GradientBoostingClassifier\n",
    "from sklearn.model_selection import GridSearchCV\n",
    "from sklearn.model_selection import train_test_split\n",
    "from sklearn.preprocessing import OneHotEncoder\n",
    "from sklearn.linear_model import LogisticRegression\n",
    "from sklearn.metrics import roc_curve\n",
    "import matplotlib.pyplot as plt\n",
    "from collections import ChainMap"
   ]
  },
  {
   "cell_type": "code",
   "execution_count": null,
   "metadata": {
    "pycharm": {
     "name": "#%%\n"
    }
   },
   "outputs": [],
   "source": [
    "x_train, x_test, y_train, y_test = load_data('var_w1.csv')\n",
    "x_train.head()"
   ]
  },
  {
   "cell_type": "code",
   "execution_count": null,
   "metadata": {
    "scrolled": true
   },
   "outputs": [],
   "source": [
    "x_train_bt, x_train_lr, y_train_bt, y_train_lr = train_test_split(x_train, y_train, test_size=0.5)\n",
    "grd = GradientBoostingClassifier(n_estimators=100, verbose=1)\n",
    "grd_enc = OneHotEncoder()\n",
    "grd_lm = LogisticRegression(max_iter=1000, verbose=1)\n",
    "grd.fit(x_train_bt, y_train_bt)\n",
    "grd_enc.fit(grd.apply(x_train_bt)[:, :, 0])\n",
    "grd_lm.fit(grd_enc.transform(grd.apply(x_train_lr)[:, :, 0]), y_train_lr)"
   ]
  },
  {
   "cell_type": "code",
   "execution_count": null,
   "metadata": {},
   "outputs": [],
   "source": [
    "y_pred_grd_lm = grd_lm.predict_proba(grd_enc.transform(grd.apply(x_test)[:, :, 0]))[:, 1]\n",
    "fpr_grd_lm, tpr_grd_lm, _ = roc_curve(y_test, y_pred_grd_lm)\n",
    "plt.figure()\n",
    "plt.plot(fpr_grd_lm, tpr_grd_lm, label='GBT + LR')\n",
    "plt.legend(loc='best')\n",
    "plt.show()"
   ]
  },
  {
   "cell_type": "code",
   "execution_count": null,
   "metadata": {},
   "outputs": [],
   "source": [
    "print(fdr_prob(y_test, y_pred_grd_lm))\n",
    "print(fdr(grd, x_test, y_test))"
   ]
  },
  {
   "cell_type": "code",
   "execution_count": null,
   "metadata": {
    "scrolled": true
   },
   "outputs": [],
   "source": [
    "original_param = {'max_depth': 5, 'n_estimators': 200, 'verbose': 1}\n",
    "for label, color, setting in [('learning_rate=0.01', 'orange',\n",
    "                               {'learning_rate': 0.01}),\n",
    "                              ('learning_rate=0.05', 'turquoise',\n",
    "                               {'learning_rate': 0.05}),\n",
    "                              ('learning_rate=0.1', 'blue',\n",
    "                               {'learning_rate': 0.1}),\n",
    "                              ('learning_rate=0.2', 'gray',\n",
    "                               {'learning_rate': 0.2})]:\n",
    "    params = ChainMap(setting, original_param)\n",
    "    clf = GradientBoostingClassifier(**params).fit(x_train, y_train)\n",
    "    test_deviance = np.zeros((params['n_estimators'],), dtype=np.float64)\n",
    "\n",
    "    for i, y_pred in enumerate(clf.staged_decision_function(x_test)):\n",
    "        # clf.loss_ assumes that y_test[i] in {0, 1}\n",
    "        test_deviance[i] = clf.loss_(y_test, y_pred)\n",
    "\n",
    "    plt.plot((np.arange(test_deviance.shape[0]) + 1)[::5], test_deviance[::5],\n",
    "            '-', color=color, label=label)\n",
    "\n",
    "plt.legend(loc='upper left')\n",
    "plt.xlabel('Boosting Iterations')\n",
    "plt.ylabel('Test Set Deviance')\n",
    "\n",
    "plt.show()"
   ]
  },
  {
   "cell_type": "code",
   "execution_count": 3,
   "metadata": {
    "pycharm": {
     "name": "#%%\n"
    },
    "scrolled": true
   },
   "outputs": [
    {
     "name": "stdout",
     "output_type": "stream",
     "text": [
      "Fitting 5 folds for each of 9 candidates, totalling 45 fits\n"
     ]
    },
    {
     "name": "stderr",
     "output_type": "stream",
     "text": [
      "[Parallel(n_jobs=6)]: Using backend LokyBackend with 6 concurrent workers.\n",
      "[Parallel(n_jobs=6)]: Done  45 out of  45 | elapsed: 30.0min finished\n"
     ]
    },
    {
     "name": "stdout",
     "output_type": "stream",
     "text": [
      "      Iter       Train Loss   Remaining Time \n",
      "         1           0.1022            1.69m\n",
      "         2           0.1003            1.64m\n",
      "         3           0.0993            1.62m\n",
      "         4           0.0985            1.62m\n",
      "         5           0.0979            1.61m\n",
      "         6           0.0973            1.59m\n",
      "         7           0.0968            1.57m\n",
      "         8           0.0964            1.55m\n",
      "         9           0.0960            1.54m\n",
      "        10           0.0957            1.53m\n",
      "        20           0.0938            1.38m\n",
      "        30           0.0933            1.20m\n",
      "        40           0.0930            1.02m\n",
      "        50           0.0928           51.43s\n",
      "        60           0.0926           41.17s\n",
      "        70           0.0924           30.85s\n",
      "        80           0.0922           20.57s\n",
      "        90           0.0920           10.27s\n",
      "       100           0.0919            0.00s\n",
      "The best parameters are {'max_depth': 5, 'n_estimators': 100} with a score of 0.53208\n"
     ]
    },
    {
     "data": {
      "text/html": [
       "<div>\n",
       "<style scoped>\n",
       "    .dataframe tbody tr th:only-of-type {\n",
       "        vertical-align: middle;\n",
       "    }\n",
       "\n",
       "    .dataframe tbody tr th {\n",
       "        vertical-align: top;\n",
       "    }\n",
       "\n",
       "    .dataframe thead th {\n",
       "        text-align: right;\n",
       "    }\n",
       "</style>\n",
       "<table border=\"1\" class=\"dataframe\">\n",
       "  <thead>\n",
       "    <tr style=\"text-align: right;\">\n",
       "      <th></th>\n",
       "      <th>param_max_depth</th>\n",
       "      <th>param_n_estimators</th>\n",
       "      <th>mean_test_FDR</th>\n",
       "      <th>std_test_FDR</th>\n",
       "      <th>rank_test_FDR</th>\n",
       "      <th>mean_test_ROC</th>\n",
       "      <th>std_test_ROC</th>\n",
       "    </tr>\n",
       "  </thead>\n",
       "  <tbody>\n",
       "    <tr>\n",
       "      <th>0</th>\n",
       "      <td>2</td>\n",
       "      <td>50</td>\n",
       "      <td>0.522316</td>\n",
       "      <td>0.010017</td>\n",
       "      <td>7</td>\n",
       "      <td>0.754292</td>\n",
       "      <td>0.005510</td>\n",
       "    </tr>\n",
       "    <tr>\n",
       "      <th>1</th>\n",
       "      <td>2</td>\n",
       "      <td>100</td>\n",
       "      <td>0.521793</td>\n",
       "      <td>0.010386</td>\n",
       "      <td>8</td>\n",
       "      <td>0.767748</td>\n",
       "      <td>0.010817</td>\n",
       "    </tr>\n",
       "    <tr>\n",
       "      <th>2</th>\n",
       "      <td>2</td>\n",
       "      <td>200</td>\n",
       "      <td>0.523450</td>\n",
       "      <td>0.011739</td>\n",
       "      <td>5</td>\n",
       "      <td>0.773917</td>\n",
       "      <td>0.008134</td>\n",
       "    </tr>\n",
       "    <tr>\n",
       "      <th>3</th>\n",
       "      <td>5</td>\n",
       "      <td>50</td>\n",
       "      <td>0.530772</td>\n",
       "      <td>0.009595</td>\n",
       "      <td>3</td>\n",
       "      <td>0.774771</td>\n",
       "      <td>0.007083</td>\n",
       "    </tr>\n",
       "    <tr>\n",
       "      <th>4</th>\n",
       "      <td>5</td>\n",
       "      <td>100</td>\n",
       "      <td>0.532079</td>\n",
       "      <td>0.009572</td>\n",
       "      <td>1</td>\n",
       "      <td>0.778038</td>\n",
       "      <td>0.007745</td>\n",
       "    </tr>\n",
       "    <tr>\n",
       "      <th>5</th>\n",
       "      <td>5</td>\n",
       "      <td>200</td>\n",
       "      <td>0.531992</td>\n",
       "      <td>0.009761</td>\n",
       "      <td>2</td>\n",
       "      <td>0.778257</td>\n",
       "      <td>0.008135</td>\n",
       "    </tr>\n",
       "    <tr>\n",
       "      <th>6</th>\n",
       "      <td>10</td>\n",
       "      <td>50</td>\n",
       "      <td>0.529464</td>\n",
       "      <td>0.010439</td>\n",
       "      <td>4</td>\n",
       "      <td>0.777839</td>\n",
       "      <td>0.008627</td>\n",
       "    </tr>\n",
       "    <tr>\n",
       "      <th>7</th>\n",
       "      <td>10</td>\n",
       "      <td>100</td>\n",
       "      <td>0.522317</td>\n",
       "      <td>0.009719</td>\n",
       "      <td>6</td>\n",
       "      <td>0.773738</td>\n",
       "      <td>0.006902</td>\n",
       "    </tr>\n",
       "    <tr>\n",
       "      <th>8</th>\n",
       "      <td>10</td>\n",
       "      <td>200</td>\n",
       "      <td>0.515343</td>\n",
       "      <td>0.009829</td>\n",
       "      <td>9</td>\n",
       "      <td>0.766066</td>\n",
       "      <td>0.007282</td>\n",
       "    </tr>\n",
       "  </tbody>\n",
       "</table>\n",
       "</div>"
      ],
      "text/plain": [
       "  param_max_depth param_n_estimators  mean_test_FDR  std_test_FDR  \\\n",
       "0               2                 50       0.522316      0.010017   \n",
       "1               2                100       0.521793      0.010386   \n",
       "2               2                200       0.523450      0.011739   \n",
       "3               5                 50       0.530772      0.009595   \n",
       "4               5                100       0.532079      0.009572   \n",
       "5               5                200       0.531992      0.009761   \n",
       "6              10                 50       0.529464      0.010439   \n",
       "7              10                100       0.522317      0.009719   \n",
       "8              10                200       0.515343      0.009829   \n",
       "\n",
       "   rank_test_FDR  mean_test_ROC  std_test_ROC  \n",
       "0              7       0.754292      0.005510  \n",
       "1              8       0.767748      0.010817  \n",
       "2              5       0.773917      0.008134  \n",
       "3              3       0.774771      0.007083  \n",
       "4              1       0.778038      0.007745  \n",
       "5              2       0.778257      0.008135  \n",
       "6              4       0.777839      0.008627  \n",
       "7              6       0.773738      0.006902  \n",
       "8              9       0.766066      0.007282  "
      ]
     },
     "execution_count": 3,
     "metadata": {},
     "output_type": "execute_result"
    }
   ],
   "source": [
    "bt = GradientBoostingClassifier(verbose=1)\n",
    "params = {'n_estimators': [50, 100, 200],\n",
    "          'max_depth': [2, 5, 10]}\n",
    "grid = GridSearchCV(bt, params, cv=5, refit='FDR', \n",
    "                    verbose=1, n_jobs=6,\n",
    "                    scoring={'FDR': fdr, 'ROC': 'roc_auc'})\n",
    "grid.fit(x_train, y_train)\n",
    "print(f\"The best parameters are {grid.best_params_} \"\n",
    "      f\"with a score of {grid.best_score_:0.5f}\")\n",
    "pd.DataFrame(grid.cv_results_).filter(\n",
    "    items=['param_max_depth', 'param_n_estimators', \n",
    "           'mean_test_FDR', 'std_test_FDR', 'rank_test_FDR',\n",
    "           'mean_test_ROC', 'std_test_ROC'])"
   ]
  },
  {
   "cell_type": "code",
   "execution_count": 7,
   "metadata": {},
   "outputs": [
    {
     "data": {
      "text/plain": [
       "0.5231085244779186"
      ]
     },
     "execution_count": 7,
     "metadata": {},
     "output_type": "execute_result"
    }
   ],
   "source": [
    "fdr(grid.best_estimator_, x_test, y_test)"
   ]
  },
  {
   "cell_type": "code",
   "execution_count": 9,
   "metadata": {},
   "outputs": [
    {
     "data": {
      "text/plain": [
       "0.5231085244779186"
      ]
     },
     "execution_count": 9,
     "metadata": {},
     "output_type": "execute_result"
    }
   ],
   "source": [
    "bt = GradientBoostingClassifier(**grid.best_params_).fit(x_train, y_train)\n",
    "fdr(bt, x_train, y_train)\n",
    "fdr(bt, x_test, y_test)"
   ]
  },
  {
   "cell_type": "code",
   "execution_count": null,
   "metadata": {
    "scrolled": true
   },
   "outputs": [],
   "source": [
    "bt = GradientBoostingClassifier(**grid.best_params_)\n",
    "params = {'max_depth': [5, 10, 15, 20]}\n",
    "grid_2 = GridSearchCV(bt, params, cv=2, refit='FDR', \n",
    "                      verbose=1, n_jobs=4,\n",
    "                      scoring={'FDR': fdr, 'ROC': 'roc_auc'})\n",
    "grid_2.fit(x_train, y_train)\n",
    "print(f\"The best parameters are {grid_2.best_params_} \"\n",
    "      f\"with a score of {grid_2.best_score_:0.5f}\")\n",
    "pd.DataFrame(grid_2.cv_results_).filter(\n",
    "    items=['param_max_depth', 'mean_test_FDR',\n",
    "           'std_test_FDR', 'rank_test_FDR',\n",
    "           'mean_test_ROC', 'std_test_ROC'])"
   ]
  },
  {
   "cell_type": "code",
   "execution_count": null,
   "metadata": {},
   "outputs": [],
   "source": [
    "dt = GradientBoostingClassifier(verbose=1, \n",
    "                                learning_rate=0.1,\n",
    "                                max_depth=5,\n",
    "                                n_estimators=100).fit(x_train, y_train)\n",
    "fdr(dt, x_test, y_test)"
   ]
  },
  {
   "cell_type": "code",
   "execution_count": null,
   "metadata": {},
   "outputs": [],
   "source": [
    "fdr(dt, x_train, y_train)"
   ]
  },
  {
   "cell_type": "code",
   "execution_count": null,
   "metadata": {},
   "outputs": [],
   "source": [
    "import xgboost as xgb\n",
    "xgb_model = xgb.XGBClassifier().fit(x_train, y_train)\n"
   ]
  }
 ],
 "metadata": {
  "kernelspec": {
   "display_name": "Python 3",
   "language": "python",
   "name": "python3"
  },
  "language_info": {
   "codemirror_mode": {
    "name": "ipython",
    "version": 3
   },
   "file_extension": ".py",
   "mimetype": "text/x-python",
   "name": "python",
   "nbconvert_exporter": "python",
   "pygments_lexer": "ipython3",
   "version": "3.6.8"
  }
 },
 "nbformat": 4,
 "nbformat_minor": 1
}
