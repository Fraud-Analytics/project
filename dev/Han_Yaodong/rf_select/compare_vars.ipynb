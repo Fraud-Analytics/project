{
 "cells": [
  {
   "cell_type": "code",
   "execution_count": 1,
   "metadata": {
    "pycharm": {
     "is_executing": true
    }
   },
   "outputs": [],
   "source": [
    "import pandas as pd\n",
    "from sklearn.tree import DecisionTreeClassifier\n",
    "from sklearn.linear_model import LogisticRegression\n",
    "from sklearn.model_selection import cross_val_score\n",
    "import matplotlib.pyplot as plt\n",
    "from util import load_data, fdr, plot_report"
   ]
  },
  {
   "cell_type": "code",
   "execution_count": 2,
   "metadata": {},
   "outputs": [],
   "source": [
    "lr = LogisticRegression(max_iter=1000,\n",
    "                        C=0.1,\n",
    "                        class_weight='balanced')"
   ]
  },
  {
   "cell_type": "code",
   "execution_count": 3,
   "metadata": {},
   "outputs": [],
   "source": [
    "dt = DecisionTreeClassifier(ccp_alpha=1e-07, \n",
    "                            max_depth=20, \n",
    "                            min_samples_leaf=128, \n",
    "                            class_weight=None,\n",
    "                            criterion='gini')"
   ]
  },
  {
   "cell_type": "code",
   "execution_count": 4,
   "metadata": {
    "scrolled": true
   },
   "outputs": [
    {
     "name": "stdout",
     "output_type": "stream",
     "text": [
      "Logistic regression\n",
      "[0.53559693 0.51916758 0.50054765 0.53559693 0.5440613 ]\n",
      "0.5269940787182167\n",
      "\n",
      "Decision Tree\n",
      "[0.55038335 0.53285871 0.5230011  0.55366922 0.55993432]\n",
      "0.543969339066971\n"
     ]
    }
   ],
   "source": [
    "# old wrapper method\n",
    "x_train, x_test, x_oot, y_train, y_test, y_oot = load_data('var_30.csv')\n",
    "\n",
    "print(\"Logistic regression\")\n",
    "score = cross_val_score(lr, x_train, y_train, scoring=fdr, cv=5, n_jobs=2)\n",
    "print(score)\n",
    "print(sum(score) / len(score))\n",
    "print(\"\\nDecision Tree\")\n",
    "score = cross_val_score(dt, x_train, y_train, scoring=fdr, cv=5, n_jobs=2)\n",
    "print(score)\n",
    "print(sum(score) / len(score))"
   ]
  },
  {
   "cell_type": "code",
   "execution_count": 5,
   "metadata": {},
   "outputs": [
    {
     "name": "stdout",
     "output_type": "stream",
     "text": [
      "Logistic regression\n",
      "[0.49236641 0.48636859 0.49018539 0.49182116 0.49781897]\n",
      "0.49171210468920395\n",
      "\n",
      "Decision Tree\n",
      "[0.49781897 0.49563795 0.50599782 0.50327154 0.50490731]\n",
      "0.501526717557252\n"
     ]
    }
   ],
   "source": [
    "# selection using random forest\n",
    "x_train, x_test, x_oot, y_train, y_test, y_oot = load_data('var_rf_30.csv')\n",
    "\n",
    "print(\"Logistic regression\")\n",
    "score = cross_val_score(lr, x_train, y_train, scoring=fdr, cv=5, n_jobs=2)\n",
    "print(score)\n",
    "print(sum(score) / len(score))\n",
    "print(\"\\nDecision Tree\")\n",
    "score = cross_val_score(dt, x_train, y_train, scoring=fdr, cv=5, n_jobs=5)\n",
    "print(score)\n",
    "print(sum(score) / len(score))"
   ]
  }
 ],
 "metadata": {
  "kernelspec": {
   "display_name": "Python 3",
   "language": "python",
   "name": "python3"
  },
  "language_info": {
   "codemirror_mode": {
    "name": "ipython",
    "version": 3
   },
   "file_extension": ".py",
   "mimetype": "text/x-python",
   "name": "python",
   "nbconvert_exporter": "python",
   "pygments_lexer": "ipython3",
   "version": "3.6.8"
  }
 },
 "nbformat": 4,
 "nbformat_minor": 1
}
