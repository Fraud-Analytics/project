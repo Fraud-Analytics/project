{
 "cells": [
  {
   "cell_type": "code",
   "execution_count": 13,
   "metadata": {},
   "outputs": [],
   "source": [
    "import pandas as pd\n",
    "import numpy as np\n",
    "from sklearn.ensemble import RandomForestClassifier\n",
    "from sklearn.preprocessing import StandardScaler\n",
    "import matplotlib.pyplot as plt\n",
    "\n",
    "from util import load_data, fdr, plot_report"
   ]
  },
  {
   "cell_type": "code",
   "execution_count": 2,
   "metadata": {},
   "outputs": [],
   "source": [
    "def load_data(file, num_features=81):\n",
    "    df = pd.read_csv(file)\n",
    "    std_scale = StandardScaler().fit(df)\n",
    "    df_std = pd.DataFrame(std_scale.transform(df), columns=df.columns)\n",
    "\n",
    "    with open('filter_rank.csv', 'r') as f:\n",
    "        rank = f.read().split('\\n')\n",
    "\n",
    "    y = df['fraud_label'].to_numpy()\n",
    "    df_std.drop(columns=['record', 'fraud_label'], inplace=True)\n",
    "\n",
    "    ks_col = rank[:num_features]\n",
    "    filter_df = df_std.filter(items=ks_col)\n",
    "    return filter_df, y"
   ]
  },
  {
   "cell_type": "code",
   "execution_count": 3,
   "metadata": {
    "pycharm": {
     "name": "#%%\n"
    }
   },
   "outputs": [
    {
     "data": {
      "text/html": [
       "<div>\n",
       "<style scoped>\n",
       "    .dataframe tbody tr th:only-of-type {\n",
       "        vertical-align: middle;\n",
       "    }\n",
       "\n",
       "    .dataframe tbody tr th {\n",
       "        vertical-align: top;\n",
       "    }\n",
       "\n",
       "    .dataframe thead th {\n",
       "        text-align: right;\n",
       "    }\n",
       "</style>\n",
       "<table border=\"1\" class=\"dataframe\">\n",
       "  <thead>\n",
       "    <tr style=\"text-align: right;\">\n",
       "      <th></th>\n",
       "      <th>fulladdress_day_since</th>\n",
       "      <th>address_day_since</th>\n",
       "      <th>fulladdress_count_30</th>\n",
       "      <th>address_count_30</th>\n",
       "      <th>address_count_14</th>\n",
       "      <th>fulladdress_count_14</th>\n",
       "      <th>address_count_7</th>\n",
       "      <th>fulladdress_count_7</th>\n",
       "      <th>address_count_0_by_14</th>\n",
       "      <th>fulladdress_count_0_by_14</th>\n",
       "      <th>...</th>\n",
       "      <th>fulladdress_homephone_count_0_by_14</th>\n",
       "      <th>homephone_count_7</th>\n",
       "      <th>homephone_count_3</th>\n",
       "      <th>address_count_1_by_7</th>\n",
       "      <th>fulladdress_count_1_by_7</th>\n",
       "      <th>fulladdress_count_0</th>\n",
       "      <th>address_count_0</th>\n",
       "      <th>name_dob_count_3</th>\n",
       "      <th>ssn_count_3</th>\n",
       "      <th>homephone_count_14</th>\n",
       "    </tr>\n",
       "  </thead>\n",
       "  <tbody>\n",
       "    <tr>\n",
       "      <th>0</th>\n",
       "      <td>0.402897</td>\n",
       "      <td>0.427984</td>\n",
       "      <td>-0.101958</td>\n",
       "      <td>-0.117706</td>\n",
       "      <td>-0.088541</td>\n",
       "      <td>-0.079045</td>\n",
       "      <td>-0.072633</td>\n",
       "      <td>-0.067095</td>\n",
       "      <td>0.148454</td>\n",
       "      <td>0.131798</td>\n",
       "      <td>...</td>\n",
       "      <td>0.120387</td>\n",
       "      <td>-0.769214</td>\n",
       "      <td>-0.521454</td>\n",
       "      <td>0.103441</td>\n",
       "      <td>0.09144</td>\n",
       "      <td>-0.041351</td>\n",
       "      <td>-0.042158</td>\n",
       "      <td>-0.046415</td>\n",
       "      <td>-0.047591</td>\n",
       "      <td>-1.011308</td>\n",
       "    </tr>\n",
       "    <tr>\n",
       "      <th>1</th>\n",
       "      <td>0.402897</td>\n",
       "      <td>0.427984</td>\n",
       "      <td>-0.101958</td>\n",
       "      <td>-0.117706</td>\n",
       "      <td>-0.088541</td>\n",
       "      <td>-0.079045</td>\n",
       "      <td>-0.072633</td>\n",
       "      <td>-0.067095</td>\n",
       "      <td>0.148454</td>\n",
       "      <td>0.131798</td>\n",
       "      <td>...</td>\n",
       "      <td>0.120387</td>\n",
       "      <td>-0.769214</td>\n",
       "      <td>-0.521454</td>\n",
       "      <td>0.103441</td>\n",
       "      <td>0.09144</td>\n",
       "      <td>-0.041351</td>\n",
       "      <td>-0.042158</td>\n",
       "      <td>-0.046415</td>\n",
       "      <td>-0.047591</td>\n",
       "      <td>-1.011308</td>\n",
       "    </tr>\n",
       "    <tr>\n",
       "      <th>2</th>\n",
       "      <td>0.402897</td>\n",
       "      <td>0.427984</td>\n",
       "      <td>-0.101958</td>\n",
       "      <td>-0.117706</td>\n",
       "      <td>-0.088541</td>\n",
       "      <td>-0.079045</td>\n",
       "      <td>-0.072633</td>\n",
       "      <td>-0.067095</td>\n",
       "      <td>0.148454</td>\n",
       "      <td>0.131798</td>\n",
       "      <td>...</td>\n",
       "      <td>0.120387</td>\n",
       "      <td>-0.769214</td>\n",
       "      <td>-0.521454</td>\n",
       "      <td>0.103441</td>\n",
       "      <td>0.09144</td>\n",
       "      <td>-0.041351</td>\n",
       "      <td>-0.042158</td>\n",
       "      <td>-0.046415</td>\n",
       "      <td>-0.047591</td>\n",
       "      <td>-1.011308</td>\n",
       "    </tr>\n",
       "    <tr>\n",
       "      <th>3</th>\n",
       "      <td>0.402897</td>\n",
       "      <td>0.427984</td>\n",
       "      <td>-0.101958</td>\n",
       "      <td>-0.117706</td>\n",
       "      <td>-0.088541</td>\n",
       "      <td>-0.079045</td>\n",
       "      <td>-0.072633</td>\n",
       "      <td>-0.067095</td>\n",
       "      <td>0.148454</td>\n",
       "      <td>0.131798</td>\n",
       "      <td>...</td>\n",
       "      <td>0.120387</td>\n",
       "      <td>-0.769214</td>\n",
       "      <td>-0.521454</td>\n",
       "      <td>0.103441</td>\n",
       "      <td>0.09144</td>\n",
       "      <td>-0.041351</td>\n",
       "      <td>-0.042158</td>\n",
       "      <td>-0.046415</td>\n",
       "      <td>-0.047591</td>\n",
       "      <td>-1.011308</td>\n",
       "    </tr>\n",
       "    <tr>\n",
       "      <th>4</th>\n",
       "      <td>0.402897</td>\n",
       "      <td>0.427984</td>\n",
       "      <td>-0.101958</td>\n",
       "      <td>-0.117706</td>\n",
       "      <td>-0.088541</td>\n",
       "      <td>-0.079045</td>\n",
       "      <td>-0.072633</td>\n",
       "      <td>-0.067095</td>\n",
       "      <td>0.148454</td>\n",
       "      <td>0.131798</td>\n",
       "      <td>...</td>\n",
       "      <td>0.120387</td>\n",
       "      <td>-0.769214</td>\n",
       "      <td>-0.521454</td>\n",
       "      <td>0.103441</td>\n",
       "      <td>0.09144</td>\n",
       "      <td>-0.041351</td>\n",
       "      <td>-0.042158</td>\n",
       "      <td>-0.046415</td>\n",
       "      <td>-0.047591</td>\n",
       "      <td>-1.011308</td>\n",
       "    </tr>\n",
       "  </tbody>\n",
       "</table>\n",
       "<p>5 rows × 80 columns</p>\n",
       "</div>"
      ],
      "text/plain": [
       "   fulladdress_day_since  address_day_since  fulladdress_count_30  \\\n",
       "0               0.402897           0.427984             -0.101958   \n",
       "1               0.402897           0.427984             -0.101958   \n",
       "2               0.402897           0.427984             -0.101958   \n",
       "3               0.402897           0.427984             -0.101958   \n",
       "4               0.402897           0.427984             -0.101958   \n",
       "\n",
       "   address_count_30  address_count_14  fulladdress_count_14  address_count_7  \\\n",
       "0         -0.117706         -0.088541             -0.079045        -0.072633   \n",
       "1         -0.117706         -0.088541             -0.079045        -0.072633   \n",
       "2         -0.117706         -0.088541             -0.079045        -0.072633   \n",
       "3         -0.117706         -0.088541             -0.079045        -0.072633   \n",
       "4         -0.117706         -0.088541             -0.079045        -0.072633   \n",
       "\n",
       "   fulladdress_count_7  address_count_0_by_14  fulladdress_count_0_by_14  ...  \\\n",
       "0            -0.067095               0.148454                   0.131798  ...   \n",
       "1            -0.067095               0.148454                   0.131798  ...   \n",
       "2            -0.067095               0.148454                   0.131798  ...   \n",
       "3            -0.067095               0.148454                   0.131798  ...   \n",
       "4            -0.067095               0.148454                   0.131798  ...   \n",
       "\n",
       "   fulladdress_homephone_count_0_by_14  homephone_count_7  homephone_count_3  \\\n",
       "0                             0.120387          -0.769214          -0.521454   \n",
       "1                             0.120387          -0.769214          -0.521454   \n",
       "2                             0.120387          -0.769214          -0.521454   \n",
       "3                             0.120387          -0.769214          -0.521454   \n",
       "4                             0.120387          -0.769214          -0.521454   \n",
       "\n",
       "   address_count_1_by_7  fulladdress_count_1_by_7  fulladdress_count_0  \\\n",
       "0              0.103441                   0.09144            -0.041351   \n",
       "1              0.103441                   0.09144            -0.041351   \n",
       "2              0.103441                   0.09144            -0.041351   \n",
       "3              0.103441                   0.09144            -0.041351   \n",
       "4              0.103441                   0.09144            -0.041351   \n",
       "\n",
       "   address_count_0  name_dob_count_3  ssn_count_3  homephone_count_14  \n",
       "0        -0.042158         -0.046415    -0.047591           -1.011308  \n",
       "1        -0.042158         -0.046415    -0.047591           -1.011308  \n",
       "2        -0.042158         -0.046415    -0.047591           -1.011308  \n",
       "3        -0.042158         -0.046415    -0.047591           -1.011308  \n",
       "4        -0.042158         -0.046415    -0.047591           -1.011308  \n",
       "\n",
       "[5 rows x 80 columns]"
      ]
     },
     "execution_count": 3,
     "metadata": {},
     "output_type": "execute_result"
    }
   ],
   "source": [
    "df, y = load_data('vars_308.csv')\n",
    "df.head()"
   ]
  },
  {
   "cell_type": "code",
   "execution_count": 4,
   "metadata": {},
   "outputs": [
    {
     "name": "stderr",
     "output_type": "stream",
     "text": [
      "[Parallel(n_jobs=4)]: Using backend ThreadingBackend with 4 concurrent workers.\n",
      "[Parallel(n_jobs=4)]: Done  42 tasks      | elapsed:   33.4s\n",
      "[Parallel(n_jobs=4)]: Done 192 tasks      | elapsed:  2.5min\n",
      "[Parallel(n_jobs=4)]: Done 442 tasks      | elapsed:  5.7min\n",
      "[Parallel(n_jobs=4)]: Done 792 tasks      | elapsed: 10.3min\n",
      "[Parallel(n_jobs=4)]: Done 1000 out of 1000 | elapsed: 12.9min finished\n"
     ]
    }
   ],
   "source": [
    "rf = RandomForestClassifier(n_estimators=1000,\n",
    "                            max_depth=20,\n",
    "                            max_features=10,\n",
    "                            ccp_alpha=1e-6,\n",
    "                            min_samples_leaf=4,\n",
    "                            n_jobs=4,\n",
    "                            verbose=1).fit(df, y)"
   ]
  },
  {
   "cell_type": "code",
   "execution_count": 25,
   "metadata": {},
   "outputs": [
    {
     "data": {
      "text/plain": [
       "array([0.01231375, 0.00722439, 0.10138559, 0.01377044, 0.01845465,\n",
       "       0.09458207, 0.02598956, 0.08076032, 0.00115822, 0.00563   ,\n",
       "       0.03745963, 0.01297653, 0.0237414 , 0.00161894, 0.00207718,\n",
       "       0.00405454, 0.01120416, 0.01765712, 0.00439013, 0.04821183,\n",
       "       0.05984128, 0.00360873, 0.00311548, 0.01516764, 0.0031522 ,\n",
       "       0.00319958, 0.00388548, 0.03955015, 0.02821683, 0.05895714,\n",
       "       0.00290673, 0.03867885, 0.00149195, 0.00237462, 0.01921556,\n",
       "       0.00431252, 0.01474769, 0.01349907, 0.00253774, 0.00146994,\n",
       "       0.0075365 , 0.01051128, 0.01127299, 0.0123062 , 0.00414402,\n",
       "       0.00622206, 0.00370891, 0.00270816, 0.00057364, 0.00092987,\n",
       "       0.00288851, 0.00265158, 0.00179263, 0.00292367, 0.00228803,\n",
       "       0.00423894, 0.0029817 , 0.001421  , 0.00352966, 0.00286025,\n",
       "       0.0024646 , 0.00417709, 0.00315422, 0.00103905, 0.00028932,\n",
       "       0.00058508, 0.0025973 , 0.00046281, 0.00044786, 0.00171763,\n",
       "       0.00118319, 0.00923641, 0.01719489, 0.00074002, 0.00105858,\n",
       "       0.00605419, 0.0032632 , 0.00249178, 0.00252758, 0.00723595])"
      ]
     },
     "execution_count": 25,
     "metadata": {},
     "output_type": "execute_result"
    }
   ],
   "source": [
    "rf.feature_importances_"
   ]
  },
  {
   "cell_type": "code",
   "execution_count": 26,
   "metadata": {},
   "outputs": [],
   "source": [
    "tree_feature_importances = (rf.feature_importances_)\n",
    "sorted_idx = tree_feature_importances.argsort()"
   ]
  },
  {
   "cell_type": "code",
   "execution_count": 27,
   "metadata": {},
   "outputs": [],
   "source": [
    "feature_names = df.columns"
   ]
  },
  {
   "cell_type": "code",
   "execution_count": 28,
   "metadata": {},
   "outputs": [
    {
     "data": {
      "text/plain": [
       "Index(['ssn_count_0_by_14', 'ssn_lastname_count_0_by_14',\n",
       "       'ssn_firstname_count_0_by_14', 'ssn_count_0_by_30',\n",
       "       'ssn_dob_count_0_by_14', 'address_count_1_by_7',\n",
       "       'address_count_1_by_14', 'name_dob_count_0_by_14',\n",
       "       'fulladdress_count_1_by_7', 'address_count_0_by_14',\n",
       "       'fulladdress_homephone_count_0_by_14', 'name_count_14', 'name_count_30',\n",
       "       'address_count_0_by_3', 'address_count_0_by_30', 'name_count_7',\n",
       "       'fulladdress_count_1_by_14', 'address_count_0_by_7', 'name_dob_count_7',\n",
       "       'fulladdress_count_0_by_3', 'ssn_dob_count_7', 'name_dob_count_3',\n",
       "       'ssn_count_3', 'ssn_count_14', 'fulladdress_homephone_count_7',\n",
       "       'ssn_lastname_count_0_by_30', 'fulladdress_count_1_by_30',\n",
       "       'ssn_name_dob_count_7', 'ssn_firstname_count_0_by_30',\n",
       "       'ssn_name_day_since', 'fulladdress_homephone_count_0_by_30',\n",
       "       'ssn_count_7', 'ssn_day_since', 'ssn_firstname_day_since',\n",
       "       'ssn_name_count_7', 'ssn_lastname_day_since', 'address_count_0',\n",
       "       'ssn_firstname_count_7', 'name_dob_day_since', 'name_dob_count_0_by_30',\n",
       "       'ssn_name_dob_day_since', 'fulladdress_count_0_by_7',\n",
       "       'fulladdress_homephone_count_14', 'ssn_lastname_count_7',\n",
       "       'name_day_since', 'fulladdress_homephone_day_since',\n",
       "       'ssn_dob_day_since', 'fulladdress_count_0_by_14', 'fulladdress_count_0',\n",
       "       'ssn_dob_count_0_by_30', 'address_day_since', 'homephone_count_14',\n",
       "       'ssn_firstname_count_14', 'homephone_count_7', 'ssn_lastname_count_14',\n",
       "       'address_count_1', 'ssn_name_count_14', 'ssn_name_dob_count_14',\n",
       "       'fulladdress_day_since', 'fulladdress_count_0_by_30',\n",
       "       'ssn_dob_count_14', 'address_count_30', 'name_dob_count_14',\n",
       "       'ssn_count_30', 'homephone_count_3', 'fulladdress_count_1',\n",
       "       'address_count_14', 'fulladdress_homephone_count_30', 'address_count_3',\n",
       "       'address_count_7', 'ssn_lastname_count_30', 'fulladdress_count_3',\n",
       "       'ssn_name_count_30', 'ssn_firstname_count_30', 'ssn_dob_count_30',\n",
       "       'ssn_name_dob_count_30', 'name_dob_count_30', 'fulladdress_count_7',\n",
       "       'fulladdress_count_14', 'fulladdress_count_30'],\n",
       "      dtype='object')"
      ]
     },
     "execution_count": 28,
     "metadata": {},
     "output_type": "execute_result"
    }
   ],
   "source": [
    "feature_names[sorted_idx]"
   ]
  },
  {
   "cell_type": "code",
   "execution_count": 29,
   "metadata": {},
   "outputs": [
    {
     "data": {
      "text/plain": [
       "[<matplotlib.lines.Line2D at 0x7f335b857f60>]"
      ]
     },
     "execution_count": 29,
     "metadata": {},
     "output_type": "execute_result"
    },
    {
     "data": {
      "image/png": "[encoded data removed]",
      "text/plain": [
       "<Figure size 432x288 with 1 Axes>"
      ]
     },
     "metadata": {
      "needs_background": "light"
     },
     "output_type": "display_data"
    }
   ],
   "source": [
    "plt.figure()\n",
    "plt.plot(range(len(feature_names)),\n",
    "         tree_feature_importances[sorted_idx], \n",
    "         'r-')"
   ]
  },
  {
   "cell_type": "code",
   "execution_count": 30,
   "metadata": {},
   "outputs": [],
   "source": [
    "with open('rf_select.csv', 'w') as f:\n",
    "    f.write('\\n'.join(feature_names[sorted_idx]))"
   ]
  },
  {
   "cell_type": "code",
   "execution_count": 31,
   "metadata": {},
   "outputs": [],
   "source": [
    "var_30 = df.filter(items=feature_names[sorted_idx][:30])\n",
    "var_30['fraud_label'] = y\n",
    "var_30.to_csv('var_rf_30.csv', index=False)"
   ]
  }
 ],
 "metadata": {
  "kernelspec": {
   "display_name": "Python 3",
   "language": "python",
   "name": "python3"
  },
  "language_info": {
   "codemirror_mode": {
    "name": "ipython",
    "version": 3
   },
   "file_extension": ".py",
   "mimetype": "text/x-python",
   "name": "python",
   "nbconvert_exporter": "python",
   "pygments_lexer": "ipython3",
   "version": "3.6.8"
  }
 },
 "nbformat": 4,
 "nbformat_minor": 1
}
