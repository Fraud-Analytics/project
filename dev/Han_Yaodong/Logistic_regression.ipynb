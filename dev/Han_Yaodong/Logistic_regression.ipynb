{
 "cells": [
  {
   "cell_type": "code",
   "execution_count": 1,
   "metadata": {},
   "outputs": [],
   "source": [
    "import pandas as pd\n",
    "from sklearn.linear_model import LogisticRegression\n",
    "from sklearn.model_selection import train_test_split\n",
    "from sklearn.utils import shuffle\n",
    "from sklearn.model_selection import GridSearchCV\n",
    "\n",
    "from util import load_data, fdr, plot_report\n",
    "\n",
    "%matplotlib inline"
   ]
  },
  {
   "cell_type": "code",
   "execution_count": 2,
   "metadata": {},
   "outputs": [
    {
     "data": {
      "text/html": [
       "<div>\n",
       "<style scoped>\n",
       "    .dataframe tbody tr th:only-of-type {\n",
       "        vertical-align: middle;\n",
       "    }\n",
       "\n",
       "    .dataframe tbody tr th {\n",
       "        vertical-align: top;\n",
       "    }\n",
       "\n",
       "    .dataframe thead th {\n",
       "        text-align: right;\n",
       "    }\n",
       "</style>\n",
       "<table border=\"1\" class=\"dataframe\">\n",
       "  <thead>\n",
       "    <tr style=\"text-align: right;\">\n",
       "      <th></th>\n",
       "      <th>ssn_name_dob_count_7</th>\n",
       "      <th>ssn_dob_count_0_by_14</th>\n",
       "      <th>name_dob_count_0_by_14</th>\n",
       "      <th>ssn_firstname_count_0_by_14</th>\n",
       "      <th>name_count_7</th>\n",
       "      <th>fulladdress_homephone_count_0_by_14</th>\n",
       "      <th>name_day_since</th>\n",
       "      <th>homephone_count_7</th>\n",
       "      <th>homephone_count_3</th>\n",
       "      <th>address_count_1_by_7</th>\n",
       "      <th>...</th>\n",
       "      <th>fulladdress_homephone_count_7</th>\n",
       "      <th>ssn_firstname_count_7</th>\n",
       "      <th>ssn_lastname_count_0_by_14</th>\n",
       "      <th>ssn_lastname_day_since</th>\n",
       "      <th>ssn_name_count_7</th>\n",
       "      <th>name_count_14</th>\n",
       "      <th>ssn_count_7</th>\n",
       "      <th>ssn_dob_count_7</th>\n",
       "      <th>ssn_lastname_count_7</th>\n",
       "      <th>ssn_name_day_since</th>\n",
       "    </tr>\n",
       "  </thead>\n",
       "  <tbody>\n",
       "    <tr>\n",
       "      <th>460893</th>\n",
       "      <td>-0.055635</td>\n",
       "      <td>0.118004</td>\n",
       "      <td>0.118316</td>\n",
       "      <td>0.123528</td>\n",
       "      <td>-0.115648</td>\n",
       "      <td>0.120387</td>\n",
       "      <td>-1.233743</td>\n",
       "      <td>0.879479</td>\n",
       "      <td>0.639149</td>\n",
       "      <td>0.103441</td>\n",
       "      <td>...</td>\n",
       "      <td>-0.057263</td>\n",
       "      <td>-0.057185</td>\n",
       "      <td>0.123458</td>\n",
       "      <td>0.038840</td>\n",
       "      <td>-0.057109</td>\n",
       "      <td>1.496715</td>\n",
       "      <td>-0.058092</td>\n",
       "      <td>-0.055708</td>\n",
       "      <td>-0.057154</td>\n",
       "      <td>0.038314</td>\n",
       "    </tr>\n",
       "    <tr>\n",
       "      <th>716466</th>\n",
       "      <td>-0.055635</td>\n",
       "      <td>0.118004</td>\n",
       "      <td>0.118316</td>\n",
       "      <td>0.123528</td>\n",
       "      <td>-0.115648</td>\n",
       "      <td>0.120387</td>\n",
       "      <td>-0.118258</td>\n",
       "      <td>-0.769214</td>\n",
       "      <td>-0.521454</td>\n",
       "      <td>0.103441</td>\n",
       "      <td>...</td>\n",
       "      <td>-0.057263</td>\n",
       "      <td>-0.057185</td>\n",
       "      <td>0.123458</td>\n",
       "      <td>-0.322512</td>\n",
       "      <td>-0.057109</td>\n",
       "      <td>-0.159376</td>\n",
       "      <td>-0.058092</td>\n",
       "      <td>-0.055708</td>\n",
       "      <td>-0.057154</td>\n",
       "      <td>-0.323035</td>\n",
       "    </tr>\n",
       "    <tr>\n",
       "      <th>316780</th>\n",
       "      <td>-0.055635</td>\n",
       "      <td>0.118004</td>\n",
       "      <td>0.118316</td>\n",
       "      <td>0.123528</td>\n",
       "      <td>-0.115648</td>\n",
       "      <td>0.120387</td>\n",
       "      <td>-0.468029</td>\n",
       "      <td>0.055132</td>\n",
       "      <td>-0.521454</td>\n",
       "      <td>0.103441</td>\n",
       "      <td>...</td>\n",
       "      <td>-0.057263</td>\n",
       "      <td>-0.057185</td>\n",
       "      <td>0.123458</td>\n",
       "      <td>-0.455642</td>\n",
       "      <td>-0.057109</td>\n",
       "      <td>-0.159376</td>\n",
       "      <td>-0.058092</td>\n",
       "      <td>-0.055708</td>\n",
       "      <td>-0.057154</td>\n",
       "      <td>-0.456164</td>\n",
       "    </tr>\n",
       "    <tr>\n",
       "      <th>601933</th>\n",
       "      <td>-0.055635</td>\n",
       "      <td>0.118004</td>\n",
       "      <td>0.118316</td>\n",
       "      <td>0.123528</td>\n",
       "      <td>1.847681</td>\n",
       "      <td>0.120387</td>\n",
       "      <td>-1.309369</td>\n",
       "      <td>-0.769214</td>\n",
       "      <td>-0.521454</td>\n",
       "      <td>0.103441</td>\n",
       "      <td>...</td>\n",
       "      <td>-0.057263</td>\n",
       "      <td>-0.057185</td>\n",
       "      <td>0.123458</td>\n",
       "      <td>0.533322</td>\n",
       "      <td>-0.057109</td>\n",
       "      <td>1.496715</td>\n",
       "      <td>-0.058092</td>\n",
       "      <td>-0.055708</td>\n",
       "      <td>-0.057154</td>\n",
       "      <td>0.532792</td>\n",
       "    </tr>\n",
       "    <tr>\n",
       "      <th>647723</th>\n",
       "      <td>-0.055635</td>\n",
       "      <td>0.118004</td>\n",
       "      <td>0.118316</td>\n",
       "      <td>0.123528</td>\n",
       "      <td>5.774338</td>\n",
       "      <td>0.120387</td>\n",
       "      <td>-1.328276</td>\n",
       "      <td>-0.769214</td>\n",
       "      <td>-0.521454</td>\n",
       "      <td>0.103441</td>\n",
       "      <td>...</td>\n",
       "      <td>-0.057263</td>\n",
       "      <td>-0.057185</td>\n",
       "      <td>0.123458</td>\n",
       "      <td>0.694979</td>\n",
       "      <td>-0.057109</td>\n",
       "      <td>4.808897</td>\n",
       "      <td>-0.058092</td>\n",
       "      <td>-0.055708</td>\n",
       "      <td>-0.057154</td>\n",
       "      <td>0.694449</td>\n",
       "    </tr>\n",
       "  </tbody>\n",
       "</table>\n",
       "<p>5 rows × 25 columns</p>\n",
       "</div>"
      ],
      "text/plain": [
       "        ssn_name_dob_count_7  ssn_dob_count_0_by_14  name_dob_count_0_by_14  \\\n",
       "460893             -0.055635               0.118004                0.118316   \n",
       "716466             -0.055635               0.118004                0.118316   \n",
       "316780             -0.055635               0.118004                0.118316   \n",
       "601933             -0.055635               0.118004                0.118316   \n",
       "647723             -0.055635               0.118004                0.118316   \n",
       "\n",
       "        ssn_firstname_count_0_by_14  name_count_7  \\\n",
       "460893                     0.123528     -0.115648   \n",
       "716466                     0.123528     -0.115648   \n",
       "316780                     0.123528     -0.115648   \n",
       "601933                     0.123528      1.847681   \n",
       "647723                     0.123528      5.774338   \n",
       "\n",
       "        fulladdress_homephone_count_0_by_14  name_day_since  \\\n",
       "460893                             0.120387       -1.233743   \n",
       "716466                             0.120387       -0.118258   \n",
       "316780                             0.120387       -0.468029   \n",
       "601933                             0.120387       -1.309369   \n",
       "647723                             0.120387       -1.328276   \n",
       "\n",
       "        homephone_count_7  homephone_count_3  address_count_1_by_7  ...  \\\n",
       "460893           0.879479           0.639149              0.103441  ...   \n",
       "716466          -0.769214          -0.521454              0.103441  ...   \n",
       "316780           0.055132          -0.521454              0.103441  ...   \n",
       "601933          -0.769214          -0.521454              0.103441  ...   \n",
       "647723          -0.769214          -0.521454              0.103441  ...   \n",
       "\n",
       "        fulladdress_homephone_count_7  ssn_firstname_count_7  \\\n",
       "460893                      -0.057263              -0.057185   \n",
       "716466                      -0.057263              -0.057185   \n",
       "316780                      -0.057263              -0.057185   \n",
       "601933                      -0.057263              -0.057185   \n",
       "647723                      -0.057263              -0.057185   \n",
       "\n",
       "        ssn_lastname_count_0_by_14  ssn_lastname_day_since  ssn_name_count_7  \\\n",
       "460893                    0.123458                0.038840         -0.057109   \n",
       "716466                    0.123458               -0.322512         -0.057109   \n",
       "316780                    0.123458               -0.455642         -0.057109   \n",
       "601933                    0.123458                0.533322         -0.057109   \n",
       "647723                    0.123458                0.694979         -0.057109   \n",
       "\n",
       "        name_count_14  ssn_count_7  ssn_dob_count_7  ssn_lastname_count_7  \\\n",
       "460893       1.496715    -0.058092        -0.055708             -0.057154   \n",
       "716466      -0.159376    -0.058092        -0.055708             -0.057154   \n",
       "316780      -0.159376    -0.058092        -0.055708             -0.057154   \n",
       "601933       1.496715    -0.058092        -0.055708             -0.057154   \n",
       "647723       4.808897    -0.058092        -0.055708             -0.057154   \n",
       "\n",
       "        ssn_name_day_since  \n",
       "460893            0.038314  \n",
       "716466           -0.323035  \n",
       "316780           -0.456164  \n",
       "601933            0.532792  \n",
       "647723            0.694449  \n",
       "\n",
       "[5 rows x 25 columns]"
      ]
     },
     "execution_count": 2,
     "metadata": {},
     "output_type": "execute_result"
    }
   ],
   "source": [
    "x_train, x_test, y_train, y_test = load_data('var_w1.csv')\n",
    "x_train.head()"
   ]
  },
  {
   "cell_type": "code",
   "execution_count": 3,
   "metadata": {},
   "outputs": [
    {
     "name": "stdout",
     "output_type": "stream",
     "text": [
      "Fitting 10 folds for each of 10 candidates, totalling 100 fits\n"
     ]
    },
    {
     "name": "stderr",
     "output_type": "stream",
     "text": [
      "[Parallel(n_jobs=4)]: Using backend LokyBackend with 4 concurrent workers.\n",
      "[Parallel(n_jobs=4)]: Done  42 tasks      | elapsed:   55.7s\n",
      "[Parallel(n_jobs=4)]: Done 100 out of 100 | elapsed:  7.0min finished\n"
     ]
    },
    {
     "data": {
      "text/plain": [
       "GridSearchCV(cv=10, error_score=nan,\n",
       "             estimator=LogisticRegression(C=1.0, class_weight=None, dual=False,\n",
       "                                          fit_intercept=True,\n",
       "                                          intercept_scaling=1, l1_ratio=None,\n",
       "                                          max_iter=1000, multi_class='auto',\n",
       "                                          n_jobs=None, penalty='l2',\n",
       "                                          random_state=None, solver='lbfgs',\n",
       "                                          tol=0.0001, verbose=0,\n",
       "                                          warm_start=False),\n",
       "             iid='deprecated', n_jobs=4,\n",
       "             param_grid={'C': [0.0001, 0.001, 0.01, 0.1, 1],\n",
       "                         'class_weight': ['balanced', None]},\n",
       "             pre_dispatch='2*n_jobs', refit='FDR', return_train_score=False,\n",
       "             scoring={'FDR': <function fdr at 0x7fba1ef30268>,\n",
       "                      'ROC': 'roc_auc'},\n",
       "             verbose=1)"
      ]
     },
     "execution_count": 3,
     "metadata": {},
     "output_type": "execute_result"
    }
   ],
   "source": [
    "lr = LogisticRegression(max_iter=1000)\n",
    "params = {'C': [10 ** i for i in range(-4, 1)],\n",
    "          'class_weight': ['balanced', None]}\n",
    "clf = GridSearchCV(lr, params, cv=10, refit='FDR', verbose=1,\n",
    "                   n_jobs=4, scoring={'FDR': fdr, 'ROC': 'roc_auc'})\n",
    "clf.fit(x_train, y_train)"
   ]
  },
  {
   "cell_type": "code",
   "execution_count": 4,
   "metadata": {},
   "outputs": [
    {
     "name": "stdout",
     "output_type": "stream",
     "text": [
      "The best parameters are {'C': 0.1, 'class_weight': 'balanced'} with a score of 0.53199\n"
     ]
    }
   ],
   "source": [
    "print(f\"The best parameters are {clf.best_params_} \"\n",
    "      f\"with a score of {clf.best_score_:0.5f}\")"
   ]
  },
  {
   "cell_type": "code",
   "execution_count": 5,
   "metadata": {},
   "outputs": [
    {
     "data": {
      "text/html": [
       "<div>\n",
       "<style scoped>\n",
       "    .dataframe tbody tr th:only-of-type {\n",
       "        vertical-align: middle;\n",
       "    }\n",
       "\n",
       "    .dataframe tbody tr th {\n",
       "        vertical-align: top;\n",
       "    }\n",
       "\n",
       "    .dataframe thead th {\n",
       "        text-align: right;\n",
       "    }\n",
       "</style>\n",
       "<table border=\"1\" class=\"dataframe\">\n",
       "  <thead>\n",
       "    <tr style=\"text-align: right;\">\n",
       "      <th></th>\n",
       "      <th>mean_fit_time</th>\n",
       "      <th>mean_score_time</th>\n",
       "      <th>params</th>\n",
       "      <th>mean_test_FDR</th>\n",
       "      <th>std_test_FDR</th>\n",
       "      <th>rank_test_FDR</th>\n",
       "      <th>mean_test_ROC</th>\n",
       "      <th>std_test_ROC</th>\n",
       "    </tr>\n",
       "  </thead>\n",
       "  <tbody>\n",
       "    <tr>\n",
       "      <th>0</th>\n",
       "      <td>3.253965</td>\n",
       "      <td>0.537304</td>\n",
       "      <td>{'C': 0.0001, 'class_weight': 'balanced'}</td>\n",
       "      <td>0.529288</td>\n",
       "      <td>0.011599</td>\n",
       "      <td>4</td>\n",
       "      <td>0.768731</td>\n",
       "      <td>0.006803</td>\n",
       "    </tr>\n",
       "    <tr>\n",
       "      <th>1</th>\n",
       "      <td>1.815509</td>\n",
       "      <td>0.560595</td>\n",
       "      <td>{'C': 0.0001, 'class_weight': None}</td>\n",
       "      <td>0.522140</td>\n",
       "      <td>0.013325</td>\n",
       "      <td>6</td>\n",
       "      <td>0.765905</td>\n",
       "      <td>0.006530</td>\n",
       "    </tr>\n",
       "    <tr>\n",
       "      <th>2</th>\n",
       "      <td>5.726209</td>\n",
       "      <td>0.571122</td>\n",
       "      <td>{'C': 0.001, 'class_weight': 'balanced'}</td>\n",
       "      <td>0.529027</td>\n",
       "      <td>0.011502</td>\n",
       "      <td>5</td>\n",
       "      <td>0.769563</td>\n",
       "      <td>0.006373</td>\n",
       "    </tr>\n",
       "    <tr>\n",
       "      <th>3</th>\n",
       "      <td>3.858616</td>\n",
       "      <td>0.621460</td>\n",
       "      <td>{'C': 0.001, 'class_weight': None}</td>\n",
       "      <td>0.516387</td>\n",
       "      <td>0.013363</td>\n",
       "      <td>10</td>\n",
       "      <td>0.766542</td>\n",
       "      <td>0.006161</td>\n",
       "    </tr>\n",
       "    <tr>\n",
       "      <th>4</th>\n",
       "      <td>11.726470</td>\n",
       "      <td>0.620048</td>\n",
       "      <td>{'C': 0.01, 'class_weight': 'balanced'}</td>\n",
       "      <td>0.531554</td>\n",
       "      <td>0.011575</td>\n",
       "      <td>3</td>\n",
       "      <td>0.769826</td>\n",
       "      <td>0.006422</td>\n",
       "    </tr>\n",
       "    <tr>\n",
       "      <th>5</th>\n",
       "      <td>8.318122</td>\n",
       "      <td>0.615861</td>\n",
       "      <td>{'C': 0.01, 'class_weight': None}</td>\n",
       "      <td>0.516561</td>\n",
       "      <td>0.012850</td>\n",
       "      <td>9</td>\n",
       "      <td>0.767308</td>\n",
       "      <td>0.005145</td>\n",
       "    </tr>\n",
       "    <tr>\n",
       "      <th>6</th>\n",
       "      <td>25.521487</td>\n",
       "      <td>0.630717</td>\n",
       "      <td>{'C': 0.1, 'class_weight': 'balanced'}</td>\n",
       "      <td>0.531990</td>\n",
       "      <td>0.012100</td>\n",
       "      <td>1</td>\n",
       "      <td>0.769728</td>\n",
       "      <td>0.006342</td>\n",
       "    </tr>\n",
       "    <tr>\n",
       "      <th>7</th>\n",
       "      <td>19.531959</td>\n",
       "      <td>0.636790</td>\n",
       "      <td>{'C': 0.1, 'class_weight': None}</td>\n",
       "      <td>0.519002</td>\n",
       "      <td>0.013057</td>\n",
       "      <td>8</td>\n",
       "      <td>0.767840</td>\n",
       "      <td>0.004948</td>\n",
       "    </tr>\n",
       "    <tr>\n",
       "      <th>8</th>\n",
       "      <td>43.205458</td>\n",
       "      <td>0.641074</td>\n",
       "      <td>{'C': 1, 'class_weight': 'balanced'}</td>\n",
       "      <td>0.531990</td>\n",
       "      <td>0.012100</td>\n",
       "      <td>1</td>\n",
       "      <td>0.769677</td>\n",
       "      <td>0.006278</td>\n",
       "    </tr>\n",
       "    <tr>\n",
       "      <th>9</th>\n",
       "      <td>33.755904</td>\n",
       "      <td>0.612665</td>\n",
       "      <td>{'C': 1, 'class_weight': None}</td>\n",
       "      <td>0.519089</td>\n",
       "      <td>0.013543</td>\n",
       "      <td>7</td>\n",
       "      <td>0.767767</td>\n",
       "      <td>0.004855</td>\n",
       "    </tr>\n",
       "  </tbody>\n",
       "</table>\n",
       "</div>"
      ],
      "text/plain": [
       "   mean_fit_time  mean_score_time                                     params  \\\n",
       "0       3.253965         0.537304  {'C': 0.0001, 'class_weight': 'balanced'}   \n",
       "1       1.815509         0.560595        {'C': 0.0001, 'class_weight': None}   \n",
       "2       5.726209         0.571122   {'C': 0.001, 'class_weight': 'balanced'}   \n",
       "3       3.858616         0.621460         {'C': 0.001, 'class_weight': None}   \n",
       "4      11.726470         0.620048    {'C': 0.01, 'class_weight': 'balanced'}   \n",
       "5       8.318122         0.615861          {'C': 0.01, 'class_weight': None}   \n",
       "6      25.521487         0.630717     {'C': 0.1, 'class_weight': 'balanced'}   \n",
       "7      19.531959         0.636790           {'C': 0.1, 'class_weight': None}   \n",
       "8      43.205458         0.641074       {'C': 1, 'class_weight': 'balanced'}   \n",
       "9      33.755904         0.612665             {'C': 1, 'class_weight': None}   \n",
       "\n",
       "   mean_test_FDR  std_test_FDR  rank_test_FDR  mean_test_ROC  std_test_ROC  \n",
       "0       0.529288      0.011599              4       0.768731      0.006803  \n",
       "1       0.522140      0.013325              6       0.765905      0.006530  \n",
       "2       0.529027      0.011502              5       0.769563      0.006373  \n",
       "3       0.516387      0.013363             10       0.766542      0.006161  \n",
       "4       0.531554      0.011575              3       0.769826      0.006422  \n",
       "5       0.516561      0.012850              9       0.767308      0.005145  \n",
       "6       0.531990      0.012100              1       0.769728      0.006342  \n",
       "7       0.519002      0.013057              8       0.767840      0.004948  \n",
       "8       0.531990      0.012100              1       0.769677      0.006278  \n",
       "9       0.519089      0.013543              7       0.767767      0.004855  "
      ]
     },
     "execution_count": 5,
     "metadata": {},
     "output_type": "execute_result"
    }
   ],
   "source": [
    "pd.DataFrame(clf.cv_results_).filter(\n",
    "    items=['mean_fit_time', 'mean_score_time',\n",
    "           'params', 'mean_test_FDR','std_test_FDR',\n",
    "           'rank_test_FDR', 'mean_test_ROC', 'std_test_ROC'])"
   ]
  },
  {
   "cell_type": "code",
   "execution_count": 6,
   "metadata": {
    "pycharm": {
     "name": "#%%\n"
    }
   },
   "outputs": [
    {
     "name": "stdout",
     "output_type": "stream",
     "text": [
      "FDR: 0.5234508729887025\n",
      "\n",
      "              precision    recall  f1-score   support\n",
      "\n",
      "           0       0.99      0.97      0.98    197079\n",
      "           1       0.22      0.53      0.31      2921\n",
      "\n",
      "    accuracy                           0.97    200000\n",
      "   macro avg       0.61      0.75      0.65    200000\n",
      "weighted avg       0.98      0.97      0.97    200000\n",
      "\n"
     ]
    },
    {
     "data": {
      "image/png": "[encoded data removed]",
      "text/plain": [
       "<Figure size 432x288 with 2 Axes>"
      ]
     },
     "metadata": {
      "needs_background": "light"
     },
     "output_type": "display_data"
    },
    {
     "data": {
      "image/png": "[encoded data removed]",
      "text/plain": [
       "<Figure size 432x288 with 1 Axes>"
      ]
     },
     "metadata": {
      "needs_background": "light"
     },
     "output_type": "display_data"
    }
   ],
   "source": [
    "lr = LogisticRegression(max_iter=1000, **clf.best_params_).fit(x_train, y_train)\n",
    "plot_report(lr, x_test, y_test)"
   ]
  },
  {
   "cell_type": "code",
   "execution_count": 5,
   "metadata": {},
   "outputs": [
    {
     "name": "stdout",
     "output_type": "stream",
     "text": [
      "FDR: 0.5220814789455666\n",
      "\n",
      "              precision    recall  f1-score   support\n",
      "\n",
      "           0       0.99      0.97      0.98    197079\n",
      "           1       0.22      0.53      0.31      2921\n",
      "\n",
      "    accuracy                           0.97    200000\n",
      "   macro avg       0.60      0.75      0.64    200000\n",
      "weighted avg       0.98      0.97      0.97    200000\n",
      "\n"
     ]
    },
    {
     "data": {
      "image/png": "[encoded data removed]",
      "text/plain": [
       "<Figure size 432x288 with 2 Axes>"
      ]
     },
     "metadata": {
      "needs_background": "light"
     },
     "output_type": "display_data"
    },
    {
     "data": {
      "image/png": "[encoded data removed]",
      "text/plain": [
       "<Figure size 432x288 with 1 Axes>"
      ]
     },
     "metadata": {
      "needs_background": "light"
     },
     "output_type": "display_data"
    }
   ],
   "source": [
    "from imblearn.ensemble import EasyEnsembleClassifier\n",
    "ee = EasyEnsembleClassifier(base_estimator=LogisticRegression(C=0.1, max_iter=1000),\n",
    "                            n_estimators=10,\n",
    "                            n_jobs=2,\n",
    "                            verbose=0).fit(x_train, y_train)\n",
    "plot_report(ee, x_test, y_test)"
   ]
  },
  {
   "cell_type": "code",
   "execution_count": null,
   "metadata": {},
   "outputs": [],
   "source": []
  }
 ],
 "metadata": {
  "kernelspec": {
   "display_name": "Python 3",
   "language": "python",
   "name": "python3"
  },
  "language_info": {
   "codemirror_mode": {
    "name": "ipython",
    "version": 3
   },
   "file_extension": ".py",
   "mimetype": "text/x-python",
   "name": "python",
   "nbconvert_exporter": "python",
   "pygments_lexer": "ipython3",
   "version": "3.6.8"
  }
 },
 "nbformat": 4,
 "nbformat_minor": 1
}
