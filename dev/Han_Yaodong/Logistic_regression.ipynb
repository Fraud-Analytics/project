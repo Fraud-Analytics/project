{
 "cells": [
  {
   "cell_type": "code",
   "execution_count": 1,
   "metadata": {},
   "outputs": [],
   "source": [
    "import pandas as pd\n",
    "from sklearn.linear_model import LogisticRegression\n",
    "from sklearn.model_selection import train_test_split\n",
    "from sklearn.utils import shuffle\n",
    "from sklearn.model_selection import GridSearchCV\n",
    "\n",
    "from .util import *\n",
    "\n",
    "%matplotlib inline"
   ]
  },
  {
   "cell_type": "code",
   "execution_count": 2,
   "metadata": {
    "pycharm": {
     "name": "#%%\n"
    }
   },
   "outputs": [],
   "source": [
    "df = pd.read_csv('var_w2.csv')\n",
    "y = df['fraud_label']\n",
    "df.drop(columns=['fraud_label'], inplace=True)"
   ]
  },
  {
   "cell_type": "code",
   "execution_count": 3,
   "metadata": {},
   "outputs": [
    {
     "data": {
      "text/plain": "        name_dob_day_since  ssn_day_since  name_count_0_by_30  \\\n113548           -1.183454      -1.166771            0.316329   \n410263           -0.149087      -0.130294            0.316329   \n475599            0.078663       0.097921            0.316329   \n381067           -0.253473      -0.234893            0.316329   \n263705           -0.652036      -0.634269            0.316329   \n\n        ssn_dob_count_7  ssn_count_7  homephone_count_14  \\\n113548        -0.055708    -0.058092            0.708788   \n410263        -0.055708    -0.058092           -0.437943   \n475599        -0.055708    -0.058092           -0.437943   \n381067        -0.055708    -0.058092           -1.011308   \n263705        -0.055708    -0.058092            0.708788   \n\n        fulladdress_homephone_count_0_by_14  \\\n113548                             0.120387   \n410263                             0.120387   \n475599                             0.120387   \n381067                             0.120387   \n263705                             0.120387   \n\n        fulladdress_homephone_count_0_by_30  fulladdress_count_1_by_7  \\\n113548                             0.166392                   0.09144   \n410263                             0.166392                   0.09144   \n475599                             0.166392                   0.09144   \n381067                             0.166392                   0.09144   \n263705                             0.166392                   0.09144   \n\n        fulladdress_count_1_by_14  ...  fulladdress_homephone_count_14  \\\n113548                   0.123861  ...                       -0.070089   \n410263                   0.123861  ...                       -0.070089   \n475599                   0.123861  ...                       -0.070089   \n381067                   0.123861  ...                       -0.070089   \n263705                   0.123861  ...                       -0.070089   \n\n        ssn_firstname_count_0_by_30  address_count_1_by_30  name_dob_count_14  \\\n113548                     0.171472               0.194244            -0.0686   \n410263                     0.171472               0.194244            -0.0686   \n475599                     0.171472               0.194244            -0.0686   \n381067                     0.171472               0.194244            -0.0686   \n263705                     0.171472               0.194244            -0.0686   \n\n        ssn_lastname_count_0_by_14  homephone_count_3  ssn_lastname_count_7  \\\n113548                    0.123458          -0.521454             -0.057154   \n410263                    0.123458          -0.521454             -0.057154   \n475599                    0.123458          -0.521454             -0.057154   \n381067                    0.123458          -0.521454             -0.057154   \n263705                    0.123458          -0.521454             -0.057154   \n\n        ssn_firstname_count_7  name_count_7  ssn_count_0_by_14  \n113548              -0.057185     -0.115648           0.124781  \n410263              -0.057185     -0.115648           0.124781  \n475599              -0.057185     -0.115648           0.124781  \n381067              -0.057185     -0.115648           0.124781  \n263705              -0.057185     -0.115648           0.124781  \n\n[5 rows x 25 columns]",
      "text/html": "<div>\n<style scoped>\n    .dataframe tbody tr th:only-of-type {\n        vertical-align: middle;\n    }\n\n    .dataframe tbody tr th {\n        vertical-align: top;\n    }\n\n    .dataframe thead th {\n        text-align: right;\n    }\n</style>\n<table border=\"1\" class=\"dataframe\">\n  <thead>\n    <tr style=\"text-align: right;\">\n      <th></th>\n      <th>name_dob_day_since</th>\n      <th>ssn_day_since</th>\n      <th>name_count_0_by_30</th>\n      <th>ssn_dob_count_7</th>\n      <th>ssn_count_7</th>\n      <th>homephone_count_14</th>\n      <th>fulladdress_homephone_count_0_by_14</th>\n      <th>fulladdress_homephone_count_0_by_30</th>\n      <th>fulladdress_count_1_by_7</th>\n      <th>fulladdress_count_1_by_14</th>\n      <th>...</th>\n      <th>fulladdress_homephone_count_14</th>\n      <th>ssn_firstname_count_0_by_30</th>\n      <th>address_count_1_by_30</th>\n      <th>name_dob_count_14</th>\n      <th>ssn_lastname_count_0_by_14</th>\n      <th>homephone_count_3</th>\n      <th>ssn_lastname_count_7</th>\n      <th>ssn_firstname_count_7</th>\n      <th>name_count_7</th>\n      <th>ssn_count_0_by_14</th>\n    </tr>\n  </thead>\n  <tbody>\n    <tr>\n      <th>113548</th>\n      <td>-1.183454</td>\n      <td>-1.166771</td>\n      <td>0.316329</td>\n      <td>-0.055708</td>\n      <td>-0.058092</td>\n      <td>0.708788</td>\n      <td>0.120387</td>\n      <td>0.166392</td>\n      <td>0.09144</td>\n      <td>0.123861</td>\n      <td>...</td>\n      <td>-0.070089</td>\n      <td>0.171472</td>\n      <td>0.194244</td>\n      <td>-0.0686</td>\n      <td>0.123458</td>\n      <td>-0.521454</td>\n      <td>-0.057154</td>\n      <td>-0.057185</td>\n      <td>-0.115648</td>\n      <td>0.124781</td>\n    </tr>\n    <tr>\n      <th>410263</th>\n      <td>-0.149087</td>\n      <td>-0.130294</td>\n      <td>0.316329</td>\n      <td>-0.055708</td>\n      <td>-0.058092</td>\n      <td>-0.437943</td>\n      <td>0.120387</td>\n      <td>0.166392</td>\n      <td>0.09144</td>\n      <td>0.123861</td>\n      <td>...</td>\n      <td>-0.070089</td>\n      <td>0.171472</td>\n      <td>0.194244</td>\n      <td>-0.0686</td>\n      <td>0.123458</td>\n      <td>-0.521454</td>\n      <td>-0.057154</td>\n      <td>-0.057185</td>\n      <td>-0.115648</td>\n      <td>0.124781</td>\n    </tr>\n    <tr>\n      <th>475599</th>\n      <td>0.078663</td>\n      <td>0.097921</td>\n      <td>0.316329</td>\n      <td>-0.055708</td>\n      <td>-0.058092</td>\n      <td>-0.437943</td>\n      <td>0.120387</td>\n      <td>0.166392</td>\n      <td>0.09144</td>\n      <td>0.123861</td>\n      <td>...</td>\n      <td>-0.070089</td>\n      <td>0.171472</td>\n      <td>0.194244</td>\n      <td>-0.0686</td>\n      <td>0.123458</td>\n      <td>-0.521454</td>\n      <td>-0.057154</td>\n      <td>-0.057185</td>\n      <td>-0.115648</td>\n      <td>0.124781</td>\n    </tr>\n    <tr>\n      <th>381067</th>\n      <td>-0.253473</td>\n      <td>-0.234893</td>\n      <td>0.316329</td>\n      <td>-0.055708</td>\n      <td>-0.058092</td>\n      <td>-1.011308</td>\n      <td>0.120387</td>\n      <td>0.166392</td>\n      <td>0.09144</td>\n      <td>0.123861</td>\n      <td>...</td>\n      <td>-0.070089</td>\n      <td>0.171472</td>\n      <td>0.194244</td>\n      <td>-0.0686</td>\n      <td>0.123458</td>\n      <td>-0.521454</td>\n      <td>-0.057154</td>\n      <td>-0.057185</td>\n      <td>-0.115648</td>\n      <td>0.124781</td>\n    </tr>\n    <tr>\n      <th>263705</th>\n      <td>-0.652036</td>\n      <td>-0.634269</td>\n      <td>0.316329</td>\n      <td>-0.055708</td>\n      <td>-0.058092</td>\n      <td>0.708788</td>\n      <td>0.120387</td>\n      <td>0.166392</td>\n      <td>0.09144</td>\n      <td>0.123861</td>\n      <td>...</td>\n      <td>-0.070089</td>\n      <td>0.171472</td>\n      <td>0.194244</td>\n      <td>-0.0686</td>\n      <td>0.123458</td>\n      <td>-0.521454</td>\n      <td>-0.057154</td>\n      <td>-0.057185</td>\n      <td>-0.115648</td>\n      <td>0.124781</td>\n    </tr>\n  </tbody>\n</table>\n<p>5 rows × 25 columns</p>\n</div>"
     },
     "execution_count": 3,
     "metadata": {},
     "output_type": "execute_result"
    }
   ],
   "source": [
    "x_train, x_test, y_train, y_test = train_test_split(df, y,\n",
    "                                                    test_size=0.2,\n",
    "                                                    shuffle=False)\n",
    "x_train, y_train = shuffle(x_train, y_train)\n",
    "x_train.head()"
   ]
  },
  {
   "cell_type": "code",
   "execution_count": 4,
   "metadata": {},
   "outputs": [
    {
     "name": "stdout",
     "output_type": "stream",
     "text": [
      "Fitting 10 folds for each of 10 candidates, totalling 100 fits\n"
     ]
    },
    {
     "name": "stderr",
     "output_type": "stream",
     "text": [
      "[Parallel(n_jobs=1)]: Using backend SequentialBackend with 1 concurrent workers.\n",
      "[Parallel(n_jobs=1)]: Done 100 out of 100 | elapsed: 21.5min finished\n"
     ]
    },
    {
     "data": {
      "text/plain": "GridSearchCV(cv=10, error_score=nan,\n             estimator=LogisticRegression(C=1.0, class_weight=None, dual=False,\n                                          fit_intercept=True,\n                                          intercept_scaling=1, l1_ratio=None,\n                                          max_iter=1000, multi_class='auto',\n                                          n_jobs=None, penalty='l2',\n                                          random_state=None, solver='lbfgs',\n                                          tol=0.0001, verbose=0,\n                                          warm_start=False),\n             iid='deprecated', n_jobs=None,\n             param_grid={'C': [0.0001, 0.001, 0.01, 0.1, 1],\n                         'class_weight': ['balanced', None]},\n             pre_dispatch='2*n_jobs', refit='FDR', return_train_score=False,\n             scoring={'FDR': <function fdr at 0x0000029E051EBAF8>,\n                      'ROC': 'roc_auc'},\n             verbose=1)"
     },
     "execution_count": 4,
     "metadata": {},
     "output_type": "execute_result"
    }
   ],
   "source": [
    "lr = LogisticRegression(max_iter=1000)\n",
    "params = {'C': [10 ** i for i in range(-4, 1)],\n",
    "          'class_weight': ['balanced', None]}\n",
    "clf = GridSearchCV(lr, params, cv=10, refit='FDR', verbose=1,\n",
    "                   scoring={'FDR': fdr, 'ROC': 'roc_auc'})\n",
    "clf.fit(x_train, y_train)"
   ]
  },
  {
   "cell_type": "code",
   "execution_count": 5,
   "metadata": {},
   "outputs": [
    {
     "name": "stdout",
     "output_type": "stream",
     "text": [
      "The best parameters are {'C': 0.001, 'class_weight': 'balanced'} with a score of 0.48300\n"
     ]
    }
   ],
   "source": [
    "print(f\"The best parameters are {clf.best_params_} \"\n",
    "      f\"with a score of {clf.best_score_:0.5f}\")"
   ]
  },
  {
   "cell_type": "code",
   "execution_count": 6,
   "metadata": {},
   "outputs": [
    {
     "data": {
      "text/plain": "   mean_fit_time  mean_score_time                                     params  \\\n0       3.730249         0.752796  {'C': 0.0001, 'class_weight': 'balanced'}   \n1       2.483268         0.709616        {'C': 0.0001, 'class_weight': None}   \n2       7.332690         0.698553   {'C': 0.001, 'class_weight': 'balanced'}   \n3       4.009999         0.661338         {'C': 0.001, 'class_weight': None}   \n4      12.778278         0.707685    {'C': 0.01, 'class_weight': 'balanced'}   \n5      10.175446         0.727270          {'C': 0.01, 'class_weight': None}   \n6      18.595750         0.822913     {'C': 0.1, 'class_weight': 'balanced'}   \n7      19.383348         0.802549           {'C': 0.1, 'class_weight': None}   \n8      18.067156         0.671642       {'C': 1, 'class_weight': 'balanced'}   \n9      25.027273         0.694892             {'C': 1, 'class_weight': None}   \n\n   mean_test_FDR  std_test_FDR  rank_test_FDR  mean_test_ROC  std_test_ROC  \n0       0.482914      0.012098              2       0.754181      0.006836  \n1       0.475766      0.012195              6       0.753990      0.007297  \n2       0.483001      0.012832              1       0.753837      0.007571  \n3       0.471582      0.011453             10       0.750299      0.007203  \n4       0.481519      0.012924              3       0.753407      0.007657  \n5       0.472715      0.011501              9       0.750370      0.006931  \n6       0.481345      0.012782              4       0.753336      0.007720  \n7       0.472890      0.012351              8       0.750004      0.006872  \n8       0.481083      0.012568              5       0.753324      0.007747  \n9       0.472977      0.012882              7       0.750074      0.006690  ",
      "text/html": "<div>\n<style scoped>\n    .dataframe tbody tr th:only-of-type {\n        vertical-align: middle;\n    }\n\n    .dataframe tbody tr th {\n        vertical-align: top;\n    }\n\n    .dataframe thead th {\n        text-align: right;\n    }\n</style>\n<table border=\"1\" class=\"dataframe\">\n  <thead>\n    <tr style=\"text-align: right;\">\n      <th></th>\n      <th>mean_fit_time</th>\n      <th>mean_score_time</th>\n      <th>params</th>\n      <th>mean_test_FDR</th>\n      <th>std_test_FDR</th>\n      <th>rank_test_FDR</th>\n      <th>mean_test_ROC</th>\n      <th>std_test_ROC</th>\n    </tr>\n  </thead>\n  <tbody>\n    <tr>\n      <th>0</th>\n      <td>3.730249</td>\n      <td>0.752796</td>\n      <td>{'C': 0.0001, 'class_weight': 'balanced'}</td>\n      <td>0.482914</td>\n      <td>0.012098</td>\n      <td>2</td>\n      <td>0.754181</td>\n      <td>0.006836</td>\n    </tr>\n    <tr>\n      <th>1</th>\n      <td>2.483268</td>\n      <td>0.709616</td>\n      <td>{'C': 0.0001, 'class_weight': None}</td>\n      <td>0.475766</td>\n      <td>0.012195</td>\n      <td>6</td>\n      <td>0.753990</td>\n      <td>0.007297</td>\n    </tr>\n    <tr>\n      <th>2</th>\n      <td>7.332690</td>\n      <td>0.698553</td>\n      <td>{'C': 0.001, 'class_weight': 'balanced'}</td>\n      <td>0.483001</td>\n      <td>0.012832</td>\n      <td>1</td>\n      <td>0.753837</td>\n      <td>0.007571</td>\n    </tr>\n    <tr>\n      <th>3</th>\n      <td>4.009999</td>\n      <td>0.661338</td>\n      <td>{'C': 0.001, 'class_weight': None}</td>\n      <td>0.471582</td>\n      <td>0.011453</td>\n      <td>10</td>\n      <td>0.750299</td>\n      <td>0.007203</td>\n    </tr>\n    <tr>\n      <th>4</th>\n      <td>12.778278</td>\n      <td>0.707685</td>\n      <td>{'C': 0.01, 'class_weight': 'balanced'}</td>\n      <td>0.481519</td>\n      <td>0.012924</td>\n      <td>3</td>\n      <td>0.753407</td>\n      <td>0.007657</td>\n    </tr>\n    <tr>\n      <th>5</th>\n      <td>10.175446</td>\n      <td>0.727270</td>\n      <td>{'C': 0.01, 'class_weight': None}</td>\n      <td>0.472715</td>\n      <td>0.011501</td>\n      <td>9</td>\n      <td>0.750370</td>\n      <td>0.006931</td>\n    </tr>\n    <tr>\n      <th>6</th>\n      <td>18.595750</td>\n      <td>0.822913</td>\n      <td>{'C': 0.1, 'class_weight': 'balanced'}</td>\n      <td>0.481345</td>\n      <td>0.012782</td>\n      <td>4</td>\n      <td>0.753336</td>\n      <td>0.007720</td>\n    </tr>\n    <tr>\n      <th>7</th>\n      <td>19.383348</td>\n      <td>0.802549</td>\n      <td>{'C': 0.1, 'class_weight': None}</td>\n      <td>0.472890</td>\n      <td>0.012351</td>\n      <td>8</td>\n      <td>0.750004</td>\n      <td>0.006872</td>\n    </tr>\n    <tr>\n      <th>8</th>\n      <td>18.067156</td>\n      <td>0.671642</td>\n      <td>{'C': 1, 'class_weight': 'balanced'}</td>\n      <td>0.481083</td>\n      <td>0.012568</td>\n      <td>5</td>\n      <td>0.753324</td>\n      <td>0.007747</td>\n    </tr>\n    <tr>\n      <th>9</th>\n      <td>25.027273</td>\n      <td>0.694892</td>\n      <td>{'C': 1, 'class_weight': None}</td>\n      <td>0.472977</td>\n      <td>0.012882</td>\n      <td>7</td>\n      <td>0.750074</td>\n      <td>0.006690</td>\n    </tr>\n  </tbody>\n</table>\n</div>"
     },
     "execution_count": 6,
     "metadata": {},
     "output_type": "execute_result"
    }
   ],
   "source": [
    "pd.DataFrame(clf.cv_results_).filter(\n",
    "    items=['mean_fit_time', 'mean_score_time',\n",
    "           'params', 'mean_test_FDR','std_test_FDR',\n",
    "           'rank_test_FDR', 'mean_test_ROC', 'std_test_ROC'])"
   ]
  }
 ],
 "metadata": {
  "kernelspec": {
   "display_name": "Python 3",
   "language": "python",
   "name": "python3"
  },
  "language_info": {
   "codemirror_mode": {
    "name": "ipython",
    "version": 3
   },
   "file_extension": ".py",
   "mimetype": "text/x-python",
   "name": "python",
   "nbconvert_exporter": "python",
   "pygments_lexer": "ipython3",
   "version": "3.7.7"
  }
 },
 "nbformat": 4,
 "nbformat_minor": 1
}