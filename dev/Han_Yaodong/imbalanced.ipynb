{
 "cells": [
  {
   "cell_type": "code",
   "execution_count": 1,
   "metadata": {},
   "outputs": [],
   "source": [
    "import pandas as pd\n",
    "from sklearn.ensemble import RandomForestClassifier\n",
    "from imblearn.ensemble import EasyEnsembleClassifier\n",
    "from sklearn.tree import DecisionTreeClassifier\n",
    "import matplotlib.pyplot as plt\n",
    "from sklearn.linear_model import LogisticRegression\n",
    "from imblearn.over_sampling import SMOTE\n",
    "from imblearn.over_sampling import ADASYN\n",
    "from imblearn.over_sampling import SVMSMOTE\n",
    "from imblearn.under_sampling import RandomUnderSampler\n",
    "\n",
    "from ensemble import MakeEnsemble\n",
    "from util import load_data, fdr, plot_report"
   ]
  },
  {
   "cell_type": "code",
   "execution_count": 2,
   "metadata": {},
   "outputs": [
    {
     "data": {
      "text/html": [
       "<div>\n",
       "<style scoped>\n",
       "    .dataframe tbody tr th:only-of-type {\n",
       "        vertical-align: middle;\n",
       "    }\n",
       "\n",
       "    .dataframe tbody tr th {\n",
       "        vertical-align: top;\n",
       "    }\n",
       "\n",
       "    .dataframe thead th {\n",
       "        text-align: right;\n",
       "    }\n",
       "</style>\n",
       "<table border=\"1\" class=\"dataframe\">\n",
       "  <thead>\n",
       "    <tr style=\"text-align: right;\">\n",
       "      <th></th>\n",
       "      <th>fulladdress_count_1_by_7</th>\n",
       "      <th>address_count_0</th>\n",
       "      <th>ssn_count_3</th>\n",
       "      <th>fulladdress_count_0</th>\n",
       "      <th>homephone_count_7</th>\n",
       "      <th>address_count_1_by_7</th>\n",
       "      <th>name_dob_count_3</th>\n",
       "      <th>name_count_7</th>\n",
       "      <th>homephone_count_3</th>\n",
       "      <th>fulladdress_homephone_count_0_by_14</th>\n",
       "      <th>...</th>\n",
       "      <th>ssn_dob_count_7</th>\n",
       "      <th>ssn_name_count_7</th>\n",
       "      <th>name_day_since</th>\n",
       "      <th>ssn_firstname_count_14</th>\n",
       "      <th>ssn_count_7</th>\n",
       "      <th>name_count_14</th>\n",
       "      <th>fulladdress_count_1_by_14</th>\n",
       "      <th>fulladdress_homephone_count_0_by_30</th>\n",
       "      <th>ssn_lastname_count_14</th>\n",
       "      <th>ssn_name_count_14</th>\n",
       "    </tr>\n",
       "  </thead>\n",
       "  <tbody>\n",
       "    <tr>\n",
       "      <th>68337</th>\n",
       "      <td>0.09144</td>\n",
       "      <td>-0.042158</td>\n",
       "      <td>-0.047591</td>\n",
       "      <td>-0.041351</td>\n",
       "      <td>-0.769214</td>\n",
       "      <td>0.103441</td>\n",
       "      <td>-0.046415</td>\n",
       "      <td>-0.115648</td>\n",
       "      <td>-0.521454</td>\n",
       "      <td>0.120387</td>\n",
       "      <td>...</td>\n",
       "      <td>-0.055708</td>\n",
       "      <td>-0.057109</td>\n",
       "      <td>0.598116</td>\n",
       "      <td>-0.071088</td>\n",
       "      <td>-0.058092</td>\n",
       "      <td>-0.159376</td>\n",
       "      <td>0.123861</td>\n",
       "      <td>0.166392</td>\n",
       "      <td>-0.071051</td>\n",
       "      <td>-0.070962</td>\n",
       "    </tr>\n",
       "    <tr>\n",
       "      <th>630010</th>\n",
       "      <td>0.09144</td>\n",
       "      <td>-0.042158</td>\n",
       "      <td>-0.047591</td>\n",
       "      <td>-0.041351</td>\n",
       "      <td>-0.769214</td>\n",
       "      <td>0.103441</td>\n",
       "      <td>-0.046415</td>\n",
       "      <td>-0.115648</td>\n",
       "      <td>-0.521454</td>\n",
       "      <td>0.120387</td>\n",
       "      <td>...</td>\n",
       "      <td>-0.055708</td>\n",
       "      <td>-0.057109</td>\n",
       "      <td>0.598116</td>\n",
       "      <td>-0.071088</td>\n",
       "      <td>-0.058092</td>\n",
       "      <td>-0.159376</td>\n",
       "      <td>0.123861</td>\n",
       "      <td>0.166392</td>\n",
       "      <td>-0.071051</td>\n",
       "      <td>-0.070962</td>\n",
       "    </tr>\n",
       "    <tr>\n",
       "      <th>283882</th>\n",
       "      <td>0.09144</td>\n",
       "      <td>-0.042158</td>\n",
       "      <td>-0.047591</td>\n",
       "      <td>-0.041351</td>\n",
       "      <td>0.055132</td>\n",
       "      <td>0.103441</td>\n",
       "      <td>-0.046415</td>\n",
       "      <td>-0.115648</td>\n",
       "      <td>0.639149</td>\n",
       "      <td>0.120387</td>\n",
       "      <td>...</td>\n",
       "      <td>-0.055708</td>\n",
       "      <td>-0.057109</td>\n",
       "      <td>0.598116</td>\n",
       "      <td>-0.071088</td>\n",
       "      <td>-0.058092</td>\n",
       "      <td>-0.159376</td>\n",
       "      <td>0.123861</td>\n",
       "      <td>0.166392</td>\n",
       "      <td>-0.071051</td>\n",
       "      <td>-0.070962</td>\n",
       "    </tr>\n",
       "    <tr>\n",
       "      <th>378960</th>\n",
       "      <td>0.09144</td>\n",
       "      <td>-0.042158</td>\n",
       "      <td>-0.047591</td>\n",
       "      <td>-0.041351</td>\n",
       "      <td>-0.769214</td>\n",
       "      <td>0.103441</td>\n",
       "      <td>-0.046415</td>\n",
       "      <td>-0.115648</td>\n",
       "      <td>-0.521454</td>\n",
       "      <td>0.120387</td>\n",
       "      <td>...</td>\n",
       "      <td>-0.055708</td>\n",
       "      <td>-0.057109</td>\n",
       "      <td>-1.682029</td>\n",
       "      <td>-0.071088</td>\n",
       "      <td>-0.058092</td>\n",
       "      <td>-0.159376</td>\n",
       "      <td>0.123861</td>\n",
       "      <td>0.166392</td>\n",
       "      <td>-0.071051</td>\n",
       "      <td>-0.070962</td>\n",
       "    </tr>\n",
       "    <tr>\n",
       "      <th>465063</th>\n",
       "      <td>0.09144</td>\n",
       "      <td>-0.042158</td>\n",
       "      <td>-0.047591</td>\n",
       "      <td>-0.041351</td>\n",
       "      <td>0.055132</td>\n",
       "      <td>0.103441</td>\n",
       "      <td>-0.046415</td>\n",
       "      <td>-0.115648</td>\n",
       "      <td>-0.521454</td>\n",
       "      <td>0.120387</td>\n",
       "      <td>...</td>\n",
       "      <td>-0.055708</td>\n",
       "      <td>-0.057109</td>\n",
       "      <td>0.598116</td>\n",
       "      <td>-0.071088</td>\n",
       "      <td>-0.058092</td>\n",
       "      <td>-0.159376</td>\n",
       "      <td>0.123861</td>\n",
       "      <td>0.166392</td>\n",
       "      <td>-0.071051</td>\n",
       "      <td>-0.070962</td>\n",
       "    </tr>\n",
       "  </tbody>\n",
       "</table>\n",
       "<p>5 rows × 30 columns</p>\n",
       "</div>"
      ],
      "text/plain": [
       "        fulladdress_count_1_by_7  address_count_0  ssn_count_3  \\\n",
       "68337                    0.09144        -0.042158    -0.047591   \n",
       "630010                   0.09144        -0.042158    -0.047591   \n",
       "283882                   0.09144        -0.042158    -0.047591   \n",
       "378960                   0.09144        -0.042158    -0.047591   \n",
       "465063                   0.09144        -0.042158    -0.047591   \n",
       "\n",
       "        fulladdress_count_0  homephone_count_7  address_count_1_by_7  \\\n",
       "68337             -0.041351          -0.769214              0.103441   \n",
       "630010            -0.041351          -0.769214              0.103441   \n",
       "283882            -0.041351           0.055132              0.103441   \n",
       "378960            -0.041351          -0.769214              0.103441   \n",
       "465063            -0.041351           0.055132              0.103441   \n",
       "\n",
       "        name_dob_count_3  name_count_7  homephone_count_3  \\\n",
       "68337          -0.046415     -0.115648          -0.521454   \n",
       "630010         -0.046415     -0.115648          -0.521454   \n",
       "283882         -0.046415     -0.115648           0.639149   \n",
       "378960         -0.046415     -0.115648          -0.521454   \n",
       "465063         -0.046415     -0.115648          -0.521454   \n",
       "\n",
       "        fulladdress_homephone_count_0_by_14  ...  ssn_dob_count_7  \\\n",
       "68337                              0.120387  ...        -0.055708   \n",
       "630010                             0.120387  ...        -0.055708   \n",
       "283882                             0.120387  ...        -0.055708   \n",
       "378960                             0.120387  ...        -0.055708   \n",
       "465063                             0.120387  ...        -0.055708   \n",
       "\n",
       "        ssn_name_count_7  name_day_since  ssn_firstname_count_14  ssn_count_7  \\\n",
       "68337          -0.057109        0.598116               -0.071088    -0.058092   \n",
       "630010         -0.057109        0.598116               -0.071088    -0.058092   \n",
       "283882         -0.057109        0.598116               -0.071088    -0.058092   \n",
       "378960         -0.057109       -1.682029               -0.071088    -0.058092   \n",
       "465063         -0.057109        0.598116               -0.071088    -0.058092   \n",
       "\n",
       "        name_count_14  fulladdress_count_1_by_14  \\\n",
       "68337       -0.159376                   0.123861   \n",
       "630010      -0.159376                   0.123861   \n",
       "283882      -0.159376                   0.123861   \n",
       "378960      -0.159376                   0.123861   \n",
       "465063      -0.159376                   0.123861   \n",
       "\n",
       "        fulladdress_homephone_count_0_by_30  ssn_lastname_count_14  \\\n",
       "68337                              0.166392              -0.071051   \n",
       "630010                             0.166392              -0.071051   \n",
       "283882                             0.166392              -0.071051   \n",
       "378960                             0.166392              -0.071051   \n",
       "465063                             0.166392              -0.071051   \n",
       "\n",
       "        ssn_name_count_14  \n",
       "68337           -0.070962  \n",
       "630010          -0.070962  \n",
       "283882          -0.070962  \n",
       "378960          -0.070962  \n",
       "465063          -0.070962  \n",
       "\n",
       "[5 rows x 30 columns]"
      ]
     },
     "execution_count": 2,
     "metadata": {},
     "output_type": "execute_result"
    }
   ],
   "source": [
    "x_train, x_test, x_oot, y_train, y_test, y_oot = load_data('var_30.csv')\n",
    "x_train.head()"
   ]
  },
  {
   "cell_type": "code",
   "execution_count": 3,
   "metadata": {
    "scrolled": true
   },
   "outputs": [
    {
     "name": "stdout",
     "output_type": "stream",
     "text": [
      "0.5582875013479995\n",
      "0.55025011368804\n",
      "0.5347483738445737\n"
     ]
    }
   ],
   "source": [
    "# Random forest with random under sampling\n",
    "rf = RandomForestClassifier(n_estimators=300,\n",
    "                            max_depth=17, \n",
    "                            max_features=10,\n",
    "                            ccp_alpha=1e-6, \n",
    "                            n_jobs=4)\n",
    "ee = EasyEnsembleClassifier(n_estimators=25,\n",
    "                            base_estimator=rf,\n",
    "                            sampling_strategy='not minority',\n",
    "                            n_jobs=2,\n",
    "                            verbose=0).fit(x_train, y_train)\n",
    "print(fdr(ee, x_train, y_train))\n",
    "print(fdr(ee, x_test, y_test))"
   ]
  },
  {
   "cell_type": "code",
   "execution_count": 4,
   "metadata": {
    "scrolled": true
   },
   "outputs": [
    {
     "name": "stdout",
     "output_type": "stream",
     "text": [
      "0.5621697401056832\n",
      "0.542519326966803\n",
      "0.5227661759671346\n"
     ]
    }
   ],
   "source": [
    "# random forest with balanced class weight\n",
    "rf = RandomForestClassifier(n_estimators=300,\n",
    "                            max_depth=17, \n",
    "                            max_features=10,\n",
    "                            ccp_alpha=1e-6, \n",
    "                            class_weight='balanced',\n",
    "                            n_jobs=8).fit(x_train, y_train)\n",
    "print(fdr(rf, x_train, y_train))\n",
    "print(fdr(rf, x_test, y_test))"
   ]
  },
  {
   "cell_type": "code",
   "execution_count": 6,
   "metadata": {},
   "outputs": [
    {
     "name": "stdout",
     "output_type": "stream",
     "text": [
      "0.5559053408597482\n",
      "0.5575221238938053\n"
     ]
    }
   ],
   "source": [
    "# Random undersample to 10% and then SMOTE\n",
    "me = MakeEnsemble(RandomForestClassifier(n_estimators=20,\n",
    "                                         max_depth=20,\n",
    "                                         max_features=10,\n",
    "                                         ccp_alpha=1e-6,\n",
    "                                         n_jobs=8),\n",
    "                  [RandomUnderSampler(sampling_strategy=0.1), SMOTE()],\n",
    "                  n_estimators=50)\n",
    "me.fit(x_train, y_train)\n",
    "print(fdr(me, x_train, y_train))\n",
    "print(fdr(me, x_test, y_test))"
   ]
  },
  {
   "cell_type": "code",
   "execution_count": 4,
   "metadata": {},
   "outputs": [
    {
     "name": "stderr",
     "output_type": "stream",
     "text": [
      "[Parallel(n_jobs=8)]: Using backend LokyBackend with 8 concurrent workers.\n",
      "[Parallel(n_jobs=8)]: Done  34 tasks      | elapsed:   20.8s\n",
      "[Parallel(n_jobs=8)]: Done  50 out of  50 | elapsed:   28.3s finished\n"
     ]
    },
    {
     "name": "stdout",
     "output_type": "stream",
     "text": [
      "0.5499348675640469\n",
      "0.5592920353982301\n"
     ]
    }
   ],
   "source": [
    "# Decision tree with random undersample to 10% and then SMOTE\n",
    "dt = DecisionTreeClassifier(ccp_alpha=1e-06, max_depth=20, min_samples_leaf=64, class_weight=None, criterion='gini')\n",
    "me = MakeEnsemble(dt, [RandomUnderSampler(sampling_strategy=0.1), SMOTE()],\n",
    "                  n_estimators=50, n_jobs=8, verbose=1)\n",
    "me.fit(x_train, y_train)\n",
    "print(fdr(me, x_train, y_train))\n",
    "print(fdr(me, x_test, y_test))"
   ]
  },
  {
   "cell_type": "code",
   "execution_count": 5,
   "metadata": {},
   "outputs": [
    {
     "name": "stdout",
     "output_type": "stream",
     "text": [
      "0.5394051237516283\n",
      "0.5508849557522124\n"
     ]
    }
   ],
   "source": [
    "# Decision tree with random undersample to 10% and then ADASYN\n",
    "dt = DecisionTreeClassifier(ccp_alpha=1e-06, max_depth=20, min_samples_leaf=64, class_weight=None, criterion='gini')\n",
    "me = MakeEnsemble(dt, [RandomUnderSampler(sampling_strategy=0.1), ADASYN()],\n",
    "                  n_estimators=50, n_jobs=8, verbose=1)\n",
    "me.fit(x_train, y_train)\n",
    "print(fdr(me, x_train, y_train))\n",
    "print(fdr(me, x_test, y_test))"
   ]
  },
  {
   "cell_type": "code",
   "execution_count": null,
   "metadata": {},
   "outputs": [],
   "source": []
  },
  {
   "cell_type": "code",
   "execution_count": null,
   "metadata": {},
   "outputs": [],
   "source": [
    "# Decision tree with random undersample to 10% and then SVMSMOTE\n",
    "dt = DecisionTreeClassifier(ccp_alpha=1e-06, max_depth=20, min_samples_leaf=64, class_weight=None, criterion='gini')\n",
    "me = MakeEnsemble(dt, [RandomUnderSampler(sampling_strategy=0.1), SVMSMOTE()],\n",
    "                  n_estimators=50)\n",
    "me.fit(x_train, y_train)\n",
    "print(fdr(me, x_train, y_train))\n",
    "print(fdr(me, x_test, y_test))"
   ]
  },
  {
   "cell_type": "code",
   "execution_count": null,
   "metadata": {},
   "outputs": [],
   "source": []
  }
 ],
 "metadata": {
  "kernelspec": {
   "display_name": "Python 3",
   "language": "python",
   "name": "python3"
  },
  "language_info": {
   "codemirror_mode": {
    "name": "ipython",
    "version": 3
   },
   "file_extension": ".py",
   "mimetype": "text/x-python",
   "name": "python",
   "nbconvert_exporter": "python",
   "pygments_lexer": "ipython3",
   "version": "3.6.8"
  }
 },
 "nbformat": 4,
 "nbformat_minor": 4
}
