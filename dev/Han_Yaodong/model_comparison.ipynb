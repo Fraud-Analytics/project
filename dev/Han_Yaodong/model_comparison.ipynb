{
 "cells": [
  {
   "cell_type": "code",
   "execution_count": 33,
   "metadata": {},
   "outputs": [],
   "source": [
    "import matplotlib.pyplot as plt\n",
    "import matplotlib.cbook as cbook\n",
    "import numpy as np\n",
    "import pandas as pd\n",
    "from imblearn.ensemble import EasyEnsembleClassifier\n",
    "from imblearn.over_sampling import SMOTE\n",
    "from imblearn.under_sampling import RandomUnderSampler\n",
    "from sklearn.ensemble import RandomForestClassifier\n",
    "from sklearn.linear_model import LogisticRegression\n",
    "from sklearn.model_selection import GridSearchCV\n",
    "from sklearn.model_selection import cross_validate\n",
    "from sklearn.model_selection import KFold\n",
    "from sklearn.model_selection import train_test_split\n",
    "from sklearn.tree import DecisionTreeClassifier\n",
    "from xgboost.sklearn import XGBClassifier\n",
    "\n",
    "from util import load_data, fdr\n",
    "from ensemble import MakeEnsemble\n",
    "\n",
    "pd.set_option('display.max_rows', 100)"
   ]
  },
  {
   "cell_type": "code",
   "execution_count": 2,
   "metadata": {
    "scrolled": false
   },
   "outputs": [
    {
     "data": {
      "text/html": [
       "<div>\n",
       "<style scoped>\n",
       "    .dataframe tbody tr th:only-of-type {\n",
       "        vertical-align: middle;\n",
       "    }\n",
       "\n",
       "    .dataframe tbody tr th {\n",
       "        vertical-align: top;\n",
       "    }\n",
       "\n",
       "    .dataframe thead th {\n",
       "        text-align: right;\n",
       "    }\n",
       "</style>\n",
       "<table border=\"1\" class=\"dataframe\">\n",
       "  <thead>\n",
       "    <tr style=\"text-align: right;\">\n",
       "      <th></th>\n",
       "      <th>ssn_count_3</th>\n",
       "      <th>fulladdress_count_0</th>\n",
       "      <th>address_count_0</th>\n",
       "      <th>name_dob_count_3</th>\n",
       "      <th>homephone_count_14</th>\n",
       "      <th>name_dob_count_7</th>\n",
       "      <th>name_day_since</th>\n",
       "      <th>ssn_firstname_count_0_by_14</th>\n",
       "      <th>name_count_7</th>\n",
       "      <th>fulladdress_homephone_count_0_by_14</th>\n",
       "      <th>...</th>\n",
       "      <th>ssn_count_0_by_14</th>\n",
       "      <th>ssn_firstname_count_7</th>\n",
       "      <th>ssn_count_7</th>\n",
       "      <th>fulladdress_count_1_by_14</th>\n",
       "      <th>fulladdress_homephone_count_7</th>\n",
       "      <th>ssn_name_dob_count_7</th>\n",
       "      <th>name_count_14</th>\n",
       "      <th>ssn_firstname_count_0_by_30</th>\n",
       "      <th>ssn_lastname_count_0_by_30</th>\n",
       "      <th>ssn_count_14</th>\n",
       "    </tr>\n",
       "  </thead>\n",
       "  <tbody>\n",
       "    <tr>\n",
       "      <th>173786</th>\n",
       "      <td>-0.047591</td>\n",
       "      <td>-0.041351</td>\n",
       "      <td>-0.042158</td>\n",
       "      <td>-0.046415</td>\n",
       "      <td>0.708788</td>\n",
       "      <td>-0.055801</td>\n",
       "      <td>0.598116</td>\n",
       "      <td>0.123528</td>\n",
       "      <td>-0.115648</td>\n",
       "      <td>0.120387</td>\n",
       "      <td>...</td>\n",
       "      <td>0.124781</td>\n",
       "      <td>-0.057185</td>\n",
       "      <td>-0.058092</td>\n",
       "      <td>0.123861</td>\n",
       "      <td>-0.057263</td>\n",
       "      <td>-0.055635</td>\n",
       "      <td>-0.159376</td>\n",
       "      <td>0.171472</td>\n",
       "      <td>0.171458</td>\n",
       "      <td>-0.072421</td>\n",
       "    </tr>\n",
       "    <tr>\n",
       "      <th>109156</th>\n",
       "      <td>-0.047591</td>\n",
       "      <td>-0.041351</td>\n",
       "      <td>-0.042158</td>\n",
       "      <td>-0.046415</td>\n",
       "      <td>0.135423</td>\n",
       "      <td>-0.055801</td>\n",
       "      <td>0.598116</td>\n",
       "      <td>0.123528</td>\n",
       "      <td>-0.115648</td>\n",
       "      <td>0.120387</td>\n",
       "      <td>...</td>\n",
       "      <td>0.124781</td>\n",
       "      <td>-0.057185</td>\n",
       "      <td>-0.058092</td>\n",
       "      <td>0.123861</td>\n",
       "      <td>-0.057263</td>\n",
       "      <td>-0.055635</td>\n",
       "      <td>-0.159376</td>\n",
       "      <td>0.171472</td>\n",
       "      <td>0.171458</td>\n",
       "      <td>-0.072421</td>\n",
       "    </tr>\n",
       "    <tr>\n",
       "      <th>114695</th>\n",
       "      <td>-0.047591</td>\n",
       "      <td>-0.041351</td>\n",
       "      <td>-0.042158</td>\n",
       "      <td>-0.046415</td>\n",
       "      <td>1.282153</td>\n",
       "      <td>-0.055801</td>\n",
       "      <td>0.598116</td>\n",
       "      <td>0.123528</td>\n",
       "      <td>-0.115648</td>\n",
       "      <td>0.120387</td>\n",
       "      <td>...</td>\n",
       "      <td>0.124781</td>\n",
       "      <td>-0.057185</td>\n",
       "      <td>-0.058092</td>\n",
       "      <td>0.123861</td>\n",
       "      <td>-0.057263</td>\n",
       "      <td>-0.055635</td>\n",
       "      <td>-0.159376</td>\n",
       "      <td>0.171472</td>\n",
       "      <td>0.171458</td>\n",
       "      <td>-0.072421</td>\n",
       "    </tr>\n",
       "    <tr>\n",
       "      <th>610552</th>\n",
       "      <td>-0.047591</td>\n",
       "      <td>-0.041351</td>\n",
       "      <td>-0.042158</td>\n",
       "      <td>-0.046415</td>\n",
       "      <td>-1.011308</td>\n",
       "      <td>-0.055801</td>\n",
       "      <td>0.598116</td>\n",
       "      <td>0.123528</td>\n",
       "      <td>-0.115648</td>\n",
       "      <td>0.120387</td>\n",
       "      <td>...</td>\n",
       "      <td>0.124781</td>\n",
       "      <td>-0.057185</td>\n",
       "      <td>-0.058092</td>\n",
       "      <td>0.123861</td>\n",
       "      <td>-0.057263</td>\n",
       "      <td>-0.055635</td>\n",
       "      <td>-0.159376</td>\n",
       "      <td>0.171472</td>\n",
       "      <td>0.171458</td>\n",
       "      <td>-0.072421</td>\n",
       "    </tr>\n",
       "    <tr>\n",
       "      <th>748632</th>\n",
       "      <td>-0.047591</td>\n",
       "      <td>-0.041351</td>\n",
       "      <td>-0.042158</td>\n",
       "      <td>-0.046415</td>\n",
       "      <td>1.282153</td>\n",
       "      <td>-0.055801</td>\n",
       "      <td>0.598116</td>\n",
       "      <td>0.123528</td>\n",
       "      <td>-0.115648</td>\n",
       "      <td>0.120387</td>\n",
       "      <td>...</td>\n",
       "      <td>0.124781</td>\n",
       "      <td>-0.057185</td>\n",
       "      <td>-0.058092</td>\n",
       "      <td>0.123861</td>\n",
       "      <td>-0.057263</td>\n",
       "      <td>-0.055635</td>\n",
       "      <td>-0.159376</td>\n",
       "      <td>0.171472</td>\n",
       "      <td>0.171458</td>\n",
       "      <td>-0.072421</td>\n",
       "    </tr>\n",
       "  </tbody>\n",
       "</table>\n",
       "<p>5 rows × 30 columns</p>\n",
       "</div>"
      ],
      "text/plain": [
       "        ssn_count_3  fulladdress_count_0  address_count_0  name_dob_count_3  \\\n",
       "173786    -0.047591            -0.041351        -0.042158         -0.046415   \n",
       "109156    -0.047591            -0.041351        -0.042158         -0.046415   \n",
       "114695    -0.047591            -0.041351        -0.042158         -0.046415   \n",
       "610552    -0.047591            -0.041351        -0.042158         -0.046415   \n",
       "748632    -0.047591            -0.041351        -0.042158         -0.046415   \n",
       "\n",
       "        homephone_count_14  name_dob_count_7  name_day_since  \\\n",
       "173786            0.708788         -0.055801        0.598116   \n",
       "109156            0.135423         -0.055801        0.598116   \n",
       "114695            1.282153         -0.055801        0.598116   \n",
       "610552           -1.011308         -0.055801        0.598116   \n",
       "748632            1.282153         -0.055801        0.598116   \n",
       "\n",
       "        ssn_firstname_count_0_by_14  name_count_7  \\\n",
       "173786                     0.123528     -0.115648   \n",
       "109156                     0.123528     -0.115648   \n",
       "114695                     0.123528     -0.115648   \n",
       "610552                     0.123528     -0.115648   \n",
       "748632                     0.123528     -0.115648   \n",
       "\n",
       "        fulladdress_homephone_count_0_by_14  ...  ssn_count_0_by_14  \\\n",
       "173786                             0.120387  ...           0.124781   \n",
       "109156                             0.120387  ...           0.124781   \n",
       "114695                             0.120387  ...           0.124781   \n",
       "610552                             0.120387  ...           0.124781   \n",
       "748632                             0.120387  ...           0.124781   \n",
       "\n",
       "        ssn_firstname_count_7  ssn_count_7  fulladdress_count_1_by_14  \\\n",
       "173786              -0.057185    -0.058092                   0.123861   \n",
       "109156              -0.057185    -0.058092                   0.123861   \n",
       "114695              -0.057185    -0.058092                   0.123861   \n",
       "610552              -0.057185    -0.058092                   0.123861   \n",
       "748632              -0.057185    -0.058092                   0.123861   \n",
       "\n",
       "        fulladdress_homephone_count_7  ssn_name_dob_count_7  name_count_14  \\\n",
       "173786                      -0.057263             -0.055635      -0.159376   \n",
       "109156                      -0.057263             -0.055635      -0.159376   \n",
       "114695                      -0.057263             -0.055635      -0.159376   \n",
       "610552                      -0.057263             -0.055635      -0.159376   \n",
       "748632                      -0.057263             -0.055635      -0.159376   \n",
       "\n",
       "        ssn_firstname_count_0_by_30  ssn_lastname_count_0_by_30  ssn_count_14  \n",
       "173786                     0.171472                    0.171458     -0.072421  \n",
       "109156                     0.171472                    0.171458     -0.072421  \n",
       "114695                     0.171472                    0.171458     -0.072421  \n",
       "610552                     0.171472                    0.171458     -0.072421  \n",
       "748632                     0.171472                    0.171458     -0.072421  \n",
       "\n",
       "[5 rows x 30 columns]"
      ]
     },
     "execution_count": 2,
     "metadata": {},
     "output_type": "execute_result"
    }
   ],
   "source": [
    "x_train, _, x_oot, y_train, _, y_oot = load_data('var_30.csv', test_size=0)\n",
    "x_train.head()\n",
    "x_train = x_train.to_numpy()"
   ]
  },
  {
   "cell_type": "code",
   "execution_count": 3,
   "metadata": {},
   "outputs": [],
   "source": [
    "def add_score(score, label, train_scores, test_scores):\n",
    "    train_scores.append(score['train_score'])\n",
    "    test_scores.append(score['test_score'])\n",
    "    labels.append(label)\n",
    "    print(np.mean(score['test_score']))"
   ]
  },
  {
   "cell_type": "code",
   "execution_count": 4,
   "metadata": {},
   "outputs": [],
   "source": [
    "labels = []\n",
    "train_scores = []\n",
    "test_scores = []"
   ]
  },
  {
   "cell_type": "code",
   "execution_count": 5,
   "metadata": {},
   "outputs": [
    {
     "name": "stdout",
     "output_type": "stream",
     "text": [
      "0.5286786618021867\n"
     ]
    }
   ],
   "source": [
    "# Logistic regression\n",
    "lr = LogisticRegression(max_iter=1000, \n",
    "                        C=1, \n",
    "                        class_weight='balanced').fit(x_train, y_train)\n",
    "score = cross_validate(lr, x_train, y_train, \n",
    "                       scoring=fdr, cv=10, return_train_score=True)\n",
    "add_score(score, 'LR', train_scores, test_scores)"
   ]
  },
  {
   "cell_type": "code",
   "execution_count": 6,
   "metadata": {},
   "outputs": [
    {
     "name": "stdout",
     "output_type": "stream",
     "text": [
      "0.5468096594965202\n"
     ]
    }
   ],
   "source": [
    "# Decision tree\n",
    "dt = DecisionTreeClassifier(ccp_alpha=1e-06, \n",
    "                            max_depth=20,\n",
    "                            min_samples_leaf=64, \n",
    "                            class_weight=None,\n",
    "                            criterion='gini')\n",
    "score = cross_validate(dt, x_train, y_train, \n",
    "                       scoring=fdr, cv=10, n_jobs=8, return_train_score=True)\n",
    "add_score(score, 'DT', train_scores, test_scores)"
   ]
  },
  {
   "cell_type": "code",
   "execution_count": 13,
   "metadata": {},
   "outputs": [
    {
     "name": "stdout",
     "output_type": "stream",
     "text": [
      "0.5499490414321256\n"
     ]
    }
   ],
   "source": [
    "# Random forest\n",
    "rf = RandomForestClassifier(n_estimators=300,\n",
    "                            max_depth=17, \n",
    "                            max_features=10,\n",
    "                            ccp_alpha=1e-6, \n",
    "                            n_jobs=8).fit(x_train, y_train)\n",
    "score = cross_validate(rf, x_train, y_train, \n",
    "                       scoring=fdr, cv=10, return_train_score=True)\n",
    "add_score(score, 'RF', train_scores, test_scores)"
   ]
  },
  {
   "cell_type": "code",
   "execution_count": 14,
   "metadata": {},
   "outputs": [
    {
     "name": "stdout",
     "output_type": "stream",
     "text": [
      "0.5495131216413671\n"
     ]
    }
   ],
   "source": [
    "# Boosted tree\n",
    "bt = XGBClassifier(n_estimators=200,\n",
    "                   max_depth=5,\n",
    "                   learning_rate=0.05,\n",
    "                   subsample=0.5,\n",
    "                   verbose=3, n_jobs=8).fit(x_train, y_train)\n",
    "score = cross_validate(bt, x_train, y_train, \n",
    "                       scoring=fdr, cv=10, return_train_score=True)\n",
    "add_score(score, 'BT', train_scores, test_scores)"
   ]
  },
  {
   "cell_type": "code",
   "execution_count": 27,
   "metadata": {},
   "outputs": [
    {
     "name": "stdout",
     "output_type": "stream",
     "text": [
      "0.5487285419622163\n"
     ]
    }
   ],
   "source": [
    "# Random forest with random under sampling\n",
    "rf = RandomForestClassifier(n_estimators=100,\n",
    "                            max_depth=17, \n",
    "                            max_features=10,\n",
    "                            ccp_alpha=1e-6, \n",
    "                            n_jobs=4)\n",
    "ee = EasyEnsembleClassifier(n_estimators=50,\n",
    "                            base_estimator=rf,\n",
    "                            sampling_strategy='not minority',\n",
    "                            n_jobs=2,\n",
    "                            verbose=0).fit(x_train, y_train)\n",
    "score = cross_validate(ee, x_train, y_train, \n",
    "                       scoring=fdr, cv=10, return_train_score=True)\n",
    "add_score(score, 'RF_US', train_scores, test_scores)"
   ]
  },
  {
   "cell_type": "code",
   "execution_count": 57,
   "metadata": {
    "scrolled": true
   },
   "outputs": [
    {
     "name": "stdout",
     "output_type": "stream",
     "text": [
      "0.5473253081504932\n"
     ]
    }
   ],
   "source": [
    "# Decision tree with Random undersample to 10% and then SMOTE\n",
    "score = {'train_score': [], 'test_score': []}\n",
    "for _ in range(10):\n",
    "    x, x_test, y, y_test = train_test_split(x_train, y_train, test_size=0.1)\n",
    "    dt = DecisionTreeClassifier(ccp_alpha=1e-06, max_depth=20, min_samples_leaf=64, class_weight=None, criterion='gini')\n",
    "    me = MakeEnsemble(dt, [RandomUnderSampler(sampling_strategy=0.1), SMOTE()],\n",
    "                      n_estimators=50, n_jobs=8, verbose=0)\n",
    "    me.fit(x, y)\n",
    "    score['train_score'].append(fdr(me, x, y))\n",
    "    score['test_score'].append(fdr(me, x_test, y_test))\n",
    "\n",
    "score['train_score'] = np.asarray(score['train_score'])\n",
    "score['test_score'] = np.asarray(score['test_score'])\n",
    "add_score(score, 'DT_US_SMOTE', train_scores, test_scores)"
   ]
  },
  {
   "cell_type": "code",
   "execution_count": 69,
   "metadata": {
    "scrolled": true
   },
   "outputs": [
    {
     "data": {
      "text/html": [
       "<div>\n",
       "<style scoped>\n",
       "    .dataframe tbody tr th:only-of-type {\n",
       "        vertical-align: middle;\n",
       "    }\n",
       "\n",
       "    .dataframe tbody tr th {\n",
       "        vertical-align: top;\n",
       "    }\n",
       "\n",
       "    .dataframe thead th {\n",
       "        text-align: right;\n",
       "    }\n",
       "</style>\n",
       "<table border=\"1\" class=\"dataframe\">\n",
       "  <thead>\n",
       "    <tr style=\"text-align: right;\">\n",
       "      <th></th>\n",
       "      <th>0</th>\n",
       "      <th>1</th>\n",
       "      <th>2</th>\n",
       "      <th>3</th>\n",
       "      <th>4</th>\n",
       "      <th>5</th>\n",
       "      <th>6</th>\n",
       "      <th>7</th>\n",
       "      <th>8</th>\n",
       "      <th>9</th>\n",
       "      <th>Mean</th>\n",
       "    </tr>\n",
       "  </thead>\n",
       "  <tbody>\n",
       "    <tr>\n",
       "      <th>LR</th>\n",
       "      <td>0.544028</td>\n",
       "      <td>0.550131</td>\n",
       "      <td>0.547515</td>\n",
       "      <td>0.523104</td>\n",
       "      <td>0.500436</td>\n",
       "      <td>0.494333</td>\n",
       "      <td>0.526591</td>\n",
       "      <td>0.544900</td>\n",
       "      <td>0.513066</td>\n",
       "      <td>0.542683</td>\n",
       "      <td>0.528679</td>\n",
       "    </tr>\n",
       "    <tr>\n",
       "      <th>DT</th>\n",
       "      <td>0.559721</td>\n",
       "      <td>0.563208</td>\n",
       "      <td>0.556234</td>\n",
       "      <td>0.544028</td>\n",
       "      <td>0.532694</td>\n",
       "      <td>0.520488</td>\n",
       "      <td>0.540541</td>\n",
       "      <td>0.557977</td>\n",
       "      <td>0.522648</td>\n",
       "      <td>0.570557</td>\n",
       "      <td>0.546810</td>\n",
       "    </tr>\n",
       "    <tr>\n",
       "      <th>RF</th>\n",
       "      <td>0.569311</td>\n",
       "      <td>0.561465</td>\n",
       "      <td>0.562337</td>\n",
       "      <td>0.544900</td>\n",
       "      <td>0.540541</td>\n",
       "      <td>0.523976</td>\n",
       "      <td>0.545772</td>\n",
       "      <td>0.566696</td>\n",
       "      <td>0.522648</td>\n",
       "      <td>0.561847</td>\n",
       "      <td>0.549949</td>\n",
       "    </tr>\n",
       "    <tr>\n",
       "      <th>BT</th>\n",
       "      <td>0.568439</td>\n",
       "      <td>0.563208</td>\n",
       "      <td>0.563208</td>\n",
       "      <td>0.543156</td>\n",
       "      <td>0.538797</td>\n",
       "      <td>0.523976</td>\n",
       "      <td>0.544028</td>\n",
       "      <td>0.565824</td>\n",
       "      <td>0.522648</td>\n",
       "      <td>0.561847</td>\n",
       "      <td>0.549513</td>\n",
       "    </tr>\n",
       "    <tr>\n",
       "      <th>RF_US</th>\n",
       "      <td>0.567568</td>\n",
       "      <td>0.564080</td>\n",
       "      <td>0.561465</td>\n",
       "      <td>0.540541</td>\n",
       "      <td>0.537925</td>\n",
       "      <td>0.522232</td>\n",
       "      <td>0.546643</td>\n",
       "      <td>0.563208</td>\n",
       "      <td>0.522648</td>\n",
       "      <td>0.560976</td>\n",
       "      <td>0.548729</td>\n",
       "    </tr>\n",
       "    <tr>\n",
       "      <th>DT_US_SMOTE</th>\n",
       "      <td>0.557205</td>\n",
       "      <td>0.538251</td>\n",
       "      <td>0.546584</td>\n",
       "      <td>0.561224</td>\n",
       "      <td>0.555157</td>\n",
       "      <td>0.550701</td>\n",
       "      <td>0.526407</td>\n",
       "      <td>0.545377</td>\n",
       "      <td>0.559545</td>\n",
       "      <td>0.532801</td>\n",
       "      <td>0.547325</td>\n",
       "    </tr>\n",
       "  </tbody>\n",
       "</table>\n",
       "</div>"
      ],
      "text/plain": [
       "                    0         1         2         3         4         5  \\\n",
       "LR           0.544028  0.550131  0.547515  0.523104  0.500436  0.494333   \n",
       "DT           0.559721  0.563208  0.556234  0.544028  0.532694  0.520488   \n",
       "RF           0.569311  0.561465  0.562337  0.544900  0.540541  0.523976   \n",
       "BT           0.568439  0.563208  0.563208  0.543156  0.538797  0.523976   \n",
       "RF_US        0.567568  0.564080  0.561465  0.540541  0.537925  0.522232   \n",
       "DT_US_SMOTE  0.557205  0.538251  0.546584  0.561224  0.555157  0.550701   \n",
       "\n",
       "                    6         7         8         9      Mean  \n",
       "LR           0.526591  0.544900  0.513066  0.542683  0.528679  \n",
       "DT           0.540541  0.557977  0.522648  0.570557  0.546810  \n",
       "RF           0.545772  0.566696  0.522648  0.561847  0.549949  \n",
       "BT           0.544028  0.565824  0.522648  0.561847  0.549513  \n",
       "RF_US        0.546643  0.563208  0.522648  0.560976  0.548729  \n",
       "DT_US_SMOTE  0.526407  0.545377  0.559545  0.532801  0.547325  "
      ]
     },
     "execution_count": 69,
     "metadata": {},
     "output_type": "execute_result"
    }
   ],
   "source": [
    "result = pd.DataFrame(test_scores, index=labels)\n",
    "result['Mean'] = result.mean(numeric_only=True, axis=1)\n",
    "result"
   ]
  },
  {
   "cell_type": "code",
   "execution_count": 62,
   "metadata": {
    "scrolled": false
   },
   "outputs": [
    {
     "data": {
      "image/png": "[encoded data removed]",
      "text/plain": [
       "<Figure size 1080x576 with 2 Axes>"
      ]
     },
     "metadata": {
      "needs_background": "light"
     },
     "output_type": "display_data"
    }
   ],
   "source": [
    "train_stats = cbook.boxplot_stats(train_scores, labels=labels)\n",
    "test_stats = cbook.boxplot_stats(test_scores, labels=labels)\n",
    "fig, ax = plt.subplots(nrows=1, ncols=2, figsize=(15, 8))\n",
    "ax[0].bxp(train_stats, showfliers=False, meanline=True, showmeans=True)\n",
    "ax[0].set_title('Train Score')\n",
    "ax[1].bxp(test_stats, showfliers=False, meanline=True, showmeans=True)\n",
    "ax[1].set_title('Test Score')\n",
    "plt.show()"
   ]
  },
  {
   "cell_type": "code",
   "execution_count": null,
   "metadata": {},
   "outputs": [],
   "source": []
  },
  {
   "cell_type": "code",
   "execution_count": 68,
   "metadata": {},
   "outputs": [],
   "source": [
    "import pickle\n",
    "load = {'labels': labels,\n",
    "        'train_scores': train_scores,\n",
    "        'test_scores': test_scores}\n",
    "with open('model_results.dump', 'wb') as f:\n",
    "    pickle.dump(load, f)"
   ]
  },
  {
   "cell_type": "code",
   "execution_count": null,
   "metadata": {},
   "outputs": [],
   "source": []
  }
 ],
 "metadata": {
  "kernelspec": {
   "display_name": "Python 3",
   "language": "python",
   "name": "python3"
  },
  "language_info": {
   "codemirror_mode": {
    "name": "ipython",
    "version": 3
   },
   "file_extension": ".py",
   "mimetype": "text/x-python",
   "name": "python",
   "nbconvert_exporter": "python",
   "pygments_lexer": "ipython3",
   "version": "3.6.8"
  }
 },
 "nbformat": 4,
 "nbformat_minor": 4
}
