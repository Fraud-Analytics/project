{
 "cells": [
  {
   "cell_type": "code",
   "execution_count": 7,
   "metadata": {},
   "outputs": [],
   "source": [
    "import matplotlib.cbook as cbook\n",
    "import matplotlib.pyplot as plt\n",
    "import numpy as np\n",
    "import pandas as pd\n",
    "from imblearn.ensemble import EasyEnsembleClassifier\n",
    "from imblearn.over_sampling import SMOTE\n",
    "from imblearn.under_sampling import RandomUnderSampler\n",
    "from sklearn.ensemble import AdaBoostClassifier\n",
    "from sklearn.ensemble import GradientBoostingClassifier\n",
    "from sklearn.ensemble import RandomForestClassifier\n",
    "from sklearn.linear_model import LogisticRegression\n",
    "from sklearn.model_selection import cross_validate\n",
    "from sklearn.model_selection import train_test_split\n",
    "from sklearn.naive_bayes import GaussianNB\n",
    "from sklearn.neural_network import MLPClassifier\n",
    "from sklearn.tree import DecisionTreeClassifier\n",
    "\n",
    "from ensemble import MakeEnsemble\n",
    "from util import load_data, fdr"
   ]
  },
  {
   "cell_type": "code",
   "execution_count": 2,
   "metadata": {
    "scrolled": false
   },
   "outputs": [],
   "source": [
    "x_train, _, x_oot, y_train, _, y_oot = load_data('var_30.csv', test_size=0)\n",
    "x_train = x_train.to_numpy()"
   ]
  },
  {
   "cell_type": "code",
   "execution_count": 3,
   "metadata": {},
   "outputs": [],
   "source": [
    "def clf_score(clf, x_train, y_train, label, train_scores, test_scores, oot_scores, cv=10, n_jobs=8):\n",
    "    score = cross_validate(clf, x_train, y_train, scoring=fdr, cv=cv, n_jobs=n_jobs,\n",
    "                           return_train_score=True, return_estimator=True)\n",
    "    train_scores.append(score['train_score'])\n",
    "    test_scores.append(score['test_score'])\n",
    "    labels.append(label)\n",
    "    oot = []\n",
    "    for clf in score['estimator']:\n",
    "        oot.append(fdr(clf, x_oot, y_oot))\n",
    "    oot_scores.append(np.asarray(oot))\n",
    "    print(np.mean(score['test_score']))"
   ]
  },
  {
   "cell_type": "code",
   "execution_count": 4,
   "metadata": {},
   "outputs": [],
   "source": [
    "labels = []\n",
    "train_scores = []\n",
    "test_scores = []\n",
    "oot_scores=[]"
   ]
  },
  {
   "cell_type": "code",
   "execution_count": 5,
   "metadata": {},
   "outputs": [
    {
     "name": "stdout",
     "output_type": "stream",
     "text": [
      "0.5297238060810051\n"
     ]
    }
   ],
   "source": [
    "# Logistic regression\n",
    "lr = LogisticRegression(max_iter=1000, \n",
    "                        C=1, \n",
    "                        class_weight='balanced')\n",
    "clf_score(lr, x_train, y_train, 'LR', train_scores, test_scores, oot_scores, n_jobs=1)"
   ]
  },
  {
   "cell_type": "code",
   "execution_count": 6,
   "metadata": {},
   "outputs": [
    {
     "name": "stdout",
     "output_type": "stream",
     "text": [
      "0.5440196968914514\n"
     ]
    }
   ],
   "source": [
    "# Decision tree\n",
    "dt = DecisionTreeClassifier(ccp_alpha=1e-06, \n",
    "                            max_depth=20,\n",
    "                            min_samples_leaf=64, \n",
    "                            class_weight=None,\n",
    "                            criterion='gini')\n",
    "clf_score(dt, x_train, y_train, 'DT', train_scores, test_scores, oot_scores, n_jobs=1)"
   ]
  },
  {
   "cell_type": "code",
   "execution_count": 7,
   "metadata": {},
   "outputs": [
    {
     "name": "stdout",
     "output_type": "stream",
     "text": [
      "0.5507320262827737\n"
     ]
    }
   ],
   "source": [
    "# Random forest\n",
    "rf = RandomForestClassifier(n_estimators=200,\n",
    "                            max_depth=20,\n",
    "                            max_features=10,\n",
    "                            ccp_alpha=1e-6,\n",
    "                            min_samples_leaf=2,\n",
    "                            n_jobs=8)\n",
    "clf_score(rf, x_train, y_train, 'RF', train_scores, test_scores, oot_scores, n_jobs=1)"
   ]
  },
  {
   "cell_type": "code",
   "execution_count": 13,
   "metadata": {},
   "outputs": [
    {
     "name": "stdout",
     "output_type": "stream",
     "text": [
      "0.547593859454599\n"
     ]
    }
   ],
   "source": [
    "# Boosted tree\n",
    "bt = GradientBoostingClassifier(n_estimators=200,\n",
    "                                max_depth=5,\n",
    "                                learning_rate=0.05,\n",
    "                                subsample=0.5,\n",
    "                                verbose=1)\n",
    "clf_score(bt, x_train, y_train, 'BT', train_scores, test_scores, oot_scores, n_jobs=8)"
   ]
  },
  {
   "cell_type": "code",
   "execution_count": 15,
   "metadata": {},
   "outputs": [
    {
     "name": "stdout",
     "output_type": "stream",
     "text": [
      "0.5490758348547491\n"
     ]
    }
   ],
   "source": [
    "# Adaboost\n",
    "ada = AdaBoostClassifier(base_estimator=DecisionTreeClassifier(max_depth=3),\n",
    "                         learning_rate=0.1,\n",
    "                         n_estimators=50,\n",
    "                         algorithm='SAMME.R')\n",
    "clf_score(ada, x_train, y_train, 'ADA', train_scores, test_scores, oot_scores, n_jobs=8)"
   ]
  },
  {
   "cell_type": "code",
   "execution_count": 8,
   "metadata": {},
   "outputs": [
    {
     "name": "stdout",
     "output_type": "stream",
     "text": [
      "0.5470715910920474\n"
     ]
    }
   ],
   "source": [
    "# Neural Network\n",
    "nn = MLPClassifier((50, 50), learning_rate_init=0.01, verbose=0)\n",
    "clf_score(nn, x_train, y_train, 'NN', train_scores, test_scores, oot_scores, n_jobs=2)"
   ]
  },
  {
   "cell_type": "code",
   "execution_count": 16,
   "metadata": {},
   "outputs": [
    {
     "name": "stdout",
     "output_type": "stream",
     "text": [
      "0.549250126826838\n"
     ]
    }
   ],
   "source": [
    "# Random forest with random under sampling to 5%\n",
    "rf = RandomForestClassifier(n_estimators=200,\n",
    "                            max_depth=20,\n",
    "                            max_features=10,\n",
    "                            ccp_alpha=1e-6,\n",
    "                            min_samples_leaf=2,\n",
    "                            n_jobs=8)\n",
    "ee = EasyEnsembleClassifier(n_estimators=50,\n",
    "                            base_estimator=rf,\n",
    "                            sampling_strategy=0.5,\n",
    "                            n_jobs=1,\n",
    "                            verbose=0)\n",
    "clf_score(ee, x_train, y_train, 'RF_US', train_scores, test_scores, oot_scores, n_jobs=1)"
   ]
  },
  {
   "cell_type": "code",
   "execution_count": 17,
   "metadata": {
    "scrolled": true
   },
   "outputs": [],
   "source": [
    "# Decision tree with Random undersample to 10% and then SMOTE\n",
    "score = {'train_score': [], 'test_score': [], 'oot_score': []}\n",
    "for _ in range(10):\n",
    "    x, x_test, y, y_test = train_test_split(x_train, y_train, test_size=0.1)\n",
    "    dt = DecisionTreeClassifier(ccp_alpha=1e-06, max_depth=20, min_samples_leaf=64, class_weight=None, criterion='gini')\n",
    "    me = MakeEnsemble(dt, [RandomUnderSampler(sampling_strategy=0.1), SMOTE(sampling_strategy=0.5)],\n",
    "                      n_estimators=50, n_jobs=8, verbose=0)\n",
    "    me.fit(x, y)\n",
    "    score['train_score'].append(fdr(me, x, y))\n",
    "    score['test_score'].append(fdr(me, x_test, y_test))\n",
    "    score['oot_score'].append(fdr(me, x_oot, y_oot))\n",
    "\n",
    "train_scores.append(np.asarray(score['train_score']))\n",
    "test_scores.append(np.asarray(score['test_score']))\n",
    "oot_scores.append(np.asarray(score['oot_score']))\n",
    "labels.append('DT_SMOTE')"
   ]
  },
  {
   "cell_type": "code",
   "execution_count": 8,
   "metadata": {},
   "outputs": [
    {
     "name": "stdout",
     "output_type": "stream",
     "text": [
      "0.529116024533019\n"
     ]
    }
   ],
   "source": [
    "# Gaussian naive bayes\n",
    "nb = GaussianNB()\n",
    "clf_score(nb, x_train, y_train, 'NB', train_scores, test_scores, oot_scores, n_jobs=5)"
   ]
  },
  {
   "cell_type": "code",
   "execution_count": 9,
   "metadata": {
    "scrolled": true
   },
   "outputs": [
    {
     "data": {
      "text/plain": [
       "LR          0.529724\n",
       "DT          0.544020\n",
       "RF          0.550732\n",
       "BT          0.547594\n",
       "ADA         0.549076\n",
       "RF_US       0.549250\n",
       "DT_SMOTE    0.544952\n",
       "NN          0.547072\n",
       "NB          0.529116\n",
       "dtype: float64"
      ]
     },
     "execution_count": 9,
     "metadata": {},
     "output_type": "execute_result"
    }
   ],
   "source": [
    "pd.DataFrame(test_scores, index=labels).mean(numeric_only=True, axis=1)"
   ]
  },
  {
   "cell_type": "code",
   "execution_count": 10,
   "metadata": {
    "scrolled": true
   },
   "outputs": [
    {
     "data": {
      "text/plain": [
       "LR          0.518590\n",
       "DT          0.535262\n",
       "RF          0.540089\n",
       "BT          0.538103\n",
       "ADA         0.539130\n",
       "RF_US       0.538412\n",
       "DT_SMOTE    0.533516\n",
       "NN          0.537487\n",
       "NB          0.516946\n",
       "dtype: float64"
      ]
     },
     "execution_count": 10,
     "metadata": {},
     "output_type": "execute_result"
    }
   ],
   "source": [
    "pd.DataFrame(oot_scores, index=labels).mean(numeric_only=True, axis=1)"
   ]
  },
  {
   "cell_type": "code",
   "execution_count": 11,
   "metadata": {
    "scrolled": false
   },
   "outputs": [
    {
     "data": {
      "image/png": "[encoded data removed]",
      "text/plain": [
       "<Figure size 1440x720 with 3 Axes>"
      ]
     },
     "metadata": {
      "needs_background": "light"
     },
     "output_type": "display_data"
    }
   ],
   "source": [
    "train_stats = cbook.boxplot_stats(train_scores, labels=labels)\n",
    "test_stats = cbook.boxplot_stats(test_scores, labels=labels)\n",
    "oot_stats = cbook.boxplot_stats(oot_scores, labels=labels)\n",
    "fig, ax = plt.subplots(nrows=1, ncols=3, figsize=(20, 10))\n",
    "ax[0].bxp(train_stats, showfliers=False, meanline=True, showmeans=True)\n",
    "ax[0].set_title('Train Score')\n",
    "ax[1].bxp(test_stats, showfliers=False, meanline=True, showmeans=True)\n",
    "ax[1].set_title('Test Score')\n",
    "ax[2].bxp(oot_stats, showfliers=False, meanline=True, showmeans=True)\n",
    "ax[2].set_title('OOT Score')\n",
    "for a in ax:\n",
    "    a.set_ylim(0.51, 0.57)\n",
    "plt.show()"
   ]
  },
  {
   "cell_type": "code",
   "execution_count": null,
   "metadata": {},
   "outputs": [],
   "source": []
  },
  {
   "cell_type": "code",
   "execution_count": 12,
   "metadata": {},
   "outputs": [],
   "source": [
    "import pickle\n",
    "load = (labels, train_scores, test_scores, oot_scores)\n",
    "with open('model_results.dump', 'wb') as f:\n",
    "    pickle.dump(load, f)"
   ]
  },
  {
   "cell_type": "code",
   "execution_count": 4,
   "metadata": {},
   "outputs": [],
   "source": [
    "import pickle\n",
    "with open('model_results.dump', 'rb') as f:\n",
    "    load = pickle.load(f)\n",
    "labels, train_scores, test_scores, oot_scores = load"
   ]
  },
  {
   "cell_type": "code",
   "execution_count": null,
   "metadata": {},
   "outputs": [],
   "source": []
  }
 ],
 "metadata": {
  "kernelspec": {
   "display_name": "Python 3",
   "language": "python",
   "name": "python3"
  },
  "language_info": {
   "codemirror_mode": {
    "name": "ipython",
    "version": 3
   },
   "file_extension": ".py",
   "mimetype": "text/x-python",
   "name": "python",
   "nbconvert_exporter": "python",
   "pygments_lexer": "ipython3",
   "version": "3.6.8"
  }
 },
 "nbformat": 4,
 "nbformat_minor": 4
}
