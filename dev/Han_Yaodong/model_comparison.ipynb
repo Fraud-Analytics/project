{
 "cells": [
  {
   "cell_type": "code",
   "execution_count": 1,
   "metadata": {},
   "outputs": [],
   "source": [
    "import matplotlib.pyplot as plt\n",
    "import pandas as pd\n",
    "from imblearn.ensemble import EasyEnsembleClassifier\n",
    "from imblearn.over_sampling import SMOTE\n",
    "from imblearn.under_sampling import RandomUnderSampler\n",
    "from sklearn.ensemble import RandomForestClassifier\n",
    "from sklearn.linear_model import LogisticRegression\n",
    "from sklearn.model_selection import GridSearchCV\n",
    "from sklearn.tree import DecisionTreeClassifier\n",
    "from xgboost.sklearn import XGBClassifier\n",
    "\n",
    "from util import load_data, fdr\n",
    "from ensemble import MakeEnsemble\n",
    "\n",
    "pd.set_option('display.max_rows', 100)"
   ]
  },
  {
   "cell_type": "code",
   "execution_count": 2,
   "metadata": {},
   "outputs": [
    {
     "data": {
      "text/html": [
       "<div>\n",
       "<style scoped>\n",
       "    .dataframe tbody tr th:only-of-type {\n",
       "        vertical-align: middle;\n",
       "    }\n",
       "\n",
       "    .dataframe tbody tr th {\n",
       "        vertical-align: top;\n",
       "    }\n",
       "\n",
       "    .dataframe thead th {\n",
       "        text-align: right;\n",
       "    }\n",
       "</style>\n",
       "<table border=\"1\" class=\"dataframe\">\n",
       "  <thead>\n",
       "    <tr style=\"text-align: right;\">\n",
       "      <th></th>\n",
       "      <th>fulladdress_count_1_by_7</th>\n",
       "      <th>address_count_0</th>\n",
       "      <th>ssn_count_3</th>\n",
       "      <th>fulladdress_count_0</th>\n",
       "      <th>homephone_count_7</th>\n",
       "      <th>address_count_1_by_7</th>\n",
       "      <th>name_dob_count_3</th>\n",
       "      <th>name_count_7</th>\n",
       "      <th>homephone_count_3</th>\n",
       "      <th>fulladdress_homephone_count_0_by_14</th>\n",
       "      <th>...</th>\n",
       "      <th>ssn_dob_count_7</th>\n",
       "      <th>ssn_name_count_7</th>\n",
       "      <th>name_day_since</th>\n",
       "      <th>ssn_firstname_count_14</th>\n",
       "      <th>ssn_count_7</th>\n",
       "      <th>name_count_14</th>\n",
       "      <th>fulladdress_count_1_by_14</th>\n",
       "      <th>fulladdress_homephone_count_0_by_30</th>\n",
       "      <th>ssn_lastname_count_14</th>\n",
       "      <th>ssn_name_count_14</th>\n",
       "    </tr>\n",
       "  </thead>\n",
       "  <tbody>\n",
       "    <tr>\n",
       "      <th>424722</th>\n",
       "      <td>0.09144</td>\n",
       "      <td>-0.042158</td>\n",
       "      <td>-0.047591</td>\n",
       "      <td>-0.041351</td>\n",
       "      <td>0.055132</td>\n",
       "      <td>0.103441</td>\n",
       "      <td>-0.046415</td>\n",
       "      <td>-0.115648</td>\n",
       "      <td>0.639149</td>\n",
       "      <td>0.120387</td>\n",
       "      <td>...</td>\n",
       "      <td>-0.055708</td>\n",
       "      <td>-0.057109</td>\n",
       "      <td>0.598116</td>\n",
       "      <td>-0.071088</td>\n",
       "      <td>-0.058092</td>\n",
       "      <td>-0.159376</td>\n",
       "      <td>0.123861</td>\n",
       "      <td>0.166392</td>\n",
       "      <td>-0.071051</td>\n",
       "      <td>-0.070962</td>\n",
       "    </tr>\n",
       "    <tr>\n",
       "      <th>606998</th>\n",
       "      <td>0.09144</td>\n",
       "      <td>-0.042158</td>\n",
       "      <td>-0.047591</td>\n",
       "      <td>-0.041351</td>\n",
       "      <td>-0.769214</td>\n",
       "      <td>0.103441</td>\n",
       "      <td>-0.046415</td>\n",
       "      <td>-0.115648</td>\n",
       "      <td>-0.521454</td>\n",
       "      <td>0.120387</td>\n",
       "      <td>...</td>\n",
       "      <td>-0.055708</td>\n",
       "      <td>-0.057109</td>\n",
       "      <td>0.598116</td>\n",
       "      <td>-0.071088</td>\n",
       "      <td>-0.058092</td>\n",
       "      <td>-0.159376</td>\n",
       "      <td>0.123861</td>\n",
       "      <td>0.166392</td>\n",
       "      <td>-0.071051</td>\n",
       "      <td>-0.070962</td>\n",
       "    </tr>\n",
       "    <tr>\n",
       "      <th>639246</th>\n",
       "      <td>0.09144</td>\n",
       "      <td>-0.042158</td>\n",
       "      <td>-0.047591</td>\n",
       "      <td>-0.041351</td>\n",
       "      <td>1.703825</td>\n",
       "      <td>0.103441</td>\n",
       "      <td>-0.046415</td>\n",
       "      <td>-0.115648</td>\n",
       "      <td>1.799751</td>\n",
       "      <td>0.120387</td>\n",
       "      <td>...</td>\n",
       "      <td>-0.055708</td>\n",
       "      <td>-0.057109</td>\n",
       "      <td>0.598116</td>\n",
       "      <td>-0.071088</td>\n",
       "      <td>-0.058092</td>\n",
       "      <td>-0.159376</td>\n",
       "      <td>0.123861</td>\n",
       "      <td>0.166392</td>\n",
       "      <td>-0.071051</td>\n",
       "      <td>-0.070962</td>\n",
       "    </tr>\n",
       "    <tr>\n",
       "      <th>56700</th>\n",
       "      <td>0.09144</td>\n",
       "      <td>-0.042158</td>\n",
       "      <td>-0.047591</td>\n",
       "      <td>-0.041351</td>\n",
       "      <td>-0.769214</td>\n",
       "      <td>0.103441</td>\n",
       "      <td>-0.046415</td>\n",
       "      <td>-0.115648</td>\n",
       "      <td>-0.521454</td>\n",
       "      <td>0.120387</td>\n",
       "      <td>...</td>\n",
       "      <td>-0.055708</td>\n",
       "      <td>-0.057109</td>\n",
       "      <td>0.598116</td>\n",
       "      <td>-0.071088</td>\n",
       "      <td>-0.058092</td>\n",
       "      <td>-0.159376</td>\n",
       "      <td>0.123861</td>\n",
       "      <td>0.166392</td>\n",
       "      <td>-0.071051</td>\n",
       "      <td>-0.070962</td>\n",
       "    </tr>\n",
       "    <tr>\n",
       "      <th>410754</th>\n",
       "      <td>0.09144</td>\n",
       "      <td>-0.042158</td>\n",
       "      <td>-0.047591</td>\n",
       "      <td>-0.041351</td>\n",
       "      <td>-0.769214</td>\n",
       "      <td>0.103441</td>\n",
       "      <td>-0.046415</td>\n",
       "      <td>-0.115648</td>\n",
       "      <td>-0.521454</td>\n",
       "      <td>0.120387</td>\n",
       "      <td>...</td>\n",
       "      <td>-0.055708</td>\n",
       "      <td>-0.057109</td>\n",
       "      <td>0.598116</td>\n",
       "      <td>-0.071088</td>\n",
       "      <td>-0.058092</td>\n",
       "      <td>-0.159376</td>\n",
       "      <td>0.123861</td>\n",
       "      <td>0.166392</td>\n",
       "      <td>-0.071051</td>\n",
       "      <td>-0.070962</td>\n",
       "    </tr>\n",
       "  </tbody>\n",
       "</table>\n",
       "<p>5 rows × 30 columns</p>\n",
       "</div>"
      ],
      "text/plain": [
       "        fulladdress_count_1_by_7  address_count_0  ssn_count_3  \\\n",
       "424722                   0.09144        -0.042158    -0.047591   \n",
       "606998                   0.09144        -0.042158    -0.047591   \n",
       "639246                   0.09144        -0.042158    -0.047591   \n",
       "56700                    0.09144        -0.042158    -0.047591   \n",
       "410754                   0.09144        -0.042158    -0.047591   \n",
       "\n",
       "        fulladdress_count_0  homephone_count_7  address_count_1_by_7  \\\n",
       "424722            -0.041351           0.055132              0.103441   \n",
       "606998            -0.041351          -0.769214              0.103441   \n",
       "639246            -0.041351           1.703825              0.103441   \n",
       "56700             -0.041351          -0.769214              0.103441   \n",
       "410754            -0.041351          -0.769214              0.103441   \n",
       "\n",
       "        name_dob_count_3  name_count_7  homephone_count_3  \\\n",
       "424722         -0.046415     -0.115648           0.639149   \n",
       "606998         -0.046415     -0.115648          -0.521454   \n",
       "639246         -0.046415     -0.115648           1.799751   \n",
       "56700          -0.046415     -0.115648          -0.521454   \n",
       "410754         -0.046415     -0.115648          -0.521454   \n",
       "\n",
       "        fulladdress_homephone_count_0_by_14  ...  ssn_dob_count_7  \\\n",
       "424722                             0.120387  ...        -0.055708   \n",
       "606998                             0.120387  ...        -0.055708   \n",
       "639246                             0.120387  ...        -0.055708   \n",
       "56700                              0.120387  ...        -0.055708   \n",
       "410754                             0.120387  ...        -0.055708   \n",
       "\n",
       "        ssn_name_count_7  name_day_since  ssn_firstname_count_14  ssn_count_7  \\\n",
       "424722         -0.057109        0.598116               -0.071088    -0.058092   \n",
       "606998         -0.057109        0.598116               -0.071088    -0.058092   \n",
       "639246         -0.057109        0.598116               -0.071088    -0.058092   \n",
       "56700          -0.057109        0.598116               -0.071088    -0.058092   \n",
       "410754         -0.057109        0.598116               -0.071088    -0.058092   \n",
       "\n",
       "        name_count_14  fulladdress_count_1_by_14  \\\n",
       "424722      -0.159376                   0.123861   \n",
       "606998      -0.159376                   0.123861   \n",
       "639246      -0.159376                   0.123861   \n",
       "56700       -0.159376                   0.123861   \n",
       "410754      -0.159376                   0.123861   \n",
       "\n",
       "        fulladdress_homephone_count_0_by_30  ssn_lastname_count_14  \\\n",
       "424722                             0.166392              -0.071051   \n",
       "606998                             0.166392              -0.071051   \n",
       "639246                             0.166392              -0.071051   \n",
       "56700                              0.166392              -0.071051   \n",
       "410754                             0.166392              -0.071051   \n",
       "\n",
       "        ssn_name_count_14  \n",
       "424722          -0.070962  \n",
       "606998          -0.070962  \n",
       "639246          -0.070962  \n",
       "56700           -0.070962  \n",
       "410754          -0.070962  \n",
       "\n",
       "[5 rows x 30 columns]"
      ]
     },
     "execution_count": 2,
     "metadata": {},
     "output_type": "execute_result"
    }
   ],
   "source": [
    "x_train, x_test, x_oot, y_train, y_test, y_oot = load_data('var_30.csv')\n",
    "x_train.head()"
   ]
  },
  {
   "cell_type": "code",
   "execution_count": 3,
   "metadata": {},
   "outputs": [],
   "source": [
    "model_results = dict()"
   ]
  },
  {
   "cell_type": "code",
   "execution_count": 4,
   "metadata": {},
   "outputs": [],
   "source": [
    "def fdr_score(clf, x_train, x_test, x_oot, y_train, y_test, y_oot):\n",
    "    return {'fdr_train': fdr(clf, x_train, y_train),\n",
    "            'fdr_test': fdr(clf, x_test, y_test),\n",
    "            'fdr_oot': fdr(clf, x_oot, y_oot)}"
   ]
  },
  {
   "cell_type": "code",
   "execution_count": 5,
   "metadata": {},
   "outputs": [
    {
     "name": "stdout",
     "output_type": "stream",
     "text": [
      "{'fdr_train': 0.5279232111692844, 'fdr_test': 0.5373263888888888, 'fdr_oot': 0.5183156453269429}\n"
     ]
    }
   ],
   "source": [
    "# Logistic regression\n",
    "lr = LogisticRegression(max_iter=1000, \n",
    "                        C=1, \n",
    "                        class_weight='balanced').fit(x_train, y_train)\n",
    "model_results['logistic regression'] = fdr_score(lr, x_train, x_test, x_oot, y_train, y_test, y_oot)\n",
    "print(model_results['logistic regression'])"
   ]
  },
  {
   "cell_type": "code",
   "execution_count": 6,
   "metadata": {},
   "outputs": [
    {
     "name": "stdout",
     "output_type": "stream",
     "text": [
      "{'fdr_train': 0.5453752181500873, 'fdr_test': 0.5555555555555556, 'fdr_oot': 0.5368024649092776}\n"
     ]
    }
   ],
   "source": [
    "# Decision tree\n",
    "dt = DecisionTreeClassifier(ccp_alpha=1e-06, \n",
    "                            max_depth=20,\n",
    "                            min_samples_leaf=64, \n",
    "                            class_weight=None,\n",
    "                            criterion='gini').fit(x_train, y_train)\n",
    "model_results['decision tree'] = fdr_score(dt, x_train, x_test, x_oot, y_train, y_test, y_oot)\n",
    "print(model_results['decision tree'])"
   ]
  },
  {
   "cell_type": "code",
   "execution_count": 7,
   "metadata": {},
   "outputs": [
    {
     "name": "stdout",
     "output_type": "stream",
     "text": [
      "{'fdr_train': 0.5509380453752182, 'fdr_test': 0.5572916666666666, 'fdr_oot': 0.5398836015063334}\n"
     ]
    }
   ],
   "source": [
    "# Random forest\n",
    "rf = RandomForestClassifier(n_estimators=300,\n",
    "                            max_depth=17, \n",
    "                            max_features=10,\n",
    "                            ccp_alpha=1e-6, \n",
    "                            n_jobs=8).fit(x_train, y_train)\n",
    "model_results['random forest'] = fdr_score(rf, x_train, x_test, x_oot, y_train, y_test, y_oot)\n",
    "print(model_results['random forest'])"
   ]
  },
  {
   "cell_type": "code",
   "execution_count": 8,
   "metadata": {},
   "outputs": [
    {
     "name": "stdout",
     "output_type": "stream",
     "text": [
      "{'fdr_train': 0.550174520069808, 'fdr_test': 0.5581597222222222, 'fdr_oot': 0.5398836015063334}\n"
     ]
    }
   ],
   "source": [
    "# Boosted tree\n",
    "bt = XGBClassifier(n_estimators=200,\n",
    "                   max_depth=5,\n",
    "                   learning_rate=0.05,\n",
    "                   subsample=0.5,\n",
    "                   verbose=3, n_jobs=8).fit(x_train, y_train)\n",
    "model_results['boosted tree'] = fdr_score(bt, x_train, x_test, x_oot, y_train, y_test, y_oot)\n",
    "print(model_results['boosted tree'])"
   ]
  },
  {
   "cell_type": "code",
   "execution_count": 9,
   "metadata": {},
   "outputs": [
    {
     "name": "stdout",
     "output_type": "stream",
     "text": [
      "{'fdr_train': 0.5571553228621291, 'fdr_test': 0.5564236111111112, 'fdr_oot': 0.5357754193769257}\n"
     ]
    }
   ],
   "source": [
    "# Random forest with random under sampling\n",
    "rf = RandomForestClassifier(n_estimators=150,\n",
    "                            max_depth=17, \n",
    "                            max_features=10,\n",
    "                            ccp_alpha=1e-6, \n",
    "                            n_jobs=4)\n",
    "ee = EasyEnsembleClassifier(n_estimators=50,\n",
    "                            base_estimator=rf,\n",
    "                            sampling_strategy='not minority',\n",
    "                            n_jobs=2,\n",
    "                            verbose=0).fit(x_train, y_train)\n",
    "model_results['rf with under sampling'] = fdr_score(ee, x_train, x_test, x_oot, y_train, y_test, y_oot)\n",
    "print(model_results['rf with under sampling'])"
   ]
  },
  {
   "cell_type": "code",
   "execution_count": 10,
   "metadata": {
    "scrolled": true
   },
   "outputs": [
    {
     "name": "stdout",
     "output_type": "stream",
     "text": [
      "{'fdr_train': 0.5506108202443281, 'fdr_test': 0.5529513888888888, 'fdr_oot': 0.531324888736734}\n"
     ]
    }
   ],
   "source": [
    "# Decision tree with Random undersample to 10% and then SMOTE \n",
    "dt = DecisionTreeClassifier(ccp_alpha=1e-06, max_depth=20, min_samples_leaf=64, class_weight=None, criterion='gini')\n",
    "me = MakeEnsemble(dt, [RandomUnderSampler(sampling_strategy=0.1), SMOTE()],\n",
    "                  n_estimators=50, n_jobs=8, verbose=0)\n",
    "me.fit(x_train, y_train)\n",
    "model_results['dt with 0.1 under and SMOTE'] = fdr_score(me, x_train, x_test, x_oot, y_train, y_test, y_oot)\n",
    "print(model_results['dt with 0.1 under and SMOTE'])"
   ]
  },
  {
   "cell_type": "code",
   "execution_count": 11,
   "metadata": {},
   "outputs": [
    {
     "name": "stdout",
     "output_type": "stream",
     "text": [
      "{'fdr_train': 0.5599912739965096, 'fdr_test': 0.5516493055555556, 'fdr_oot': 0.5306401917151661}\n"
     ]
    }
   ],
   "source": [
    "# Decision tree with Random undersample to 10% and then SMOTE \n",
    "rf = RandomForestClassifier(n_estimators=150, max_depth=20, max_features=10, ccp_alpha=1e-6, n_jobs=4)\n",
    "me = MakeEnsemble(rf, \n",
    "                  [RandomUnderSampler(sampling_strategy=0.1), SMOTE()],\n",
    "                  n_estimators=50, n_jobs=2, verbose=0)\n",
    "me.fit(x_train, y_train)\n",
    "model_results['rf with 0.1 under and SMOTE'] = fdr_score(me, x_train, x_test, x_oot, y_train, y_test, y_oot)\n",
    "print(model_results['rf with 0.1 under and SMOTE'])"
   ]
  },
  {
   "cell_type": "code",
   "execution_count": 12,
   "metadata": {},
   "outputs": [
    {
     "data": {
      "text/html": [
       "<div>\n",
       "<style scoped>\n",
       "    .dataframe tbody tr th:only-of-type {\n",
       "        vertical-align: middle;\n",
       "    }\n",
       "\n",
       "    .dataframe tbody tr th {\n",
       "        vertical-align: top;\n",
       "    }\n",
       "\n",
       "    .dataframe thead th {\n",
       "        text-align: right;\n",
       "    }\n",
       "</style>\n",
       "<table border=\"1\" class=\"dataframe\">\n",
       "  <thead>\n",
       "    <tr style=\"text-align: right;\">\n",
       "      <th></th>\n",
       "      <th>fdr_train</th>\n",
       "      <th>fdr_test</th>\n",
       "      <th>fdr_oot</th>\n",
       "    </tr>\n",
       "  </thead>\n",
       "  <tbody>\n",
       "    <tr>\n",
       "      <th>boosted tree</th>\n",
       "      <td>0.550175</td>\n",
       "      <td>0.558160</td>\n",
       "      <td>0.539884</td>\n",
       "    </tr>\n",
       "    <tr>\n",
       "      <th>random forest</th>\n",
       "      <td>0.550938</td>\n",
       "      <td>0.557292</td>\n",
       "      <td>0.539884</td>\n",
       "    </tr>\n",
       "    <tr>\n",
       "      <th>rf with under sampling</th>\n",
       "      <td>0.557155</td>\n",
       "      <td>0.556424</td>\n",
       "      <td>0.535775</td>\n",
       "    </tr>\n",
       "    <tr>\n",
       "      <th>decision tree</th>\n",
       "      <td>0.545375</td>\n",
       "      <td>0.555556</td>\n",
       "      <td>0.536802</td>\n",
       "    </tr>\n",
       "    <tr>\n",
       "      <th>dt with 0.1 under and SMOTE</th>\n",
       "      <td>0.550611</td>\n",
       "      <td>0.552951</td>\n",
       "      <td>0.531325</td>\n",
       "    </tr>\n",
       "    <tr>\n",
       "      <th>rf with 0.1 under and SMOTE</th>\n",
       "      <td>0.559991</td>\n",
       "      <td>0.551649</td>\n",
       "      <td>0.530640</td>\n",
       "    </tr>\n",
       "    <tr>\n",
       "      <th>logistic regression</th>\n",
       "      <td>0.527923</td>\n",
       "      <td>0.537326</td>\n",
       "      <td>0.518316</td>\n",
       "    </tr>\n",
       "  </tbody>\n",
       "</table>\n",
       "</div>"
      ],
      "text/plain": [
       "                             fdr_train  fdr_test   fdr_oot\n",
       "boosted tree                  0.550175  0.558160  0.539884\n",
       "random forest                 0.550938  0.557292  0.539884\n",
       "rf with under sampling        0.557155  0.556424  0.535775\n",
       "decision tree                 0.545375  0.555556  0.536802\n",
       "dt with 0.1 under and SMOTE   0.550611  0.552951  0.531325\n",
       "rf with 0.1 under and SMOTE   0.559991  0.551649  0.530640\n",
       "logistic regression           0.527923  0.537326  0.518316"
      ]
     },
     "execution_count": 12,
     "metadata": {},
     "output_type": "execute_result"
    }
   ],
   "source": [
    "pd.DataFrame.from_dict(model_results, orient='index').sort_values('fdr_test', ascending=False)"
   ]
  },
  {
   "cell_type": "code",
   "execution_count": null,
   "metadata": {},
   "outputs": [],
   "source": []
  }
 ],
 "metadata": {
  "kernelspec": {
   "display_name": "Python 3",
   "language": "python",
   "name": "python3"
  },
  "language_info": {
   "codemirror_mode": {
    "name": "ipython",
    "version": 3
   },
   "file_extension": ".py",
   "mimetype": "text/x-python",
   "name": "python",
   "nbconvert_exporter": "python",
   "pygments_lexer": "ipython3",
   "version": "3.6.8"
  }
 },
 "nbformat": 4,
 "nbformat_minor": 4
}
