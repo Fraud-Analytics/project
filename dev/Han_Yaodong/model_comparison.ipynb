{
 "cells": [
  {
   "cell_type": "code",
   "execution_count": 1,
   "metadata": {},
   "outputs": [],
   "source": [
    "import matplotlib.cbook as cbook\n",
    "import matplotlib.pyplot as plt\n",
    "import numpy as np\n",
    "import pandas as pd\n",
    "from imblearn.ensemble import EasyEnsembleClassifier\n",
    "from imblearn.over_sampling import SMOTE\n",
    "from imblearn.under_sampling import RandomUnderSampler\n",
    "from sklearn.ensemble import AdaBoostClassifier\n",
    "from sklearn.ensemble import GradientBoostingClassifier\n",
    "from sklearn.ensemble import RandomForestClassifier\n",
    "from sklearn.linear_model import LogisticRegression\n",
    "from sklearn.model_selection import cross_validate\n",
    "from sklearn.model_selection import train_test_split\n",
    "from sklearn.naive_bayes import GaussianNB\n",
    "from sklearn.neural_network import MLPClassifier\n",
    "from sklearn.tree import DecisionTreeClassifier\n",
    "\n",
    "from ensemble import MakeEnsemble\n",
    "from util import load_data, fdr"
   ]
  },
  {
   "cell_type": "code",
   "execution_count": 12,
   "metadata": {
    "scrolled": false
   },
   "outputs": [],
   "source": [
    "x_train, _, x_oot, y_train, _, y_oot = load_data('var_30.csv', test_size=0)\n",
    "x_train = x_train.to_numpy()"
   ]
  },
  {
   "cell_type": "code",
   "execution_count": 3,
   "metadata": {},
   "outputs": [],
   "source": [
    "def clf_score(clf, x_train, y_train, label, train_scores, test_scores, oot_scores, cv=10, n_jobs=8):\n",
    "    score = cross_validate(clf, x_train, y_train, scoring=fdr, cv=cv, n_jobs=n_jobs,\n",
    "                           return_train_score=True, return_estimator=True)\n",
    "    train_scores.append(score['train_score'])\n",
    "    test_scores.append(score['test_score'])\n",
    "    labels.append(label)\n",
    "    oot = []\n",
    "    for clf in score['estimator']:\n",
    "        oot.append(fdr(clf, x_oot, y_oot))\n",
    "    oot_scores.append(np.asarray(oot))\n",
    "    print(np.mean(score['test_score']))"
   ]
  },
  {
   "cell_type": "code",
   "execution_count": 4,
   "metadata": {},
   "outputs": [],
   "source": [
    "def pop_item(item, labels, train_scores, test_scores, oot_scores):\n",
    "    labels.pop(item)\n",
    "    train_scores.pop(item)\n",
    "    test_scores.pop(item)\n",
    "    oot_scores.pop(item)"
   ]
  },
  {
   "cell_type": "code",
   "execution_count": 4,
   "metadata": {},
   "outputs": [],
   "source": [
    "labels = []\n",
    "train_scores = []\n",
    "test_scores = []\n",
    "oot_scores = []"
   ]
  },
  {
   "cell_type": "code",
   "execution_count": 24,
   "metadata": {},
   "outputs": [
    {
     "name": "stdout",
     "output_type": "stream",
     "text": [
      "0.5285897311271033\n"
     ]
    }
   ],
   "source": [
    "# Logistic regression\n",
    "lr = LogisticRegression(max_iter=1000, \n",
    "                        C=10, \n",
    "                        class_weight='balanced')\n",
    "clf_score(lr, x_train, y_train, 'LR', train_scores, test_scores, oot_scores, n_jobs=1)"
   ]
  },
  {
   "cell_type": "code",
   "execution_count": 6,
   "metadata": {},
   "outputs": [
    {
     "name": "stdout",
     "output_type": "stream",
     "text": [
      "0.5440196968914514\n"
     ]
    }
   ],
   "source": [
    "# Decision tree\n",
    "dt = DecisionTreeClassifier(ccp_alpha=1e-06, \n",
    "                            max_depth=20,\n",
    "                            min_samples_leaf=64, \n",
    "                            class_weight=None,\n",
    "                            criterion='gini')\n",
    "clf_score(dt, x_train, y_train, 'DT', train_scores, test_scores, oot_scores, n_jobs=8)"
   ]
  },
  {
   "cell_type": "code",
   "execution_count": 7,
   "metadata": {},
   "outputs": [
    {
     "name": "stdout",
     "output_type": "stream",
     "text": [
      "0.5507320262827737\n"
     ]
    }
   ],
   "source": [
    "# Random forest\n",
    "rf = RandomForestClassifier(n_estimators=150,\n",
    "                            max_depth=20,\n",
    "                            max_features=10,\n",
    "                            ccp_alpha=1e-6,\n",
    "                            min_samples_leaf=2,\n",
    "                            n_jobs=8)\n",
    "clf_score(rf, x_train, y_train, 'RF', train_scores, test_scores, oot_scores, n_jobs=1)"
   ]
  },
  {
   "cell_type": "code",
   "execution_count": 15,
   "metadata": {},
   "outputs": [
    {
     "name": "stdout",
     "output_type": "stream",
     "text": [
      "0.5494228239704242\n"
     ]
    }
   ],
   "source": [
    "# Boosted tree\n",
    "bt = GradientBoostingClassifier(n_estimators=500,\n",
    "                                max_depth=5,\n",
    "                                learning_rate=0.05,\n",
    "                                subsample=0.5,\n",
    "                                verbose=1)\n",
    "clf_score(bt, x_train, y_train, 'BT', train_scores, test_scores, oot_scores, n_jobs=8)"
   ]
  },
  {
   "cell_type": "code",
   "execution_count": 15,
   "metadata": {},
   "outputs": [
    {
     "name": "stdout",
     "output_type": "stream",
     "text": [
      "0.5490758348547491\n"
     ]
    }
   ],
   "source": [
    "# Adaboost\n",
    "ada = AdaBoostClassifier(base_estimator=DecisionTreeClassifier(max_depth=3),\n",
    "                         learning_rate=0.1,\n",
    "                         n_estimators=50,\n",
    "                         algorithm='SAMME.R')\n",
    "clf_score(ada, x_train, y_train, 'ADA', train_scores, test_scores, oot_scores, n_jobs=8)"
   ]
  },
  {
   "cell_type": "code",
   "execution_count": 8,
   "metadata": {},
   "outputs": [
    {
     "name": "stdout",
     "output_type": "stream",
     "text": [
      "0.5470715910920474\n"
     ]
    }
   ],
   "source": [
    "# Neural Network\n",
    "nn = MLPClassifier((50, 50), learning_rate_init=0.01, verbose=0)\n",
    "clf_score(nn, x_train, y_train, 'NN', train_scores, test_scores, oot_scores, n_jobs=2)"
   ]
  },
  {
   "cell_type": "code",
   "execution_count": 16,
   "metadata": {},
   "outputs": [
    {
     "name": "stdout",
     "output_type": "stream",
     "text": [
      "0.549250126826838\n"
     ]
    }
   ],
   "source": [
    "# Random forest with random under sampling to 5%\n",
    "rf = RandomForestClassifier(n_estimators=200,\n",
    "                            max_depth=20,\n",
    "                            max_features=10,\n",
    "                            ccp_alpha=1e-6,\n",
    "                            min_samples_leaf=2,\n",
    "                            n_jobs=8)\n",
    "ee = EasyEnsembleClassifier(n_estimators=50,\n",
    "                            base_estimator=rf,\n",
    "                            sampling_strategy=0.5,\n",
    "                            n_jobs=1,\n",
    "                            verbose=0)\n",
    "clf_score(ee, x_train, y_train, 'RF_US', train_scores, test_scores, oot_scores, n_jobs=1)"
   ]
  },
  {
   "cell_type": "code",
   "execution_count": 17,
   "metadata": {
    "scrolled": true
   },
   "outputs": [],
   "source": [
    "# Decision tree with Random undersample to 10% and then SMOTE\n",
    "score = {'train_score': [], 'test_score': [], 'oot_score': []}\n",
    "for _ in range(10):\n",
    "    x, x_test, y, y_test = train_test_split(x_train, y_train, test_size=0.1)\n",
    "    dt = DecisionTreeClassifier(ccp_alpha=1e-06, max_depth=20, min_samples_leaf=64, class_weight=None, criterion='gini')\n",
    "    me = MakeEnsemble(dt, [RandomUnderSampler(sampling_strategy=0.1), SMOTE(sampling_strategy=0.5)],\n",
    "                      n_estimators=50, n_jobs=8, verbose=0)\n",
    "    me.fit(x, y)\n",
    "    score['train_score'].append(fdr(me, x, y))\n",
    "    score['test_score'].append(fdr(me, x_test, y_test))\n",
    "    score['oot_score'].append(fdr(me, x_oot, y_oot))\n",
    "\n",
    "train_scores.append(np.asarray(score['train_score']))\n",
    "test_scores.append(np.asarray(score['test_score']))\n",
    "oot_scores.append(np.asarray(score['oot_score']))\n",
    "labels.append('DT_SMOTE')"
   ]
  },
  {
   "cell_type": "code",
   "execution_count": 8,
   "metadata": {},
   "outputs": [
    {
     "name": "stdout",
     "output_type": "stream",
     "text": [
      "0.529116024533019\n"
     ]
    }
   ],
   "source": [
    "# Gaussian naive bayes\n",
    "nb = GaussianNB()\n",
    "clf_score(nb, x_train, y_train, 'NB', train_scores, test_scores, oot_scores, n_jobs=5)"
   ]
  },
  {
   "cell_type": "code",
   "execution_count": 25,
   "metadata": {},
   "outputs": [],
   "source": [
    "# reorder for better presentation\n",
    "cols = ['LR', 'NB', 'DT', 'RF', 'BT', 'ADA', 'NN', 'RF_US', 'DT_SMOTE']\n",
    "order = [labels.index(c) for c in cols]\n",
    "labels = [labels[i] for i in order]\n",
    "train_scores = [train_scores[i] for i in order]\n",
    "test_scores = [test_scores[i] for i in order]\n",
    "oot_scores = [oot_scores[i] for i in order]"
   ]
  },
  {
   "cell_type": "code",
   "execution_count": 26,
   "metadata": {
    "scrolled": true
   },
   "outputs": [
    {
     "data": {
      "text/html": [
       "<div>\n",
       "<style scoped>\n",
       "    .dataframe tbody tr th:only-of-type {\n",
       "        vertical-align: middle;\n",
       "    }\n",
       "\n",
       "    .dataframe tbody tr th {\n",
       "        vertical-align: top;\n",
       "    }\n",
       "\n",
       "    .dataframe thead th {\n",
       "        text-align: right;\n",
       "    }\n",
       "</style>\n",
       "<table border=\"1\" class=\"dataframe\">\n",
       "  <thead>\n",
       "    <tr style=\"text-align: right;\">\n",
       "      <th></th>\n",
       "      <th>train_mean</th>\n",
       "      <th>train_std</th>\n",
       "      <th>test_mean</th>\n",
       "      <th>test_std</th>\n",
       "      <th>oot_mean</th>\n",
       "      <th>oot_std</th>\n",
       "    </tr>\n",
       "    <tr>\n",
       "      <th>model</th>\n",
       "      <th></th>\n",
       "      <th></th>\n",
       "      <th></th>\n",
       "      <th></th>\n",
       "      <th></th>\n",
       "      <th></th>\n",
       "    </tr>\n",
       "  </thead>\n",
       "  <tbody>\n",
       "    <tr>\n",
       "      <th>LR</th>\n",
       "      <td>0.529754</td>\n",
       "      <td>0.001866</td>\n",
       "      <td>0.528590</td>\n",
       "      <td>0.010407</td>\n",
       "      <td>0.518521</td>\n",
       "      <td>0.000908</td>\n",
       "    </tr>\n",
       "    <tr>\n",
       "      <th>NB</th>\n",
       "      <td>0.529357</td>\n",
       "      <td>0.002110</td>\n",
       "      <td>0.529116</td>\n",
       "      <td>0.019181</td>\n",
       "      <td>0.516946</td>\n",
       "      <td>0.000000</td>\n",
       "    </tr>\n",
       "    <tr>\n",
       "      <th>DT</th>\n",
       "      <td>0.545773</td>\n",
       "      <td>0.001828</td>\n",
       "      <td>0.544020</td>\n",
       "      <td>0.011646</td>\n",
       "      <td>0.535262</td>\n",
       "      <td>0.000578</td>\n",
       "    </tr>\n",
       "    <tr>\n",
       "      <th>RF</th>\n",
       "      <td>0.554267</td>\n",
       "      <td>0.001200</td>\n",
       "      <td>0.550732</td>\n",
       "      <td>0.009637</td>\n",
       "      <td>0.540089</td>\n",
       "      <td>0.000438</td>\n",
       "    </tr>\n",
       "    <tr>\n",
       "      <th>BT</th>\n",
       "      <td>0.551246</td>\n",
       "      <td>0.001593</td>\n",
       "      <td>0.549423</td>\n",
       "      <td>0.013993</td>\n",
       "      <td>0.538583</td>\n",
       "      <td>0.000807</td>\n",
       "    </tr>\n",
       "    <tr>\n",
       "      <th>ADA</th>\n",
       "      <td>0.549831</td>\n",
       "      <td>0.001219</td>\n",
       "      <td>0.549076</td>\n",
       "      <td>0.010452</td>\n",
       "      <td>0.539130</td>\n",
       "      <td>0.000335</td>\n",
       "    </tr>\n",
       "    <tr>\n",
       "      <th>NN</th>\n",
       "      <td>0.549589</td>\n",
       "      <td>0.001808</td>\n",
       "      <td>0.547072</td>\n",
       "      <td>0.015011</td>\n",
       "      <td>0.537487</td>\n",
       "      <td>0.001386</td>\n",
       "    </tr>\n",
       "    <tr>\n",
       "      <th>RF_US</th>\n",
       "      <td>0.566384</td>\n",
       "      <td>0.001363</td>\n",
       "      <td>0.549250</td>\n",
       "      <td>0.009996</td>\n",
       "      <td>0.538412</td>\n",
       "      <td>0.000880</td>\n",
       "    </tr>\n",
       "    <tr>\n",
       "      <th>DT_SMOTE</th>\n",
       "      <td>0.556262</td>\n",
       "      <td>0.001137</td>\n",
       "      <td>0.544952</td>\n",
       "      <td>0.013527</td>\n",
       "      <td>0.533516</td>\n",
       "      <td>0.000855</td>\n",
       "    </tr>\n",
       "  </tbody>\n",
       "</table>\n",
       "</div>"
      ],
      "text/plain": [
       "          train_mean  train_std  test_mean  test_std  oot_mean   oot_std\n",
       "model                                                                   \n",
       "LR          0.529754   0.001866   0.528590  0.010407  0.518521  0.000908\n",
       "NB          0.529357   0.002110   0.529116  0.019181  0.516946  0.000000\n",
       "DT          0.545773   0.001828   0.544020  0.011646  0.535262  0.000578\n",
       "RF          0.554267   0.001200   0.550732  0.009637  0.540089  0.000438\n",
       "BT          0.551246   0.001593   0.549423  0.013993  0.538583  0.000807\n",
       "ADA         0.549831   0.001219   0.549076  0.010452  0.539130  0.000335\n",
       "NN          0.549589   0.001808   0.547072  0.015011  0.537487  0.001386\n",
       "RF_US       0.566384   0.001363   0.549250  0.009996  0.538412  0.000880\n",
       "DT_SMOTE    0.556262   0.001137   0.544952  0.013527  0.533516  0.000855"
      ]
     },
     "execution_count": 26,
     "metadata": {},
     "output_type": "execute_result"
    }
   ],
   "source": [
    "result = pd.DataFrame.from_dict({'model': labels,\n",
    "                                 'train_mean': np.mean(train_scores, axis=1),\n",
    "                                 'train_std': np.std(train_scores, axis=1),\n",
    "                                 'test_mean': np.mean(test_scores, axis=1),\n",
    "                                 'test_std': np.std(test_scores, axis=1),\n",
    "                                 'oot_mean': np.mean(oot_scores, axis=1),\n",
    "                                 'oot_std': np.std(oot_scores, axis=1)})\n",
    "result.set_index('model')"
   ]
  },
  {
   "cell_type": "code",
   "execution_count": 27,
   "metadata": {
    "scrolled": false
   },
   "outputs": [
    {
     "data": {
      "image/png": "[encoded data removed]",
      "text/plain": [
       "<Figure size 1440x720 with 3 Axes>"
      ]
     },
     "metadata": {
      "needs_background": "light"
     },
     "output_type": "display_data"
    }
   ],
   "source": [
    "train_stats = cbook.boxplot_stats(train_scores, labels=labels)\n",
    "test_stats = cbook.boxplot_stats(test_scores, labels=labels)\n",
    "oot_stats = cbook.boxplot_stats(oot_scores, labels=labels)\n",
    "fig, ax = plt.subplots(nrows=1, ncols=3, figsize=(20, 10))\n",
    "ax[0].bxp(train_stats, showfliers=False, meanline=True, showmeans=True)\n",
    "ax[0].set_title('Train Score')\n",
    "ax[1].bxp(test_stats, showfliers=False, meanline=True, showmeans=True)\n",
    "ax[1].set_title('Test Score')\n",
    "ax[2].bxp(oot_stats, showfliers=False, meanline=True, showmeans=True)\n",
    "ax[2].set_title('OOT Score')\n",
    "for a in ax:\n",
    "    a.set_ylim(0.51, 0.57)\n",
    "plt.show()"
   ]
  },
  {
   "cell_type": "markdown",
   "metadata": {},
   "source": [
    "### Save and Load\n",
    "serialize scores of models so we don't need to run them again"
   ]
  },
  {
   "cell_type": "code",
   "execution_count": 28,
   "metadata": {},
   "outputs": [],
   "source": [
    "# save\n",
    "import pickle\n",
    "load = (labels, train_scores, test_scores, oot_scores)\n",
    "with open('model_results.dump', 'wb') as f:\n",
    "    pickle.dump(load, f)"
   ]
  },
  {
   "cell_type": "code",
   "execution_count": 5,
   "metadata": {},
   "outputs": [],
   "source": [
    "# load\n",
    "import pickle\n",
    "with open('model_results.dump', 'rb') as f:\n",
    "    load = pickle.load(f)\n",
    "labels, train_scores, test_scores, oot_scores = load"
   ]
  },
  {
   "cell_type": "code",
   "execution_count": 22,
   "metadata": {},
   "outputs": [],
   "source": [
    "pop_item(0, labels, train_scores, test_scores, oot_scores)"
   ]
  },
  {
   "cell_type": "code",
   "execution_count": null,
   "metadata": {},
   "outputs": [],
   "source": []
  }
 ],
 "metadata": {
  "kernelspec": {
   "display_name": "Python 3",
   "language": "python",
   "name": "python3"
  },
  "language_info": {
   "codemirror_mode": {
    "name": "ipython",
    "version": 3
   },
   "file_extension": ".py",
   "mimetype": "text/x-python",
   "name": "python",
   "nbconvert_exporter": "python",
   "pygments_lexer": "ipython3",
   "version": "3.6.8"
  }
 },
 "nbformat": 4,
 "nbformat_minor": 4
}
