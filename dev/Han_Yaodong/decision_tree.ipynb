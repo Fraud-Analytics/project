{
 "cells": [
  {
   "cell_type": "code",
   "execution_count": 1,
   "metadata": {
    "pycharm": {
     "is_executing": true
    }
   },
   "outputs": [],
   "source": [
    "from util import load_data, fdr, plot_report\n",
    "import pandas as pd\n",
    "from sklearn.tree import DecisionTreeClassifier\n",
    "from sklearn.model_selection import GridSearchCV\n",
    "from collections import ChainMap\n",
    "import matplotlib.pyplot as plt"
   ]
  },
  {
   "cell_type": "code",
   "execution_count": 2,
   "metadata": {
    "pycharm": {
     "name": "#%%\n"
    }
   },
   "outputs": [
    {
     "data": {
      "text/html": [
       "<div>\n",
       "<style scoped>\n",
       "    .dataframe tbody tr th:only-of-type {\n",
       "        vertical-align: middle;\n",
       "    }\n",
       "\n",
       "    .dataframe tbody tr th {\n",
       "        vertical-align: top;\n",
       "    }\n",
       "\n",
       "    .dataframe thead th {\n",
       "        text-align: right;\n",
       "    }\n",
       "</style>\n",
       "<table border=\"1\" class=\"dataframe\">\n",
       "  <thead>\n",
       "    <tr style=\"text-align: right;\">\n",
       "      <th></th>\n",
       "      <th>ssn_name_dob_count_7</th>\n",
       "      <th>ssn_dob_count_0_by_14</th>\n",
       "      <th>name_dob_count_0_by_14</th>\n",
       "      <th>ssn_firstname_count_0_by_14</th>\n",
       "      <th>name_count_7</th>\n",
       "      <th>fulladdress_homephone_count_0_by_14</th>\n",
       "      <th>name_day_since</th>\n",
       "      <th>homephone_count_7</th>\n",
       "      <th>homephone_count_3</th>\n",
       "      <th>address_count_1_by_7</th>\n",
       "      <th>...</th>\n",
       "      <th>fulladdress_homephone_count_7</th>\n",
       "      <th>ssn_firstname_count_7</th>\n",
       "      <th>ssn_lastname_count_0_by_14</th>\n",
       "      <th>ssn_lastname_day_since</th>\n",
       "      <th>ssn_name_count_7</th>\n",
       "      <th>name_count_14</th>\n",
       "      <th>ssn_count_7</th>\n",
       "      <th>ssn_dob_count_7</th>\n",
       "      <th>ssn_lastname_count_7</th>\n",
       "      <th>ssn_name_day_since</th>\n",
       "    </tr>\n",
       "  </thead>\n",
       "  <tbody>\n",
       "    <tr>\n",
       "      <th>75789</th>\n",
       "      <td>-0.055635</td>\n",
       "      <td>0.118004</td>\n",
       "      <td>0.118316</td>\n",
       "      <td>0.123528</td>\n",
       "      <td>-0.115648</td>\n",
       "      <td>0.120387</td>\n",
       "      <td>-1.091944</td>\n",
       "      <td>1.703825</td>\n",
       "      <td>0.639149</td>\n",
       "      <td>0.103441</td>\n",
       "      <td>...</td>\n",
       "      <td>-0.057263</td>\n",
       "      <td>-0.057185</td>\n",
       "      <td>0.123458</td>\n",
       "      <td>-1.301966</td>\n",
       "      <td>-0.057109</td>\n",
       "      <td>-0.159376</td>\n",
       "      <td>-0.058092</td>\n",
       "      <td>-0.055708</td>\n",
       "      <td>-0.057154</td>\n",
       "      <td>-1.302483</td>\n",
       "    </tr>\n",
       "    <tr>\n",
       "      <th>418860</th>\n",
       "      <td>-0.055635</td>\n",
       "      <td>0.118004</td>\n",
       "      <td>0.118316</td>\n",
       "      <td>0.123528</td>\n",
       "      <td>-0.115648</td>\n",
       "      <td>0.120387</td>\n",
       "      <td>0.099167</td>\n",
       "      <td>0.055132</td>\n",
       "      <td>0.639149</td>\n",
       "      <td>0.103441</td>\n",
       "      <td>...</td>\n",
       "      <td>-0.057263</td>\n",
       "      <td>-0.057185</td>\n",
       "      <td>0.123458</td>\n",
       "      <td>-0.103799</td>\n",
       "      <td>-0.057109</td>\n",
       "      <td>-0.159376</td>\n",
       "      <td>-0.058092</td>\n",
       "      <td>-0.055708</td>\n",
       "      <td>-0.057154</td>\n",
       "      <td>-0.104324</td>\n",
       "    </tr>\n",
       "    <tr>\n",
       "      <th>636106</th>\n",
       "      <td>-0.055635</td>\n",
       "      <td>0.118004</td>\n",
       "      <td>0.118316</td>\n",
       "      <td>0.123528</td>\n",
       "      <td>-0.115648</td>\n",
       "      <td>0.120387</td>\n",
       "      <td>0.845975</td>\n",
       "      <td>0.055132</td>\n",
       "      <td>-0.521454</td>\n",
       "      <td>0.103441</td>\n",
       "      <td>...</td>\n",
       "      <td>-0.057263</td>\n",
       "      <td>-0.057185</td>\n",
       "      <td>0.123458</td>\n",
       "      <td>0.647433</td>\n",
       "      <td>-0.057109</td>\n",
       "      <td>-0.159376</td>\n",
       "      <td>-0.058092</td>\n",
       "      <td>-0.055708</td>\n",
       "      <td>-0.057154</td>\n",
       "      <td>0.646903</td>\n",
       "    </tr>\n",
       "    <tr>\n",
       "      <th>428729</th>\n",
       "      <td>-0.055635</td>\n",
       "      <td>0.118004</td>\n",
       "      <td>0.118316</td>\n",
       "      <td>0.123528</td>\n",
       "      <td>-0.115648</td>\n",
       "      <td>0.120387</td>\n",
       "      <td>-0.052085</td>\n",
       "      <td>-0.769214</td>\n",
       "      <td>-0.521454</td>\n",
       "      <td>0.103441</td>\n",
       "      <td>...</td>\n",
       "      <td>-0.057263</td>\n",
       "      <td>-0.057185</td>\n",
       "      <td>0.123458</td>\n",
       "      <td>-0.255947</td>\n",
       "      <td>-0.057109</td>\n",
       "      <td>-0.159376</td>\n",
       "      <td>-0.058092</td>\n",
       "      <td>-0.055708</td>\n",
       "      <td>-0.057154</td>\n",
       "      <td>-0.256471</td>\n",
       "    </tr>\n",
       "    <tr>\n",
       "      <th>395178</th>\n",
       "      <td>-0.055635</td>\n",
       "      <td>0.118004</td>\n",
       "      <td>0.118316</td>\n",
       "      <td>0.123528</td>\n",
       "      <td>-0.115648</td>\n",
       "      <td>0.120387</td>\n",
       "      <td>0.014088</td>\n",
       "      <td>1.703825</td>\n",
       "      <td>2.960354</td>\n",
       "      <td>0.103441</td>\n",
       "      <td>...</td>\n",
       "      <td>-0.057263</td>\n",
       "      <td>-0.057185</td>\n",
       "      <td>0.123458</td>\n",
       "      <td>-0.189382</td>\n",
       "      <td>-0.057109</td>\n",
       "      <td>-0.159376</td>\n",
       "      <td>-0.058092</td>\n",
       "      <td>-0.055708</td>\n",
       "      <td>-0.057154</td>\n",
       "      <td>-0.189907</td>\n",
       "    </tr>\n",
       "  </tbody>\n",
       "</table>\n",
       "<p>5 rows × 25 columns</p>\n",
       "</div>"
      ],
      "text/plain": [
       "        ssn_name_dob_count_7  ssn_dob_count_0_by_14  name_dob_count_0_by_14  \\\n",
       "75789              -0.055635               0.118004                0.118316   \n",
       "418860             -0.055635               0.118004                0.118316   \n",
       "636106             -0.055635               0.118004                0.118316   \n",
       "428729             -0.055635               0.118004                0.118316   \n",
       "395178             -0.055635               0.118004                0.118316   \n",
       "\n",
       "        ssn_firstname_count_0_by_14  name_count_7  \\\n",
       "75789                      0.123528     -0.115648   \n",
       "418860                     0.123528     -0.115648   \n",
       "636106                     0.123528     -0.115648   \n",
       "428729                     0.123528     -0.115648   \n",
       "395178                     0.123528     -0.115648   \n",
       "\n",
       "        fulladdress_homephone_count_0_by_14  name_day_since  \\\n",
       "75789                              0.120387       -1.091944   \n",
       "418860                             0.120387        0.099167   \n",
       "636106                             0.120387        0.845975   \n",
       "428729                             0.120387       -0.052085   \n",
       "395178                             0.120387        0.014088   \n",
       "\n",
       "        homephone_count_7  homephone_count_3  address_count_1_by_7  ...  \\\n",
       "75789            1.703825           0.639149              0.103441  ...   \n",
       "418860           0.055132           0.639149              0.103441  ...   \n",
       "636106           0.055132          -0.521454              0.103441  ...   \n",
       "428729          -0.769214          -0.521454              0.103441  ...   \n",
       "395178           1.703825           2.960354              0.103441  ...   \n",
       "\n",
       "        fulladdress_homephone_count_7  ssn_firstname_count_7  \\\n",
       "75789                       -0.057263              -0.057185   \n",
       "418860                      -0.057263              -0.057185   \n",
       "636106                      -0.057263              -0.057185   \n",
       "428729                      -0.057263              -0.057185   \n",
       "395178                      -0.057263              -0.057185   \n",
       "\n",
       "        ssn_lastname_count_0_by_14  ssn_lastname_day_since  ssn_name_count_7  \\\n",
       "75789                     0.123458               -1.301966         -0.057109   \n",
       "418860                    0.123458               -0.103799         -0.057109   \n",
       "636106                    0.123458                0.647433         -0.057109   \n",
       "428729                    0.123458               -0.255947         -0.057109   \n",
       "395178                    0.123458               -0.189382         -0.057109   \n",
       "\n",
       "        name_count_14  ssn_count_7  ssn_dob_count_7  ssn_lastname_count_7  \\\n",
       "75789       -0.159376    -0.058092        -0.055708             -0.057154   \n",
       "418860      -0.159376    -0.058092        -0.055708             -0.057154   \n",
       "636106      -0.159376    -0.058092        -0.055708             -0.057154   \n",
       "428729      -0.159376    -0.058092        -0.055708             -0.057154   \n",
       "395178      -0.159376    -0.058092        -0.055708             -0.057154   \n",
       "\n",
       "        ssn_name_day_since  \n",
       "75789            -1.302483  \n",
       "418860           -0.104324  \n",
       "636106            0.646903  \n",
       "428729           -0.256471  \n",
       "395178           -0.189907  \n",
       "\n",
       "[5 rows x 25 columns]"
      ]
     },
     "execution_count": 2,
     "metadata": {},
     "output_type": "execute_result"
    }
   ],
   "source": [
    "x_train, x_test, y_train, y_test = load_data('var_30.csv')\n",
    "x_train.head()"
   ]
  },
  {
   "cell_type": "code",
   "execution_count": 3,
   "metadata": {
    "pycharm": {
     "name": "#%%\n"
    },
    "scrolled": true
   },
   "outputs": [
    {
     "name": "stdout",
     "output_type": "stream",
     "text": [
      "Fitting 10 folds for each of 80 candidates, totalling 800 fits\n"
     ]
    },
    {
     "name": "stderr",
     "output_type": "stream",
     "text": [
      "[Parallel(n_jobs=4)]: Using backend LokyBackend with 4 concurrent workers.\n",
      "[Parallel(n_jobs=4)]: Done  42 tasks      | elapsed:   28.8s\n",
      "[Parallel(n_jobs=4)]: Done 192 tasks      | elapsed:  3.0min\n",
      "[Parallel(n_jobs=4)]: Done 442 tasks      | elapsed:  7.8min\n",
      "[Parallel(n_jobs=4)]: Done 792 tasks      | elapsed: 13.9min\n",
      "[Parallel(n_jobs=4)]: Done 800 out of 800 | elapsed: 14.1min finished\n"
     ]
    },
    {
     "data": {
      "text/plain": [
       "GridSearchCV(cv=10, error_score=nan,\n",
       "             estimator=DecisionTreeClassifier(ccp_alpha=0.0, class_weight=None,\n",
       "                                              criterion='gini', max_depth=None,\n",
       "                                              max_features=None,\n",
       "                                              max_leaf_nodes=None,\n",
       "                                              min_impurity_decrease=0.0,\n",
       "                                              min_impurity_split=None,\n",
       "                                              min_samples_leaf=1,\n",
       "                                              min_samples_split=2,\n",
       "                                              min_weight_fraction_leaf=0.0,\n",
       "                                              presort='deprecated',\n",
       "                                              random_state=None,\n",
       "                                              splitter='best'),\n",
       "             iid='deprecated', n_jobs=4,\n",
       "             param_grid={'ccp_alpha': [0, 1e-08, 1e-07, 2e-07, 5e-07],\n",
       "                         'max_depth': [10, 20, 30, 40],\n",
       "                         'min_samples_leaf': [128, 256, 512, 1024]},\n",
       "             pre_dispatch='2*n_jobs', refit='FDR', return_train_score=False,\n",
       "             scoring={'FDR': <function fdr at 0x7f15a3fefa60>}, verbose=1)"
      ]
     },
     "execution_count": 3,
     "metadata": {},
     "output_type": "execute_result"
    }
   ],
   "source": [
    "dt = DecisionTreeClassifier()\n",
    "params = {'min_samples_leaf': [128, 256, 512, 1024],\n",
    "          'max_depth' : [10, 20, 30, 40],\n",
    "          'ccp_alpha': [0, 1e-8, 1e-7, 2e-7, 5e-7]}\n",
    "grid = GridSearchCV(dt, params, cv=10, refit='FDR', \n",
    "                    verbose=1, n_jobs=4,\n",
    "                    scoring={'FDR': fdr})\n",
    "grid.fit(x_train, y_train)"
   ]
  },
  {
   "cell_type": "code",
   "execution_count": 15,
   "metadata": {
    "pycharm": {
     "name": "#%%\n"
    }
   },
   "outputs": [
    {
     "name": "stdout",
     "output_type": "stream",
     "text": [
      "The best parameters are {'ccp_alpha': 0, 'max_depth': 10, 'min_samples_leaf': 256} with a score of 0.53077\n"
     ]
    }
   ],
   "source": [
    "print(f\"The best parameters are {grid.best_params_} \"\n",
    "      f\"with a score of {grid.best_score_:0.5f}\")"
   ]
  },
  {
   "cell_type": "code",
   "execution_count": 5,
   "metadata": {
    "pycharm": {
     "name": "#%%\n"
    },
    "scrolled": false
   },
   "outputs": [
    {
     "data": {
      "text/html": [
       "<div>\n",
       "<style scoped>\n",
       "    .dataframe tbody tr th:only-of-type {\n",
       "        vertical-align: middle;\n",
       "    }\n",
       "\n",
       "    .dataframe tbody tr th {\n",
       "        vertical-align: top;\n",
       "    }\n",
       "\n",
       "    .dataframe thead th {\n",
       "        text-align: right;\n",
       "    }\n",
       "</style>\n",
       "<table border=\"1\" class=\"dataframe\">\n",
       "  <thead>\n",
       "    <tr style=\"text-align: right;\">\n",
       "      <th></th>\n",
       "      <th>param_max_depth</th>\n",
       "      <th>param_min_samples_leaf</th>\n",
       "      <th>param_ccp_alpha</th>\n",
       "      <th>mean_test_FDR</th>\n",
       "      <th>std_test_FDR</th>\n",
       "      <th>rank_test_FDR</th>\n",
       "    </tr>\n",
       "  </thead>\n",
       "  <tbody>\n",
       "    <tr>\n",
       "      <th>0</th>\n",
       "      <td>10</td>\n",
       "      <td>128</td>\n",
       "      <td>0</td>\n",
       "      <td>0.530423</td>\n",
       "      <td>0.015918</td>\n",
       "      <td>7</td>\n",
       "    </tr>\n",
       "    <tr>\n",
       "      <th>1</th>\n",
       "      <td>10</td>\n",
       "      <td>256</td>\n",
       "      <td>0</td>\n",
       "      <td>0.530772</td>\n",
       "      <td>0.015899</td>\n",
       "      <td>1</td>\n",
       "    </tr>\n",
       "    <tr>\n",
       "      <th>2</th>\n",
       "      <td>10</td>\n",
       "      <td>512</td>\n",
       "      <td>0</td>\n",
       "      <td>0.527111</td>\n",
       "      <td>0.016758</td>\n",
       "      <td>61</td>\n",
       "    </tr>\n",
       "    <tr>\n",
       "      <th>3</th>\n",
       "      <td>10</td>\n",
       "      <td>1024</td>\n",
       "      <td>0</td>\n",
       "      <td>0.528418</td>\n",
       "      <td>0.015922</td>\n",
       "      <td>26</td>\n",
       "    </tr>\n",
       "    <tr>\n",
       "      <th>4</th>\n",
       "      <td>20</td>\n",
       "      <td>128</td>\n",
       "      <td>0</td>\n",
       "      <td>0.525890</td>\n",
       "      <td>0.015721</td>\n",
       "      <td>69</td>\n",
       "    </tr>\n",
       "    <tr>\n",
       "      <th>...</th>\n",
       "      <td>...</td>\n",
       "      <td>...</td>\n",
       "      <td>...</td>\n",
       "      <td>...</td>\n",
       "      <td>...</td>\n",
       "      <td>...</td>\n",
       "    </tr>\n",
       "    <tr>\n",
       "      <th>75</th>\n",
       "      <td>30</td>\n",
       "      <td>1024</td>\n",
       "      <td>5e-07</td>\n",
       "      <td>0.527111</td>\n",
       "      <td>0.016665</td>\n",
       "      <td>58</td>\n",
       "    </tr>\n",
       "    <tr>\n",
       "      <th>76</th>\n",
       "      <td>40</td>\n",
       "      <td>128</td>\n",
       "      <td>5e-07</td>\n",
       "      <td>0.529552</td>\n",
       "      <td>0.016882</td>\n",
       "      <td>11</td>\n",
       "    </tr>\n",
       "    <tr>\n",
       "      <th>77</th>\n",
       "      <td>40</td>\n",
       "      <td>256</td>\n",
       "      <td>5e-07</td>\n",
       "      <td>0.529465</td>\n",
       "      <td>0.016796</td>\n",
       "      <td>14</td>\n",
       "    </tr>\n",
       "    <tr>\n",
       "      <th>78</th>\n",
       "      <td>40</td>\n",
       "      <td>512</td>\n",
       "      <td>5e-07</td>\n",
       "      <td>0.527460</td>\n",
       "      <td>0.016535</td>\n",
       "      <td>54</td>\n",
       "    </tr>\n",
       "    <tr>\n",
       "      <th>79</th>\n",
       "      <td>40</td>\n",
       "      <td>1024</td>\n",
       "      <td>5e-07</td>\n",
       "      <td>0.527111</td>\n",
       "      <td>0.016665</td>\n",
       "      <td>58</td>\n",
       "    </tr>\n",
       "  </tbody>\n",
       "</table>\n",
       "<p>80 rows × 6 columns</p>\n",
       "</div>"
      ],
      "text/plain": [
       "   param_max_depth param_min_samples_leaf param_ccp_alpha  mean_test_FDR  \\\n",
       "0               10                    128               0       0.530423   \n",
       "1               10                    256               0       0.530772   \n",
       "2               10                    512               0       0.527111   \n",
       "3               10                   1024               0       0.528418   \n",
       "4               20                    128               0       0.525890   \n",
       "..             ...                    ...             ...            ...   \n",
       "75              30                   1024           5e-07       0.527111   \n",
       "76              40                    128           5e-07       0.529552   \n",
       "77              40                    256           5e-07       0.529465   \n",
       "78              40                    512           5e-07       0.527460   \n",
       "79              40                   1024           5e-07       0.527111   \n",
       "\n",
       "    std_test_FDR  rank_test_FDR  \n",
       "0       0.015918              7  \n",
       "1       0.015899              1  \n",
       "2       0.016758             61  \n",
       "3       0.015922             26  \n",
       "4       0.015721             69  \n",
       "..           ...            ...  \n",
       "75      0.016665             58  \n",
       "76      0.016882             11  \n",
       "77      0.016796             14  \n",
       "78      0.016535             54  \n",
       "79      0.016665             58  \n",
       "\n",
       "[80 rows x 6 columns]"
      ]
     },
     "execution_count": 5,
     "metadata": {},
     "output_type": "execute_result"
    }
   ],
   "source": [
    "pd.DataFrame(grid.cv_results_).filter(\n",
    "    items=['param_max_depth', 'param_min_samples_leaf',\n",
    "           'param_ccp_alpha', 'mean_test_FDR', \n",
    "           'std_test_FDR', 'rank_test_FDR',\n",
    "           'mean_test_ROC', 'std_test_ROC'])"
   ]
  },
  {
   "cell_type": "code",
   "execution_count": 6,
   "metadata": {
    "scrolled": true
   },
   "outputs": [
    {
     "name": "stdout",
     "output_type": "stream",
     "text": [
      "Fitting 10 folds for each of 4 candidates, totalling 40 fits\n"
     ]
    },
    {
     "name": "stderr",
     "output_type": "stream",
     "text": [
      "[Parallel(n_jobs=4)]: Using backend LokyBackend with 4 concurrent workers.\n",
      "[Parallel(n_jobs=4)]: Done  40 out of  40 | elapsed:   32.0s finished\n"
     ]
    },
    {
     "data": {
      "text/plain": [
       "GridSearchCV(cv=10, error_score=nan,\n",
       "             estimator=DecisionTreeClassifier(ccp_alpha=0, class_weight=None,\n",
       "                                              criterion='gini', max_depth=10,\n",
       "                                              max_features=None,\n",
       "                                              max_leaf_nodes=None,\n",
       "                                              min_impurity_decrease=0.0,\n",
       "                                              min_impurity_split=None,\n",
       "                                              min_samples_leaf=256,\n",
       "                                              min_samples_split=2,\n",
       "                                              min_weight_fraction_leaf=0.0,\n",
       "                                              presort='deprecated',\n",
       "                                              random_state=None,\n",
       "                                              splitter='best'),\n",
       "             iid='deprecated', n_jobs=4,\n",
       "             param_grid={'class_weight': ['balanced', None],\n",
       "                         'criterion': ['gini', 'entropy']},\n",
       "             pre_dispatch='2*n_jobs', refit='FDR', return_train_score=False,\n",
       "             scoring={'FDR': <function fdr at 0x7f15a3fefa60>,\n",
       "                      'ROC': 'roc_auc'},\n",
       "             verbose=1)"
      ]
     },
     "execution_count": 6,
     "metadata": {},
     "output_type": "execute_result"
    }
   ],
   "source": [
    "dt = DecisionTreeClassifier(**grid.best_params_)\n",
    "params = {'class_weight': ['balanced', None],\n",
    "          'criterion': ['gini', 'entropy']}\n",
    "grid_2 = GridSearchCV(dt, params, cv=10, refit='FDR', \n",
    "                      verbose=1, n_jobs=4,\n",
    "                      scoring={'FDR': fdr, 'ROC': 'roc_auc'})\n",
    "grid_2.fit(x_train, y_train)"
   ]
  },
  {
   "cell_type": "code",
   "execution_count": 7,
   "metadata": {},
   "outputs": [
    {
     "name": "stdout",
     "output_type": "stream",
     "text": [
      "The best parameters are {'class_weight': None, 'criterion': 'gini'} with a score of 0.53077\n"
     ]
    }
   ],
   "source": [
    "print(f\"The best parameters are {grid_2.best_params_} \"\n",
    "      f\"with a score of {grid_2.best_score_:0.5f}\")"
   ]
  },
  {
   "cell_type": "code",
   "execution_count": 8,
   "metadata": {},
   "outputs": [
    {
     "data": {
      "text/html": [
       "<div>\n",
       "<style scoped>\n",
       "    .dataframe tbody tr th:only-of-type {\n",
       "        vertical-align: middle;\n",
       "    }\n",
       "\n",
       "    .dataframe tbody tr th {\n",
       "        vertical-align: top;\n",
       "    }\n",
       "\n",
       "    .dataframe thead th {\n",
       "        text-align: right;\n",
       "    }\n",
       "</style>\n",
       "<table border=\"1\" class=\"dataframe\">\n",
       "  <thead>\n",
       "    <tr style=\"text-align: right;\">\n",
       "      <th></th>\n",
       "      <th>param_class_weight</th>\n",
       "      <th>param_criterion</th>\n",
       "      <th>mean_test_FDR</th>\n",
       "      <th>std_test_FDR</th>\n",
       "      <th>rank_test_FDR</th>\n",
       "      <th>mean_test_ROC</th>\n",
       "      <th>std_test_ROC</th>\n",
       "    </tr>\n",
       "  </thead>\n",
       "  <tbody>\n",
       "    <tr>\n",
       "      <th>0</th>\n",
       "      <td>balanced</td>\n",
       "      <td>gini</td>\n",
       "      <td>0.529029</td>\n",
       "      <td>0.016948</td>\n",
       "      <td>3</td>\n",
       "      <td>0.772962</td>\n",
       "      <td>0.010400</td>\n",
       "    </tr>\n",
       "    <tr>\n",
       "      <th>1</th>\n",
       "      <td>balanced</td>\n",
       "      <td>entropy</td>\n",
       "      <td>0.528505</td>\n",
       "      <td>0.016817</td>\n",
       "      <td>4</td>\n",
       "      <td>0.772446</td>\n",
       "      <td>0.009449</td>\n",
       "    </tr>\n",
       "    <tr>\n",
       "      <th>2</th>\n",
       "      <td>None</td>\n",
       "      <td>gini</td>\n",
       "      <td>0.530772</td>\n",
       "      <td>0.015899</td>\n",
       "      <td>1</td>\n",
       "      <td>0.753544</td>\n",
       "      <td>0.008424</td>\n",
       "    </tr>\n",
       "    <tr>\n",
       "      <th>3</th>\n",
       "      <td>None</td>\n",
       "      <td>entropy</td>\n",
       "      <td>0.529726</td>\n",
       "      <td>0.016205</td>\n",
       "      <td>2</td>\n",
       "      <td>0.767556</td>\n",
       "      <td>0.008990</td>\n",
       "    </tr>\n",
       "  </tbody>\n",
       "</table>\n",
       "</div>"
      ],
      "text/plain": [
       "  param_class_weight param_criterion  mean_test_FDR  std_test_FDR  \\\n",
       "0           balanced            gini       0.529029      0.016948   \n",
       "1           balanced         entropy       0.528505      0.016817   \n",
       "2               None            gini       0.530772      0.015899   \n",
       "3               None         entropy       0.529726      0.016205   \n",
       "\n",
       "   rank_test_FDR  mean_test_ROC  std_test_ROC  \n",
       "0              3       0.772962      0.010400  \n",
       "1              4       0.772446      0.009449  \n",
       "2              1       0.753544      0.008424  \n",
       "3              2       0.767556      0.008990  "
      ]
     },
     "execution_count": 8,
     "metadata": {},
     "output_type": "execute_result"
    }
   ],
   "source": [
    "pd.DataFrame(grid_2.cv_results_).filter(\n",
    "    items=['param_class_weight', 'param_criterion',\n",
    "           'mean_test_FDR', 'std_test_FDR', 'rank_test_FDR',\n",
    "           'mean_test_ROC', 'std_test_ROC'])"
   ]
  },
  {
   "cell_type": "code",
   "execution_count": 9,
   "metadata": {},
   "outputs": [],
   "source": [
    "param = ChainMap(grid_2.best_params_, grid.best_params_)"
   ]
  },
  {
   "cell_type": "code",
   "execution_count": 10,
   "metadata": {
    "scrolled": true
   },
   "outputs": [
    {
     "name": "stdout",
     "output_type": "stream",
     "text": [
      "FDR: 0.5107839780896953\n",
      "\n",
      "              precision    recall  f1-score   support\n",
      "\n",
      "           0       0.99      1.00      0.99    197079\n",
      "           1       0.85      0.39      0.53      2921\n",
      "\n",
      "    accuracy                           0.99    200000\n",
      "   macro avg       0.92      0.69      0.76    200000\n",
      "weighted avg       0.99      0.99      0.99    200000\n",
      "\n"
     ]
    },
    {
     "data": {
      "image/png": "[encoded data removed]",
      "text/plain": [
       "<Figure size 432x288 with 2 Axes>"
      ]
     },
     "metadata": {
      "needs_background": "light"
     },
     "output_type": "display_data"
    },
    {
     "data": {
      "image/png": "[encoded data removed]",
      "text/plain": [
       "<Figure size 432x288 with 1 Axes>"
      ]
     },
     "metadata": {
      "needs_background": "light"
     },
     "output_type": "display_data"
    }
   ],
   "source": [
    "dt = DecisionTreeClassifier(**param).fit(x_train, y_train)\n",
    "plot_report(dt, x_test, y_test)"
   ]
  },
  {
   "cell_type": "code",
   "execution_count": 7,
   "metadata": {},
   "outputs": [
    {
     "name": "stdout",
     "output_type": "stream",
     "text": [
      "0\n",
      "1e-08\n",
      "5e-08\n",
      "1e-07\n",
      "1.5e-07\n",
      "2e-07\n",
      "3e-07\n",
      "4e-07\n",
      "5e-07\n",
      "1e-06\n",
      "5e-06\n",
      "Number of nodes in the last tree is: 43 with ccp_alpha: 5e-06\n"
     ]
    }
   ],
   "source": [
    "ccp_alphas = [0, 1e-8, 5e-8, 1e-7, 1.5e-7, 2e-7, 3e-7, 4e-7, 5e-7, 1e-6, 5e-6]\n",
    "clfs = []\n",
    "for ccp_alpha in ccp_alphas:\n",
    "    print(ccp_alpha)\n",
    "    clf = DecisionTreeClassifier(random_state=0, \n",
    "                                 ccp_alpha=ccp_alpha, \n",
    "                                 min_samples_leaf=256,\n",
    "                                 criterion= 'gini',\n",
    "                                 max_depth=50)\n",
    "    clf.fit(x_train, y_train)\n",
    "    clfs.append(clf)\n",
    "print(\"Number of nodes in the last tree is: {} with ccp_alpha: {}\".format(\n",
    "      clfs[-1].tree_.node_count, ccp_alphas[-1]))"
   ]
  },
  {
   "cell_type": "code",
   "execution_count": 8,
   "metadata": {
    "scrolled": true
   },
   "outputs": [
    {
     "data": {
      "image/png": "[encoded data removed]",
      "text/plain": [
       "<Figure size 432x288 with 2 Axes>"
      ]
     },
     "metadata": {
      "needs_background": "light"
     },
     "output_type": "display_data"
    }
   ],
   "source": [
    "clfs = clfs[:-1]\n",
    "ccp_alphas = ccp_alphas[:-1]\n",
    "\n",
    "node_counts = [clf.tree_.node_count for clf in clfs]\n",
    "depth = [clf.tree_.max_depth for clf in clfs]\n",
    "fig, ax = plt.subplots(2, 1)\n",
    "ax[0].plot(ccp_alphas, node_counts, marker='o', drawstyle=\"steps-post\")\n",
    "ax[0].set_xlabel(\"alpha\")\n",
    "ax[0].set_ylabel(\"number of nodes\")\n",
    "ax[0].set_title(\"Number of nodes vs alpha\")\n",
    "ax[1].plot(ccp_alphas, depth, marker='o', drawstyle=\"steps-post\")\n",
    "ax[1].set_xlabel(\"alpha\")\n",
    "ax[1].set_ylabel(\"depth of tree\")\n",
    "ax[1].set_title(\"Depth vs alpha\")\n",
    "fig.tight_layout()"
   ]
  },
  {
   "cell_type": "code",
   "execution_count": 9,
   "metadata": {},
   "outputs": [
    {
     "data": {
      "image/png": "[encoded data removed]",
      "text/plain": [
       "<Figure size 432x288 with 1 Axes>"
      ]
     },
     "metadata": {
      "needs_background": "light"
     },
     "output_type": "display_data"
    }
   ],
   "source": [
    "train_scores = [fdr(clf, x_train, y_train) for clf in clfs]\n",
    "test_scores = [fdr(clf, x_test, y_test) for clf in clfs]\n",
    "\n",
    "fig, ax = plt.subplots()\n",
    "ax.set_xlabel(\"alpha\")\n",
    "ax.set_ylabel(\"FDR\")\n",
    "ax.set_title(\"FDR vs alpha for training and testing sets\")\n",
    "ax.plot(ccp_alphas, train_scores, marker='o', label=\"train\",\n",
    "        drawstyle=\"steps-post\")\n",
    "ax.plot(ccp_alphas, test_scores, marker='o', label=\"test\",\n",
    "        drawstyle=\"steps-post\")\n",
    "ax.legend()\n",
    "plt.show()"
   ]
  },
  {
   "cell_type": "code",
   "execution_count": null,
   "metadata": {},
   "outputs": [],
   "source": []
  }
 ],
 "metadata": {
  "kernelspec": {
   "display_name": "Python 3",
   "language": "python",
   "name": "python3"
  },
  "language_info": {
   "codemirror_mode": {
    "name": "ipython",
    "version": 3
   },
   "file_extension": ".py",
   "mimetype": "text/x-python",
   "name": "python",
   "nbconvert_exporter": "python",
   "pygments_lexer": "ipython3",
   "version": "3.6.8"
  }
 },
 "nbformat": 4,
 "nbformat_minor": 1
}
