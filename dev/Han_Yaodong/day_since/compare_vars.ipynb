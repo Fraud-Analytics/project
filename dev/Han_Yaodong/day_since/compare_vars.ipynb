{
 "cells": [
  {
   "cell_type": "code",
   "execution_count": 1,
   "metadata": {
    "pycharm": {
     "is_executing": true
    }
   },
   "outputs": [],
   "source": [
    "import pandas as pd\n",
    "from sklearn.tree import DecisionTreeClassifier\n",
    "from sklearn.linear_model import LogisticRegression\n",
    "from sklearn.model_selection import cross_val_score\n",
    "import matplotlib.pyplot as plt\n",
    "from util import load_data, fdr, plot_report"
   ]
  },
  {
   "cell_type": "code",
   "execution_count": 2,
   "metadata": {},
   "outputs": [],
   "source": [
    "lr = LogisticRegression(max_iter=1000,\n",
    "                        C=0.1,\n",
    "                        class_weight='balanced')"
   ]
  },
  {
   "cell_type": "code",
   "execution_count": 3,
   "metadata": {},
   "outputs": [],
   "source": [
    "dt = DecisionTreeClassifier(ccp_alpha=1e-07, \n",
    "                            max_depth=20, \n",
    "                            min_samples_leaf=128, \n",
    "                            class_weight=None,\n",
    "                            criterion='gini')"
   ]
  },
  {
   "cell_type": "code",
   "execution_count": 4,
   "metadata": {
    "scrolled": true
   },
   "outputs": [
    {
     "name": "stdout",
     "output_type": "stream",
     "text": [
      "Logistic regression\n",
      "[0.49369172 0.50521119 0.4816237  0.50521119 0.50246846]\n",
      "0.49764125068568293\n",
      "\n",
      "Decision Tree\n",
      "[0.51398793 0.52879868 0.51069665 0.52221613 0.52879868]\n",
      "0.5208996160175534\n"
     ]
    }
   ],
   "source": [
    "# old day_since where the default is `day - 2016.01.01`\n",
    "x_train, x_test, x_oot, y_train, y_test, y_oot = load_data('var_30_old.csv')\n",
    "\n",
    "print(\"Logistic regression\")\n",
    "score = cross_val_score(lr, x_train, y_train, scoring=fdr, cv=5, n_jobs=2)\n",
    "print(score)\n",
    "print(sum(score) / len(score))\n",
    "print(\"\\nDecision Tree\")\n",
    "score = cross_val_score(dt, x_train, y_train, scoring=fdr, cv=5, n_jobs=2)\n",
    "print(score)\n",
    "print(sum(score) / len(score))"
   ]
  },
  {
   "cell_type": "code",
   "execution_count": 6,
   "metadata": {},
   "outputs": [
    {
     "name": "stdout",
     "output_type": "stream",
     "text": [
      "Logistic regression\n",
      "[0.52316076 0.54277929 0.51198257 0.53376906 0.51797386]\n",
      "0.5259331089383983\n",
      "\n",
      "Decision Tree\n",
      "[0.54059946 0.55858311 0.53867102 0.54901961 0.53703704]\n",
      "0.5447820460306436\n"
     ]
    }
   ],
   "source": [
    "# new day_since where the default is 365\n",
    "x_train, x_test, x_oot, y_train, y_test, y_oot = load_data('var_30.csv')\n",
    "\n",
    "print(\"Logistic regression\")\n",
    "score = cross_val_score(lr, x_train, y_train, scoring=fdr, cv=5, n_jobs=2)\n",
    "print(score)\n",
    "print(sum(score) / len(score))\n",
    "print(\"\\nDecision Tree\")\n",
    "score = cross_val_score(dt, x_train, y_train, scoring=fdr, cv=5, n_jobs=5)\n",
    "print(score)\n",
    "print(sum(score) / len(score))"
   ]
  },
  {
   "cell_type": "code",
   "execution_count": 7,
   "metadata": {},
   "outputs": [
    {
     "name": "stdout",
     "output_type": "stream",
     "text": [
      "Logistic regression\n",
      "[0.51686616 0.49972811 0.51712887 0.51386623 0.51930397]\n",
      "0.5133786695115681\n",
      "\n",
      "Decision Tree\n",
      "[0.51523395 0.50244698 0.52474171 0.51712887 0.51930397]\n",
      "0.5157710966775363\n"
     ]
    }
   ],
   "source": [
    "# new day_since where the default is 365, and with two wrapper runs\n",
    "x_train, x_test, x_oot, y_train, y_test, y_oot = load_data('var_30_2.csv')\n",
    "\n",
    "print(\"Logistic regression\")\n",
    "score = cross_val_score(lr, x_train, y_train, scoring=fdr, cv=5, n_jobs=1)\n",
    "print(score)\n",
    "print(sum(score) / len(score))\n",
    "print(\"\\nDecision Tree\")\n",
    "score = cross_val_score(dt, x_train, y_train, scoring=fdr, cv=5, n_jobs=5)\n",
    "print(score)\n",
    "print(sum(score) / len(score))"
   ]
  },
  {
   "cell_type": "code",
   "execution_count": 4,
   "metadata": {},
   "outputs": [
    {
     "name": "stdout",
     "output_type": "stream",
     "text": [
      "Logistic regression\n",
      "[0.51584699 0.53442623 0.52240437 0.54972678 0.51912568]\n",
      "0.5283060109289617\n",
      "\n",
      "Decision Tree\n",
      "[0.53551913 0.5557377  0.54480874 0.56010929 0.53551913]\n",
      "0.5463387978142077\n"
     ]
    }
   ],
   "source": [
    "# new day_since with first 30 vars\n",
    "x_train, x_test, x_oot, y_train, y_test, y_oot = load_data('var_first_30.csv')\n",
    "\n",
    "print(\"Logistic regression\")\n",
    "score = cross_val_score(lr, x_train, y_train, scoring=fdr, cv=5, n_jobs=1)\n",
    "print(score)\n",
    "print(sum(score) / len(score))\n",
    "print(\"\\nDecision Tree\")\n",
    "score = cross_val_score(dt, x_train, y_train, scoring=fdr, cv=5, n_jobs=5)\n",
    "print(score)\n",
    "print(sum(score) / len(score))"
   ]
  },
  {
   "cell_type": "code",
   "execution_count": 5,
   "metadata": {},
   "outputs": [
    {
     "name": "stdout",
     "output_type": "stream",
     "text": [
      "Logistic regression\n",
      "[0.51831602 0.51776927 0.51558229 0.52925096 0.50628759]\n",
      "0.5174412247129578\n",
      "\n",
      "Decision Tree\n",
      "[0.51612903 0.52104975 0.51886277 0.52597048 0.50792783]\n",
      "0.5179879715691634\n"
     ]
    }
   ],
   "source": [
    "# new day_since with last 30 vars\n",
    "x_train, x_test, x_oot, y_train, y_test, y_oot = load_data('var_last_30.csv')\n",
    "\n",
    "print(\"Logistic regression\")\n",
    "score = cross_val_score(lr, x_train, y_train, scoring=fdr, cv=5, n_jobs=1)\n",
    "print(score)\n",
    "print(sum(score) / len(score))\n",
    "print(\"\\nDecision Tree\")\n",
    "score = cross_val_score(dt, x_train, y_train, scoring=fdr, cv=5, n_jobs=5)\n",
    "print(score)\n",
    "print(sum(score) / len(score))"
   ]
  },
  {
   "cell_type": "code",
   "execution_count": null,
   "metadata": {},
   "outputs": [],
   "source": []
  }
 ],
 "metadata": {
  "kernelspec": {
   "display_name": "Python 3",
   "language": "python",
   "name": "python3"
  },
  "language_info": {
   "codemirror_mode": {
    "name": "ipython",
    "version": 3
   },
   "file_extension": ".py",
   "mimetype": "text/x-python",
   "name": "python",
   "nbconvert_exporter": "python",
   "pygments_lexer": "ipython3",
   "version": "3.6.8"
  }
 },
 "nbformat": 4,
 "nbformat_minor": 1
}
