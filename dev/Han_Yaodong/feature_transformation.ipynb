{
 "cells": [
  {
   "cell_type": "code",
   "execution_count": 1,
   "metadata": {},
   "outputs": [],
   "source": [
    "import numpy as np\n",
    "import matplotlib.pyplot as plt\n",
    "from sklearn.datasets import make_classification\n",
    "from sklearn.linear_model import LogisticRegression\n",
    "from sklearn.ensemble import RandomTreesEmbedding\n",
    "from sklearn.ensemble import RandomForestClassifier\n",
    "from sklearn.ensemble import GradientBoostingClassifier\n",
    "from sklearn.preprocessing import OneHotEncoder\n",
    "from sklearn.model_selection import train_test_split\n",
    "from sklearn.metrics import roc_curve\n",
    "from sklearn.pipeline import make_pipeline\n",
    "\n",
    "from util import load_data, fdr, fdr_prob"
   ]
  },
  {
   "cell_type": "code",
   "execution_count": 2,
   "metadata": {},
   "outputs": [
    {
     "data": {
      "text/html": [
       "<div>\n",
       "<style scoped>\n",
       "    .dataframe tbody tr th:only-of-type {\n",
       "        vertical-align: middle;\n",
       "    }\n",
       "\n",
       "    .dataframe tbody tr th {\n",
       "        vertical-align: top;\n",
       "    }\n",
       "\n",
       "    .dataframe thead th {\n",
       "        text-align: right;\n",
       "    }\n",
       "</style>\n",
       "<table border=\"1\" class=\"dataframe\">\n",
       "  <thead>\n",
       "    <tr style=\"text-align: right;\">\n",
       "      <th></th>\n",
       "      <th>fulladdress_count_1_by_7</th>\n",
       "      <th>address_count_0</th>\n",
       "      <th>ssn_count_3</th>\n",
       "      <th>fulladdress_count_0</th>\n",
       "      <th>homephone_count_7</th>\n",
       "      <th>address_count_1_by_7</th>\n",
       "      <th>name_dob_count_3</th>\n",
       "      <th>name_count_7</th>\n",
       "      <th>homephone_count_3</th>\n",
       "      <th>fulladdress_homephone_count_0_by_14</th>\n",
       "      <th>...</th>\n",
       "      <th>ssn_dob_count_7</th>\n",
       "      <th>ssn_name_count_7</th>\n",
       "      <th>name_day_since</th>\n",
       "      <th>ssn_firstname_count_14</th>\n",
       "      <th>ssn_count_7</th>\n",
       "      <th>name_count_14</th>\n",
       "      <th>fulladdress_count_1_by_14</th>\n",
       "      <th>fulladdress_homephone_count_0_by_30</th>\n",
       "      <th>ssn_lastname_count_14</th>\n",
       "      <th>ssn_name_count_14</th>\n",
       "    </tr>\n",
       "  </thead>\n",
       "  <tbody>\n",
       "    <tr>\n",
       "      <th>195315</th>\n",
       "      <td>0.09144</td>\n",
       "      <td>-0.042158</td>\n",
       "      <td>-0.047591</td>\n",
       "      <td>-0.041351</td>\n",
       "      <td>-0.769214</td>\n",
       "      <td>0.103441</td>\n",
       "      <td>-0.046415</td>\n",
       "      <td>-0.115648</td>\n",
       "      <td>-0.521454</td>\n",
       "      <td>0.120387</td>\n",
       "      <td>...</td>\n",
       "      <td>-0.055708</td>\n",
       "      <td>-0.057109</td>\n",
       "      <td>0.598116</td>\n",
       "      <td>-0.071088</td>\n",
       "      <td>-0.058092</td>\n",
       "      <td>-0.159376</td>\n",
       "      <td>0.123861</td>\n",
       "      <td>0.166392</td>\n",
       "      <td>-0.071051</td>\n",
       "      <td>-0.070962</td>\n",
       "    </tr>\n",
       "    <tr>\n",
       "      <th>436134</th>\n",
       "      <td>0.09144</td>\n",
       "      <td>-0.042158</td>\n",
       "      <td>-0.047591</td>\n",
       "      <td>-0.041351</td>\n",
       "      <td>0.879479</td>\n",
       "      <td>0.103441</td>\n",
       "      <td>-0.046415</td>\n",
       "      <td>-0.115648</td>\n",
       "      <td>0.639149</td>\n",
       "      <td>0.120387</td>\n",
       "      <td>...</td>\n",
       "      <td>-0.055708</td>\n",
       "      <td>-0.057109</td>\n",
       "      <td>0.598116</td>\n",
       "      <td>-0.071088</td>\n",
       "      <td>-0.058092</td>\n",
       "      <td>-0.159376</td>\n",
       "      <td>0.123861</td>\n",
       "      <td>0.166392</td>\n",
       "      <td>-0.071051</td>\n",
       "      <td>-0.070962</td>\n",
       "    </tr>\n",
       "    <tr>\n",
       "      <th>339605</th>\n",
       "      <td>0.09144</td>\n",
       "      <td>-0.042158</td>\n",
       "      <td>-0.047591</td>\n",
       "      <td>-0.041351</td>\n",
       "      <td>-0.769214</td>\n",
       "      <td>0.103441</td>\n",
       "      <td>-0.046415</td>\n",
       "      <td>-0.115648</td>\n",
       "      <td>-0.521454</td>\n",
       "      <td>0.120387</td>\n",
       "      <td>...</td>\n",
       "      <td>-0.055708</td>\n",
       "      <td>-0.057109</td>\n",
       "      <td>0.598116</td>\n",
       "      <td>-0.071088</td>\n",
       "      <td>-0.058092</td>\n",
       "      <td>-0.159376</td>\n",
       "      <td>0.123861</td>\n",
       "      <td>0.166392</td>\n",
       "      <td>-0.071051</td>\n",
       "      <td>-0.070962</td>\n",
       "    </tr>\n",
       "    <tr>\n",
       "      <th>536275</th>\n",
       "      <td>0.09144</td>\n",
       "      <td>-0.042158</td>\n",
       "      <td>-0.047591</td>\n",
       "      <td>-0.041351</td>\n",
       "      <td>-0.769214</td>\n",
       "      <td>0.103441</td>\n",
       "      <td>-0.046415</td>\n",
       "      <td>-0.115648</td>\n",
       "      <td>-0.521454</td>\n",
       "      <td>0.120387</td>\n",
       "      <td>...</td>\n",
       "      <td>-0.055708</td>\n",
       "      <td>-0.057109</td>\n",
       "      <td>-0.720792</td>\n",
       "      <td>-0.071088</td>\n",
       "      <td>-0.058092</td>\n",
       "      <td>-0.159376</td>\n",
       "      <td>0.123861</td>\n",
       "      <td>0.166392</td>\n",
       "      <td>-0.071051</td>\n",
       "      <td>-0.070962</td>\n",
       "    </tr>\n",
       "    <tr>\n",
       "      <th>461401</th>\n",
       "      <td>0.09144</td>\n",
       "      <td>-0.042158</td>\n",
       "      <td>-0.047591</td>\n",
       "      <td>-0.041351</td>\n",
       "      <td>-0.769214</td>\n",
       "      <td>0.103441</td>\n",
       "      <td>-0.046415</td>\n",
       "      <td>-0.115648</td>\n",
       "      <td>-0.521454</td>\n",
       "      <td>0.120387</td>\n",
       "      <td>...</td>\n",
       "      <td>-0.055708</td>\n",
       "      <td>-0.057109</td>\n",
       "      <td>0.598116</td>\n",
       "      <td>-0.071088</td>\n",
       "      <td>-0.058092</td>\n",
       "      <td>-0.159376</td>\n",
       "      <td>0.123861</td>\n",
       "      <td>0.166392</td>\n",
       "      <td>-0.071051</td>\n",
       "      <td>-0.070962</td>\n",
       "    </tr>\n",
       "  </tbody>\n",
       "</table>\n",
       "<p>5 rows × 30 columns</p>\n",
       "</div>"
      ],
      "text/plain": [
       "        fulladdress_count_1_by_7  address_count_0  ssn_count_3  \\\n",
       "195315                   0.09144        -0.042158    -0.047591   \n",
       "436134                   0.09144        -0.042158    -0.047591   \n",
       "339605                   0.09144        -0.042158    -0.047591   \n",
       "536275                   0.09144        -0.042158    -0.047591   \n",
       "461401                   0.09144        -0.042158    -0.047591   \n",
       "\n",
       "        fulladdress_count_0  homephone_count_7  address_count_1_by_7  \\\n",
       "195315            -0.041351          -0.769214              0.103441   \n",
       "436134            -0.041351           0.879479              0.103441   \n",
       "339605            -0.041351          -0.769214              0.103441   \n",
       "536275            -0.041351          -0.769214              0.103441   \n",
       "461401            -0.041351          -0.769214              0.103441   \n",
       "\n",
       "        name_dob_count_3  name_count_7  homephone_count_3  \\\n",
       "195315         -0.046415     -0.115648          -0.521454   \n",
       "436134         -0.046415     -0.115648           0.639149   \n",
       "339605         -0.046415     -0.115648          -0.521454   \n",
       "536275         -0.046415     -0.115648          -0.521454   \n",
       "461401         -0.046415     -0.115648          -0.521454   \n",
       "\n",
       "        fulladdress_homephone_count_0_by_14  ...  ssn_dob_count_7  \\\n",
       "195315                             0.120387  ...        -0.055708   \n",
       "436134                             0.120387  ...        -0.055708   \n",
       "339605                             0.120387  ...        -0.055708   \n",
       "536275                             0.120387  ...        -0.055708   \n",
       "461401                             0.120387  ...        -0.055708   \n",
       "\n",
       "        ssn_name_count_7  name_day_since  ssn_firstname_count_14  ssn_count_7  \\\n",
       "195315         -0.057109        0.598116               -0.071088    -0.058092   \n",
       "436134         -0.057109        0.598116               -0.071088    -0.058092   \n",
       "339605         -0.057109        0.598116               -0.071088    -0.058092   \n",
       "536275         -0.057109       -0.720792               -0.071088    -0.058092   \n",
       "461401         -0.057109        0.598116               -0.071088    -0.058092   \n",
       "\n",
       "        name_count_14  fulladdress_count_1_by_14  \\\n",
       "195315      -0.159376                   0.123861   \n",
       "436134      -0.159376                   0.123861   \n",
       "339605      -0.159376                   0.123861   \n",
       "536275      -0.159376                   0.123861   \n",
       "461401      -0.159376                   0.123861   \n",
       "\n",
       "        fulladdress_homephone_count_0_by_30  ssn_lastname_count_14  \\\n",
       "195315                             0.166392              -0.071051   \n",
       "436134                             0.166392              -0.071051   \n",
       "339605                             0.166392              -0.071051   \n",
       "536275                             0.166392              -0.071051   \n",
       "461401                             0.166392              -0.071051   \n",
       "\n",
       "        ssn_name_count_14  \n",
       "195315          -0.070962  \n",
       "436134          -0.070962  \n",
       "339605          -0.070962  \n",
       "536275          -0.070962  \n",
       "461401          -0.070962  \n",
       "\n",
       "[5 rows x 30 columns]"
      ]
     },
     "execution_count": 2,
     "metadata": {},
     "output_type": "execute_result"
    }
   ],
   "source": [
    "x_train, x_test, x_oot, y_train, y_test, y_oot = load_data('var_30.csv')\n",
    "x_train.head()"
   ]
  },
  {
   "cell_type": "code",
   "execution_count": 3,
   "metadata": {},
   "outputs": [],
   "source": [
    "# It is important to train the ensemble of trees on a different subset\n",
    "# of the training data than the linear regression model to avoid\n",
    "# overfitting, in particular if the total number of leaves is\n",
    "# similar to the number of training samples\n",
    "x_train, x_train_lr, y_train, y_train_lr = train_test_split(x_train, y_train, test_size=0.5)"
   ]
  },
  {
   "cell_type": "code",
   "execution_count": 4,
   "metadata": {},
   "outputs": [
    {
     "name": "stdout",
     "output_type": "stream",
     "text": [
      "0.5449438202247191\n"
     ]
    }
   ],
   "source": [
    "# Supervised transformation based on random forests\n",
    "rf = RandomForestClassifier(n_estimators=300,\n",
    "                            max_depth=17, \n",
    "                            max_features=10,\n",
    "                            ccp_alpha=1e-6, \n",
    "                            n_jobs=8)\n",
    "rf_enc = OneHotEncoder()\n",
    "rf_lm = LogisticRegression(C=1, max_iter=1000)\n",
    "rf.fit(x_train, y_train)\n",
    "rf_enc.fit(rf.apply(x_train))\n",
    "rf_lm.fit(rf_enc.transform(rf.apply(x_train_lr)), y_train_lr)\n",
    "\n",
    "y_pred_rf_lm = rf_lm.predict_proba(rf_enc.transform(rf.apply(x_test)))[:, 1]\n",
    "fpr_rf_lm, tpr_rf_lm, _ = roc_curve(y_test, y_pred_rf_lm)\n",
    "print(fdr_prob(y_test, y_pred_rf_lm))"
   ]
  },
  {
   "cell_type": "code",
   "execution_count": 5,
   "metadata": {},
   "outputs": [
    {
     "name": "stdout",
     "output_type": "stream",
     "text": [
      "0.5514261019878998\n"
     ]
    }
   ],
   "source": [
    "# Supervised transformation based on gradient boosted trees\n",
    "grd = GradientBoostingClassifier(max_depth=10,\n",
    "                                 n_estimators=100,\n",
    "                                 learning_rate=0.05,\n",
    "                                 subsample=0.5)\n",
    "grd_enc = OneHotEncoder()\n",
    "grd_lm = LogisticRegression(C=1, max_iter=1000)\n",
    "grd.fit(x_train, y_train)\n",
    "grd_enc.fit(grd.apply(x_train)[:, :, 0])\n",
    "grd_lm.fit(grd_enc.transform(grd.apply(x_train_lr)[:, :, 0]), y_train_lr)\n",
    "\n",
    "y_pred_grd_lm = grd_lm.predict_proba(grd_enc.transform(grd.apply(x_test)[:, :, 0]))[:, 1]\n",
    "fpr_grd_lm, tpr_grd_lm, _ = roc_curve(y_test, y_pred_grd_lm)\n",
    "print(fdr_prob(y_test, y_pred_grd_lm))"
   ]
  },
  {
   "cell_type": "code",
   "execution_count": 6,
   "metadata": {},
   "outputs": [
    {
     "name": "stdout",
     "output_type": "stream",
     "text": [
      "0.5561797752808989\n"
     ]
    }
   ],
   "source": [
    "# The random forest model by itself\n",
    "y_pred_rf = rf.predict_proba(x_test)[:, 1]\n",
    "fpr_rf, tpr_rf, _ = roc_curve(y_test, y_pred_rf)\n",
    "print(fdr_prob(y_test, y_pred_rf))"
   ]
  },
  {
   "cell_type": "code",
   "execution_count": 7,
   "metadata": {},
   "outputs": [
    {
     "name": "stdout",
     "output_type": "stream",
     "text": [
      "0.5535868625756266\n"
     ]
    }
   ],
   "source": [
    "# The gradient boosted model by itself\n",
    "y_pred_grd = grd.predict_proba(x_test)[:, 1]\n",
    "fpr_grd, tpr_grd, _ = roc_curve(y_test, y_pred_grd)\n",
    "print(fdr_prob(y_test, y_pred_grd))"
   ]
  },
  {
   "cell_type": "code",
   "execution_count": 8,
   "metadata": {},
   "outputs": [
    {
     "data": {
      "image/png": "[encoded data removed]",
      "text/plain": [
       "<Figure size 432x288 with 1 Axes>"
      ]
     },
     "metadata": {
      "needs_background": "light"
     },
     "output_type": "display_data"
    }
   ],
   "source": [
    "plt.figure(1)\n",
    "plt.plot([0, 1], [0, 1], 'k--')\n",
    "plt.plot(fpr_rf, tpr_rf, label='RF')\n",
    "plt.plot(fpr_rf_lm, tpr_rf_lm, label='RF + LR')\n",
    "plt.plot(fpr_grd, tpr_grd, label='GBT')\n",
    "plt.plot(fpr_grd_lm, tpr_grd_lm, label='GBT + LR')\n",
    "plt.xlabel('False positive rate')\n",
    "plt.ylabel('True positive rate')\n",
    "plt.title('ROC curve')\n",
    "plt.legend(loc='best')\n",
    "plt.show()"
   ]
  },
  {
   "cell_type": "code",
   "execution_count": 9,
   "metadata": {},
   "outputs": [
    {
     "data": {
      "image/png": "[encoded data removed]",
      "text/plain": [
       "<Figure size 432x288 with 1 Axes>"
      ]
     },
     "metadata": {
      "needs_background": "light"
     },
     "output_type": "display_data"
    }
   ],
   "source": [
    "plt.figure(2)\n",
    "plt.xlim(0, 0.1)\n",
    "plt.ylim(0.48, 0.6)\n",
    "plt.plot([0, 1], [0, 1], 'k--')\n",
    "plt.plot(fpr_rf, tpr_rf, label='RF')\n",
    "plt.plot(fpr_rf_lm, tpr_rf_lm, label='RF + LR')\n",
    "plt.plot(fpr_grd, tpr_grd, label='GBT')\n",
    "plt.plot(fpr_grd_lm, tpr_grd_lm, label='GBT + LR')\n",
    "plt.xlabel('False positive rate')\n",
    "plt.ylabel('True positive rate')\n",
    "plt.title('ROC curve (zoomed in at top left)')\n",
    "plt.legend(loc='best')\n",
    "plt.show()"
   ]
  }
 ],
 "metadata": {
  "kernelspec": {
   "display_name": "Python 3",
   "language": "python",
   "name": "python3"
  },
  "language_info": {
   "codemirror_mode": {
    "name": "ipython",
    "version": 3
   },
   "file_extension": ".py",
   "mimetype": "text/x-python",
   "name": "python",
   "nbconvert_exporter": "python",
   "pygments_lexer": "ipython3",
   "version": "3.6.8"
  }
 },
 "nbformat": 4,
 "nbformat_minor": 4
}
