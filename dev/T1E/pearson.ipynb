{
 "cells": [
  {
   "cell_type": "code",
   "execution_count": 10,
   "metadata": {},
   "outputs": [],
   "source": [
    "#pearson\n",
    "def calcMean(x,y):\n",
    "    sum_x = sum(x)\n",
    "    sum_y = sum(y)\n",
    "    n = len(x)\n",
    "    x_mean = float(sum_x+0.0)/n\n",
    "    y_mean = float(sum_y+0.0)/n\n",
    "    return x_mean,y_mean"
   ]
  },
  {
   "cell_type": "code",
   "execution_count": 11,
   "metadata": {},
   "outputs": [],
   "source": [
    "def calcPearson(x,y):\n",
    "    x_mean,y_mean = calcMean(x,y)\n",
    "    n = len(x)\n",
    "    sumTop = 0.0\n",
    "    sumBottom = 0.0\n",
    "    x_pow = 0.0\n",
    "    y_pow = 0.0\n",
    "    for i in range(n):\n",
    "        sumTop += (x[i]-x_mean)*(y[i]-y_mean)\n",
    "    for i in range(n):\n",
    "        x_pow += math.pow(x[i]-x_mean,2)\n",
    "    for i in range(n):\n",
    "        y_pow += math.pow(y[i]-y_mean,2)\n",
    "    sumBottom = math.sqrt(x_pow*y_pow)\n",
    "    p = sumTop/sumBottom\n",
    "    return p\n"
   ]
  },
  {
   "cell_type": "code",
   "execution_count": 12,
   "metadata": {},
   "outputs": [],
   "source": [
    "\n",
    "def calcAttribute(dataSet):\n",
    "    prr = []\n",
    "    n,m = shape(dataSet)    \n",
    "    x = [0] * n             #初始化特征x和类别y向量\n",
    "    y = [0] * n\n",
    "    for i in range(n):      #得到类向量\n",
    "        y[i] = dataSet[i][m-1]\n",
    "    for j in range(m-1):    #获取每个特征的向量，并计算Pearson系数，存入到列表中\n",
    "        for k in range(n):\n",
    "            x[k] = dataSet[k][j]\n",
    "        prr.append(calcSpearman(x,y))\n",
    "    return prr\n"
   ]
  },
  {
   "cell_type": "code",
   "execution_count": null,
   "metadata": {},
   "outputs": [],
   "source": []
  }
 ],
 "metadata": {
  "kernelspec": {
   "display_name": "Python 3",
   "language": "python",
   "name": "python3"
  },
  "language_info": {
   "codemirror_mode": {
    "name": "ipython",
    "version": 3
   },
   "file_extension": ".py",
   "mimetype": "text/x-python",
   "name": "python",
   "nbconvert_exporter": "python",
   "pygments_lexer": "ipython3",
   "version": "3.7.2"
  }
 },
 "nbformat": 4,
 "nbformat_minor": 4
}
